{
 "cells": [
  {
   "cell_type": "code",
   "execution_count": 1,
   "metadata": {
    "collapsed": false
   },
   "outputs": [
    {
     "name": "stdout",
     "output_type": "stream",
     "text": [
      "Import Save Module !!!\n"
     ]
    }
   ],
   "source": [
    "import re\n",
    "import json\n",
    "\n",
    "from bs4 import BeautifulSoup\n",
    "from save import save_to_excel\n",
    "\n",
    "from gensku import GenSKU"
   ]
  },
  {
   "cell_type": "code",
   "execution_count": 2,
   "metadata": {
    "collapsed": true
   },
   "outputs": [],
   "source": [
    "from filename import get_file_name"
   ]
  },
  {
   "cell_type": "code",
   "execution_count": 3,
   "metadata": {
    "collapsed": true
   },
   "outputs": [],
   "source": [
    "img_path = \"./data/20170604/\""
   ]
  },
  {
   "cell_type": "code",
   "execution_count": 20,
   "metadata": {
    "collapsed": false
   },
   "outputs": [
    {
     "name": "stdout",
     "output_type": "stream",
     "text": [
      "./data/20170604/\n"
     ]
    }
   ],
   "source": [
    "img_name = get_file_name(img_path)"
   ]
  },
  {
   "cell_type": "code",
   "execution_count": 21,
   "metadata": {
    "collapsed": false
   },
   "outputs": [],
   "source": [
    "for name in img_name:\n",
    "    sku_path = \"./data/20170529/20170529_{asin}.html\".format(asin=name)\n",
    "    parse_sku(sku_path) "
   ]
  },
  {
   "cell_type": "code",
   "execution_count": 156,
   "metadata": {
    "collapsed": true
   },
   "outputs": [],
   "source": [
    "def parse_sku(sku_path):\n",
    "    \n",
    "    print(\"sku_path =\", sku_path)\n",
    "    \n",
    "    with open(sku_path, \"r\", encoding=\"utf-8\") as fp:\n",
    "        \n",
    "        sku_rst = fp.read()\n",
    "\n",
    "    sku_soup = BeautifulSoup(sku_rst, \"html5lib\")\n",
    "    \n",
    "    tag = sku_soup.find(\"span\", id=\"priceblock_ourprice\")\n",
    "    pat2 = re.compile(\"\\d+[\\.\\d+]*\")\n",
    "    price = pat2.findall(tag.text)\n",
    "    \n",
    "    info = list()\n",
    "    \n",
    "    asin_map = json.loads(pat3.findall(sku_rst)[0])\n",
    "\n",
    "    for k,v in asin_map.items():\n",
    "        sku = dict()\n",
    "        \n",
    "        sku[\"sku\"] = \"-\".join([GenSKU(2),GenSKU(4),GenSKU(4)])\n",
    "        sku[\"product-id\"]  = k\n",
    "        sku[\"product-id-type\"] = 1        \n",
    "        sku[\"price\"] = float(price[0]) + 4.5\n",
    "        sku[\"minimum-seller-allowed-price\"] = price[0]\n",
    "\n",
    "        if len(price) > 1:\n",
    "            sku[\"maximum-seller-allowed-price\"] = price[1]\n",
    "        else:\n",
    "            sku[\"maximum-seller-allowed-price\"] = float(price[0]) + 4.5\n",
    "\n",
    "        sku[\"item-condition\"] = 11\n",
    "        sku[\"quantity\"] = 99\n",
    "        sku[\"add-delete\"] = \"a\"\n",
    "        sku[\"will-ship-internationally\"] = \"\"\n",
    "        sku[\"expedited-shipping\"] = \"\"\n",
    "        sku[\"standard-plus\"] = \"\"\n",
    "        sku[\"item-note\"] = \"\"\n",
    "        sku[\"fulfillment-center-id\"] = \"\"\n",
    "        sku[\"product-tax-code\"] = \"\"\n",
    "        sku[\"leadtime-to-ship\"] = \"\"\n",
    "        sku[\"merchant_shipping_group_name\"] = \"\"\n",
    "        \n",
    "        info.append(sku)\n",
    "            \n",
    "    return info"
   ]
  },
  {
   "cell_type": "code",
   "execution_count": 151,
   "metadata": {
    "collapsed": false
   },
   "outputs": [],
   "source": [
    "sku_path = \"./data/20170529/20170529_B06XC9LNDG.html\""
   ]
  },
  {
   "cell_type": "code",
   "execution_count": 25,
   "metadata": {
    "collapsed": true
   },
   "outputs": [],
   "source": [
    "with open(sku_path, \"r\", encoding=\"utf-8\") as fp:\n",
    "    \n",
    "    sku_rst = fp.read()\n",
    "\n",
    "sku_soup = BeautifulSoup(sku_rst, \"html5lib\")"
   ]
  },
  {
   "cell_type": "code",
   "execution_count": 82,
   "metadata": {
    "collapsed": true
   },
   "outputs": [],
   "source": [
    "tag = sku_soup.find(\"span\", id=\"priceblock_ourprice\")\n",
    "pat2 = re.compile(\"\\d+[\\.\\d+]*\")\n",
    "price = pat2.findall(tag.text)"
   ]
  },
  {
   "cell_type": "code",
   "execution_count": 83,
   "metadata": {
    "collapsed": false
   },
   "outputs": [
    {
     "data": {
      "text/plain": [
       "19.5"
      ]
     },
     "execution_count": 83,
     "metadata": {},
     "output_type": "execute_result"
    }
   ],
   "source": [
    "float(price[0])"
   ]
  },
  {
   "cell_type": "code",
   "execution_count": 91,
   "metadata": {
    "collapsed": false
   },
   "outputs": [],
   "source": [
    "sku = dict()\n",
    "\n",
    "sku[\"price\"] = float(price[0]) + 4.5\n",
    "sku[\"minimum-seller-allowed-price\"] = price[0]\n",
    "\n",
    "if len(price) > 1:\n",
    "    sku[\"maximum-seller-allowed-price\"] = price[1]\n",
    "else:\n",
    "    sku[\"maximum-seller-allowed-price\"] = float(price[0]) + 4.5"
   ]
  },
  {
   "cell_type": "code",
   "execution_count": 92,
   "metadata": {
    "collapsed": false,
    "scrolled": true
   },
   "outputs": [
    {
     "data": {
      "text/plain": [
       "{'maximum-seller-allowed-price': 12.3,\n",
       " 'minimum-seller-allowed-price': 9.9,\n",
       " 'price': 14.4}"
      ]
     },
     "execution_count": 92,
     "metadata": {},
     "output_type": "execute_result"
    }
   ],
   "source": [
    "sku"
   ]
  },
  {
   "cell_type": "code",
   "execution_count": 94,
   "metadata": {
    "collapsed": true
   },
   "outputs": [],
   "source": [
    "pat1 = re.compile(\"data\\[\\\"colorImages\\\"\\] = ({.*});\")"
   ]
  },
  {
   "cell_type": "code",
   "execution_count": 95,
   "metadata": {
    "collapsed": false,
    "scrolled": true
   },
   "outputs": [
    {
     "name": "stdout",
     "output_type": "stream",
     "text": [
      "{'Mint': [{'large': 'https://images-na.ssl-images-amazon.com/images/I/410txLwBpDL.jpg', 'variant': 'MAIN', 'hiRes': 'https://images-na.ssl-images-amazon.com/images/I/512F9dbFsdL._UL1000_.jpg', 'thumb': 'https://images-na.ssl-images-amazon.com/images/I/410txLwBpDL._SR38,50_.jpg', 'main': {'https://images-na.ssl-images-amazon.com/images/I/512F9dbFsdL._UX679_.jpg': ['679', '679'], 'https://images-na.ssl-images-amazon.com/images/I/512F9dbFsdL._UX342_.jpg': ['342', '342'], 'https://images-na.ssl-images-amazon.com/images/I/512F9dbFsdL._UX425_.jpg': ['425', '425'], 'https://images-na.ssl-images-amazon.com/images/I/512F9dbFsdL._UX569_.jpg': ['569', '569'], 'https://images-na.ssl-images-amazon.com/images/I/512F9dbFsdL._UX522_.jpg': ['522', '522'], 'https://images-na.ssl-images-amazon.com/images/I/512F9dbFsdL._UX466_.jpg': ['466', '466'], 'https://images-na.ssl-images-amazon.com/images/I/512F9dbFsdL._UX385_.jpg': ['385', '385']}}]}\n"
     ]
    }
   ],
   "source": [
    "for tag in sku_soup.find_all(\"script\", text=re.compile(\"P.when\\('A', 'jQuery', 'ImageBlockATF', 'cf'\\)\")):\n",
    "    #sku_tmp = pat.findall(tag.text)\n",
    "    print(json.loads(pat1.findall(tag.text)[0]))"
   ]
  },
  {
   "cell_type": "code",
   "execution_count": 112,
   "metadata": {
    "collapsed": true
   },
   "outputs": [],
   "source": [
    "pat2 = re.compile(\"data\\[\\\"colorImages\\\"\\] = ({.*});\")"
   ]
  },
  {
   "cell_type": "code",
   "execution_count": 117,
   "metadata": {
    "collapsed": false
   },
   "outputs": [],
   "source": [
    "img = json.loads(pat2.findall(sku_rst)[0])"
   ]
  },
  {
   "cell_type": "code",
   "execution_count": 119,
   "metadata": {
    "collapsed": false,
    "scrolled": false
   },
   "outputs": [
    {
     "data": {
      "text/plain": [
       "[{'hiRes': 'https://images-na.ssl-images-amazon.com/images/I/512F9dbFsdL._UL1000_.jpg',\n",
       "  'large': 'https://images-na.ssl-images-amazon.com/images/I/410txLwBpDL.jpg',\n",
       "  'main': {'https://images-na.ssl-images-amazon.com/images/I/512F9dbFsdL._UX342_.jpg': ['342',\n",
       "    '342'],\n",
       "   'https://images-na.ssl-images-amazon.com/images/I/512F9dbFsdL._UX385_.jpg': ['385',\n",
       "    '385'],\n",
       "   'https://images-na.ssl-images-amazon.com/images/I/512F9dbFsdL._UX425_.jpg': ['425',\n",
       "    '425'],\n",
       "   'https://images-na.ssl-images-amazon.com/images/I/512F9dbFsdL._UX466_.jpg': ['466',\n",
       "    '466'],\n",
       "   'https://images-na.ssl-images-amazon.com/images/I/512F9dbFsdL._UX522_.jpg': ['522',\n",
       "    '522'],\n",
       "   'https://images-na.ssl-images-amazon.com/images/I/512F9dbFsdL._UX569_.jpg': ['569',\n",
       "    '569'],\n",
       "   'https://images-na.ssl-images-amazon.com/images/I/512F9dbFsdL._UX679_.jpg': ['679',\n",
       "    '679']},\n",
       "  'thumb': 'https://images-na.ssl-images-amazon.com/images/I/410txLwBpDL._SR38,50_.jpg',\n",
       "  'variant': 'MAIN'}]"
      ]
     },
     "execution_count": 119,
     "metadata": {},
     "output_type": "execute_result"
    }
   ],
   "source": [
    "img[\"Mint\"]"
   ]
  },
  {
   "cell_type": "code",
   "execution_count": 140,
   "metadata": {
    "collapsed": true
   },
   "outputs": [],
   "source": [
    "pat3 = re.compile(\"asinVariationValues\\\" : ({.*}),\")"
   ]
  },
  {
   "cell_type": "code",
   "execution_count": 141,
   "metadata": {
    "collapsed": false
   },
   "outputs": [
    {
     "data": {
      "text/plain": [
       "['{\"B06XC1JG4Z\":{\"size_name\":\"2\",\"ASIN\":\"B06XC1JG4Z\",\"color_name\":\"0\"},\"B06XC8JMP4\":{\"size_name\":\"0\",\"ASIN\":\"B06XC8JMP4\",\"color_name\":\"0\"},\"B06XC9LNDG\":{\"size_name\":\"3\",\"ASIN\":\"B06XC9LNDG\",\"color_name\":\"0\"},\"B06XC9XC3R\":{\"size_name\":\"4\",\"ASIN\":\"B06XC9XC3R\",\"color_name\":\"0\"},\"B06XC9PKTL\":{\"size_name\":\"1\",\"ASIN\":\"B06XC9PKTL\",\"color_name\":\"0\"},\"B06XC7PN1S\":{\"size_name\":\"5\",\"ASIN\":\"B06XC7PN1S\",\"color_name\":\"0\"}}']"
      ]
     },
     "execution_count": 141,
     "metadata": {},
     "output_type": "execute_result"
    }
   ],
   "source": [
    "pat3.findall(sku_rst)"
   ]
  },
  {
   "cell_type": "code",
   "execution_count": 143,
   "metadata": {
    "collapsed": false
   },
   "outputs": [],
   "source": [
    "asin_map = json.loads(pat3.findall(sku_rst)[0])\n",
    "\n",
    "for k,v in asin_map.items():\n",
    "    print(k)"
   ]
  },
  {
   "cell_type": "code",
   "execution_count": 157,
   "metadata": {
    "collapsed": false
   },
   "outputs": [
    {
     "name": "stdout",
     "output_type": "stream",
     "text": [
      "sku_path = ./data/20170529/20170529_B06XC9LNDG.html\n"
     ]
    }
   ],
   "source": [
    "info = parse_sku(sku_path)"
   ]
  },
  {
   "cell_type": "code",
   "execution_count": 159,
   "metadata": {
    "collapsed": false
   },
   "outputs": [],
   "source": [
    "from save import save_to_excel"
   ]
  },
  {
   "cell_type": "code",
   "execution_count": 160,
   "metadata": {
    "collapsed": false
   },
   "outputs": [
    {
     "name": "stdout",
     "output_type": "stream",
     "text": [
      "create new workbook !!!\n",
      "append position:  1\n"
     ]
    }
   ],
   "source": [
    "key = [\"sku\", \"product-id\", \"product-id-type\", \"price\", \"minimum-seller-allowed-price\",\t\"maximum-seller-allowed-price\", \"item-condition\", \"quantity\", \"add-delete\", \"will-ship-internationally\", \"expedited-shipping\", \"standard-plus\", \"item-note\", \"fulfillment-center-id\",\t\"product-tax-code\", \"leadtime-to-ship\", \"merchant_shipping_group_name\"]\n",
    "\n",
    "save_to_excel(key, info)"
   ]
  }
 ],
 "metadata": {
  "kernelspec": {
   "display_name": "Python 3",
   "language": "python",
   "name": "python3"
  },
  "language_info": {
   "codemirror_mode": {
    "name": "ipython",
    "version": 3
   },
   "file_extension": ".py",
   "mimetype": "text/x-python",
   "name": "python",
   "nbconvert_exporter": "python",
   "pygments_lexer": "ipython3",
   "version": "3.6.1"
  }
 },
 "nbformat": 4,
 "nbformat_minor": 2
}
