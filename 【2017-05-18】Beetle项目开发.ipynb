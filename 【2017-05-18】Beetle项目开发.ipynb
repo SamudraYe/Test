{
 "cells": [
  {
   "cell_type": "markdown",
   "metadata": {},
   "source": [
    "# 目标网站\n",
    "\n",
    "`CRAWL_URL = \"https://www.amazon.com/s/ref=nb_sb_noss_2?url=search-alias%3Daps&field-keywords=T+shirt\"`"
   ]
  },
  {
   "cell_type": "markdown",
   "metadata": {},
   "source": [
    "# 抓取目标\n",
    "\n",
    "- 抓取ASIN，组成单品链接\n",
    "\n",
    "    `\"https://www.amazon.com/dp/{asin}\".format(asin=tag[\"data-asin\"])`\n",
    "\n",
    "\n",
    "- 产品名称\n",
    "\n",
    "    `<span class=\"a-size-large\" id=\"productTitle\">    Hanes Men's ComfortSoft T-Shirt (Pack of 4)</span>`\n",
    "\n",
    "\n",
    "- 抓取尺码\n",
    "\n",
    "    `<select autocomplete=\"off\" class=\"a-native-dropdown\" data-a-touch-header=\"Size\" id=\"native_dropdown_selected_size_name\" name=\"dropdown_selected_size_name\" tabindex=\"-1\">`\n",
    "\n",
    "\n",
    "- 抓取颜色\n",
    "\n",
    "    `<select autocomplete=\"off\" class=\"a-native-dropdown\" data-a-touch-header=\"Color\" id=\"native_dropdown_selected_color_name\" name=\"dropdown_selected_color_name\" tabindex=\"-1\">`\n",
    "\n",
    "\n",
    "- 爬取品牌\n",
    "\n",
    "    `<div class=\"a-section\" id=\"brandStoreTeaser\">`\n",
    "\n",
    "\n",
    "- 爬取价格\n",
    "\n",
    "    `<span class=\"a-size-medium a-color-price\" id=\"priceblock_ourprice\">$9.42 - $229.99</span>`"
   ]
  },
  {
   "cell_type": "code",
   "execution_count": 126,
   "metadata": {
    "collapsed": true
   },
   "outputs": [],
   "source": [
    "import time"
   ]
  },
  {
   "cell_type": "code",
   "execution_count": 34,
   "metadata": {
    "collapsed": true
   },
   "outputs": [],
   "source": [
    "import requests"
   ]
  },
  {
   "cell_type": "code",
   "execution_count": 5,
   "metadata": {
    "collapsed": false
   },
   "outputs": [],
   "source": [
    "from bs4 import BeautifulSoup"
   ]
  },
  {
   "cell_type": "code",
   "execution_count": 3,
   "metadata": {
    "collapsed": false
   },
   "outputs": [],
   "source": [
    "CRAWL_URL = \"https://www.amazon.com/s/ref=nb_sb_noss_2?url=search-alias%3Daps&field-keywords=T+shirt\""
   ]
  },
  {
   "cell_type": "code",
   "execution_count": 41,
   "metadata": {
    "collapsed": true
   },
   "outputs": [],
   "source": [
    "headers = {\n",
    "    \"User-Agent\": \"Mozilla/5.0 (Windows NT 10.0; Win64; x64) AppleWebKit/537.36 (KHTML, like Gecko) Chrome/56.0.2924.87 Safari/537.36\"\n",
    "}"
   ]
  },
  {
   "cell_type": "code",
   "execution_count": 6,
   "metadata": {
    "collapsed": true
   },
   "outputs": [],
   "source": [
    "s = requests.session()"
   ]
  },
  {
   "cell_type": "code",
   "execution_count": 8,
   "metadata": {
    "collapsed": true
   },
   "outputs": [],
   "source": [
    "r = s.get(CRAWL_URL, headers=headers)"
   ]
  },
  {
   "cell_type": "code",
   "execution_count": 9,
   "metadata": {
    "collapsed": true
   },
   "outputs": [],
   "source": [
    "soup = BeautifulSoup(r.text, \"html5lib\")"
   ]
  },
  {
   "cell_type": "code",
   "execution_count": 137,
   "metadata": {
    "collapsed": false
   },
   "outputs": [],
   "source": [
    "with open(\"./{prefix}_soup.txt\".format(prefix=time.strftime(\"%Y%m%d\")), \"w\", encoding=\"utf-8\") as fp:\n",
    "    print(soup, file=fp)"
   ]
  },
  {
   "cell_type": "code",
   "execution_count": 30,
   "metadata": {
    "collapsed": false
   },
   "outputs": [],
   "source": [
    "sku_url = list()\n",
    "for tag in soup.find_all(\"li\", class_=\"s-result-item\"):\n",
    "    sku_url.append(\"https://www.amazon.com/dp/{asin}\".format(asin=tag[\"data-asin\"]))"
   ]
  },
  {
   "cell_type": "code",
   "execution_count": 31,
   "metadata": {
    "collapsed": false,
    "scrolled": true
   },
   "outputs": [
    {
     "data": {
      "text/plain": [
       "['https://www.amazon.com/dp/B00KBZOTI8',\n",
       " 'https://www.amazon.com/dp/B004OWML5C',\n",
       " 'https://www.amazon.com/dp/B06XSN2SJS',\n",
       " 'https://www.amazon.com/dp/B00817DZ0G',\n",
       " 'https://www.amazon.com/dp/B00719ZZWQ',\n",
       " 'https://www.amazon.com/dp/B01EKB5Z72',\n",
       " 'https://www.amazon.com/dp/B01EKB6ES6',\n",
       " 'https://www.amazon.com/dp/B00VTV8ISK',\n",
       " 'https://www.amazon.com/dp/B00NQ3YZV8',\n",
       " 'https://www.amazon.com/dp/B017STTRC2',\n",
       " 'https://www.amazon.com/dp/B00KRYLK8K',\n",
       " 'https://www.amazon.com/dp/B00KBZQK9O',\n",
       " 'https://www.amazon.com/dp/B014FO6XES',\n",
       " 'https://www.amazon.com/dp/B06XKV7XZZ',\n",
       " 'https://www.amazon.com/dp/B01BE1LC6E',\n",
       " 'https://www.amazon.com/dp/B01HI3A736',\n",
       " 'https://www.amazon.com/dp/B01EMOVL9I',\n",
       " 'https://www.amazon.com/dp/B012GZLMEE',\n",
       " 'https://www.amazon.com/dp/B008KZX2LG',\n",
       " 'https://www.amazon.com/dp/B06XDP723L',\n",
       " 'https://www.amazon.com/dp/B01NCS3JBD',\n",
       " 'https://www.amazon.com/dp/B018PWD95W',\n",
       " 'https://www.amazon.com/dp/B017USJZZU',\n",
       " 'https://www.amazon.com/dp/B00VTV5W5C',\n",
       " 'https://www.amazon.com/dp/B01N0XX2KB',\n",
       " 'https://www.amazon.com/dp/B06XGRZ9S9',\n",
       " 'https://www.amazon.com/dp/B01EKB52RK',\n",
       " 'https://www.amazon.com/dp/B01HEPE0TK',\n",
       " 'https://www.amazon.com/dp/B00W6EQ1AQ',\n",
       " 'https://www.amazon.com/dp/B06XGP8J9K',\n",
       " 'https://www.amazon.com/dp/B00NOY3JPC',\n",
       " 'https://www.amazon.com/dp/B071RV4KDL',\n",
       " 'https://www.amazon.com/dp/B00KBZTK3M',\n",
       " 'https://www.amazon.com/dp/B00LSRTZPU',\n",
       " 'https://www.amazon.com/dp/B006TCKB6Q',\n",
       " 'https://www.amazon.com/dp/B0718XMXZR',\n",
       " 'https://www.amazon.com/dp/B00OI0EWVQ',\n",
       " 'https://www.amazon.com/dp/B00C7BEZRE',\n",
       " 'https://www.amazon.com/dp/B01HCXMAS2',\n",
       " 'https://www.amazon.com/dp/B00GOZPM44',\n",
       " 'https://www.amazon.com/dp/B00VTV95AK',\n",
       " 'https://www.amazon.com/dp/B01NAQ6SHR',\n",
       " 'https://www.amazon.com/dp/B00NMFDCOG',\n",
       " 'https://www.amazon.com/dp/B00G2DUNMY',\n",
       " 'https://www.amazon.com/dp/B00ACIFQGS',\n",
       " 'https://www.amazon.com/dp/B00KUKYJF2',\n",
       " 'https://www.amazon.com/dp/B00KBZSUYC',\n",
       " 'https://www.amazon.com/dp/B01NBP93BU',\n",
       " 'https://www.amazon.com/dp/B06XTFV2LX',\n",
       " 'https://www.amazon.com/dp/B01M1K4ABG',\n",
       " 'https://www.amazon.com/dp/B0724YWQJN']"
      ]
     },
     "execution_count": 31,
     "metadata": {},
     "output_type": "execute_result"
    }
   ],
   "source": [
    "sku_url"
   ]
  },
  {
   "cell_type": "code",
   "execution_count": 34,
   "metadata": {
    "collapsed": true
   },
   "outputs": [],
   "source": [
    "import re"
   ]
  },
  {
   "cell_type": "code",
   "execution_count": 37,
   "metadata": {
    "collapsed": false
   },
   "outputs": [],
   "source": [
    "sku_url = \"https://www.amazon.com/dp/B00KBZOTI8\""
   ]
  },
  {
   "cell_type": "code",
   "execution_count": 42,
   "metadata": {
    "collapsed": false
   },
   "outputs": [],
   "source": [
    "sku_rst = requests.get(sku_url, headers=headers)"
   ]
  },
  {
   "cell_type": "code",
   "execution_count": 46,
   "metadata": {
    "collapsed": false
   },
   "outputs": [
    {
     "data": {
      "text/plain": [
       "200"
      ]
     },
     "execution_count": 46,
     "metadata": {},
     "output_type": "execute_result"
    }
   ],
   "source": [
    "sku_rst.status_code"
   ]
  },
  {
   "cell_type": "code",
   "execution_count": 47,
   "metadata": {
    "collapsed": false
   },
   "outputs": [
    {
     "name": "stdout",
     "output_type": "stream",
     "text": [
      "ok\n"
     ]
    }
   ],
   "source": [
    "if sku_rst.status_code == 200:\n",
    "    print(\"ok\")"
   ]
  },
  {
   "cell_type": "code",
   "execution_count": 203,
   "metadata": {
    "collapsed": true
   },
   "outputs": [],
   "source": [
    "with open(\"./{prefix}_sku_rst.txt\".format(prefix=time.strftime(\"%Y%m%d\")), \"w\", encoding=\"utf-8\") as fp:\n",
    "    print(sku_rst.text, file=fp)"
   ]
  },
  {
   "cell_type": "code",
   "execution_count": 37,
   "metadata": {
    "collapsed": true
   },
   "outputs": [],
   "source": [
    "sku_soup = BeautifulSoup(sku_rst.text, \"html5lib\")"
   ]
  },
  {
   "cell_type": "code",
   "execution_count": 138,
   "metadata": {
    "collapsed": false
   },
   "outputs": [],
   "source": [
    "with open(\"./{prefix}_sku_soup.txt\".format(prefix=time.strftime(\"%Y%m%d\")), \"w\", encoding=\"utf-8\") as fp:\n",
    "    print(sku_soup, file=fp)"
   ]
  },
  {
   "cell_type": "code",
   "execution_count": 83,
   "metadata": {
    "collapsed": false
   },
   "outputs": [],
   "source": [
    "pat = re.compile(\"data = {\\s.*\")"
   ]
  },
  {
   "cell_type": "code",
   "execution_count": 85,
   "metadata": {
    "collapsed": false
   },
   "outputs": [],
   "source": [
    "t = pat.findall(sku_rst.text)"
   ]
  },
  {
   "cell_type": "code",
   "execution_count": 116,
   "metadata": {
    "collapsed": false
   },
   "outputs": [],
   "source": [
    "d = json.dumps(t, sort_keys=True, indent=4, separators=(',', ': '))"
   ]
  },
  {
   "cell_type": "code",
   "execution_count": 57,
   "metadata": {
    "collapsed": true
   },
   "outputs": [],
   "source": [
    "s = \"\"\"\n",
    " data = {\n",
    "                'colorImages': { 'initial': [{\"hiRes\":\"https://images-na.ssl-images-amazon.com/images/I/81UFAlUcZaL._UL1500_.jpg\",\"thumb\":\"https://images-na.ssl-images-amazon.com/images/I/41loaRuvR9L._SR38,50_.jpg\",\"large\":\"https://images-na.ssl-images-amazon.com/images/I/41loaRuvR9L.jpg\",\"main\":{\"https://images-na.ssl-images-amazon.com/images/I/81UFAlUcZaL._UX342_.jpg\":[421,342],\"https://images-na.ssl-images-amazon.com/images/I/81UFAlUcZaL._UX385_.jpg\":[474,385],\"https://images-na.ssl-images-amazon.com/images/I/81UFAlUcZaL._UX425_.jpg\":[523,425],\"https://images-na.ssl-images-amazon.com/images/I/81UFAlUcZaL._UX466_.jpg\":[574,466],\"https://images-na.ssl-images-amazon.com/images/I/81UFAlUcZaL._UX522_.jpg\":[642,522],\"https://images-na.ssl-images-amazon.com/images/I/81UFAlUcZaL._UX569_.jpg\":[700,569],\"https://images-na.ssl-images-amazon.com/images/I/81UFAlUcZaL._UX679_.jpg\":[836,679]},\"variant\":\"MAIN\",\"lowRes\":null}]},\n",
    "                'colorToAsin': {'initial': {}},\n",
    "                'heroImage': {'initial': []},\n",
    "                'heroVideo': {'initial': []},\n",
    "                'holderRatio': 0.77,\n",
    "                'holderMaxHeight': 900,\n",
    "                'useStretchyImageFix': true,\n",
    "                'isEnhancedImageBlockSize' : true,\n",
    "                 'extraVideos' : []\n",
    "                };\n",
    "\"\"\""
   ]
  },
  {
   "cell_type": "code",
   "execution_count": 52,
   "metadata": {
    "collapsed": true
   },
   "outputs": [],
   "source": [
    "str = \"data = {123}\""
   ]
  },
  {
   "cell_type": "code",
   "execution_count": 68,
   "metadata": {
    "collapsed": true
   },
   "outputs": [],
   "source": [
    "pat = re.compile(\"data = {\\s.*\")"
   ]
  },
  {
   "cell_type": "code",
   "execution_count": 69,
   "metadata": {
    "collapsed": false
   },
   "outputs": [
    {
     "data": {
      "text/plain": [
       "['data = {\\n                \\'colorImages\\': { \\'initial\\': [{\"hiRes\":\"https://images-na.ssl-images-amazon.com/images/I/81UFAlUcZaL._UL1500_.jpg\",\"thumb\":\"https://images-na.ssl-images-amazon.com/images/I/41loaRuvR9L._SR38,50_.jpg\",\"large\":\"https://images-na.ssl-images-amazon.com/images/I/41loaRuvR9L.jpg\",\"main\":{\"https://images-na.ssl-images-amazon.com/images/I/81UFAlUcZaL._UX342_.jpg\":[421,342],\"https://images-na.ssl-images-amazon.com/images/I/81UFAlUcZaL._UX385_.jpg\":[474,385],\"https://images-na.ssl-images-amazon.com/images/I/81UFAlUcZaL._UX425_.jpg\":[523,425],\"https://images-na.ssl-images-amazon.com/images/I/81UFAlUcZaL._UX466_.jpg\":[574,466],\"https://images-na.ssl-images-amazon.com/images/I/81UFAlUcZaL._UX522_.jpg\":[642,522],\"https://images-na.ssl-images-amazon.com/images/I/81UFAlUcZaL._UX569_.jpg\":[700,569],\"https://images-na.ssl-images-amazon.com/images/I/81UFAlUcZaL._UX679_.jpg\":[836,679]},\"variant\":\"MAIN\",\"lowRes\":null}]},']"
      ]
     },
     "execution_count": 69,
     "metadata": {},
     "output_type": "execute_result"
    }
   ],
   "source": [
    "pat.findall(s)"
   ]
  },
  {
   "cell_type": "code",
   "execution_count": 70,
   "metadata": {
    "collapsed": true
   },
   "outputs": [],
   "source": [
    "import json"
   ]
  },
  {
   "cell_type": "code",
   "execution_count": 72,
   "metadata": {
    "collapsed": false
   },
   "outputs": [],
   "source": [
    "t = json.dumps(pat.findall(s))"
   ]
  },
  {
   "cell_type": "code",
   "execution_count": 77,
   "metadata": {
    "collapsed": false,
    "scrolled": false
   },
   "outputs": [
    {
     "data": {
      "text/plain": [
       "'[\"data = {\\\\n                \\'colorImages\\': { \\'initial\\': [{\\\\\"hiRes\\\\\":\\\\\"https://images-na.ssl-images-amazon.com/images/I/81UFAlUcZaL._UL1500_.jpg\\\\\",\\\\\"thumb\\\\\":\\\\\"https://images-na.ssl-images-amazon.com/images/I/41loaRuvR9L._SR38,50_.jpg\\\\\",\\\\\"large\\\\\":\\\\\"https://images-na.ssl-images-amazon.com/images/I/41loaRuvR9L.jpg\\\\\",\\\\\"main\\\\\":{\\\\\"https://images-na.ssl-images-amazon.com/images/I/81UFAlUcZaL._UX342_.jpg\\\\\":[421,342],\\\\\"https://images-na.ssl-images-amazon.com/images/I/81UFAlUcZaL._UX385_.jpg\\\\\":[474,385],\\\\\"https://images-na.ssl-images-amazon.com/images/I/81UFAlUcZaL._UX425_.jpg\\\\\":[523,425],\\\\\"https://images-na.ssl-images-amazon.com/images/I/81UFAlUcZaL._UX466_.jpg\\\\\":[574,466],\\\\\"https://images-na.ssl-images-amazon.com/images/I/81UFAlUcZaL._UX522_.jpg\\\\\":[642,522],\\\\\"https://images-na.ssl-images-amazon.com/images/I/81UFAlUcZaL._UX569_.jpg\\\\\":[700,569],\\\\\"https://images-na.ssl-images-amazon.com/images/I/81UFAlUcZaL._UX679_.jpg\\\\\":[836,679]},\\\\\"variant\\\\\":\\\\\"MAIN\\\\\",\\\\\"lowRes\\\\\":null}]},\"]'"
      ]
     },
     "execution_count": 77,
     "metadata": {},
     "output_type": "execute_result"
    }
   ],
   "source": [
    "t"
   ]
  },
  {
   "cell_type": "code",
   "execution_count": 10,
   "metadata": {
    "collapsed": false
   },
   "outputs": [],
   "source": [
    "str = \"\"\"\n",
    "'initial': [{\n",
    "    \"hiRes\":\"https://images-na.ssl-images-amazon.com/images/I/81UFAlUcZaL._UL1500_.jpg\",\"thumb\":\"https://images-na.ssl-images-amazon.com/images/I/41loaRuvR9L._SR38,50_.jpg\",\n",
    "    \"large\":\"https://images-na.ssl-images-amazon.com/images/I/41loaRuvR9L.jpg\",\n",
    "    \"main\":{\n",
    "        \"https://images-na.ssl-images-amazon.com/images/I/81UFAlUcZaL._UX342_.jpg\":[421,342],\n",
    "        \"https://images-na.ssl-images-amazon.com/images/I/81UFAlUcZaL._UX385_.jpg\":[474,385],\n",
    "        \"https://images-na.ssl-images-amazon.com/images/I/81UFAlUcZaL._UX425_.jpg\":[523,425],\n",
    "        \"https://images-na.ssl-images-amazon.com/images/I/81UFAlUcZaL._UX466_.jpg\":[574,466],\n",
    "        \"https://images-na.ssl-images-amazon.com/images/I/81UFAlUcZaL._UX522_.jpg\":[642,522],\n",
    "        \"https://images-na.ssl-images-amazon.com/images/I/81UFAlUcZaL._UX569_.jpg\":[700,569],\n",
    "        \"https://images-na.ssl-images-amazon.com/images/I/81UFAlUcZaL._UX679_.jpg\":[836,679]\n",
    "    },\n",
    "    \"variant\":\"MAIN\",\n",
    "    \"lowRes\":null\n",
    "}],\n",
    "\"\"\""
   ]
  },
  {
   "cell_type": "code",
   "execution_count": 213,
   "metadata": {
    "collapsed": false
   },
   "outputs": [],
   "source": [
    "pat = re.compile(\"hiRes\\\":\\\"(https:\\/\\/\\S+.jpg)?\\\",\\\"thumb\")"
   ]
  },
  {
   "cell_type": "code",
   "execution_count": 215,
   "metadata": {
    "collapsed": false
   },
   "outputs": [],
   "source": [
    "d = pat.findall(sku_rst.text)"
   ]
  },
  {
   "cell_type": "code",
   "execution_count": 268,
   "metadata": {
    "collapsed": false
   },
   "outputs": [],
   "source": [
    "info = list()\n",
    "for tag in sku_soup.find_all(\"select\", id=\"native_dropdown_selected_color_name\"):\n",
    "    for p in tag.find_all(\"option\"):\n",
    "        color = dict()\n",
    "        color[\"index\"] = p[\"value\"].split(\",\")[0]\n",
    "        color[\"asin\"]  = p[\"value\"].split(\",\")[1]\n",
    "        color[\"v_url\"] = \"https://www.amazon.com/dp/{asin}\".format(asin=p[\"value\"].split(\",\")[1])\n",
    "        color[\"color\"] = p.text.strip()\n",
    "        info.append(color)"
   ]
  },
  {
   "cell_type": "code",
   "execution_count": 286,
   "metadata": {
    "collapsed": false
   },
   "outputs": [
    {
     "data": {
      "text/plain": [
       "[{'asin': 'B018MS6848', 'color': 'White', 'index': '0'},\n",
       " {'asin': 'B06W588HD6', 'color': 'Black', 'index': '1'},\n",
       " {'asin': 'B018MS61DG', 'color': 'Black/Heather Ash', 'index': '2'},\n",
       " {'asin': 'B00JJ6WYDM', 'color': '-White', 'index': '3'},\n",
       " {'asin': 'B013X53DQG', 'color': '2 Deep Royal / 2 Light Blue', 'index': '4'},\n",
       " {'asin': 'B018MS6ADM', 'color': '2 Heather Grey / 2 Black', 'index': '5'},\n",
       " {'asin': 'B013XJLSG4', 'color': '2 Light Blue / 2 Lime', 'index': '6'},\n",
       " {'asin': 'B013XJO190', 'color': '2 Light Steel / 2 White', 'index': '7'},\n",
       " {'asin': 'B013XJPNJC', 'color': '2 Lime / 2 Smoke Grey', 'index': '8'},\n",
       " {'asin': 'B00W9MUDW2', 'color': 'Ash', 'index': '9'},\n",
       " {'asin': 'B00KBZP7NY', 'color': 'Deep Forest', 'index': '10'},\n",
       " {'asin': 'B00KBZP1ZS', 'color': 'Deep Red', 'index': '11'},\n",
       " {'asin': 'B00KBZP3WE', 'color': 'Deep Royal', 'index': '12'},\n",
       " {'asin': 'B00W9MUPTS', 'color': 'Denim Blue', 'index': '13'},\n",
       " {'asin': 'B011A1Q5NI', 'color': 'Gold', 'index': '14'},\n",
       " {'asin': 'B00KBZPDFG', 'color': 'Light Blue', 'index': '15'},\n",
       " {'asin': 'B00KBZP09A', 'color': 'Light Steel', 'index': '16'},\n",
       " {'asin': 'B00KBZPFCW', 'color': 'Lime', 'index': '17'},\n",
       " {'asin': 'B00W9MUUQ6', 'color': 'Maroon', 'index': '18'},\n",
       " {'asin': 'B00KBZOXNY', 'color': 'Navy', 'index': '19'},\n",
       " {'asin': 'B00W9MUDXQ', 'color': 'Orange', 'index': '20'},\n",
       " {'asin': 'B011A1QSMQ', 'color': 'Pale Pink', 'index': '21'},\n",
       " {'asin': 'B011A1S7BG', 'color': 'Sand', 'index': '22'},\n",
       " {'asin': 'B00KBZPBPS', 'color': 'Smoke Grey', 'index': '23'},\n",
       " {'asin': 'B013X4QTYU', 'color': '2 Ash / 2 Lime', 'index': '24'},\n",
       " {'asin': 'B013X4VT04', 'color': '2 Deep Red / 2 Pale Pink', 'index': '25'},\n",
       " {'asin': 'B013X4YNG6', 'color': '2 Deep Red / 2 Smoke Grey', 'index': '26'},\n",
       " {'asin': 'B013X4ZKOU', 'color': '2 Deep Red / 2 White', 'index': '27'},\n",
       " {'asin': 'B013X5CDEO', 'color': '2 Gold / 2 Light Blue', 'index': '28'},\n",
       " {'asin': 'B013XJMTIA', 'color': '2 Light Steel / 2 Lime', 'index': '29'},\n",
       " {'asin': 'B013XJLHF6', 'color': '2 Maroon / 2 Lime', 'index': '30'},\n",
       " {'asin': 'B013X5FAK8', 'color': '2 Maroon / 2 Orange', 'index': '31'},\n",
       " {'asin': 'B013XJLYX6', 'color': '2 Maroon / 2 Sand', 'index': '32'},\n",
       " {'asin': 'B013XJMO62', 'color': '2 Orange / 2 Deep Forest', 'index': '33'},\n",
       " {'asin': 'B013XJN4AM', 'color': '2 Orange / 2 Gold', 'index': '34'},\n",
       " {'asin': 'B013XJS70Y', 'color': '2 Pale Pink / 2 Sand', 'index': '35'},\n",
       " {'asin': 'B013XJH3ZE', 'color': '2 Smoke Grey / 2 White', 'index': '36'},\n",
       " {'asin': 'B011A1SW5C', 'color': 'Yellow', 'index': '37'},\n",
       " {'asin': 'B013XJHLXS', 'color': '2 Deep Forest / 2 Sand', 'index': '38'},\n",
       " {'asin': 'B013X4OHYY', 'color': '2 Deep Forest / 2 White', 'index': '39'},\n",
       " {'asin': 'B013X4R7L4', 'color': '2 Deep Red / 2 Gold', 'index': '40'},\n",
       " {'asin': 'B013X4S2IQ', 'color': '2 Deep Red / 2 Light Blue', 'index': '41'},\n",
       " {'asin': 'B013X4XYZM', 'color': '2 Deep Red / 2 Sand', 'index': '42'},\n",
       " {'asin': 'B013X4NAO2', 'color': '2 Ash / 2 Deep Royal', 'index': '43'},\n",
       " {'asin': 'B013X4P2CA', 'color': '2 Ash / 2 Light Blue', 'index': '44'},\n",
       " {'asin': 'B013X4X9IE', 'color': '2 Ash / 2 White', 'index': '45'},\n",
       " {'asin': 'B013XJGGDO', 'color': '2 Deep Forest / 2 Deep Red', 'index': '46'},\n",
       " {'asin': 'B013XJGMH4',\n",
       "  'color': '2 Deep Forest / 2 Deep Royal',\n",
       "  'index': '47'},\n",
       " {'asin': 'B013XJGR7O', 'color': '2 Deep Forest / 2 Gold', 'index': '48'},\n",
       " {'asin': 'B013XJGW4C',\n",
       "  'color': '2 Deep Forest / 2 Light Blue',\n",
       "  'index': '49'},\n",
       " {'asin': 'B013XJH444', 'color': '2 Deep Forest / 2 Lime', 'index': '50'},\n",
       " {'asin': 'B013XJHH14', 'color': '2 Deep Forest / 2 Purple', 'index': '51'},\n",
       " {'asin': 'B013X4PXSI', 'color': '2 Deep Red / 2 Deep Royal', 'index': '52'},\n",
       " {'asin': 'B013X53J60',\n",
       "  'color': '2 Deep Royal / 2 Light Steel',\n",
       "  'index': '53'},\n",
       " {'asin': 'B013X54JDM', 'color': '2 Deep Royal / 2 Lime', 'index': '54'},\n",
       " {'asin': 'B013X57DM6', 'color': '2 Deep Royal / 2 Purple', 'index': '55'},\n",
       " {'asin': 'B013X58BVS', 'color': '2 Deep Royal / 2 Sand', 'index': '56'},\n",
       " {'asin': 'B013X59DBK', 'color': '2 Deep Royal / 2 Smoke Grey', 'index': '57'},\n",
       " {'asin': 'B013X5DE9C', 'color': '2 Gold / 2 Light Steel', 'index': '58'},\n",
       " {'asin': 'B013XJKMX4', 'color': '2 Gold / 2 Lime', 'index': '59'},\n",
       " {'asin': 'B013XJL4JA', 'color': '2 Gold / 2 Sand', 'index': '60'},\n",
       " {'asin': 'B013XJM9M6', 'color': '2 Light Blue / 2 Sand', 'index': '61'},\n",
       " {'asin': 'B013XJOOYW', 'color': '2 Lime / 2 Pale Pink', 'index': '62'},\n",
       " {'asin': 'B013XJP6YY', 'color': '2 Lime / 2 Sand', 'index': '63'},\n",
       " {'asin': 'B013XJPP0E', 'color': '2 Lime / 2 White', 'index': '64'},\n",
       " {'asin': 'B013XJKSBU', 'color': '2 Maroon / 2 Deep Forest', 'index': '65'},\n",
       " {'asin': 'B013XJLAZI', 'color': '2 Maroon / 2 Light Steel', 'index': '66'},\n",
       " {'asin': 'B013XJMTZ8', 'color': '2 Orange / 2 Deep Red', 'index': '67'},\n",
       " {'asin': 'B013XJNBVE', 'color': '2 Orange / 2 Light Blue', 'index': '68'},\n",
       " {'asin': 'B013XJP8BK', 'color': '2 Orange / 2 Yellow', 'index': '69'},\n",
       " {'asin': 'B013XJRXCC', 'color': '2 Pale Pink / 2 Purple', 'index': '70'},\n",
       " {'asin': 'B013XJGHW4', 'color': '2 Purple / 2 Yellow', 'index': '71'},\n",
       " {'asin': 'B013XJGRI8', 'color': '2 Sand / 2 White', 'index': '72'},\n",
       " {'asin': 'B011A1RI6G', 'color': 'Purple', 'index': '73'},\n",
       " {'asin': 'B013X4TYLK', 'color': '2 Deep Red / 2 Lime', 'index': '74'},\n",
       " {'asin': 'B013X56I6S', 'color': '2 Deep Royal / 2 Pale Pink', 'index': '75'},\n",
       " {'asin': 'B013XJOM26', 'color': '2 Orange / 2 Sand', 'index': '76'},\n",
       " {'asin': 'B013XJHLSS', 'color': '2 Ash / 2 Deep Red', 'index': '77'},\n",
       " {'asin': 'B013X4PX6K', 'color': '2 Ash / 2 Light Steel', 'index': '78'},\n",
       " {'asin': 'B013XJH2K0', 'color': '2 Ash / 2 Maroon', 'index': '79'},\n",
       " {'asin': 'B013X4WD90', 'color': '2 Ash / 2 Smoke Grey', 'index': '80'},\n",
       " {'asin': 'B013X55KAS', 'color': '2 Denim Blue / 2 Light Blue', 'index': '81'},\n",
       " {'asin': 'B013X4Z4HS', 'color': '2 Denim Blue / 2 Maroon', 'index': '82'},\n",
       " {'asin': 'B013XJKWZC', 'color': '2 Gold / 2 Pale Pink', 'index': '83'},\n",
       " {'asin': 'B013XJLB6G', 'color': '2 Gold / 2 White', 'index': '84'},\n",
       " {'asin': 'B013XJM1PQ', 'color': '2 Light Blue / 2 Purple', 'index': '85'},\n",
       " {'asin': 'B013XJMEGC', 'color': '2 Light Blue / 2 Smoke Grey', 'index': '86'},\n",
       " {'asin': 'B013XJKWD4', 'color': '2 Maroon / 2 Deep Red', 'index': '87'},\n",
       " {'asin': 'B013XJKZYK', 'color': '2 Maroon / 2 Deep Royal', 'index': '88'},\n",
       " {'asin': 'B013XJL3Q4', 'color': '2 Maroon / 2 Gold', 'index': '89'},\n",
       " {'asin': 'B013XJLUDU', 'color': '2 Maroon / 2 Purple', 'index': '90'},\n",
       " {'asin': 'B013XJNQSC', 'color': '2 Orange / 2 Lime', 'index': '91'},\n",
       " {'asin': 'B013XJO5PK', 'color': '2 Orange / 2 Pale Pink', 'index': '92'},\n",
       " {'asin': 'B013XJODF2', 'color': '2 Orange / 2 Purple', 'index': '93'},\n",
       " {'asin': 'B013XJTELK', 'color': '2 Purple / 2 Sand', 'index': '94'},\n",
       " {'asin': 'B013XJGN0U', 'color': '2 Sand / 2 Smoke Grey', 'index': '95'},\n",
       " {'asin': 'B013XJH7H8', 'color': '2 Ash / 2 Orange', 'index': '96'},\n",
       " {'asin': 'B013X4V18Y', 'color': '2 Deep Red / 2 Navy', 'index': '97'},\n",
       " {'asin': 'B013X55MFQ', 'color': '2 Deep Royal / 2 Navy', 'index': '98'},\n",
       " {'asin': 'B013X5BNWC', 'color': '2 Deep Royal / 2 Yellow', 'index': '99'},\n",
       " {'asin': 'B013XJKVW6', 'color': '2 Gold / 2 Navy', 'index': '100'},\n",
       " {'asin': 'B013XJL382', 'color': '2 Gold / 2 Purple', 'index': '101'},\n",
       " {'asin': 'B013XJLA62', 'color': '2 Gold / 2 Smoke Grey', 'index': '102'},\n",
       " {'asin': 'B013XJLIVO', 'color': '2 Gold / 2 Yellow', 'index': '103'},\n",
       " {'asin': 'B013XJLVR0', 'color': '2 Light Blue / 2 Navy', 'index': '104'},\n",
       " {'asin': 'B013XJNM40', 'color': '2 Light Steel / 2 Sand', 'index': '105'},\n",
       " {'asin': 'B013XJNT48',\n",
       "  'color': '2 Light Steel / 2 Smoke Grey',\n",
       "  'index': '106'},\n",
       " {'asin': 'B013XJLS4Q', 'color': '2 Maroon / 2 Pale Pink', 'index': '107'},\n",
       " {'asin': 'B013XJRAOI', 'color': '2 Navy / 2 Smoke Grey', 'index': '108'},\n",
       " {'asin': 'B013XJNON4', 'color': '2 Orange / 2 Light Steel', 'index': '109'},\n",
       " {'asin': 'B013XJP79S', 'color': '2 Orange / 2 White', 'index': '110'},\n",
       " {'asin': 'B013X4O1MW',\n",
       "  'color': '2 Deep Forest / 2 Smoke Grey',\n",
       "  'index': '111'},\n",
       " {'asin': 'B013X4THM6', 'color': '2 Deep Red / 2 Light Steel', 'index': '112'},\n",
       " {'asin': 'B013XJLNAK',\n",
       "  'color': '2 Light Blue / 2 Light Steel',\n",
       "  'index': '113'},\n",
       " {'asin': 'B013XJM79Q', 'color': '2 Maroon / 2 Smoke Grey', 'index': '114'},\n",
       " {'asin': 'B013XJHAWU', 'color': '2 Smoke Grey / 2 Yellow', 'index': '115'},\n",
       " {'asin': 'B013XJSQ46', 'color': '2 Pale Pink / 2 Smoke Grey', 'index': '116'},\n",
       " {'asin': 'B013XJT0R8', 'color': '2 Pale Pink / 2 White', 'index': '117'},\n",
       " {'asin': 'B013XJHIWC', 'color': '2 Ash / 2 Deep Forest', 'index': '118'},\n",
       " {'asin': 'B013XJH1Y2', 'color': '2 Ash / 2 Denim Blue', 'index': '119'},\n",
       " {'asin': 'B013X4P4GO', 'color': '2 Deep Forest / 2 Yellow', 'index': '120'},\n",
       " {'asin': 'B013X4WQ10', 'color': '2 Deep Red / 2 Purple', 'index': '121'},\n",
       " {'asin': 'B013X51QL0', 'color': '2 Deep Royal / 2 Gold', 'index': '122'},\n",
       " {'asin': 'B013X52PH4',\n",
       "  'color': '2 Denim Blue / 2 Deep Forest',\n",
       "  'index': '123'},\n",
       " {'asin': 'B013X55EY0', 'color': '2 Denim Blue / 2 Gold', 'index': '124'},\n",
       " {'asin': 'B013X50WQU', 'color': '2 Denim Blue / 2 Orange', 'index': '125'},\n",
       " {'asin': 'B013X5B1GA', 'color': '2 Denim Blue / 2 Sand', 'index': '126'},\n",
       " {'asin': 'B013X5DERY', 'color': '2 Denim Blue / 2 White', 'index': '127'},\n",
       " {'asin': 'B013X5ECIO', 'color': '2 Denim Blue / 2 Yellow', 'index': '128'},\n",
       " {'asin': 'B013XJLXC8', 'color': '2 Light Blue / 2 Pale Pink', 'index': '129'},\n",
       " {'asin': 'B013XJMRPK', 'color': '2 Light Blue / 2 Yellow', 'index': '130'},\n",
       " {'asin': 'B013XJO5FA', 'color': '2 Light Steel / 2 Yellow', 'index': '131'},\n",
       " {'asin': 'B013XJG9QI', 'color': '2 Purple / 2 Smoke Grey', 'index': '132'},\n",
       " {'asin': 'B013XJGEPY', 'color': '2 Purple / 2 White', 'index': '133'},\n",
       " {'asin': 'B013XJGXRS', 'color': '2 Sand / 2 Yellow', 'index': '134'},\n",
       " {'asin': 'B013X4OOWY', 'color': '2 Ash / 2 Gold', 'index': '135'},\n",
       " {'asin': 'B013X4TAF0', 'color': '2 Ash / 2 Navy', 'index': '136'},\n",
       " {'asin': 'B013XJHBT2', 'color': '2 Deep Forest / 2 Navy', 'index': '137'},\n",
       " {'asin': 'B013X50ZV2', 'color': '2 Deep Red / 2 Yellow', 'index': '138'},\n",
       " {'asin': 'B013X53NKC', 'color': '2 Denim Blue / 2 Deep Red', 'index': '139'},\n",
       " {'asin': 'B013XJMMGY', 'color': '2 Light Blue / 2 White', 'index': '140'},\n",
       " {'asin': 'B013XJN6X2',\n",
       "  'color': '2 Light Steel / 2 Pale Pink',\n",
       "  'index': '141'},\n",
       " {'asin': 'B013XJOGPE', 'color': '2 Lime / 2 Navy', 'index': '142'},\n",
       " {'asin': 'B013XJLOHC', 'color': '2 Maroon / 2 Navy', 'index': '143'},\n",
       " {'asin': 'B013XJQI7S', 'color': '2 Navy / 2 Pale Pink', 'index': '144'},\n",
       " {'asin': 'B013XJN2Q8', 'color': '2 Orange / 2 Deep Royal', 'index': '145'},\n",
       " {'asin': 'B013XJIHL8', 'color': '2 Ash / 2 Pale Pink', 'index': '146'},\n",
       " {'asin': 'B013X4W2NW', 'color': '2 Ash / 2 Sand', 'index': '147'},\n",
       " {'asin': 'B013XJQ9N6', 'color': '2 Lime / 2 Yellow', 'index': '148'},\n",
       " {'asin': 'B013XJMG8I', 'color': '2 Maroon / 2 Yellow', 'index': '149'},\n",
       " {'asin': 'B013X4IT0C', 'color': '2 White / 2 Yellow', 'index': '150'},\n",
       " {'asin': 'B013XJHGGA',\n",
       "  'color': '2 Deep Forest / 2 Pale Pink',\n",
       "  'index': '151'},\n",
       " {'asin': 'B013XJN3K8', 'color': '2 Light Steel / 2 Navy', 'index': '152'},\n",
       " {'asin': 'B013XJOYYC', 'color': '2 Orange / 2 Smoke Grey', 'index': '153'},\n",
       " {'asin': 'B013X4UJGO', 'color': '2 Ash / 2 Purple', 'index': '154'},\n",
       " {'asin': 'B013X56EMG',\n",
       "  'color': '2 Denim Blue / 2 Light Steel',\n",
       "  'index': '155'},\n",
       " {'asin': 'B013X5CIFI',\n",
       "  'color': '2 Denim Blue / 2 Smoke Grey',\n",
       "  'index': '156'},\n",
       " {'asin': 'B013XJM818', 'color': '2 Maroon / 2 White', 'index': '157'},\n",
       " {'asin': 'B013X57LY6', 'color': '2 Denim Blue / 2 Lime', 'index': '158'},\n",
       " {'asin': 'B013X58KIW', 'color': '2 Denim Blue / 2 Navy', 'index': '159'},\n",
       " {'asin': 'B013XJQMKQ', 'color': '2 Navy / 2 Purple', 'index': '160'},\n",
       " {'asin': 'B013XJREZ8', 'color': '2 Navy / 2 White', 'index': '161'},\n",
       " {'asin': 'B071VM1VX2', 'color': 'Camouflage', 'index': '162'},\n",
       " {'asin': 'B013XJPKZO', 'color': '2 Black / 2 Deep Forest', 'index': '163'},\n",
       " {'asin': 'B013XJQ1CK', 'color': '2 Black / 2 Deep Royal', 'index': '164'},\n",
       " {'asin': 'B013XJQCXS', 'color': '2 Black / 2 Gold', 'index': '165'},\n",
       " {'asin': 'B013XJQMWE', 'color': '2 Black / 2 Light Blue', 'index': '166'},\n",
       " {'asin': 'B013XJQW3I', 'color': '2 Black / 2 Light Steel', 'index': '167'},\n",
       " {'asin': 'B013XJR8KE', 'color': '2 Black / 2 Lime', 'index': '168'},\n",
       " {'asin': 'B013XJS3BM', 'color': '2 Black / 2 Purple', 'index': '169'},\n",
       " {'asin': 'B013XJSCT0', 'color': '2 Black / 2 Sand', 'index': '170'},\n",
       " {'asin': 'B013XJSMSQ', 'color': '2 Black / 2 Smoke Grey', 'index': '171'},\n",
       " {'asin': 'B013XJP126', 'color': '2 Lime / 2 Purple', 'index': '172'},\n",
       " {'asin': 'B013XJMKJI', 'color': '2 Orange / 2 Black', 'index': '173'},\n",
       " {'asin': 'B013X5B7SC', 'color': '2 Deep Royal / 2 White', 'index': '174'},\n",
       " {'asin': 'B013XJRTWQ', 'color': '2 Navy / 2 Yellow', 'index': '175'},\n",
       " {'asin': 'B013X54ITC',\n",
       "  'color': '2 Denim Blue / 2 Deep Royal',\n",
       "  'index': '176'},\n",
       " {'asin': 'B01ND1LJ9D', 'color': 'Juniper', 'index': '177'},\n",
       " {'asin': 'B013XJR2SW', 'color': '2 Navy / 2 Sand', 'index': '178'},\n",
       " {'asin': 'B018MS6ERO', 'color': 'White Crewneck', 'index': '179'}]"
      ]
     },
     "execution_count": 286,
     "metadata": {},
     "output_type": "execute_result"
    }
   ],
   "source": [
    "info"
   ]
  },
  {
   "cell_type": "code",
   "execution_count": 283,
   "metadata": {
    "collapsed": false
   },
   "outputs": [],
   "source": [
    "variant_url = list()\n",
    "for index,item in enumerate(info):\n",
    "    variant_url.append(\"https://www.amazon.com/dp/{asin}\".format(asin=item[\"asin\"]))"
   ]
  },
  {
   "cell_type": "code",
   "execution_count": 285,
   "metadata": {
    "collapsed": false
   },
   "outputs": [
    {
     "data": {
      "text/plain": [
       "['https://www.amazon.com/dp/B018MS6848',\n",
       " 'https://www.amazon.com/dp/B06W588HD6',\n",
       " 'https://www.amazon.com/dp/B018MS61DG',\n",
       " 'https://www.amazon.com/dp/B00JJ6WYDM',\n",
       " 'https://www.amazon.com/dp/B013X53DQG',\n",
       " 'https://www.amazon.com/dp/B018MS6ADM',\n",
       " 'https://www.amazon.com/dp/B013XJLSG4',\n",
       " 'https://www.amazon.com/dp/B013XJO190',\n",
       " 'https://www.amazon.com/dp/B013XJPNJC',\n",
       " 'https://www.amazon.com/dp/B00W9MUDW2',\n",
       " 'https://www.amazon.com/dp/B00KBZP7NY',\n",
       " 'https://www.amazon.com/dp/B00KBZP1ZS',\n",
       " 'https://www.amazon.com/dp/B00KBZP3WE',\n",
       " 'https://www.amazon.com/dp/B00W9MUPTS',\n",
       " 'https://www.amazon.com/dp/B011A1Q5NI',\n",
       " 'https://www.amazon.com/dp/B00KBZPDFG',\n",
       " 'https://www.amazon.com/dp/B00KBZP09A',\n",
       " 'https://www.amazon.com/dp/B00KBZPFCW',\n",
       " 'https://www.amazon.com/dp/B00W9MUUQ6',\n",
       " 'https://www.amazon.com/dp/B00KBZOXNY',\n",
       " 'https://www.amazon.com/dp/B00W9MUDXQ',\n",
       " 'https://www.amazon.com/dp/B011A1QSMQ',\n",
       " 'https://www.amazon.com/dp/B011A1S7BG',\n",
       " 'https://www.amazon.com/dp/B00KBZPBPS',\n",
       " 'https://www.amazon.com/dp/B013X4QTYU',\n",
       " 'https://www.amazon.com/dp/B013X4VT04',\n",
       " 'https://www.amazon.com/dp/B013X4YNG6',\n",
       " 'https://www.amazon.com/dp/B013X4ZKOU',\n",
       " 'https://www.amazon.com/dp/B013X5CDEO',\n",
       " 'https://www.amazon.com/dp/B013XJMTIA',\n",
       " 'https://www.amazon.com/dp/B013XJLHF6',\n",
       " 'https://www.amazon.com/dp/B013X5FAK8',\n",
       " 'https://www.amazon.com/dp/B013XJLYX6',\n",
       " 'https://www.amazon.com/dp/B013XJMO62',\n",
       " 'https://www.amazon.com/dp/B013XJN4AM',\n",
       " 'https://www.amazon.com/dp/B013XJS70Y',\n",
       " 'https://www.amazon.com/dp/B013XJH3ZE',\n",
       " 'https://www.amazon.com/dp/B011A1SW5C',\n",
       " 'https://www.amazon.com/dp/B013XJHLXS',\n",
       " 'https://www.amazon.com/dp/B013X4OHYY',\n",
       " 'https://www.amazon.com/dp/B013X4R7L4',\n",
       " 'https://www.amazon.com/dp/B013X4S2IQ',\n",
       " 'https://www.amazon.com/dp/B013X4XYZM',\n",
       " 'https://www.amazon.com/dp/B013X4NAO2',\n",
       " 'https://www.amazon.com/dp/B013X4P2CA',\n",
       " 'https://www.amazon.com/dp/B013X4X9IE',\n",
       " 'https://www.amazon.com/dp/B013XJGGDO',\n",
       " 'https://www.amazon.com/dp/B013XJGMH4',\n",
       " 'https://www.amazon.com/dp/B013XJGR7O',\n",
       " 'https://www.amazon.com/dp/B013XJGW4C',\n",
       " 'https://www.amazon.com/dp/B013XJH444',\n",
       " 'https://www.amazon.com/dp/B013XJHH14',\n",
       " 'https://www.amazon.com/dp/B013X4PXSI',\n",
       " 'https://www.amazon.com/dp/B013X53J60',\n",
       " 'https://www.amazon.com/dp/B013X54JDM',\n",
       " 'https://www.amazon.com/dp/B013X57DM6',\n",
       " 'https://www.amazon.com/dp/B013X58BVS',\n",
       " 'https://www.amazon.com/dp/B013X59DBK',\n",
       " 'https://www.amazon.com/dp/B013X5DE9C',\n",
       " 'https://www.amazon.com/dp/B013XJKMX4',\n",
       " 'https://www.amazon.com/dp/B013XJL4JA',\n",
       " 'https://www.amazon.com/dp/B013XJM9M6',\n",
       " 'https://www.amazon.com/dp/B013XJOOYW',\n",
       " 'https://www.amazon.com/dp/B013XJP6YY',\n",
       " 'https://www.amazon.com/dp/B013XJPP0E',\n",
       " 'https://www.amazon.com/dp/B013XJKSBU',\n",
       " 'https://www.amazon.com/dp/B013XJLAZI',\n",
       " 'https://www.amazon.com/dp/B013XJMTZ8',\n",
       " 'https://www.amazon.com/dp/B013XJNBVE',\n",
       " 'https://www.amazon.com/dp/B013XJP8BK',\n",
       " 'https://www.amazon.com/dp/B013XJRXCC',\n",
       " 'https://www.amazon.com/dp/B013XJGHW4',\n",
       " 'https://www.amazon.com/dp/B013XJGRI8',\n",
       " 'https://www.amazon.com/dp/B011A1RI6G',\n",
       " 'https://www.amazon.com/dp/B013X4TYLK',\n",
       " 'https://www.amazon.com/dp/B013X56I6S',\n",
       " 'https://www.amazon.com/dp/B013XJOM26',\n",
       " 'https://www.amazon.com/dp/B013XJHLSS',\n",
       " 'https://www.amazon.com/dp/B013X4PX6K',\n",
       " 'https://www.amazon.com/dp/B013XJH2K0',\n",
       " 'https://www.amazon.com/dp/B013X4WD90',\n",
       " 'https://www.amazon.com/dp/B013X55KAS',\n",
       " 'https://www.amazon.com/dp/B013X4Z4HS',\n",
       " 'https://www.amazon.com/dp/B013XJKWZC',\n",
       " 'https://www.amazon.com/dp/B013XJLB6G',\n",
       " 'https://www.amazon.com/dp/B013XJM1PQ',\n",
       " 'https://www.amazon.com/dp/B013XJMEGC',\n",
       " 'https://www.amazon.com/dp/B013XJKWD4',\n",
       " 'https://www.amazon.com/dp/B013XJKZYK',\n",
       " 'https://www.amazon.com/dp/B013XJL3Q4',\n",
       " 'https://www.amazon.com/dp/B013XJLUDU',\n",
       " 'https://www.amazon.com/dp/B013XJNQSC',\n",
       " 'https://www.amazon.com/dp/B013XJO5PK',\n",
       " 'https://www.amazon.com/dp/B013XJODF2',\n",
       " 'https://www.amazon.com/dp/B013XJTELK',\n",
       " 'https://www.amazon.com/dp/B013XJGN0U',\n",
       " 'https://www.amazon.com/dp/B013XJH7H8',\n",
       " 'https://www.amazon.com/dp/B013X4V18Y',\n",
       " 'https://www.amazon.com/dp/B013X55MFQ',\n",
       " 'https://www.amazon.com/dp/B013X5BNWC',\n",
       " 'https://www.amazon.com/dp/B013XJKVW6',\n",
       " 'https://www.amazon.com/dp/B013XJL382',\n",
       " 'https://www.amazon.com/dp/B013XJLA62',\n",
       " 'https://www.amazon.com/dp/B013XJLIVO',\n",
       " 'https://www.amazon.com/dp/B013XJLVR0',\n",
       " 'https://www.amazon.com/dp/B013XJNM40',\n",
       " 'https://www.amazon.com/dp/B013XJNT48',\n",
       " 'https://www.amazon.com/dp/B013XJLS4Q',\n",
       " 'https://www.amazon.com/dp/B013XJRAOI',\n",
       " 'https://www.amazon.com/dp/B013XJNON4',\n",
       " 'https://www.amazon.com/dp/B013XJP79S',\n",
       " 'https://www.amazon.com/dp/B013X4O1MW',\n",
       " 'https://www.amazon.com/dp/B013X4THM6',\n",
       " 'https://www.amazon.com/dp/B013XJLNAK',\n",
       " 'https://www.amazon.com/dp/B013XJM79Q',\n",
       " 'https://www.amazon.com/dp/B013XJHAWU',\n",
       " 'https://www.amazon.com/dp/B013XJSQ46',\n",
       " 'https://www.amazon.com/dp/B013XJT0R8',\n",
       " 'https://www.amazon.com/dp/B013XJHIWC',\n",
       " 'https://www.amazon.com/dp/B013XJH1Y2',\n",
       " 'https://www.amazon.com/dp/B013X4P4GO',\n",
       " 'https://www.amazon.com/dp/B013X4WQ10',\n",
       " 'https://www.amazon.com/dp/B013X51QL0',\n",
       " 'https://www.amazon.com/dp/B013X52PH4',\n",
       " 'https://www.amazon.com/dp/B013X55EY0',\n",
       " 'https://www.amazon.com/dp/B013X50WQU',\n",
       " 'https://www.amazon.com/dp/B013X5B1GA',\n",
       " 'https://www.amazon.com/dp/B013X5DERY',\n",
       " 'https://www.amazon.com/dp/B013X5ECIO',\n",
       " 'https://www.amazon.com/dp/B013XJLXC8',\n",
       " 'https://www.amazon.com/dp/B013XJMRPK',\n",
       " 'https://www.amazon.com/dp/B013XJO5FA',\n",
       " 'https://www.amazon.com/dp/B013XJG9QI',\n",
       " 'https://www.amazon.com/dp/B013XJGEPY',\n",
       " 'https://www.amazon.com/dp/B013XJGXRS',\n",
       " 'https://www.amazon.com/dp/B013X4OOWY',\n",
       " 'https://www.amazon.com/dp/B013X4TAF0',\n",
       " 'https://www.amazon.com/dp/B013XJHBT2',\n",
       " 'https://www.amazon.com/dp/B013X50ZV2',\n",
       " 'https://www.amazon.com/dp/B013X53NKC',\n",
       " 'https://www.amazon.com/dp/B013XJMMGY',\n",
       " 'https://www.amazon.com/dp/B013XJN6X2',\n",
       " 'https://www.amazon.com/dp/B013XJOGPE',\n",
       " 'https://www.amazon.com/dp/B013XJLOHC',\n",
       " 'https://www.amazon.com/dp/B013XJQI7S',\n",
       " 'https://www.amazon.com/dp/B013XJN2Q8',\n",
       " 'https://www.amazon.com/dp/B013XJIHL8',\n",
       " 'https://www.amazon.com/dp/B013X4W2NW',\n",
       " 'https://www.amazon.com/dp/B013XJQ9N6',\n",
       " 'https://www.amazon.com/dp/B013XJMG8I',\n",
       " 'https://www.amazon.com/dp/B013X4IT0C',\n",
       " 'https://www.amazon.com/dp/B013XJHGGA',\n",
       " 'https://www.amazon.com/dp/B013XJN3K8',\n",
       " 'https://www.amazon.com/dp/B013XJOYYC',\n",
       " 'https://www.amazon.com/dp/B013X4UJGO',\n",
       " 'https://www.amazon.com/dp/B013X56EMG',\n",
       " 'https://www.amazon.com/dp/B013X5CIFI',\n",
       " 'https://www.amazon.com/dp/B013XJM818',\n",
       " 'https://www.amazon.com/dp/B013X57LY6',\n",
       " 'https://www.amazon.com/dp/B013X58KIW',\n",
       " 'https://www.amazon.com/dp/B013XJQMKQ',\n",
       " 'https://www.amazon.com/dp/B013XJREZ8',\n",
       " 'https://www.amazon.com/dp/B071VM1VX2',\n",
       " 'https://www.amazon.com/dp/B013XJPKZO',\n",
       " 'https://www.amazon.com/dp/B013XJQ1CK',\n",
       " 'https://www.amazon.com/dp/B013XJQCXS',\n",
       " 'https://www.amazon.com/dp/B013XJQMWE',\n",
       " 'https://www.amazon.com/dp/B013XJQW3I',\n",
       " 'https://www.amazon.com/dp/B013XJR8KE',\n",
       " 'https://www.amazon.com/dp/B013XJS3BM',\n",
       " 'https://www.amazon.com/dp/B013XJSCT0',\n",
       " 'https://www.amazon.com/dp/B013XJSMSQ',\n",
       " 'https://www.amazon.com/dp/B013XJP126',\n",
       " 'https://www.amazon.com/dp/B013XJMKJI',\n",
       " 'https://www.amazon.com/dp/B013X5B7SC',\n",
       " 'https://www.amazon.com/dp/B013XJRTWQ',\n",
       " 'https://www.amazon.com/dp/B013X54ITC',\n",
       " 'https://www.amazon.com/dp/B01ND1LJ9D',\n",
       " 'https://www.amazon.com/dp/B013XJR2SW',\n",
       " 'https://www.amazon.com/dp/B018MS6ERO']"
      ]
     },
     "execution_count": 285,
     "metadata": {},
     "output_type": "execute_result"
    }
   ],
   "source": [
    "variant_url"
   ]
  },
  {
   "cell_type": "code",
   "execution_count": 262,
   "metadata": {
    "collapsed": false
   },
   "outputs": [],
   "source": [
    "str = '0,B018MS6848'"
   ]
  },
  {
   "cell_type": "code",
   "execution_count": 265,
   "metadata": {
    "collapsed": false,
    "scrolled": true
   },
   "outputs": [
    {
     "data": {
      "text/plain": [
       "'B018MS6848'"
      ]
     },
     "execution_count": 265,
     "metadata": {},
     "output_type": "execute_result"
    }
   ],
   "source": [
    "str.split(\",\")[1]"
   ]
  },
  {
   "cell_type": "markdown",
   "metadata": {},
   "source": [
    "# 2017-05-19"
   ]
  },
  {
   "cell_type": "code",
   "execution_count": 1,
   "metadata": {
    "collapsed": false
   },
   "outputs": [],
   "source": [
    "with open(\"./20170518_sku_soup.txt\", \"r\", encoding=\"utf-8\") as fp:\n",
    "    sku_text = fp.read()"
   ]
  },
  {
   "cell_type": "code",
   "execution_count": 2,
   "metadata": {
    "collapsed": false
   },
   "outputs": [],
   "source": [
    "from bs4 import BeautifulSoup"
   ]
  },
  {
   "cell_type": "code",
   "execution_count": 3,
   "metadata": {
    "collapsed": true
   },
   "outputs": [],
   "source": [
    "sku_soup = BeautifulSoup(sku_text, \"html5lib\")"
   ]
  },
  {
   "cell_type": "code",
   "execution_count": 4,
   "metadata": {
    "collapsed": false
   },
   "outputs": [],
   "source": [
    "info = list()\n",
    "for tag in sku_soup.find_all(\"select\", id=\"native_dropdown_selected_color_name\"):\n",
    "    for p in tag.find_all(\"option\"):\n",
    "        color = dict()\n",
    "        color[\"index\"] = p[\"value\"].split(\",\")[0]\n",
    "        color[\"asin\"]  = p[\"value\"].split(\",\")[1]\n",
    "        color[\"v_url\"] = \"https://www.amazon.com/dp/{asin}\".format(asin=color[\"asin\"])\n",
    "        color[\"color\"] = p.text.strip()\n",
    "        info.append(color)"
   ]
  },
  {
   "cell_type": "code",
   "execution_count": 8,
   "metadata": {
    "collapsed": false
   },
   "outputs": [
    {
     "name": "stdout",
     "output_type": "stream",
     "text": [
      "White\n",
      "Black\n",
      "Black/Heather Ash\n",
      "-White\n",
      "2 Deep Royal / 2 Light Blue\n",
      "2 Heather Grey / 2 Black\n",
      "2 Light Blue / 2 Lime\n",
      "2 Light Steel / 2 White\n",
      "2 Lime / 2 Smoke Grey\n",
      "Ash\n",
      "Deep Forest\n",
      "Deep Red\n",
      "Deep Royal\n",
      "Denim Blue\n",
      "Gold\n",
      "Light Blue\n",
      "Light Steel\n",
      "Lime\n",
      "Maroon\n",
      "Navy\n",
      "Orange\n",
      "Pale Pink\n",
      "Sand\n",
      "Smoke Grey\n",
      "2 Ash / 2 Lime\n",
      "2 Deep Red / 2 Pale Pink\n",
      "2 Deep Red / 2 Smoke Grey\n",
      "2 Deep Red / 2 White\n",
      "2 Gold / 2 Light Blue\n",
      "2 Light Steel / 2 Lime\n",
      "2 Maroon / 2 Lime\n",
      "2 Maroon / 2 Orange\n",
      "2 Maroon / 2 Sand\n",
      "2 Orange / 2 Deep Forest\n",
      "2 Orange / 2 Gold\n",
      "2 Pale Pink / 2 Sand\n",
      "2 Smoke Grey / 2 White\n",
      "Yellow\n",
      "2 Deep Forest / 2 Sand\n",
      "2 Deep Forest / 2 White\n",
      "2 Deep Red / 2 Gold\n",
      "2 Deep Red / 2 Light Blue\n",
      "2 Deep Red / 2 Sand\n",
      "2 Ash / 2 Deep Royal\n",
      "2 Ash / 2 Light Blue\n",
      "2 Ash / 2 White\n",
      "2 Deep Forest / 2 Deep Red\n",
      "2 Deep Forest / 2 Deep Royal\n",
      "2 Deep Forest / 2 Gold\n",
      "2 Deep Forest / 2 Light Blue\n",
      "2 Deep Forest / 2 Lime\n",
      "2 Deep Forest / 2 Purple\n",
      "2 Deep Red / 2 Deep Royal\n",
      "2 Deep Royal / 2 Light Steel\n",
      "2 Deep Royal / 2 Lime\n",
      "2 Deep Royal / 2 Purple\n",
      "2 Deep Royal / 2 Sand\n",
      "2 Deep Royal / 2 Smoke Grey\n",
      "2 Gold / 2 Light Steel\n",
      "2 Gold / 2 Lime\n",
      "2 Gold / 2 Sand\n",
      "2 Light Blue / 2 Sand\n",
      "2 Lime / 2 Pale Pink\n",
      "2 Lime / 2 Sand\n",
      "2 Lime / 2 White\n",
      "2 Maroon / 2 Deep Forest\n",
      "2 Maroon / 2 Light Steel\n",
      "2 Orange / 2 Deep Red\n",
      "2 Orange / 2 Light Blue\n",
      "2 Orange / 2 Yellow\n",
      "2 Pale Pink / 2 Purple\n",
      "2 Purple / 2 Yellow\n",
      "2 Sand / 2 White\n",
      "Purple\n",
      "2 Deep Red / 2 Lime\n",
      "2 Deep Royal / 2 Pale Pink\n",
      "2 Orange / 2 Sand\n",
      "2 Ash / 2 Deep Red\n",
      "2 Ash / 2 Light Steel\n",
      "2 Ash / 2 Maroon\n",
      "2 Ash / 2 Smoke Grey\n",
      "2 Denim Blue / 2 Light Blue\n",
      "2 Denim Blue / 2 Maroon\n",
      "2 Gold / 2 Pale Pink\n",
      "2 Gold / 2 White\n",
      "2 Light Blue / 2 Purple\n",
      "2 Light Blue / 2 Smoke Grey\n",
      "2 Maroon / 2 Deep Red\n",
      "2 Maroon / 2 Deep Royal\n",
      "2 Maroon / 2 Gold\n",
      "2 Maroon / 2 Purple\n",
      "2 Orange / 2 Lime\n",
      "2 Orange / 2 Pale Pink\n",
      "2 Orange / 2 Purple\n",
      "2 Purple / 2 Sand\n",
      "2 Sand / 2 Smoke Grey\n",
      "2 Ash / 2 Orange\n",
      "2 Deep Red / 2 Navy\n",
      "2 Deep Royal / 2 Navy\n",
      "2 Deep Royal / 2 Yellow\n",
      "2 Gold / 2 Navy\n",
      "2 Gold / 2 Purple\n",
      "2 Gold / 2 Smoke Grey\n",
      "2 Gold / 2 Yellow\n",
      "2 Light Blue / 2 Navy\n",
      "2 Light Steel / 2 Sand\n",
      "2 Light Steel / 2 Smoke Grey\n",
      "2 Maroon / 2 Pale Pink\n",
      "2 Navy / 2 Smoke Grey\n",
      "2 Orange / 2 Light Steel\n",
      "2 Orange / 2 White\n",
      "2 Deep Forest / 2 Smoke Grey\n",
      "2 Deep Red / 2 Light Steel\n",
      "2 Light Blue / 2 Light Steel\n",
      "2 Maroon / 2 Smoke Grey\n",
      "2 Smoke Grey / 2 Yellow\n",
      "2 Pale Pink / 2 Smoke Grey\n",
      "2 Pale Pink / 2 White\n",
      "2 Ash / 2 Deep Forest\n",
      "2 Ash / 2 Denim Blue\n",
      "2 Deep Forest / 2 Yellow\n",
      "2 Deep Red / 2 Purple\n",
      "2 Deep Royal / 2 Gold\n",
      "2 Denim Blue / 2 Deep Forest\n",
      "2 Denim Blue / 2 Gold\n",
      "2 Denim Blue / 2 Orange\n",
      "2 Denim Blue / 2 Sand\n",
      "2 Denim Blue / 2 White\n",
      "2 Denim Blue / 2 Yellow\n",
      "2 Light Blue / 2 Pale Pink\n",
      "2 Light Blue / 2 Yellow\n",
      "2 Light Steel / 2 Yellow\n",
      "2 Purple / 2 Smoke Grey\n",
      "2 Purple / 2 White\n",
      "2 Sand / 2 Yellow\n",
      "2 Ash / 2 Gold\n",
      "2 Ash / 2 Navy\n",
      "2 Deep Forest / 2 Navy\n",
      "2 Deep Red / 2 Yellow\n",
      "2 Denim Blue / 2 Deep Red\n",
      "2 Light Blue / 2 White\n",
      "2 Light Steel / 2 Pale Pink\n",
      "2 Lime / 2 Navy\n",
      "2 Maroon / 2 Navy\n",
      "2 Navy / 2 Pale Pink\n",
      "2 Orange / 2 Deep Royal\n",
      "2 Ash / 2 Pale Pink\n",
      "2 Ash / 2 Sand\n",
      "2 Lime / 2 Yellow\n",
      "2 Maroon / 2 Yellow\n",
      "2 White / 2 Yellow\n",
      "2 Deep Forest / 2 Pale Pink\n",
      "2 Light Steel / 2 Navy\n",
      "2 Orange / 2 Smoke Grey\n",
      "2 Ash / 2 Purple\n",
      "2 Denim Blue / 2 Light Steel\n",
      "2 Denim Blue / 2 Smoke Grey\n",
      "2 Maroon / 2 White\n",
      "2 Denim Blue / 2 Lime\n",
      "2 Denim Blue / 2 Navy\n",
      "2 Navy / 2 Purple\n",
      "2 Navy / 2 White\n",
      "Camouflage\n",
      "2 Black / 2 Deep Forest\n",
      "2 Black / 2 Deep Royal\n",
      "2 Black / 2 Gold\n",
      "2 Black / 2 Light Blue\n",
      "2 Black / 2 Light Steel\n",
      "2 Black / 2 Lime\n",
      "2 Black / 2 Purple\n",
      "2 Black / 2 Sand\n",
      "2 Black / 2 Smoke Grey\n",
      "2 Lime / 2 Purple\n",
      "2 Orange / 2 Black\n",
      "2 Deep Royal / 2 White\n",
      "2 Navy / 2 Yellow\n",
      "2 Denim Blue / 2 Deep Royal\n",
      "Juniper\n",
      "2 Navy / 2 Sand\n",
      "White Crewneck\n"
     ]
    }
   ],
   "source": [
    "for index,item in enumerate(info):\n",
    "    print(item[\"color\"])"
   ]
  },
  {
   "cell_type": "code",
   "execution_count": 9,
   "metadata": {
    "collapsed": true
   },
   "outputs": [],
   "source": [
    "import re"
   ]
  },
  {
   "cell_type": "code",
   "execution_count": 11,
   "metadata": {
    "collapsed": false
   },
   "outputs": [],
   "source": [
    "d = pat.findall(sku_text)"
   ]
  },
  {
   "cell_type": "code",
   "execution_count": 61,
   "metadata": {
    "collapsed": true
   },
   "outputs": [],
   "source": [
    "pat = re.compile(\"data\\[\\\"colorImages\\\"\\] = ({.*});\")"
   ]
  },
  {
   "cell_type": "code",
   "execution_count": 62,
   "metadata": {
    "collapsed": false
   },
   "outputs": [],
   "source": [
    "for tag in sku_soup.find_all(\"script\", text=re.compile(\"P.when\\('A', 'jQuery', 'ImageBlockATF', 'cf'\\)\")):\n",
    "    # print(tag.text)\n",
    "    sku_img = pat.findall(tag.text)"
   ]
  },
  {
   "cell_type": "code",
   "execution_count": 63,
   "metadata": {
    "collapsed": false
   },
   "outputs": [
    {
     "data": {
      "text/plain": [
       "['{\"2 Navy / 2 Pale Pink\":[{\"large\":\"https://images-na.ssl-images-amazon.com/images/I/4179D%2Bli2eL.jpg\",\"variant\":\"MAIN\",\"hiRes\":\"https://images-na.ssl-images-amazon.com/images/I/61zmKTq4f8L._UL1200_.jpg\",\"thumb\":\"https://images-na.ssl-images-amazon.com/images/I/4179D%2Bli2eL._SR38,50_.jpg\",\"main\":{\"https://images-na.ssl-images-amazon.com/images/I/61zmKTq4f8L._UX569_.jpg\":[\"731\",\"569\"],\"https://images-na.ssl-images-amazon.com/images/I/61zmKTq4f8L._UX466_.jpg\":[\"599\",\"466\"],\"https://images-na.ssl-images-amazon.com/images/I/61zmKTq4f8L._UX385_.jpg\":[\"495\",\"385\"],\"https://images-na.ssl-images-amazon.com/images/I/61zmKTq4f8L._UX679_.jpg\":[\"872\",\"679\"],\"https://images-na.ssl-images-amazon.com/images/I/61zmKTq4f8L._UX522_.jpg\":[\"671\",\"522\"],\"https://images-na.ssl-images-amazon.com/images/I/61zmKTq4f8L._UX342_.jpg\":[\"439\",\"342\"],\"https://images-na.ssl-images-amazon.com/images/I/61zmKTq4f8L._UX425_.jpg\":[\"546\",\"425\"]}}],\"2 Deep Royal / 2 Gold\":[{\"large\":\"https://images-na.ssl-images-amazon.com/images/I/4194NYifDwL.jpg\",\"variant\":\"MAIN\",\"hiRes\":\"https://images-na.ssl-images-amazon.com/images/I/61UWbGrR7kL._UL1200_.jpg\",\"thumb\":\"https://images-na.ssl-images-amazon.com/images/I/4194NYifDwL._SR38,50_.jpg\",\"main\":{\"https://images-na.ssl-images-amazon.com/images/I/61UWbGrR7kL._UX679_.jpg\":[\"869\",\"679\"],\"https://images-na.ssl-images-amazon.com/images/I/61UWbGrR7kL._UX522_.jpg\":[\"668\",\"522\"],\"https://images-na.ssl-images-amazon.com/images/I/61UWbGrR7kL._UX569_.jpg\":[\"728\",\"569\"],\"https://images-na.ssl-images-amazon.com/images/I/61UWbGrR7kL._UX425_.jpg\":[\"544\",\"425\"],\"https://images-na.ssl-images-amazon.com/images/I/61UWbGrR7kL._UX466_.jpg\":[\"596\",\"466\"],\"https://images-na.ssl-images-amazon.com/images/I/61UWbGrR7kL._UX342_.jpg\":[\"438\",\"342\"],\"https://images-na.ssl-images-amazon.com/images/I/61UWbGrR7kL._UX385_.jpg\":[\"493\",\"385\"]}}],\"2 Black / 2 Gold\":[{\"large\":\"https://images-na.ssl-images-amazon.com/images/I/41bKUWxpeZL.jpg\",\"variant\":\"MAIN\",\"hiRes\":\"https://images-na.ssl-images-amazon.com/images/I/61o0CP9L0ZL._UL1200_.jpg\",\"thumb\":\"https://images-na.ssl-images-amazon.com/images/I/41bKUWxpeZL._SR38,50_.jpg\",\"main\":{\"https://images-na.ssl-images-amazon.com/images/I/61o0CP9L0ZL._UY550_.jpg\":[\"550\",\"422\"],\"https://images-na.ssl-images-amazon.com/images/I/61o0CP9L0ZL._UY879_.jpg\":[\"879\",\"675\"],\"https://images-na.ssl-images-amazon.com/images/I/61o0CP9L0ZL._UY679_.jpg\":[\"679\",\"521\"],\"https://images-na.ssl-images-amazon.com/images/I/61o0CP9L0ZL._UY445_.jpg\":[\"445\",\"342\"],\"https://images-na.ssl-images-amazon.com/images/I/61o0CP9L0ZL._UY741_.jpg\":[\"741\",\"569\"],\"https://images-na.ssl-images-amazon.com/images/I/61o0CP9L0ZL._UY500_.jpg\":[\"500\",\"384\"],\"https://images-na.ssl-images-amazon.com/images/I/61o0CP9L0ZL._UY606_.jpg\":[\"606\",\"465\"]}}],\"2 Maroon / 2 Orange\":[{\"large\":\"https://images-na.ssl-images-amazon.com/images/I/41ZmvCI5g5L.jpg\",\"variant\":\"MAIN\",\"hiRes\":\"https://images-na.ssl-images-amazon.com/images/I/61phrAmJkhL._UL1200_.jpg\",\"thumb\":\"https://images-na.ssl-images-amazon.com/images/I/41ZmvCI5g5L._SR38,50_.jpg\",\"main\":{\"https://images-na.ssl-images-amazon.com/images/I/61phrAmJkhL._UY606_.jpg\":[\"606\",\"441\"],\"https://images-na.ssl-images-amazon.com/images/I/61phrAmJkhL._UY500_.jpg\":[\"500\",\"364\"],\"https://images-na.ssl-images-amazon.com/images/I/61phrAmJkhL._UY445_.jpg\":[\"445\",\"324\"],\"https://images-na.ssl-images-amazon.com/images/I/61phrAmJkhL._UY679_.jpg\":[\"679\",\"495\"],\"https://images-na.ssl-images-amazon.com/images/I/61phrAmJkhL._UY550_.jpg\":[\"550\",\"401\"],\"https://images-na.ssl-images-amazon.com/images/I/61phrAmJkhL._UY879_.jpg\":[\"879\",\"640\"],\"https://images-na.ssl-images-amazon.com/images/I/61phrAmJkhL._UY741_.jpg\":[\"741\",\"540\"]}}],\"2 Denim Blue / 2 Maroon\":[{\"large\":\"https://images-na.ssl-images-amazon.com/images/I/41OSqXQzgKL.jpg\",\"variant\":\"MAIN\",\"hiRes\":\"https://images-na.ssl-images-amazon.com/images/I/61MYyQFQwSL._UL1200_.jpg\",\"thumb\":\"https://images-na.ssl-images-amazon.com/images/I/41OSqXQzgKL._SR38,50_.jpg\",\"main\":{\"https://images-na.ssl-images-amazon.com/images/I/61MYyQFQwSL._UY500_.jpg\":[\"500\",\"364\"],\"https://images-na.ssl-images-amazon.com/images/I/61MYyQFQwSL._UY679_.jpg\":[\"679\",\"494\"],\"https://images-na.ssl-images-amazon.com/images/I/61MYyQFQwSL._UY550_.jpg\":[\"550\",\"400\"],\"https://images-na.ssl-images-amazon.com/images/I/61MYyQFQwSL._UY606_.jpg\":[\"606\",\"441\"],\"https://images-na.ssl-images-amazon.com/images/I/61MYyQFQwSL._UY879_.jpg\":[\"879\",\"639\"],\"https://images-na.ssl-images-amazon.com/images/I/61MYyQFQwSL._UY741_.jpg\":[\"741\",\"539\"],\"https://images-na.ssl-images-amazon.com/images/I/61MYyQFQwSL._UY445_.jpg\":[\"445\",\"324\"]}}],\"2 Light Steel / 2 Pale Pink\":[{\"large\":\"https://images-na.ssl-images-amazon.com/images/I/415SagCCfsL.jpg\",\"variant\":\"MAIN\",\"hiRes\":\"https://images-na.ssl-images-amazon.com/images/I/616jVQ59JjL._UL1200_.jpg\",\"thumb\":\"https://images-na.ssl-images-amazon.com/images/I/415SagCCfsL._SR38,50_.jpg\",\"main\":{\"https://images-na.ssl-images-amazon.com/images/I/616jVQ59JjL._UX679_.jpg\":[\"873\",\"679\"],\"https://images-na.ssl-images-amazon.com/images/I/616jVQ59JjL._UX569_.jpg\":[\"732\",\"569\"],\"https://images-na.ssl-images-amazon.com/images/I/616jVQ59JjL._UX425_.jpg\":[\"547\",\"425\"],\"https://images-na.ssl-images-amazon.com/images/I/616jVQ59JjL._UX342_.jpg\":[\"440\",\"342\"],\"https://images-na.ssl-images-amazon.com/images/I/616jVQ59JjL._UX522_.jpg\":[\"671\",\"522\"],\"https://images-na.ssl-images-amazon.com/images/I/616jVQ59JjL._UX466_.jpg\":[\"599\",\"466\"],\"https://images-na.ssl-images-amazon.com/images/I/616jVQ59JjL._UX385_.jpg\":[\"495\",\"385\"]}}],\"2 Deep Red / 2 Yellow\":[{\"large\":\"https://images-na.ssl-images-amazon.com/images/I/41dGTn9zDyL.jpg\",\"variant\":\"MAIN\",\"hiRes\":\"https://images-na.ssl-images-amazon.com/images/I/61u2bMCqzoL._UL1200_.jpg\",\"thumb\":\"https://images-na.ssl-images-amazon.com/images/I/41dGTn9zDyL._SR38,50_.jpg\",\"main\":{\"https://images-na.ssl-images-amazon.com/images/I/61u2bMCqzoL._UX466_.jpg\":[\"596\",\"466\"],\"https://images-na.ssl-images-amazon.com/images/I/61u2bMCqzoL._UX342_.jpg\":[\"437\",\"342\"],\"https://images-na.ssl-images-amazon.com/images/I/61u2bMCqzoL._UX425_.jpg\":[\"543\",\"425\"],\"https://images-na.ssl-images-amazon.com/images/I/61u2bMCqzoL._UX385_.jpg\":[\"492\",\"385\"],\"https://images-na.ssl-images-amazon.com/images/I/61u2bMCqzoL._UX522_.jpg\":[\"667\",\"522\"],\"https://images-na.ssl-images-amazon.com/images/I/61u2bMCqzoL._UX569_.jpg\":[\"727\",\"569\"],\"https://images-na.ssl-images-amazon.com/images/I/61u2bMCqzoL._UX679_.jpg\":[\"868\",\"679\"]}}],\"2 Gold / 2 Smoke Grey\":[{\"large\":\"https://images-na.ssl-images-amazon.com/images/I/41qvSNlq59L.jpg\",\"variant\":\"MAIN\",\"hiRes\":\"https://images-na.ssl-images-amazon.com/images/I/61nZVlDUH9L._UL1200_.jpg\",\"thumb\":\"https://images-na.ssl-images-amazon.com/images/I/41qvSNlq59L._SR38,50_.jpg\",\"main\":{\"https://images-na.ssl-images-amazon.com/images/I/61nZVlDUH9L._UX679_.jpg\":[\"877\",\"679\"],\"https://images-na.ssl-images-amazon.com/images/I/61nZVlDUH9L._UX522_.jpg\":[\"674\",\"522\"],\"https://images-na.ssl-images-amazon.com/images/I/61nZVlDUH9L._UX342_.jpg\":[\"442\",\"342\"],\"https://images-na.ssl-images-amazon.com/images/I/61nZVlDUH9L._UX425_.jpg\":[\"549\",\"425\"],\"https://images-na.ssl-images-amazon.com/images/I/61nZVlDUH9L._UX569_.jpg\":[\"735\",\"569\"],\"https://images-na.ssl-images-amazon.com/images/I/61nZVlDUH9L._UX466_.jpg\":[\"602\",\"466\"],\"https://images-na.ssl-images-amazon.com/images/I/61nZVlDUH9L._UX385_.jpg\":[\"497\",\"385\"]}}],\"2 Lime / 2 Smoke Grey\":[{\"large\":\"https://images-na.ssl-images-amazon.com/images/I/41%2B66n-J3zL.jpg\",\"variant\":\"MAIN\",\"hiRes\":\"https://images-na.ssl-images-amazon.com/images/I/61gSNHFDd3L._UL1200_.jpg\",\"thumb\":\"https://images-na.ssl-images-amazon.com/images/I/41%2B66n-J3zL._SR38,50_.jpg\",\"main\":{\"https://images-na.ssl-images-amazon.com/images/I/61gSNHFDd3L._UY606_.jpg\":[\"606\",\"442\"],\"https://images-na.ssl-images-amazon.com/images/I/61gSNHFDd3L._UY741_.jpg\":[\"741\",\"541\"],\"https://images-na.ssl-images-amazon.com/images/I/61gSNHFDd3L._UY445_.jpg\":[\"445\",\"325\"],\"https://images-na.ssl-images-amazon.com/images/I/61gSNHFDd3L._UY879_.jpg\":[\"879\",\"642\"],\"https://images-na.ssl-images-amazon.com/images/I/61gSNHFDd3L._UY679_.jpg\":[\"679\",\"496\"],\"https://images-na.ssl-images-amazon.com/images/I/61gSNHFDd3L._UY550_.jpg\":[\"550\",\"402\"],\"https://images-na.ssl-images-amazon.com/images/I/61gSNHFDd3L._UY500_.jpg\":[\"500\",\"365\"]}}],\"Deep Forest\":[{\"large\":\"https://images-na.ssl-images-amazon.com/images/I/41T-gRSLY-L.jpg\",\"variant\":\"MAIN\",\"hiRes\":\"https://images-na.ssl-images-amazon.com/images/I/81kYaIGJ3FL._UL1500_.jpg\",\"thumb\":\"https://images-na.ssl-images-amazon.com/images/I/41T-gRSLY-L._SR38,50_.jpg\",\"main\":{\"https://images-na.ssl-images-amazon.com/images/I/81kYaIGJ3FL._UX342_.jpg\":[\"421\",\"342\"],\"https://images-na.ssl-images-amazon.com/images/I/81kYaIGJ3FL._UX569_.jpg\":[\"700\",\"569\"],\"https://images-na.ssl-images-amazon.com/images/I/81kYaIGJ3FL._UX466_.jpg\":[\"574\",\"466\"],\"https://images-na.ssl-images-amazon.com/images/I/81kYaIGJ3FL._UX522_.jpg\":[\"642\",\"522\"],\"https://images-na.ssl-images-amazon.com/images/I/81kYaIGJ3FL._UX425_.jpg\":[\"523\",\"425\"],\"https://images-na.ssl-images-amazon.com/images/I/81kYaIGJ3FL._UX679_.jpg\":[\"836\",\"679\"],\"https://images-na.ssl-images-amazon.com/images/I/81kYaIGJ3FL._UX385_.jpg\":[\"474\",\"385\"]}}],\"2 Gold / 2 Yellow\":[{\"large\":\"https://images-na.ssl-images-amazon.com/images/I/41zzNfz4YhL.jpg\",\"variant\":\"MAIN\",\"hiRes\":\"https://images-na.ssl-images-amazon.com/images/I/61hLdFGiUcL._UL1200_.jpg\",\"thumb\":\"https://images-na.ssl-images-amazon.com/images/I/41zzNfz4YhL._SR38,50_.jpg\",\"main\":{\"https://images-na.ssl-images-amazon.com/images/I/61hLdFGiUcL._UX569_.jpg\":[\"736\",\"569\"],\"https://images-na.ssl-images-amazon.com/images/I/61hLdFGiUcL._UX679_.jpg\":[\"878\",\"679\"],\"https://images-na.ssl-images-amazon.com/images/I/61hLdFGiUcL._UX385_.jpg\":[\"498\",\"385\"],\"https://images-na.ssl-images-amazon.com/images/I/61hLdFGiUcL._UX466_.jpg\":[\"603\",\"466\"],\"https://images-na.ssl-images-amazon.com/images/I/61hLdFGiUcL._UX425_.jpg\":[\"550\",\"425\"],\"https://images-na.ssl-images-amazon.com/images/I/61hLdFGiUcL._UX522_.jpg\":[\"675\",\"522\"],\"https://images-na.ssl-images-amazon.com/images/I/61hLdFGiUcL._UX342_.jpg\":[\"442\",\"342\"]}}],\"2 Denim Blue / 2 Gold\":[{\"large\":\"https://images-na.ssl-images-amazon.com/images/I/413FSai71%2BL.jpg\",\"variant\":\"MAIN\",\"hiRes\":\"https://images-na.ssl-images-amazon.com/images/I/61J3EFoYkCL._UL1200_.jpg\",\"thumb\":\"https://images-na.ssl-images-amazon.com/images/I/413FSai71%2BL._SR38,50_.jpg\",\"main\":{\"https://images-na.ssl-images-amazon.com/images/I/61J3EFoYkCL._UY879_.jpg\":[\"879\",\"678\"],\"https://images-na.ssl-images-amazon.com/images/I/61J3EFoYkCL._UX569_.jpg\":[\"738\",\"569\"],\"https://images-na.ssl-images-amazon.com/images/I/61J3EFoYkCL._UX522_.jpg\":[\"677\",\"522\"],\"https://images-na.ssl-images-amazon.com/images/I/61J3EFoYkCL._UY550_.jpg\":[\"550\",\"424\"],\"https://images-na.ssl-images-amazon.com/images/I/61J3EFoYkCL._UX385_.jpg\":[\"499\",\"385\"],\"https://images-na.ssl-images-amazon.com/images/I/61J3EFoYkCL._UX466_.jpg\":[\"605\",\"466\"],\"https://images-na.ssl-images-amazon.com/images/I/61J3EFoYkCL._UX342_.jpg\":[\"444\",\"342\"]}}],\"2 Denim Blue / 2 Light Steel\":[{\"large\":\"https://images-na.ssl-images-amazon.com/images/I/413WBtXD6BL.jpg\",\"variant\":\"MAIN\",\"hiRes\":\"https://images-na.ssl-images-amazon.com/images/I/61kJAiJA2xL._UL1200_.jpg\",\"thumb\":\"https://images-na.ssl-images-amazon.com/images/I/413WBtXD6BL._SR38,50_.jpg\",\"main\":{\"https://images-na.ssl-images-amazon.com/images/I/61kJAiJA2xL._UX522_.jpg\":[\"672\",\"522\"],\"https://images-na.ssl-images-amazon.com/images/I/61kJAiJA2xL._UX342_.jpg\":[\"440\",\"342\"],\"https://images-na.ssl-images-amazon.com/images/I/61kJAiJA2xL._UX466_.jpg\":[\"600\",\"466\"],\"https://images-na.ssl-images-amazon.com/images/I/61kJAiJA2xL._UX425_.jpg\":[\"547\",\"425\"],\"https://images-na.ssl-images-amazon.com/images/I/61kJAiJA2xL._UX385_.jpg\":[\"496\",\"385\"],\"https://images-na.ssl-images-amazon.com/images/I/61kJAiJA2xL._UX569_.jpg\":[\"733\",\"569\"],\"https://images-na.ssl-images-amazon.com/images/I/61kJAiJA2xL._UX679_.jpg\":[\"874\",\"679\"]}}],\"2 Ash / 2 Deep Royal\":[{\"large\":\"https://images-na.ssl-images-amazon.com/images/I/41Qsm8r6tEL.jpg\",\"variant\":\"MAIN\",\"hiRes\":\"https://images-na.ssl-images-amazon.com/images/I/71fuInEShlL._UL1200_.jpg\",\"thumb\":\"https://images-na.ssl-images-amazon.com/images/I/41Qsm8r6tEL._SR38,50_.jpg\",\"main\":{\"https://images-na.ssl-images-amazon.com/images/I/71fuInEShlL._UX522_.jpg\":[\"677\",\"522\"],\"https://images-na.ssl-images-amazon.com/images/I/71fuInEShlL._UY550_.jpg\":[\"550\",\"424\"],\"https://images-na.ssl-images-amazon.com/images/I/71fuInEShlL._UY879_.jpg\":[\"879\",\"678\"],\"https://images-na.ssl-images-amazon.com/images/I/71fuInEShlL._UX569_.jpg\":[\"738\",\"569\"],\"https://images-na.ssl-images-amazon.com/images/I/71fuInEShlL._UX466_.jpg\":[\"605\",\"466\"],\"https://images-na.ssl-images-amazon.com/images/I/71fuInEShlL._UX385_.jpg\":[\"499\",\"385\"],\"https://images-na.ssl-images-amazon.com/images/I/71fuInEShlL._UX342_.jpg\":[\"444\",\"342\"]}}],\"2 Maroon / 2 Navy\":[{\"large\":\"https://images-na.ssl-images-amazon.com/images/I/31VHaL5GFdL.jpg\",\"variant\":\"MAIN\",\"hiRes\":\"https://images-na.ssl-images-amazon.com/images/I/614S9bLobYL._UL1200_.jpg\",\"thumb\":\"https://images-na.ssl-images-amazon.com/images/I/31VHaL5GFdL._SR38,50_.jpg\",\"main\":{\"https://images-na.ssl-images-amazon.com/images/I/614S9bLobYL._UY741_.jpg\":[\"741\",\"540\"],\"https://images-na.ssl-images-amazon.com/images/I/614S9bLobYL._UY879_.jpg\":[\"879\",\"640\"],\"https://images-na.ssl-images-amazon.com/images/I/614S9bLobYL._UY500_.jpg\":[\"500\",\"364\"],\"https://images-na.ssl-images-amazon.com/images/I/614S9bLobYL._UY679_.jpg\":[\"679\",\"495\"],\"https://images-na.ssl-images-amazon.com/images/I/614S9bLobYL._UY606_.jpg\":[\"606\",\"441\"],\"https://images-na.ssl-images-amazon.com/images/I/614S9bLobYL._UY550_.jpg\":[\"550\",\"401\"],\"https://images-na.ssl-images-amazon.com/images/I/614S9bLobYL._UY445_.jpg\":[\"445\",\"324\"]}}],\"Navy\":[{\"large\":\"https://images-na.ssl-images-amazon.com/images/I/41tTLf%2BlRsL.jpg\",\"variant\":\"MAIN\",\"hiRes\":\"https://images-na.ssl-images-amazon.com/images/I/81YXisLJ6SL._UL1500_.jpg\",\"thumb\":\"https://images-na.ssl-images-amazon.com/images/I/41tTLf%2BlRsL._SR38,50_.jpg\",\"main\":{\"https://images-na.ssl-images-amazon.com/images/I/81YXisLJ6SL._UX522_.jpg\":[\"642\",\"522\"],\"https://images-na.ssl-images-amazon.com/images/I/81YXisLJ6SL._UX425_.jpg\":[\"523\",\"425\"],\"https://images-na.ssl-images-amazon.com/images/I/81YXisLJ6SL._UX569_.jpg\":[\"700\",\"569\"],\"https://images-na.ssl-images-amazon.com/images/I/81YXisLJ6SL._UX385_.jpg\":[\"474\",\"385\"],\"https://images-na.ssl-images-amazon.com/images/I/81YXisLJ6SL._UX342_.jpg\":[\"421\",\"342\"],\"https://images-na.ssl-images-amazon.com/images/I/81YXisLJ6SL._UX679_.jpg\":[\"836\",\"679\"],\"https://images-na.ssl-images-amazon.com/images/I/81YXisLJ6SL._UX466_.jpg\":[\"574\",\"466\"]}}],\"2 Lime / 2 Navy\":[{\"large\":\"https://images-na.ssl-images-amazon.com/images/I/41%2B5HRdwQdL.jpg\",\"variant\":\"MAIN\",\"hiRes\":\"https://images-na.ssl-images-amazon.com/images/I/61bXF7YoPPL._UL1200_.jpg\",\"thumb\":\"https://images-na.ssl-images-amazon.com/images/I/41%2B5HRdwQdL._SR38,50_.jpg\",\"main\":{\"https://images-na.ssl-images-amazon.com/images/I/61bXF7YoPPL._UY606_.jpg\":[\"606\",\"442\"],\"https://images-na.ssl-images-amazon.com/images/I/61bXF7YoPPL._UY500_.jpg\":[\"500\",\"365\"],\"https://images-na.ssl-images-amazon.com/images/I/61bXF7YoPPL._UY879_.jpg\":[\"879\",\"642\"],\"https://images-na.ssl-images-amazon.com/images/I/61bXF7YoPPL._UY679_.jpg\":[\"679\",\"496\"],\"https://images-na.ssl-images-amazon.com/images/I/61bXF7YoPPL._UY550_.jpg\":[\"550\",\"402\"],\"https://images-na.ssl-images-amazon.com/images/I/61bXF7YoPPL._UY741_.jpg\":[\"741\",\"541\"],\"https://images-na.ssl-images-amazon.com/images/I/61bXF7YoPPL._UY445_.jpg\":[\"445\",\"325\"]}}],\"2 Orange / 2 Deep Forest\":[{\"large\":\"https://images-na.ssl-images-amazon.com/images/I/4129HDOr8mL.jpg\",\"variant\":\"MAIN\",\"hiRes\":\"https://images-na.ssl-images-amazon.com/images/I/61gSnlCx0PL._UL1200_.jpg\",\"thumb\":\"https://images-na.ssl-images-amazon.com/images/I/4129HDOr8mL._SR38,50_.jpg\",\"main\":{\"https://images-na.ssl-images-amazon.com/images/I/61gSnlCx0PL._UX679_.jpg\":[\"879\",\"679\"],\"https://images-na.ssl-images-amazon.com/images/I/61gSnlCx0PL._UX522_.jpg\":[\"676\",\"522\"],\"https://images-na.ssl-images-amazon.com/images/I/61gSnlCx0PL._UX342_.jpg\":[\"443\",\"342\"],\"https://images-na.ssl-images-amazon.com/images/I/61gSnlCx0PL._UY550_.jpg\":[\"550\",\"425\"],\"https://images-na.ssl-images-amazon.com/images/I/61gSnlCx0PL._UX466_.jpg\":[\"603\",\"466\"],\"https://images-na.ssl-images-amazon.com/images/I/61gSnlCx0PL._UX385_.jpg\":[\"498\",\"385\"],\"https://images-na.ssl-images-amazon.com/images/I/61gSnlCx0PL._UX569_.jpg\":[\"737\",\"569\"]}}],\"2 Deep Royal / 2 Lime\":[{\"large\":\"https://images-na.ssl-images-amazon.com/images/I/41YY9jgL0uL.jpg\",\"variant\":\"MAIN\",\"hiRes\":\"https://images-na.ssl-images-amazon.com/images/I/618OXxK0YDL._UL1200_.jpg\",\"thumb\":\"https://images-na.ssl-images-amazon.com/images/I/41YY9jgL0uL._SR38,50_.jpg\",\"main\":{\"https://images-na.ssl-images-amazon.com/images/I/618OXxK0YDL._UY606_.jpg\":[\"606\",\"442\"],\"https://images-na.ssl-images-amazon.com/images/I/618OXxK0YDL._UY679_.jpg\":[\"679\",\"496\"],\"https://images-na.ssl-images-amazon.com/images/I/618OXxK0YDL._UY879_.jpg\":[\"879\",\"642\"],\"https://images-na.ssl-images-amazon.com/images/I/618OXxK0YDL._UY445_.jpg\":[\"445\",\"325\"],\"https://images-na.ssl-images-amazon.com/images/I/618OXxK0YDL._UY741_.jpg\":[\"741\",\"541\"],\"https://images-na.ssl-images-amazon.com/images/I/618OXxK0YDL._UY550_.jpg\":[\"550\",\"402\"],\"https://images-na.ssl-images-amazon.com/images/I/618OXxK0YDL._UY500_.jpg\":[\"500\",\"365\"]}}],\"2 Black / 2 Lime\":[{\"large\":\"https://images-na.ssl-images-amazon.com/images/I/41fNKA3pF2L.jpg\",\"variant\":\"MAIN\",\"hiRes\":\"https://images-na.ssl-images-amazon.com/images/I/618neb8EvBL._UL1200_.jpg\",\"thumb\":\"https://images-na.ssl-images-amazon.com/images/I/41fNKA3pF2L._SR38,50_.jpg\",\"main\":{\"https://images-na.ssl-images-amazon.com/images/I/618neb8EvBL._UY500_.jpg\":[\"500\",\"365\"],\"https://images-na.ssl-images-amazon.com/images/I/618neb8EvBL._UY879_.jpg\":[\"879\",\"642\"],\"https://images-na.ssl-images-amazon.com/images/I/618neb8EvBL._UY606_.jpg\":[\"606\",\"442\"],\"https://images-na.ssl-images-amazon.com/images/I/618neb8EvBL._UY550_.jpg\":[\"550\",\"402\"],\"https://images-na.ssl-images-amazon.com/images/I/618neb8EvBL._UY741_.jpg\":[\"741\",\"541\"],\"https://images-na.ssl-images-amazon.com/images/I/618neb8EvBL._UY679_.jpg\":[\"679\",\"496\"],\"https://images-na.ssl-images-amazon.com/images/I/618neb8EvBL._UY445_.jpg\":[\"445\",\"325\"]}}],\"2 Ash / 2 White\":[{\"large\":\"https://images-na.ssl-images-amazon.com/images/I/41CShTDhNcL.jpg\",\"variant\":\"MAIN\",\"hiRes\":\"https://images-na.ssl-images-amazon.com/images/I/7172ioXm41L._UL1200_.jpg\",\"thumb\":\"https://images-na.ssl-images-amazon.com/images/I/41CShTDhNcL._SR38,50_.jpg\",\"main\":{\"https://images-na.ssl-images-amazon.com/images/I/7172ioXm41L._UX522_.jpg\":[\"676\",\"522\"],\"https://images-na.ssl-images-amazon.com/images/I/7172ioXm41L._UX569_.jpg\":[\"737\",\"569\"],\"https://images-na.ssl-images-amazon.com/images/I/7172ioXm41L._UY879_.jpg\":[\"879\",\"678\"],\"https://images-na.ssl-images-amazon.com/images/I/7172ioXm41L._UX342_.jpg\":[\"443\",\"342\"],\"https://images-na.ssl-images-amazon.com/images/I/7172ioXm41L._UX385_.jpg\":[\"499\",\"385\"],\"https://images-na.ssl-images-amazon.com/images/I/7172ioXm41L._UX466_.jpg\":[\"604\",\"466\"],\"https://images-na.ssl-images-amazon.com/images/I/7172ioXm41L._UY550_.jpg\":[\"550\",\"424\"]}}],\"2 Orange / 2 Deep Royal\":[{\"large\":\"https://images-na.ssl-images-amazon.com/images/I/4110RCd2O3L.jpg\",\"variant\":\"MAIN\",\"hiRes\":\"https://images-na.ssl-images-amazon.com/images/I/61IuVRb57OL._UL1200_.jpg\",\"thumb\":\"https://images-na.ssl-images-amazon.com/images/I/4110RCd2O3L._SR38,50_.jpg\",\"main\":{\"https://images-na.ssl-images-amazon.com/images/I/61IuVRb57OL._UY879_.jpg\":[\"879\",\"676\"],\"https://images-na.ssl-images-amazon.com/images/I/61IuVRb57OL._UX569_.jpg\":[\"740\",\"569\"],\"https://images-na.ssl-images-amazon.com/images/I/61IuVRb57OL._UY500_.jpg\":[\"500\",\"385\"],\"https://images-na.ssl-images-amazon.com/images/I/61IuVRb57OL._UY550_.jpg\":[\"550\",\"423\"],\"https://images-na.ssl-images-amazon.com/images/I/61IuVRb57OL._UX522_.jpg\":[\"679\",\"522\"],\"https://images-na.ssl-images-amazon.com/images/I/61IuVRb57OL._UX466_.jpg\":[\"606\",\"466\"],\"https://images-na.ssl-images-amazon.com/images/I/61IuVRb57OL._UX342_.jpg\":[\"445\",\"342\"]}}],\"2 Navy / 2 White\":[{\"large\":\"https://images-na.ssl-images-amazon.com/images/I/41VMmOS8HWL.jpg\",\"variant\":\"MAIN\",\"hiRes\":\"https://images-na.ssl-images-amazon.com/images/I/61cp2zelJZL._UL1200_.jpg\",\"thumb\":\"https://images-na.ssl-images-amazon.com/images/I/41VMmOS8HWL._SR38,50_.jpg\",\"main\":{\"https://images-na.ssl-images-amazon.com/images/I/61cp2zelJZL._UX385_.jpg\":[\"498\",\"385\"],\"https://images-na.ssl-images-amazon.com/images/I/61cp2zelJZL._UX569_.jpg\":[\"736\",\"569\"],\"https://images-na.ssl-images-amazon.com/images/I/61cp2zelJZL._UX522_.jpg\":[\"675\",\"522\"],\"https://images-na.ssl-images-amazon.com/images/I/61cp2zelJZL._UX466_.jpg\":[\"603\",\"466\"],\"https://images-na.ssl-images-amazon.com/images/I/61cp2zelJZL._UX679_.jpg\":[\"878\",\"679\"],\"https://images-na.ssl-images-amazon.com/images/I/61cp2zelJZL._UX425_.jpg\":[\"550\",\"425\"],\"https://images-na.ssl-images-amazon.com/images/I/61cp2zelJZL._UX342_.jpg\":[\"442\",\"342\"]}}],\"2 Maroon / 2 Sand\":[{\"large\":\"https://images-na.ssl-images-amazon.com/images/I/419m-vo72DL.jpg\",\"variant\":\"MAIN\",\"hiRes\":\"https://images-na.ssl-images-amazon.com/images/I/61G09uRGL1L._UL1200_.jpg\",\"thumb\":\"https://images-na.ssl-images-amazon.com/images/I/419m-vo72DL._SR38,50_.jpg\",\"main\":{\"https://images-na.ssl-images-amazon.com/images/I/61G09uRGL1L._UX679_.jpg\":[\"864\",\"679\"],\"https://images-na.ssl-images-amazon.com/images/I/61G09uRGL1L._UX522_.jpg\":[\"664\",\"522\"],\"https://images-na.ssl-images-amazon.com/images/I/61G09uRGL1L._UX569_.jpg\":[\"724\",\"569\"],\"https://images-na.ssl-images-amazon.com/images/I/61G09uRGL1L._UX385_.jpg\":[\"490\",\"385\"],\"https://images-na.ssl-images-amazon.com/images/I/61G09uRGL1L._UX466_.jpg\":[\"593\",\"466\"],\"https://images-na.ssl-images-amazon.com/images/I/61G09uRGL1L._UX342_.jpg\":[\"435\",\"342\"],\"https://images-na.ssl-images-amazon.com/images/I/61G09uRGL1L._UX425_.jpg\":[\"541\",\"425\"]}}],\"2 Deep Forest / 2 Smoke Grey\":[{\"large\":\"https://images-na.ssl-images-amazon.com/images/I/4192MNxBiaL.jpg\",\"variant\":\"MAIN\",\"hiRes\":\"https://images-na.ssl-images-amazon.com/images/I/61bvqqGQyRL._UL1200_.jpg\",\"thumb\":\"https://images-na.ssl-images-amazon.com/images/I/4192MNxBiaL._SR38,50_.jpg\",\"main\":{\"https://images-na.ssl-images-amazon.com/images/I/61bvqqGQyRL._UY879_.jpg\":[\"879\",\"678\"],\"https://images-na.ssl-images-amazon.com/images/I/61bvqqGQyRL._UX522_.jpg\":[\"676\",\"522\"],\"https://images-na.ssl-images-amazon.com/images/I/61bvqqGQyRL._UX466_.jpg\":[\"604\",\"466\"],\"https://images-na.ssl-images-amazon.com/images/I/61bvqqGQyRL._UX385_.jpg\":[\"499\",\"385\"],\"https://images-na.ssl-images-amazon.com/images/I/61bvqqGQyRL._UX342_.jpg\":[\"443\",\"342\"],\"https://images-na.ssl-images-amazon.com/images/I/61bvqqGQyRL._UX569_.jpg\":[\"737\",\"569\"],\"https://images-na.ssl-images-amazon.com/images/I/61bvqqGQyRL._UY550_.jpg\":[\"550\",\"424\"]}}],\"2 Deep Red / 2 Gold\":[{\"large\":\"https://images-na.ssl-images-amazon.com/images/I/41SaAduKOqL.jpg\",\"variant\":\"MAIN\",\"hiRes\":\"https://images-na.ssl-images-amazon.com/images/I/619C0-XqmfL._UL1200_.jpg\",\"thumb\":\"https://images-na.ssl-images-amazon.com/images/I/41SaAduKOqL._SR38,50_.jpg\",\"main\":{\"https://images-na.ssl-images-amazon.com/images/I/619C0-XqmfL._UX569_.jpg\":[\"728\",\"569\"],\"https://images-na.ssl-images-amazon.com/images/I/619C0-XqmfL._UX679_.jpg\":[\"869\",\"679\"],\"https://images-na.ssl-images-amazon.com/images/I/619C0-XqmfL._UX425_.jpg\":[\"544\",\"425\"],\"https://images-na.ssl-images-amazon.com/images/I/619C0-XqmfL._UX342_.jpg\":[\"438\",\"342\"],\"https://images-na.ssl-images-amazon.com/images/I/619C0-XqmfL._UX522_.jpg\":[\"668\",\"522\"],\"https://images-na.ssl-images-amazon.com/images/I/619C0-XqmfL._UX466_.jpg\":[\"596\",\"466\"],\"https://images-na.ssl-images-amazon.com/images/I/619C0-XqmfL._UX385_.jpg\":[\"493\",\"385\"]}}],\"2 Orange / 2 Sand\":[{\"large\":\"https://images-na.ssl-images-amazon.com/images/I/31LD363EGFL.jpg\",\"variant\":\"MAIN\",\"hiRes\":\"https://images-na.ssl-images-amazon.com/images/I/61jgAe9ediL._UL1200_.jpg\",\"thumb\":\"https://images-na.ssl-images-amazon.com/images/I/31LD363EGFL._SR38,50_.jpg\",\"main\":{\"https://images-na.ssl-images-amazon.com/images/I/61jgAe9ediL._UY741_.jpg\":[\"741\",\"543\"],\"https://images-na.ssl-images-amazon.com/images/I/61jgAe9ediL._UY679_.jpg\":[\"679\",\"497\"],\"https://images-na.ssl-images-amazon.com/images/I/61jgAe9ediL._UY606_.jpg\":[\"606\",\"444\"],\"https://images-na.ssl-images-amazon.com/images/I/61jgAe9ediL._UY445_.jpg\":[\"445\",\"326\"],\"https://images-na.ssl-images-amazon.com/images/I/61jgAe9ediL._UY879_.jpg\":[\"879\",\"644\"],\"https://images-na.ssl-images-amazon.com/images/I/61jgAe9ediL._UY550_.jpg\":[\"550\",\"403\"],\"https://images-na.ssl-images-amazon.com/images/I/61jgAe9ediL._UY500_.jpg\":[\"500\",\"366\"]}}],\"2 Deep Red / 2 White\":[{\"large\":\"https://images-na.ssl-images-amazon.com/images/I/41aHQL089bL.jpg\",\"variant\":\"MAIN\",\"hiRes\":\"https://images-na.ssl-images-amazon.com/images/I/61BC77mDORL._UL1200_.jpg\",\"thumb\":\"https://images-na.ssl-images-amazon.com/images/I/41aHQL089bL._SR38,50_.jpg\",\"main\":{\"https://images-na.ssl-images-amazon.com/images/I/61BC77mDORL._UX679_.jpg\":[\"862\",\"679\"],\"https://images-na.ssl-images-amazon.com/images/I/61BC77mDORL._UX569_.jpg\":[\"723\",\"569\"],\"https://images-na.ssl-images-amazon.com/images/I/61BC77mDORL._UX425_.jpg\":[\"540\",\"425\"],\"https://images-na.ssl-images-amazon.com/images/I/61BC77mDORL._UX466_.jpg\":[\"592\",\"466\"],\"https://images-na.ssl-images-amazon.com/images/I/61BC77mDORL._UX522_.jpg\":[\"663\",\"522\"],\"https://images-na.ssl-images-amazon.com/images/I/61BC77mDORL._UX342_.jpg\":[\"434\",\"342\"],\"https://images-na.ssl-images-amazon.com/images/I/61BC77mDORL._UX385_.jpg\":[\"489\",\"385\"]}}],\"Deep Red\":[{\"large\":\"https://images-na.ssl-images-amazon.com/images/I/41b6NtZtPlL.jpg\",\"variant\":\"MAIN\",\"hiRes\":\"https://images-na.ssl-images-amazon.com/images/I/81ZCdL4zwHL._UL1500_.jpg\",\"thumb\":\"https://images-na.ssl-images-amazon.com/images/I/41b6NtZtPlL._SR38,50_.jpg\",\"main\":{\"https://images-na.ssl-images-amazon.com/images/I/81ZCdL4zwHL._UX425_.jpg\":[\"523\",\"425\"],\"https://images-na.ssl-images-amazon.com/images/I/81ZCdL4zwHL._UX569_.jpg\":[\"700\",\"569\"],\"https://images-na.ssl-images-amazon.com/images/I/81ZCdL4zwHL._UX522_.jpg\":[\"642\",\"522\"],\"https://images-na.ssl-images-amazon.com/images/I/81ZCdL4zwHL._UX385_.jpg\":[\"474\",\"385\"],\"https://images-na.ssl-images-amazon.com/images/I/81ZCdL4zwHL._UX679_.jpg\":[\"836\",\"679\"],\"https://images-na.ssl-images-amazon.com/images/I/81ZCdL4zwHL._UX466_.jpg\":[\"574\",\"466\"],\"https://images-na.ssl-images-amazon.com/images/I/81ZCdL4zwHL._UX342_.jpg\":[\"421\",\"342\"]}}],\"2 Pale Pink / 2 White\":[{\"large\":\"https://images-na.ssl-images-amazon.com/images/I/41pGx0eOsmL.jpg\",\"variant\":\"MAIN\",\"hiRes\":\"https://images-na.ssl-images-amazon.com/images/I/61i3ARWyJwL._UL1200_.jpg\",\"thumb\":\"https://images-na.ssl-images-amazon.com/images/I/41pGx0eOsmL._SR38,50_.jpg\",\"main\":{\"https://images-na.ssl-images-amazon.com/images/I/61i3ARWyJwL._UX569_.jpg\":[\"629\",\"569\"],\"https://images-na.ssl-images-amazon.com/images/I/61i3ARWyJwL._UX466_.jpg\":[\"515\",\"466\"],\"https://images-na.ssl-images-amazon.com/images/I/61i3ARWyJwL._UX425_.jpg\":[\"470\",\"425\"],\"https://images-na.ssl-images-amazon.com/images/I/61i3ARWyJwL._UX342_.jpg\":[\"378\",\"342\"],\"https://images-na.ssl-images-amazon.com/images/I/61i3ARWyJwL._UX522_.jpg\":[\"577\",\"522\"],\"https://images-na.ssl-images-amazon.com/images/I/61i3ARWyJwL._UX679_.jpg\":[\"751\",\"679\"],\"https://images-na.ssl-images-amazon.com/images/I/61i3ARWyJwL._UX385_.jpg\":[\"426\",\"385\"]}}],\"2 Navy / 2 Yellow\":[{\"large\":\"https://images-na.ssl-images-amazon.com/images/I/41UaNBqbJpL.jpg\",\"variant\":\"MAIN\",\"hiRes\":\"https://images-na.ssl-images-amazon.com/images/I/61yBBYMwTqL._UL1200_.jpg\",\"thumb\":\"https://images-na.ssl-images-amazon.com/images/I/41UaNBqbJpL._SR38,50_.jpg\",\"main\":{\"https://images-na.ssl-images-amazon.com/images/I/61yBBYMwTqL._UX569_.jpg\":[\"734\",\"569\"],\"https://images-na.ssl-images-amazon.com/images/I/61yBBYMwTqL._UX385_.jpg\":[\"497\",\"385\"],\"https://images-na.ssl-images-amazon.com/images/I/61yBBYMwTqL._UX522_.jpg\":[\"674\",\"522\"],\"https://images-na.ssl-images-amazon.com/images/I/61yBBYMwTqL._UX466_.jpg\":[\"601\",\"466\"],\"https://images-na.ssl-images-amazon.com/images/I/61yBBYMwTqL._UX679_.jpg\":[\"876\",\"679\"],\"https://images-na.ssl-images-amazon.com/images/I/61yBBYMwTqL._UX342_.jpg\":[\"441\",\"342\"],\"https://images-na.ssl-images-amazon.com/images/I/61yBBYMwTqL._UX425_.jpg\":[\"548\",\"425\"]}}],\"2 Denim Blue / 2 Smoke Grey\":[{\"large\":\"https://images-na.ssl-images-amazon.com/images/I/41uJE0uf41L.jpg\",\"variant\":\"MAIN\",\"hiRes\":\"https://images-na.ssl-images-amazon.com/images/I/61vLbweqwML._UL1200_.jpg\",\"thumb\":\"https://images-na.ssl-images-amazon.com/images/I/41uJE0uf41L._SR38,50_.jpg\",\"main\":{\"https://images-na.ssl-images-amazon.com/images/I/61vLbweqwML._UX385_.jpg\":[\"496\",\"385\"],\"https://images-na.ssl-images-amazon.com/images/I/61vLbweqwML._UX342_.jpg\":[\"440\",\"342\"],\"https://images-na.ssl-images-amazon.com/images/I/61vLbweqwML._UX679_.jpg\":[\"874\",\"679\"],\"https://images-na.ssl-images-amazon.com/images/I/61vLbweqwML._UX466_.jpg\":[\"600\",\"466\"],\"https://images-na.ssl-images-amazon.com/images/I/61vLbweqwML._UX522_.jpg\":[\"672\",\"522\"],\"https://images-na.ssl-images-amazon.com/images/I/61vLbweqwML._UX425_.jpg\":[\"547\",\"425\"],\"https://images-na.ssl-images-amazon.com/images/I/61vLbweqwML._UX569_.jpg\":[\"733\",\"569\"]}}],\"2 Heather Grey / 2 Black\":[{\"large\":\"https://images-na.ssl-images-amazon.com/images/I/41pqYQdliML.jpg\",\"variant\":\"MAIN\",\"hiRes\":\"https://images-na.ssl-images-amazon.com/images/I/71HyZAvUTKL._UL1500_.jpg\",\"thumb\":\"https://images-na.ssl-images-amazon.com/images/I/41pqYQdliML._SR38,50_.jpg\",\"main\":{\"https://images-na.ssl-images-amazon.com/images/I/71HyZAvUTKL._UX466_.jpg\":[\"582\",\"466\"],\"https://images-na.ssl-images-amazon.com/images/I/71HyZAvUTKL._UX569_.jpg\":[\"711\",\"569\"],\"https://images-na.ssl-images-amazon.com/images/I/71HyZAvUTKL._UX679_.jpg\":[\"849\",\"679\"],\"https://images-na.ssl-images-amazon.com/images/I/71HyZAvUTKL._UX425_.jpg\":[\"531\",\"425\"],\"https://images-na.ssl-images-amazon.com/images/I/71HyZAvUTKL._UX342_.jpg\":[\"427\",\"342\"],\"https://images-na.ssl-images-amazon.com/images/I/71HyZAvUTKL._UX522_.jpg\":[\"652\",\"522\"],\"https://images-na.ssl-images-amazon.com/images/I/71HyZAvUTKL._UX385_.jpg\":[\"481\",\"385\"]}}],\"2 Ash / 2 Navy\":[{\"large\":\"https://images-na.ssl-images-amazon.com/images/I/41ZM84lqfgL.jpg\",\"variant\":\"MAIN\",\"hiRes\":\"https://images-na.ssl-images-amazon.com/images/I/71nVhXk3SFL._UL1200_.jpg\",\"thumb\":\"https://images-na.ssl-images-amazon.com/images/I/41ZM84lqfgL._SR38,50_.jpg\",\"main\":{\"https://images-na.ssl-images-amazon.com/images/I/71nVhXk3SFL._UX466_.jpg\":[\"603\",\"466\"],\"https://images-na.ssl-images-amazon.com/images/I/71nVhXk3SFL._UX569_.jpg\":[\"737\",\"569\"],\"https://images-na.ssl-images-amazon.com/images/I/71nVhXk3SFL._UX342_.jpg\":[\"443\",\"342\"],\"https://images-na.ssl-images-amazon.com/images/I/71nVhXk3SFL._UX679_.jpg\":[\"879\",\"679\"],\"https://images-na.ssl-images-amazon.com/images/I/71nVhXk3SFL._UX522_.jpg\":[\"676\",\"522\"],\"https://images-na.ssl-images-amazon.com/images/I/71nVhXk3SFL._UY550_.jpg\":[\"550\",\"425\"],\"https://images-na.ssl-images-amazon.com/images/I/71nVhXk3SFL._UX385_.jpg\":[\"498\",\"385\"]}}],\"2 Deep Forest / 2 Light Blue\":[{\"large\":\"https://images-na.ssl-images-amazon.com/images/I/41zYpRDgRQL.jpg\",\"variant\":\"MAIN\",\"hiRes\":\"https://images-na.ssl-images-amazon.com/images/I/61%2B0UypSUbL._UL1200_.jpg\",\"thumb\":\"https://images-na.ssl-images-amazon.com/images/I/41zYpRDgRQL._SR38,50_.jpg\",\"main\":{\"https://images-na.ssl-images-amazon.com/images/I/61%2B0UypSUbL._UY879_.jpg\":[\"879\",\"678\"],\"https://images-na.ssl-images-amazon.com/images/I/61%2B0UypSUbL._UX466_.jpg\":[\"605\",\"466\"],\"https://images-na.ssl-images-amazon.com/images/I/61%2B0UypSUbL._UX385_.jpg\":[\"499\",\"385\"],\"https://images-na.ssl-images-amazon.com/images/I/61%2B0UypSUbL._UY550_.jpg\":[\"550\",\"424\"],\"https://images-na.ssl-images-amazon.com/images/I/61%2B0UypSUbL._UX342_.jpg\":[\"444\",\"342\"],\"https://images-na.ssl-images-amazon.com/images/I/61%2B0UypSUbL._UX569_.jpg\":[\"738\",\"569\"],\"https://images-na.ssl-images-amazon.com/images/I/61%2B0UypSUbL._UX522_.jpg\":[\"677\",\"522\"]}}],\"White Crewneck\":[{\"large\":\"https://images-na.ssl-images-amazon.com/images/I/31hA7aVCjgL.jpg\",\"variant\":\"MAIN\",\"hiRes\":\"https://images-na.ssl-images-amazon.com/images/I/61azvPQoa3L._UL1500_.jpg\",\"thumb\":\"https://images-na.ssl-images-amazon.com/images/I/31hA7aVCjgL._SR38,50_.jpg\",\"main\":{\"https://images-na.ssl-images-amazon.com/images/I/61azvPQoa3L._UX425_.jpg\":[\"531\",\"425\"],\"https://images-na.ssl-images-amazon.com/images/I/61azvPQoa3L._UX466_.jpg\":[\"582\",\"466\"],\"https://images-na.ssl-images-amazon.com/images/I/61azvPQoa3L._UX569_.jpg\":[\"711\",\"569\"],\"https://images-na.ssl-images-amazon.com/images/I/61azvPQoa3L._UX522_.jpg\":[\"652\",\"522\"],\"https://images-na.ssl-images-amazon.com/images/I/61azvPQoa3L._UX385_.jpg\":[\"481\",\"385\"],\"https://images-na.ssl-images-amazon.com/images/I/61azvPQoa3L._UX679_.jpg\":[\"849\",\"679\"],\"https://images-na.ssl-images-amazon.com/images/I/61azvPQoa3L._UX342_.jpg\":[\"427\",\"342\"]}}],\"2 Gold / 2 White\":[{\"large\":\"https://images-na.ssl-images-amazon.com/images/I/41tWEJfOeXL.jpg\",\"variant\":\"MAIN\",\"hiRes\":\"https://images-na.ssl-images-amazon.com/images/I/61I%2Bk3PUj8L._UL1200_.jpg\",\"thumb\":\"https://images-na.ssl-images-amazon.com/images/I/41tWEJfOeXL._SR38,50_.jpg\",\"main\":{\"https://images-na.ssl-images-amazon.com/images/I/61I%2Bk3PUj8L._UX522_.jpg\":[\"674\",\"522\"],\"https://images-na.ssl-images-amazon.com/images/I/61I%2Bk3PUj8L._UX569_.jpg\":[\"735\",\"569\"],\"https://images-na.ssl-images-amazon.com/images/I/61I%2Bk3PUj8L._UX425_.jpg\":[\"549\",\"425\"],\"https://images-na.ssl-images-amazon.com/images/I/61I%2Bk3PUj8L._UX679_.jpg\":[\"877\",\"679\"],\"https://images-na.ssl-images-amazon.com/images/I/61I%2Bk3PUj8L._UX385_.jpg\":[\"497\",\"385\"],\"https://images-na.ssl-images-amazon.com/images/I/61I%2Bk3PUj8L._UX466_.jpg\":[\"602\",\"466\"],\"https://images-na.ssl-images-amazon.com/images/I/61I%2Bk3PUj8L._UX342_.jpg\":[\"442\",\"342\"]}}],\"2 Orange / 2 Light Blue\":[{\"large\":\"https://images-na.ssl-images-amazon.com/images/I/41C0TfrH5gL.jpg\",\"variant\":\"MAIN\",\"hiRes\":\"https://images-na.ssl-images-amazon.com/images/I/61kmo9em03L._UL1200_.jpg\",\"thumb\":\"https://images-na.ssl-images-amazon.com/images/I/41C0TfrH5gL._SR38,50_.jpg\",\"main\":{\"https://images-na.ssl-images-amazon.com/images/I/61kmo9em03L._UX385_.jpg\":[\"499\",\"385\"],\"https://images-na.ssl-images-amazon.com/images/I/61kmo9em03L._UX522_.jpg\":[\"677\",\"522\"],\"https://images-na.ssl-images-amazon.com/images/I/61kmo9em03L._UY550_.jpg\":[\"550\",\"424\"],\"https://images-na.ssl-images-amazon.com/images/I/61kmo9em03L._UX466_.jpg\":[\"605\",\"466\"],\"https://images-na.ssl-images-amazon.com/images/I/61kmo9em03L._UY879_.jpg\":[\"879\",\"678\"],\"https://images-na.ssl-images-amazon.com/images/I/61kmo9em03L._UX569_.jpg\":[\"738\",\"569\"],\"https://images-na.ssl-images-amazon.com/images/I/61kmo9em03L._UX342_.jpg\":[\"444\",\"342\"]}}],\"2 Deep Red / 2 Purple\":[{\"large\":\"https://images-na.ssl-images-amazon.com/images/I/41tx4-2WxBL.jpg\",\"variant\":\"MAIN\",\"hiRes\":\"https://images-na.ssl-images-amazon.com/images/I/61frneyF3eL._UL1200_.jpg\",\"thumb\":\"https://images-na.ssl-images-amazon.com/images/I/41tx4-2WxBL._SR38,50_.jpg\",\"main\":{\"https://images-na.ssl-images-amazon.com/images/I/61frneyF3eL._UX679_.jpg\":[\"862\",\"679\"],\"https://images-na.ssl-images-amazon.com/images/I/61frneyF3eL._UX342_.jpg\":[\"434\",\"342\"],\"https://images-na.ssl-images-amazon.com/images/I/61frneyF3eL._UX569_.jpg\":[\"723\",\"569\"],\"https://images-na.ssl-images-amazon.com/images/I/61frneyF3eL._UX425_.jpg\":[\"540\",\"425\"],\"https://images-na.ssl-images-amazon.com/images/I/61frneyF3eL._UX522_.jpg\":[\"663\",\"522\"],\"https://images-na.ssl-images-amazon.com/images/I/61frneyF3eL._UX466_.jpg\":[\"592\",\"466\"],\"https://images-na.ssl-images-amazon.com/images/I/61frneyF3eL._UX385_.jpg\":[\"489\",\"385\"]}}],\"2 Purple / 2 Sand\":[{\"large\":\"https://images-na.ssl-images-amazon.com/images/I/31NtrZXKyyL.jpg\",\"variant\":\"MAIN\",\"hiRes\":\"https://images-na.ssl-images-amazon.com/images/I/618GCubMoCL._UL1200_.jpg\",\"thumb\":\"https://images-na.ssl-images-amazon.com/images/I/31NtrZXKyyL._SR38,50_.jpg\",\"main\":{\"https://images-na.ssl-images-amazon.com/images/I/618GCubMoCL._UY606_.jpg\":[\"606\",\"444\"],\"https://images-na.ssl-images-amazon.com/images/I/618GCubMoCL._UY550_.jpg\":[\"550\",\"403\"],\"https://images-na.ssl-images-amazon.com/images/I/618GCubMoCL._UY500_.jpg\":[\"500\",\"366\"],\"https://images-na.ssl-images-amazon.com/images/I/618GCubMoCL._UY741_.jpg\":[\"741\",\"543\"],\"https://images-na.ssl-images-amazon.com/images/I/618GCubMoCL._UY445_.jpg\":[\"445\",\"326\"],\"https://images-na.ssl-images-amazon.com/images/I/618GCubMoCL._UY879_.jpg\":[\"879\",\"644\"],\"https://images-na.ssl-images-amazon.com/images/I/618GCubMoCL._UY679_.jpg\":[\"679\",\"497\"]}}],\"2 Light Steel / 2 Sand\":[{\"large\":\"https://images-na.ssl-images-amazon.com/images/I/31bPSJ-PwpL.jpg\",\"variant\":\"MAIN\",\"hiRes\":\"https://images-na.ssl-images-amazon.com/images/I/61vfbScQFUL._UL1200_.jpg\",\"thumb\":\"https://images-na.ssl-images-amazon.com/images/I/31bPSJ-PwpL._SR38,50_.jpg\",\"main\":{\"https://images-na.ssl-images-amazon.com/images/I/61vfbScQFUL._UY741_.jpg\":[\"741\",\"542\"],\"https://images-na.ssl-images-amazon.com/images/I/61vfbScQFUL._UY550_.jpg\":[\"550\",\"402\"],\"https://images-na.ssl-images-amazon.com/images/I/61vfbScQFUL._UY879_.jpg\":[\"879\",\"643\"],\"https://images-na.ssl-images-amazon.com/images/I/61vfbScQFUL._UY500_.jpg\":[\"500\",\"366\"],\"https://images-na.ssl-images-amazon.com/images/I/61vfbScQFUL._UY606_.jpg\":[\"606\",\"443\"],\"https://images-na.ssl-images-amazon.com/images/I/61vfbScQFUL._UY679_.jpg\":[\"679\",\"497\"],\"https://images-na.ssl-images-amazon.com/images/I/61vfbScQFUL._UY445_.jpg\":[\"445\",\"326\"]}}],\"2 Light Steel / 2 Smoke Grey\":[{\"large\":\"https://images-na.ssl-images-amazon.com/images/I/4109o21BAKL.jpg\",\"variant\":\"MAIN\",\"hiRes\":\"https://images-na.ssl-images-amazon.com/images/I/61%2BnpnKXHxL._UL1200_.jpg\",\"thumb\":\"https://images-na.ssl-images-amazon.com/images/I/4109o21BAKL._SR38,50_.jpg\",\"main\":{\"https://images-na.ssl-images-amazon.com/images/I/61%2BnpnKXHxL._UX569_.jpg\":[\"730\",\"569\"],\"https://images-na.ssl-images-amazon.com/images/I/61%2BnpnKXHxL._UX522_.jpg\":[\"670\",\"522\"],\"https://images-na.ssl-images-amazon.com/images/I/61%2BnpnKXHxL._UX466_.jpg\":[\"598\",\"466\"],\"https://images-na.ssl-images-amazon.com/images/I/61%2BnpnKXHxL._UX342_.jpg\":[\"439\",\"342\"],\"https://images-na.ssl-images-amazon.com/images/I/61%2BnpnKXHxL._UX385_.jpg\":[\"494\",\"385\"],\"https://images-na.ssl-images-amazon.com/images/I/61%2BnpnKXHxL._UX679_.jpg\":[\"871\",\"679\"],\"https://images-na.ssl-images-amazon.com/images/I/61%2BnpnKXHxL._UX425_.jpg\":[\"545\",\"425\"]}}],\"2 Gold / 2 Purple\":[{\"large\":\"https://images-na.ssl-images-amazon.com/images/I/41IxdxR9beL.jpg\",\"variant\":\"MAIN\",\"hiRes\":\"https://images-na.ssl-images-amazon.com/images/I/618zNQaAfeL._UL1200_.jpg\",\"thumb\":\"https://images-na.ssl-images-amazon.com/images/I/41IxdxR9beL._SR38,50_.jpg\",\"main\":{\"https://images-na.ssl-images-amazon.com/images/I/618zNQaAfeL._UX425_.jpg\":[\"549\",\"425\"],\"https://images-na.ssl-images-amazon.com/images/I/618zNQaAfeL._UX385_.jpg\":[\"497\",\"385\"],\"https://images-na.ssl-images-amazon.com/images/I/618zNQaAfeL._UX342_.jpg\":[\"442\",\"342\"],\"https://images-na.ssl-images-amazon.com/images/I/618zNQaAfeL._UX679_.jpg\":[\"877\",\"679\"],\"https://images-na.ssl-images-amazon.com/images/I/618zNQaAfeL._UX569_.jpg\":[\"735\",\"569\"],\"https://images-na.ssl-images-amazon.com/images/I/618zNQaAfeL._UX522_.jpg\":[\"674\",\"522\"],\"https://images-na.ssl-images-amazon.com/images/I/618zNQaAfeL._UX466_.jpg\":[\"602\",\"466\"]}}],\"2 Deep Royal / 2 White\":[{\"large\":\"https://images-na.ssl-images-amazon.com/images/I/415FI1%2BDgML.jpg\",\"variant\":\"MAIN\",\"hiRes\":\"https://images-na.ssl-images-amazon.com/images/I/61fh4l3zdXL._UL1200_.jpg\",\"thumb\":\"https://images-na.ssl-images-amazon.com/images/I/415FI1%2BDgML._SR38,50_.jpg\",\"main\":{\"https://images-na.ssl-images-amazon.com/images/I/61fh4l3zdXL._UX466_.jpg\":[\"592\",\"466\"],\"https://images-na.ssl-images-amazon.com/images/I/61fh4l3zdXL._UX342_.jpg\":[\"435\",\"342\"],\"https://images-na.ssl-images-amazon.com/images/I/61fh4l3zdXL._UX569_.jpg\":[\"723\",\"569\"],\"https://images-na.ssl-images-amazon.com/images/I/61fh4l3zdXL._UX425_.jpg\":[\"540\",\"425\"],\"https://images-na.ssl-images-amazon.com/images/I/61fh4l3zdXL._UX679_.jpg\":[\"863\",\"679\"],\"https://images-na.ssl-images-amazon.com/images/I/61fh4l3zdXL._UX522_.jpg\":[\"664\",\"522\"],\"https://images-na.ssl-images-amazon.com/images/I/61fh4l3zdXL._UX385_.jpg\":[\"489\",\"385\"]}}],\"2 White / 2 Yellow\":[{\"large\":\"https://images-na.ssl-images-amazon.com/images/I/31Fi18hsOOL.jpg\",\"variant\":\"MAIN\",\"hiRes\":\"https://images-na.ssl-images-amazon.com/images/I/61k1IZ0AusL._UL1200_.jpg\",\"thumb\":\"https://images-na.ssl-images-amazon.com/images/I/31Fi18hsOOL._SR38,50_.jpg\",\"main\":{\"https://images-na.ssl-images-amazon.com/images/I/61k1IZ0AusL._UY879_.jpg\":[\"879\",\"669\"],\"https://images-na.ssl-images-amazon.com/images/I/61k1IZ0AusL._UY500_.jpg\":[\"500\",\"380\"],\"https://images-na.ssl-images-amazon.com/images/I/61k1IZ0AusL._UY606_.jpg\":[\"606\",\"461\"],\"https://images-na.ssl-images-amazon.com/images/I/61k1IZ0AusL._UY550_.jpg\":[\"550\",\"418\"],\"https://images-na.ssl-images-amazon.com/images/I/61k1IZ0AusL._UY445_.jpg\":[\"445\",\"339\"],\"https://images-na.ssl-images-amazon.com/images/I/61k1IZ0AusL._UY741_.jpg\":[\"741\",\"564\"],\"https://images-na.ssl-images-amazon.com/images/I/61k1IZ0AusL._UY679_.jpg\":[\"679\",\"517\"]}}],\"2 Light Steel / 2 Navy\":[{\"large\":\"https://images-na.ssl-images-amazon.com/images/I/41bIsJ2h34L.jpg\",\"variant\":\"MAIN\",\"hiRes\":\"https://images-na.ssl-images-amazon.com/images/I/61hlX66QliL._UL1200_.jpg\",\"thumb\":\"https://images-na.ssl-images-amazon.com/images/I/41bIsJ2h34L._SR38,50_.jpg\",\"main\":{\"https://images-na.ssl-images-amazon.com/images/I/61hlX66QliL._UX679_.jpg\":[\"871\",\"679\"],\"https://images-na.ssl-images-amazon.com/images/I/61hlX66QliL._UX466_.jpg\":[\"598\",\"466\"],\"https://images-na.ssl-images-amazon.com/images/I/61hlX66QliL._UX569_.jpg\":[\"730\",\"569\"],\"https://images-na.ssl-images-amazon.com/images/I/61hlX66QliL._UX385_.jpg\":[\"494\",\"385\"],\"https://images-na.ssl-images-amazon.com/images/I/61hlX66QliL._UX425_.jpg\":[\"545\",\"425\"],\"https://images-na.ssl-images-amazon.com/images/I/61hlX66QliL._UX342_.jpg\":[\"439\",\"342\"],\"https://images-na.ssl-images-amazon.com/images/I/61hlX66QliL._UX522_.jpg\":[\"670\",\"522\"]}}],\"Maroon\":[{\"large\":\"https://images-na.ssl-images-amazon.com/images/I/41g-RVxq27L.jpg\",\"variant\":\"MAIN\",\"hiRes\":\"https://images-na.ssl-images-amazon.com/images/I/81Ih5ndmJcL._UL1500_.jpg\",\"thumb\":\"https://images-na.ssl-images-amazon.com/images/I/41g-RVxq27L._SR38,50_.jpg\",\"main\":{\"https://images-na.ssl-images-amazon.com/images/I/81Ih5ndmJcL._UX522_.jpg\":[\"642\",\"522\"],\"https://images-na.ssl-images-amazon.com/images/I/81Ih5ndmJcL._UX569_.jpg\":[\"700\",\"569\"],\"https://images-na.ssl-images-amazon.com/images/I/81Ih5ndmJcL._UX679_.jpg\":[\"836\",\"679\"],\"https://images-na.ssl-images-amazon.com/images/I/81Ih5ndmJcL._UX425_.jpg\":[\"523\",\"425\"],\"https://images-na.ssl-images-amazon.com/images/I/81Ih5ndmJcL._UX385_.jpg\":[\"474\",\"385\"],\"https://images-na.ssl-images-amazon.com/images/I/81Ih5ndmJcL._UX466_.jpg\":[\"574\",\"466\"],\"https://images-na.ssl-images-amazon.com/images/I/81Ih5ndmJcL._UX342_.jpg\":[\"421\",\"342\"]}}],\"2 Ash / 2 Maroon\":[{\"large\":\"https://images-na.ssl-images-amazon.com/images/I/41e6R8I8toL.jpg\",\"variant\":\"MAIN\",\"hiRes\":\"https://images-na.ssl-images-amazon.com/images/I/71fGa0EhHWL._UL1200_.jpg\",\"thumb\":\"https://images-na.ssl-images-amazon.com/images/I/41e6R8I8toL._SR38,50_.jpg\",\"main\":{\"https://images-na.ssl-images-amazon.com/images/I/71fGa0EhHWL._UY500_.jpg\":[\"500\",\"375\"],\"https://images-na.ssl-images-amazon.com/images/I/71fGa0EhHWL._UY741_.jpg\":[\"741\",\"556\"],\"https://images-na.ssl-images-amazon.com/images/I/71fGa0EhHWL._UY679_.jpg\":[\"679\",\"509\"],\"https://images-na.ssl-images-amazon.com/images/I/71fGa0EhHWL._UY445_.jpg\":[\"445\",\"334\"],\"https://images-na.ssl-images-amazon.com/images/I/71fGa0EhHWL._UY606_.jpg\":[\"606\",\"454\"],\"https://images-na.ssl-images-amazon.com/images/I/71fGa0EhHWL._UY550_.jpg\":[\"550\",\"412\"],\"https://images-na.ssl-images-amazon.com/images/I/71fGa0EhHWL._UY879_.jpg\":[\"879\",\"659\"]}}],\"2 Denim Blue / 2 Deep Forest\":[{\"large\":\"https://images-na.ssl-images-amazon.com/images/I/416If-Q5APL.jpg\",\"variant\":\"MAIN\",\"hiRes\":\"https://images-na.ssl-images-amazon.com/images/I/61rYSdMLS6L._UL1200_.jpg\",\"thumb\":\"https://images-na.ssl-images-amazon.com/images/I/416If-Q5APL._SR38,50_.jpg\",\"main\":{\"https://images-na.ssl-images-amazon.com/images/I/61rYSdMLS6L._UX466_.jpg\":[\"600\",\"466\"],\"https://images-na.ssl-images-amazon.com/images/I/61rYSdMLS6L._UX569_.jpg\":[\"733\",\"569\"],\"https://images-na.ssl-images-amazon.com/images/I/61rYSdMLS6L._UX425_.jpg\":[\"547\",\"425\"],\"https://images-na.ssl-images-amazon.com/images/I/61rYSdMLS6L._UX679_.jpg\":[\"874\",\"679\"],\"https://images-na.ssl-images-amazon.com/images/I/61rYSdMLS6L._UX522_.jpg\":[\"672\",\"522\"],\"https://images-na.ssl-images-amazon.com/images/I/61rYSdMLS6L._UX342_.jpg\":[\"440\",\"342\"],\"https://images-na.ssl-images-amazon.com/images/I/61rYSdMLS6L._UX385_.jpg\":[\"496\",\"385\"]}}],\"2 Maroon / 2 Deep Forest\":[{\"large\":\"https://images-na.ssl-images-amazon.com/images/I/31mAmyLGS0L.jpg\",\"variant\":\"MAIN\",\"hiRes\":\"https://images-na.ssl-images-amazon.com/images/I/61Y8213eyQL._UL1200_.jpg\",\"thumb\":\"https://images-na.ssl-images-amazon.com/images/I/31mAmyLGS0L._SR38,50_.jpg\",\"main\":{\"https://images-na.ssl-images-amazon.com/images/I/61Y8213eyQL._UY879_.jpg\":[\"879\",\"639\"],\"https://images-na.ssl-images-amazon.com/images/I/61Y8213eyQL._UY500_.jpg\":[\"500\",\"364\"],\"https://images-na.ssl-images-amazon.com/images/I/61Y8213eyQL._UY679_.jpg\":[\"679\",\"494\"],\"https://images-na.ssl-images-amazon.com/images/I/61Y8213eyQL._UY606_.jpg\":[\"606\",\"441\"],\"https://images-na.ssl-images-amazon.com/images/I/61Y8213eyQL._UY550_.jpg\":[\"550\",\"400\"],\"https://images-na.ssl-images-amazon.com/images/I/61Y8213eyQL._UY445_.jpg\":[\"445\",\"324\"],\"https://images-na.ssl-images-amazon.com/images/I/61Y8213eyQL._UY741_.jpg\":[\"741\",\"539\"]}}],\"2 Light Blue / 2 Light Steel\":[{\"large\":\"https://images-na.ssl-images-amazon.com/images/I/41zlfXKs5AL.jpg\",\"variant\":\"MAIN\",\"hiRes\":\"https://images-na.ssl-images-amazon.com/images/I/617%2Bs8h%2BfiL._UL1200_.jpg\",\"thumb\":\"https://images-na.ssl-images-amazon.com/images/I/41zlfXKs5AL._SR38,50_.jpg\",\"main\":{\"https://images-na.ssl-images-amazon.com/images/I/617%2Bs8h%2BfiL._UX425_.jpg\":[\"548\",\"425\"],\"https://images-na.ssl-images-amazon.com/images/I/617%2Bs8h%2BfiL._UX342_.jpg\":[\"441\",\"342\"],\"https://images-na.ssl-images-amazon.com/images/I/617%2Bs8h%2BfiL._UX466_.jpg\":[\"601\",\"466\"],\"https://images-na.ssl-images-amazon.com/images/I/617%2Bs8h%2BfiL._UX569_.jpg\":[\"734\",\"569\"],\"https://images-na.ssl-images-amazon.com/images/I/617%2Bs8h%2BfiL._UX522_.jpg\":[\"674\",\"522\"],\"https://images-na.ssl-images-amazon.com/images/I/617%2Bs8h%2BfiL._UX679_.jpg\":[\"876\",\"679\"],\"https://images-na.ssl-images-amazon.com/images/I/617%2Bs8h%2BfiL._UX385_.jpg\":[\"497\",\"385\"]}}],\"2 Gold / 2 Navy\":[{\"large\":\"https://images-na.ssl-images-amazon.com/images/I/41Wqr9hF3JL.jpg\",\"variant\":\"MAIN\",\"hiRes\":\"https://images-na.ssl-images-amazon.com/images/I/614xL8rGLEL._UL1200_.jpg\",\"thumb\":\"https://images-na.ssl-images-amazon.com/images/I/41Wqr9hF3JL._SR38,50_.jpg\",\"main\":{\"https://images-na.ssl-images-amazon.com/images/I/614xL8rGLEL._UX342_.jpg\":[\"442\",\"342\"],\"https://images-na.ssl-images-amazon.com/images/I/614xL8rGLEL._UX569_.jpg\":[\"735\",\"569\"],\"https://images-na.ssl-images-amazon.com/images/I/614xL8rGLEL._UX522_.jpg\":[\"674\",\"522\"],\"https://images-na.ssl-images-amazon.com/images/I/614xL8rGLEL._UX425_.jpg\":[\"549\",\"425\"],\"https://images-na.ssl-images-amazon.com/images/I/614xL8rGLEL._UX679_.jpg\":[\"877\",\"679\"],\"https://images-na.ssl-images-amazon.com/images/I/614xL8rGLEL._UX466_.jpg\":[\"602\",\"466\"],\"https://images-na.ssl-images-amazon.com/images/I/614xL8rGLEL._UX385_.jpg\":[\"497\",\"385\"]}}],\"2 Deep Royal / 2 Light Steel\":[{\"large\":\"https://images-na.ssl-images-amazon.com/images/I/41ptm4pDEVL.jpg\",\"variant\":\"MAIN\",\"hiRes\":\"https://images-na.ssl-images-amazon.com/images/I/61TF3dyEZZL._UL1200_.jpg\",\"thumb\":\"https://images-na.ssl-images-amazon.com/images/I/41ptm4pDEVL._SR38,50_.jpg\",\"main\":{\"https://images-na.ssl-images-amazon.com/images/I/61TF3dyEZZL._UX679_.jpg\":[\"863\",\"679\"],\"https://images-na.ssl-images-amazon.com/images/I/61TF3dyEZZL._UX569_.jpg\":[\"723\",\"569\"],\"https://images-na.ssl-images-amazon.com/images/I/61TF3dyEZZL._UX425_.jpg\":[\"540\",\"425\"],\"https://images-na.ssl-images-amazon.com/images/I/61TF3dyEZZL._UX385_.jpg\":[\"489\",\"385\"],\"https://images-na.ssl-images-amazon.com/images/I/61TF3dyEZZL._UX342_.jpg\":[\"435\",\"342\"],\"https://images-na.ssl-images-amazon.com/images/I/61TF3dyEZZL._UX522_.jpg\":[\"664\",\"522\"],\"https://images-na.ssl-images-amazon.com/images/I/61TF3dyEZZL._UX466_.jpg\":[\"592\",\"466\"]}}],\"Black\":[{\"large\":\"https://images-na.ssl-images-amazon.com/images/I/41loaRuvR9L.jpg\",\"variant\":\"MAIN\",\"hiRes\":\"https://images-na.ssl-images-amazon.com/images/I/81UFAlUcZaL._UL1500_.jpg\",\"thumb\":\"https://images-na.ssl-images-amazon.com/images/I/41loaRuvR9L._SR38,50_.jpg\",\"main\":{\"https://images-na.ssl-images-amazon.com/images/I/81UFAlUcZaL._UX342_.jpg\":[\"421\",\"342\"],\"https://images-na.ssl-images-amazon.com/images/I/81UFAlUcZaL._UX466_.jpg\":[\"574\",\"466\"],\"https://images-na.ssl-images-amazon.com/images/I/81UFAlUcZaL._UX679_.jpg\":[\"836\",\"679\"],\"https://images-na.ssl-images-amazon.com/images/I/81UFAlUcZaL._UX385_.jpg\":[\"474\",\"385\"],\"https://images-na.ssl-images-amazon.com/images/I/81UFAlUcZaL._UX569_.jpg\":[\"700\",\"569\"],\"https://images-na.ssl-images-amazon.com/images/I/81UFAlUcZaL._UX522_.jpg\":[\"642\",\"522\"],\"https://images-na.ssl-images-amazon.com/images/I/81UFAlUcZaL._UX425_.jpg\":[\"523\",\"425\"]}}],\"2 Deep Royal / 2 Navy\":[{\"large\":\"https://images-na.ssl-images-amazon.com/images/I/41bkguimXUL.jpg\",\"variant\":\"MAIN\",\"hiRes\":\"https://images-na.ssl-images-amazon.com/images/I/61sNF8ZDL%2BL._UL1200_.jpg\",\"thumb\":\"https://images-na.ssl-images-amazon.com/images/I/41bkguimXUL._SR38,50_.jpg\",\"main\":{\"https://images-na.ssl-images-amazon.com/images/I/61sNF8ZDL%2BL._UX679_.jpg\":[\"863\",\"679\"],\"https://images-na.ssl-images-amazon.com/images/I/61sNF8ZDL%2BL._UX466_.jpg\":[\"592\",\"466\"],\"https://images-na.ssl-images-amazon.com/images/I/61sNF8ZDL%2BL._UX425_.jpg\":[\"540\",\"425\"],\"https://images-na.ssl-images-amazon.com/images/I/61sNF8ZDL%2BL._UX342_.jpg\":[\"435\",\"342\"],\"https://images-na.ssl-images-amazon.com/images/I/61sNF8ZDL%2BL._UX569_.jpg\":[\"723\",\"569\"],\"https://images-na.ssl-images-amazon.com/images/I/61sNF8ZDL%2BL._UX522_.jpg\":[\"664\",\"522\"],\"https://images-na.ssl-images-amazon.com/images/I/61sNF8ZDL%2BL._UX385_.jpg\":[\"489\",\"385\"]}}],\"2 Deep Royal / 2 Purple\":[{\"large\":\"https://images-na.ssl-images-amazon.com/images/I/41bSRRSDFsL.jpg\",\"variant\":\"MAIN\",\"hiRes\":\"https://images-na.ssl-images-amazon.com/images/I/61Nz0vIw0tL._UL1200_.jpg\",\"thumb\":\"https://images-na.ssl-images-amazon.com/images/I/41bSRRSDFsL._SR38,50_.jpg\",\"main\":{\"https://images-na.ssl-images-amazon.com/images/I/61Nz0vIw0tL._UX425_.jpg\":[\"540\",\"425\"],\"https://images-na.ssl-images-amazon.com/images/I/61Nz0vIw0tL._UX385_.jpg\":[\"489\",\"385\"],\"https://images-na.ssl-images-amazon.com/images/I/61Nz0vIw0tL._UX466_.jpg\":[\"592\",\"466\"],\"https://images-na.ssl-images-amazon.com/images/I/61Nz0vIw0tL._UX342_.jpg\":[\"435\",\"342\"],\"https://images-na.ssl-images-amazon.com/images/I/61Nz0vIw0tL._UX679_.jpg\":[\"863\",\"679\"],\"https://images-na.ssl-images-amazon.com/images/I/61Nz0vIw0tL._UX522_.jpg\":[\"664\",\"522\"],\"https://images-na.ssl-images-amazon.com/images/I/61Nz0vIw0tL._UX569_.jpg\":[\"723\",\"569\"]}}],\"2 Deep Forest / 2 Gold\":[{\"large\":\"https://images-na.ssl-images-amazon.com/images/I/41%2BMdFsl1pL.jpg\",\"variant\":\"MAIN\",\"hiRes\":\"https://images-na.ssl-images-amazon.com/images/I/61Kn5kj6FlL._UL1200_.jpg\",\"thumb\":\"https://images-na.ssl-images-amazon.com/images/I/41%2BMdFsl1pL._SR38,50_.jpg\",\"main\":{\"https://images-na.ssl-images-amazon.com/images/I/61Kn5kj6FlL._UX569_.jpg\":[\"739\",\"569\"],\"https://images-na.ssl-images-amazon.com/images/I/61Kn5kj6FlL._UX522_.jpg\":[\"678\",\"522\"],\"https://images-na.ssl-images-amazon.com/images/I/61Kn5kj6FlL._UX342_.jpg\":[\"444\",\"342\"],\"https://images-na.ssl-images-amazon.com/images/I/61Kn5kj6FlL._UX466_.jpg\":[\"605\",\"466\"],\"https://images-na.ssl-images-amazon.com/images/I/61Kn5kj6FlL._UY550_.jpg\":[\"550\",\"424\"],\"https://images-na.ssl-images-amazon.com/images/I/61Kn5kj6FlL._UY879_.jpg\":[\"879\",\"677\"],\"https://images-na.ssl-images-amazon.com/images/I/61Kn5kj6FlL._UY500_.jpg\":[\"500\",\"385\"]}}],\"Denim Blue\":[{\"large\":\"https://images-na.ssl-images-amazon.com/images/I/41ORtWYGW6L.jpg\",\"variant\":\"MAIN\",\"hiRes\":\"https://images-na.ssl-images-amazon.com/images/I/91fSZOTo0aL._UL1500_.jpg\",\"thumb\":\"https://images-na.ssl-images-amazon.com/images/I/41ORtWYGW6L._SR38,50_.jpg\",\"main\":{\"https://images-na.ssl-images-amazon.com/images/I/91fSZOTo0aL._UX466_.jpg\":[\"574\",\"466\"],\"https://images-na.ssl-images-amazon.com/images/I/91fSZOTo0aL._UX385_.jpg\":[\"474\",\"385\"],\"https://images-na.ssl-images-amazon.com/images/I/91fSZOTo0aL._UX342_.jpg\":[\"421\",\"342\"],\"https://images-na.ssl-images-amazon.com/images/I/91fSZOTo0aL._UX522_.jpg\":[\"642\",\"522\"],\"https://images-na.ssl-images-amazon.com/images/I/91fSZOTo0aL._UX425_.jpg\":[\"523\",\"425\"],\"https://images-na.ssl-images-amazon.com/images/I/91fSZOTo0aL._UX569_.jpg\":[\"700\",\"569\"],\"https://images-na.ssl-images-amazon.com/images/I/91fSZOTo0aL._UX679_.jpg\":[\"836\",\"679\"]}}],\"2 Purple / 2 White\":[{\"large\":\"https://images-na.ssl-images-amazon.com/images/I/41YlamlDWlL.jpg\",\"variant\":\"MAIN\",\"hiRes\":\"https://images-na.ssl-images-amazon.com/images/I/61WcG0bkjYL._UL1200_.jpg\",\"thumb\":\"https://images-na.ssl-images-amazon.com/images/I/41YlamlDWlL._SR38,50_.jpg\",\"main\":{\"https://images-na.ssl-images-amazon.com/images/I/61WcG0bkjYL._UX522_.jpg\":[\"676\",\"522\"],\"https://images-na.ssl-images-amazon.com/images/I/61WcG0bkjYL._UY550_.jpg\":[\"550\",\"425\"],\"https://images-na.ssl-images-amazon.com/images/I/61WcG0bkjYL._UX342_.jpg\":[\"443\",\"342\"],\"https://images-na.ssl-images-amazon.com/images/I/61WcG0bkjYL._UX569_.jpg\":[\"737\",\"569\"],\"https://images-na.ssl-images-amazon.com/images/I/61WcG0bkjYL._UX385_.jpg\":[\"498\",\"385\"],\"https://images-na.ssl-images-amazon.com/images/I/61WcG0bkjYL._UX466_.jpg\":[\"603\",\"466\"],\"https://images-na.ssl-images-amazon.com/images/I/61WcG0bkjYL._UX679_.jpg\":[\"879\",\"679\"]}}],\"2 Purple / 2 Smoke Grey\":[{\"large\":\"https://images-na.ssl-images-amazon.com/images/I/41Z3gqWtQ5L.jpg\",\"variant\":\"MAIN\",\"hiRes\":\"https://images-na.ssl-images-amazon.com/images/I/617xd6k3RCL._UL1200_.jpg\",\"thumb\":\"https://images-na.ssl-images-amazon.com/images/I/41Z3gqWtQ5L._SR38,50_.jpg\",\"main\":{\"https://images-na.ssl-images-amazon.com/images/I/617xd6k3RCL._UX522_.jpg\":[\"676\",\"522\"],\"https://images-na.ssl-images-amazon.com/images/I/617xd6k3RCL._UX342_.jpg\":[\"443\",\"342\"],\"https://images-na.ssl-images-amazon.com/images/I/617xd6k3RCL._UX466_.jpg\":[\"603\",\"466\"],\"https://images-na.ssl-images-amazon.com/images/I/617xd6k3RCL._UX569_.jpg\":[\"737\",\"569\"],\"https://images-na.ssl-images-amazon.com/images/I/617xd6k3RCL._UY550_.jpg\":[\"550\",\"425\"],\"https://images-na.ssl-images-amazon.com/images/I/617xd6k3RCL._UX679_.jpg\":[\"879\",\"679\"],\"https://images-na.ssl-images-amazon.com/images/I/617xd6k3RCL._UX385_.jpg\":[\"498\",\"385\"]}}],\"2 Smoke Grey / 2 White\":[{\"large\":\"https://images-na.ssl-images-amazon.com/images/I/416YblF4uzL.jpg\",\"variant\":\"MAIN\",\"hiRes\":\"https://images-na.ssl-images-amazon.com/images/I/61rOWkZ-WfL._UL1200_.jpg\",\"thumb\":\"https://images-na.ssl-images-amazon.com/images/I/416YblF4uzL._SR38,50_.jpg\",\"main\":{\"https://images-na.ssl-images-amazon.com/images/I/61rOWkZ-WfL._UX466_.jpg\":[\"595\",\"466\"],\"https://images-na.ssl-images-amazon.com/images/I/61rOWkZ-WfL._UX385_.jpg\":[\"491\",\"385\"],\"https://images-na.ssl-images-amazon.com/images/I/61rOWkZ-WfL._UX522_.jpg\":[\"666\",\"522\"],\"https://images-na.ssl-images-amazon.com/images/I/61rOWkZ-WfL._UX569_.jpg\":[\"726\",\"569\"],\"https://images-na.ssl-images-amazon.com/images/I/61rOWkZ-WfL._UX679_.jpg\":[\"867\",\"679\"],\"https://images-na.ssl-images-amazon.com/images/I/61rOWkZ-WfL._UX342_.jpg\":[\"437\",\"342\"],\"https://images-na.ssl-images-amazon.com/images/I/61rOWkZ-WfL._UX425_.jpg\":[\"543\",\"425\"]}}],\"2 Denim Blue / 2 Sand\":[{\"large\":\"https://images-na.ssl-images-amazon.com/images/I/31pFkPRrkOL.jpg\",\"variant\":\"MAIN\",\"hiRes\":\"https://images-na.ssl-images-amazon.com/images/I/61LcDSSkZdL._UL1200_.jpg\",\"thumb\":\"https://images-na.ssl-images-amazon.com/images/I/31pFkPRrkOL._SR38,50_.jpg\",\"main\":{\"https://images-na.ssl-images-amazon.com/images/I/61LcDSSkZdL._UY550_.jpg\":[\"550\",\"403\"],\"https://images-na.ssl-images-amazon.com/images/I/61LcDSSkZdL._UY445_.jpg\":[\"445\",\"326\"],\"https://images-na.ssl-images-amazon.com/images/I/61LcDSSkZdL._UY606_.jpg\":[\"606\",\"444\"],\"https://images-na.ssl-images-amazon.com/images/I/61LcDSSkZdL._UY679_.jpg\":[\"679\",\"497\"],\"https://images-na.ssl-images-amazon.com/images/I/61LcDSSkZdL._UY879_.jpg\":[\"879\",\"644\"],\"https://images-na.ssl-images-amazon.com/images/I/61LcDSSkZdL._UY500_.jpg\":[\"500\",\"366\"],\"https://images-na.ssl-images-amazon.com/images/I/61LcDSSkZdL._UY741_.jpg\":[\"741\",\"543\"]}}],\"Sand\":[{\"large\":\"https://images-na.ssl-images-amazon.com/images/I/31eWuU%2Bht4L.jpg\",\"variant\":\"MAIN\",\"hiRes\":\"https://images-na.ssl-images-amazon.com/images/I/51Hu42RsgeL._UL1200_.jpg\",\"thumb\":\"https://images-na.ssl-images-amazon.com/images/I/31eWuU%2Bht4L._SR38,50_.jpg\",\"main\":{\"https://images-na.ssl-images-amazon.com/images/I/51Hu42RsgeL._UX466_.jpg\":[\"596\",\"466\"],\"https://images-na.ssl-images-amazon.com/images/I/51Hu42RsgeL._UX679_.jpg\":[\"868\",\"679\"],\"https://images-na.ssl-images-amazon.com/images/I/51Hu42RsgeL._UX385_.jpg\":[\"492\",\"385\"],\"https://images-na.ssl-images-amazon.com/images/I/51Hu42RsgeL._UX569_.jpg\":[\"727\",\"569\"],\"https://images-na.ssl-images-amazon.com/images/I/51Hu42RsgeL._UX522_.jpg\":[\"667\",\"522\"],\"https://images-na.ssl-images-amazon.com/images/I/51Hu42RsgeL._UX425_.jpg\":[\"543\",\"425\"],\"https://images-na.ssl-images-amazon.com/images/I/51Hu42RsgeL._UX342_.jpg\":[\"437\",\"342\"]}}],\"2 Ash / 2 Denim Blue\":[{\"large\":\"https://images-na.ssl-images-amazon.com/images/I/41cNwy7VBzL.jpg\",\"variant\":\"MAIN\",\"hiRes\":\"https://images-na.ssl-images-amazon.com/images/I/71dUHSmEE1L._UL1200_.jpg\",\"thumb\":\"https://images-na.ssl-images-amazon.com/images/I/41cNwy7VBzL._SR38,50_.jpg\",\"main\":{\"https://images-na.ssl-images-amazon.com/images/I/71dUHSmEE1L._UX569_.jpg\":[\"737\",\"569\"],\"https://images-na.ssl-images-amazon.com/images/I/71dUHSmEE1L._UX466_.jpg\":[\"604\",\"466\"],\"https://images-na.ssl-images-amazon.com/images/I/71dUHSmEE1L._UX342_.jpg\":[\"443\",\"342\"],\"https://images-na.ssl-images-amazon.com/images/I/71dUHSmEE1L._UY550_.jpg\":[\"550\",\"424\"],\"https://images-na.ssl-images-amazon.com/images/I/71dUHSmEE1L._UX522_.jpg\":[\"676\",\"522\"],\"https://images-na.ssl-images-amazon.com/images/I/71dUHSmEE1L._UY879_.jpg\":[\"879\",\"678\"],\"https://images-na.ssl-images-amazon.com/images/I/71dUHSmEE1L._UX385_.jpg\":[\"499\",\"385\"]}}],\"Camouflage\":[{\"large\":\"https://images-na.ssl-images-amazon.com/images/I/51rQir%2BbuqL.jpg\",\"variant\":\"MAIN\",\"hiRes\":\"https://images-na.ssl-images-amazon.com/images/I/71BS9SYfDBL._UL1081_.jpg\",\"thumb\":\"https://images-na.ssl-images-amazon.com/images/I/51rQir%2BbuqL._SR38,50_.jpg\",\"main\":{\"https://images-na.ssl-images-amazon.com/images/I/71BS9SYfDBL._UX466_.jpg\":[\"540\",\"466\"],\"https://images-na.ssl-images-amazon.com/images/I/71BS9SYfDBL._UX522_.jpg\":[\"605\",\"522\"],\"https://images-na.ssl-images-amazon.com/images/I/71BS9SYfDBL._UX425_.jpg\":[\"492\",\"425\"],\"https://images-na.ssl-images-amazon.com/images/I/71BS9SYfDBL._UX385_.jpg\":[\"446\",\"385\"],\"https://images-na.ssl-images-amazon.com/images/I/71BS9SYfDBL._UX569_.jpg\":[\"659\",\"569\"],\"https://images-na.ssl-images-amazon.com/images/I/71BS9SYfDBL._UX342_.jpg\":[\"396\",\"342\"],\"https://images-na.ssl-images-amazon.com/images/I/71BS9SYfDBL._UX679_.jpg\":[\"787\",\"679\"]}}],\"2 Deep Forest / 2 Sand\":[{\"large\":\"https://images-na.ssl-images-amazon.com/images/I/31jUPWHmD0L.jpg\",\"variant\":\"MAIN\",\"hiRes\":\"https://images-na.ssl-images-amazon.com/images/I/619%2BxhjUzaL._UL1200_.jpg\",\"thumb\":\"https://images-na.ssl-images-amazon.com/images/I/31jUPWHmD0L._SR38,50_.jpg\",\"main\":{\"https://images-na.ssl-images-amazon.com/images/I/619%2BxhjUzaL._UY679_.jpg\":[\"679\",\"497\"],\"https://images-na.ssl-images-amazon.com/images/I/619%2BxhjUzaL._UY606_.jpg\":[\"606\",\"443\"],\"https://images-na.ssl-images-amazon.com/images/I/619%2BxhjUzaL._UY879_.jpg\":[\"879\",\"643\"],\"https://images-na.ssl-images-amazon.com/images/I/619%2BxhjUzaL._UY550_.jpg\":[\"550\",\"402\"],\"https://images-na.ssl-images-amazon.com/images/I/619%2BxhjUzaL._UY445_.jpg\":[\"445\",\"326\"],\"https://images-na.ssl-images-amazon.com/images/I/619%2BxhjUzaL._UY741_.jpg\":[\"741\",\"542\"],\"https://images-na.ssl-images-amazon.com/images/I/619%2BxhjUzaL._UY500_.jpg\":[\"500\",\"366\"]}}],\"2 Deep Forest / 2 Deep Red\":[{\"large\":\"https://images-na.ssl-images-amazon.com/images/I/41PMDXu399L.jpg\",\"variant\":\"MAIN\",\"hiRes\":\"https://images-na.ssl-images-amazon.com/images/I/61qGn91oPkL._UL1200_.jpg\",\"thumb\":\"https://images-na.ssl-images-amazon.com/images/I/41PMDXu399L._SR38,50_.jpg\",\"main\":{\"https://images-na.ssl-images-amazon.com/images/I/61qGn91oPkL._UX385_.jpg\":[\"497\",\"385\"],\"https://images-na.ssl-images-amazon.com/images/I/61qGn91oPkL._UX342_.jpg\":[\"442\",\"342\"],\"https://images-na.ssl-images-amazon.com/images/I/61qGn91oPkL._UX466_.jpg\":[\"602\",\"466\"],\"https://images-na.ssl-images-amazon.com/images/I/61qGn91oPkL._UX569_.jpg\":[\"735\",\"569\"],\"https://images-na.ssl-images-amazon.com/images/I/61qGn91oPkL._UX425_.jpg\":[\"549\",\"425\"],\"https://images-na.ssl-images-amazon.com/images/I/61qGn91oPkL._UX679_.jpg\":[\"877\",\"679\"],\"https://images-na.ssl-images-amazon.com/images/I/61qGn91oPkL._UX522_.jpg\":[\"674\",\"522\"]}}],\"2 Deep Royal / 2 Light Blue\":[{\"large\":\"https://images-na.ssl-images-amazon.com/images/I/41TnFmCP6YL.jpg\",\"variant\":\"MAIN\",\"hiRes\":\"https://images-na.ssl-images-amazon.com/images/I/610K-5JDinL._UL1200_.jpg\",\"thumb\":\"https://images-na.ssl-images-amazon.com/images/I/41TnFmCP6YL._SR38,50_.jpg\",\"main\":{\"https://images-na.ssl-images-amazon.com/images/I/610K-5JDinL._UX385_.jpg\":[\"490\",\"385\"],\"https://images-na.ssl-images-amazon.com/images/I/610K-5JDinL._UX679_.jpg\":[\"864\",\"679\"],\"https://images-na.ssl-images-amazon.com/images/I/610K-5JDinL._UX466_.jpg\":[\"593\",\"466\"],\"https://images-na.ssl-images-amazon.com/images/I/610K-5JDinL._UX569_.jpg\":[\"724\",\"569\"],\"https://images-na.ssl-images-amazon.com/images/I/610K-5JDinL._UX425_.jpg\":[\"541\",\"425\"],\"https://images-na.ssl-images-amazon.com/images/I/610K-5JDinL._UX522_.jpg\":[\"664\",\"522\"],\"https://images-na.ssl-images-amazon.com/images/I/610K-5JDinL._UX342_.jpg\":[\"435\",\"342\"]}}],\"2 Maroon / 2 Light Steel\":[{\"large\":\"https://images-na.ssl-images-amazon.com/images/I/41LT4EK13LL.jpg\",\"variant\":\"MAIN\",\"hiRes\":\"https://images-na.ssl-images-amazon.com/images/I/61SQSSYffTL._UL1200_.jpg\",\"thumb\":\"https://images-na.ssl-images-amazon.com/images/I/41LT4EK13LL._SR38,50_.jpg\",\"main\":{\"https://images-na.ssl-images-amazon.com/images/I/61SQSSYffTL._UY550_.jpg\":[\"550\",\"400\"],\"https://images-na.ssl-images-amazon.com/images/I/61SQSSYffTL._UY606_.jpg\":[\"606\",\"440\"],\"https://images-na.ssl-images-amazon.com/images/I/61SQSSYffTL._UY445_.jpg\":[\"445\",\"323\"],\"https://images-na.ssl-images-amazon.com/images/I/61SQSSYffTL._UY879_.jpg\":[\"879\",\"639\"],\"https://images-na.ssl-images-amazon.com/images/I/61SQSSYffTL._UY500_.jpg\":[\"500\",\"363\"],\"https://images-na.ssl-images-amazon.com/images/I/61SQSSYffTL._UY679_.jpg\":[\"679\",\"493\"],\"https://images-na.ssl-images-amazon.com/images/I/61SQSSYffTL._UY741_.jpg\":[\"741\",\"538\"]}}],\"2 Light Blue / 2 Yellow\":[{\"large\":\"https://images-na.ssl-images-amazon.com/images/I/319E--bXzUL.jpg\",\"variant\":\"MAIN\",\"hiRes\":\"https://images-na.ssl-images-amazon.com/images/I/61jWYjZ7ZPL._UL1200_.jpg\",\"thumb\":\"https://images-na.ssl-images-amazon.com/images/I/319E--bXzUL._SR38,50_.jpg\",\"main\":{\"https://images-na.ssl-images-amazon.com/images/I/61jWYjZ7ZPL._UX522_.jpg\":[\"677\",\"522\"],\"https://images-na.ssl-images-amazon.com/images/I/61jWYjZ7ZPL._UX569_.jpg\":[\"738\",\"569\"],\"https://images-na.ssl-images-amazon.com/images/I/61jWYjZ7ZPL._UX342_.jpg\":[\"444\",\"342\"],\"https://images-na.ssl-images-amazon.com/images/I/61jWYjZ7ZPL._UY879_.jpg\":[\"879\",\"678\"],\"https://images-na.ssl-images-amazon.com/images/I/61jWYjZ7ZPL._UX466_.jpg\":[\"605\",\"466\"],\"https://images-na.ssl-images-amazon.com/images/I/61jWYjZ7ZPL._UY550_.jpg\":[\"550\",\"424\"],\"https://images-na.ssl-images-amazon.com/images/I/61jWYjZ7ZPL._UX385_.jpg\":[\"499\",\"385\"]}}],\"2 Black / 2 Light Steel\":[{\"large\":\"https://images-na.ssl-images-amazon.com/images/I/41Jc9ZHp1eL.jpg\",\"variant\":\"MAIN\",\"hiRes\":\"https://images-na.ssl-images-amazon.com/images/I/61K6MxIwbvL._UL1200_.jpg\",\"thumb\":\"https://images-na.ssl-images-amazon.com/images/I/41Jc9ZHp1eL._SR38,50_.jpg\",\"main\":{\"https://images-na.ssl-images-amazon.com/images/I/61K6MxIwbvL._UY550_.jpg\":[\"550\",\"423\"],\"https://images-na.ssl-images-amazon.com/images/I/61K6MxIwbvL._UX342_.jpg\":[\"445\",\"342\"],\"https://images-na.ssl-images-amazon.com/images/I/61K6MxIwbvL._UY500_.jpg\":[\"500\",\"385\"],\"https://images-na.ssl-images-amazon.com/images/I/61K6MxIwbvL._UX569_.jpg\":[\"740\",\"569\"],\"https://images-na.ssl-images-amazon.com/images/I/61K6MxIwbvL._UX466_.jpg\":[\"606\",\"466\"],\"https://images-na.ssl-images-amazon.com/images/I/61K6MxIwbvL._UX522_.jpg\":[\"679\",\"522\"],\"https://images-na.ssl-images-amazon.com/images/I/61K6MxIwbvL._UY879_.jpg\":[\"879\",\"676\"]}}],\"2 Maroon / 2 Deep Red\":[{\"large\":\"https://images-na.ssl-images-amazon.com/images/I/41-4EffvbsL.jpg\",\"variant\":\"MAIN\",\"hiRes\":\"https://images-na.ssl-images-amazon.com/images/I/61zkCd%2BO9CL._UL1200_.jpg\",\"thumb\":\"https://images-na.ssl-images-amazon.com/images/I/41-4EffvbsL._SR38,50_.jpg\",\"main\":{\"https://images-na.ssl-images-amazon.com/images/I/61zkCd%2BO9CL._UY679_.jpg\":[\"679\",\"495\"],\"https://images-na.ssl-images-amazon.com/images/I/61zkCd%2BO9CL._UY606_.jpg\":[\"606\",\"441\"],\"https://images-na.ssl-images-amazon.com/images/I/61zkCd%2BO9CL._UY445_.jpg\":[\"445\",\"324\"],\"https://images-na.ssl-images-amazon.com/images/I/61zkCd%2BO9CL._UY500_.jpg\":[\"500\",\"364\"],\"https://images-na.ssl-images-amazon.com/images/I/61zkCd%2BO9CL._UY879_.jpg\":[\"879\",\"640\"],\"https://images-na.ssl-images-amazon.com/images/I/61zkCd%2BO9CL._UY741_.jpg\":[\"741\",\"540\"],\"https://images-na.ssl-images-amazon.com/images/I/61zkCd%2BO9CL._UY550_.jpg\":[\"550\",\"401\"]}}],\"2 Orange / 2 Lime\":[{\"large\":\"https://images-na.ssl-images-amazon.com/images/I/41VJBDPvCwL.jpg\",\"variant\":\"MAIN\",\"hiRes\":\"https://images-na.ssl-images-amazon.com/images/I/612rRsN-GFL._UL1200_.jpg\",\"thumb\":\"https://images-na.ssl-images-amazon.com/images/I/41VJBDPvCwL._SR38,50_.jpg\",\"main\":{\"https://images-na.ssl-images-amazon.com/images/I/612rRsN-GFL._UY741_.jpg\":[\"741\",\"542\"],\"https://images-na.ssl-images-amazon.com/images/I/612rRsN-GFL._UY445_.jpg\":[\"445\",\"325\"],\"https://images-na.ssl-images-amazon.com/images/I/612rRsN-GFL._UY679_.jpg\":[\"679\",\"496\"],\"https://images-na.ssl-images-amazon.com/images/I/612rRsN-GFL._UY606_.jpg\":[\"606\",\"443\"],\"https://images-na.ssl-images-amazon.com/images/I/612rRsN-GFL._UY550_.jpg\":[\"550\",\"402\"],\"https://images-na.ssl-images-amazon.com/images/I/612rRsN-GFL._UY879_.jpg\":[\"879\",\"642\"],\"https://images-na.ssl-images-amazon.com/images/I/612rRsN-GFL._UY500_.jpg\":[\"500\",\"365\"]}}],\"2 Lime / 2 Pale Pink\":[{\"large\":\"https://images-na.ssl-images-amazon.com/images/I/417nT5uNJ9L.jpg\",\"variant\":\"MAIN\",\"hiRes\":\"https://images-na.ssl-images-amazon.com/images/I/61r8lAkzbBL._UL1200_.jpg\",\"thumb\":\"https://images-na.ssl-images-amazon.com/images/I/417nT5uNJ9L._SR38,50_.jpg\",\"main\":{\"https://images-na.ssl-images-amazon.com/images/I/61r8lAkzbBL._UY879_.jpg\":[\"879\",\"643\"],\"https://images-na.ssl-images-amazon.com/images/I/61r8lAkzbBL._UY679_.jpg\":[\"679\",\"497\"],\"https://images-na.ssl-images-amazon.com/images/I/61r8lAkzbBL._UY500_.jpg\":[\"500\",\"366\"],\"https://images-na.ssl-images-amazon.com/images/I/61r8lAkzbBL._UY445_.jpg\":[\"445\",\"326\"],\"https://images-na.ssl-images-amazon.com/images/I/61r8lAkzbBL._UY741_.jpg\":[\"741\",\"542\"],\"https://images-na.ssl-images-amazon.com/images/I/61r8lAkzbBL._UY606_.jpg\":[\"606\",\"443\"],\"https://images-na.ssl-images-amazon.com/images/I/61r8lAkzbBL._UY550_.jpg\":[\"550\",\"402\"]}}],\"2 Denim Blue / 2 Deep Royal\":[{\"large\":\"https://images-na.ssl-images-amazon.com/images/I/41VIG9KSSAL.jpg\",\"variant\":\"MAIN\",\"hiRes\":\"https://images-na.ssl-images-amazon.com/images/I/616V-asDHeL._UL1200_.jpg\",\"thumb\":\"https://images-na.ssl-images-amazon.com/images/I/41VIG9KSSAL._SR38,50_.jpg\",\"main\":{\"https://images-na.ssl-images-amazon.com/images/I/616V-asDHeL._UX425_.jpg\":[\"550\",\"425\"],\"https://images-na.ssl-images-amazon.com/images/I/616V-asDHeL._UX466_.jpg\":[\"603\",\"466\"],\"https://images-na.ssl-images-amazon.com/images/I/616V-asDHeL._UX679_.jpg\":[\"878\",\"679\"],\"https://images-na.ssl-images-amazon.com/images/I/616V-asDHeL._UX522_.jpg\":[\"675\",\"522\"],\"https://images-na.ssl-images-amazon.com/images/I/616V-asDHeL._UX342_.jpg\":[\"442\",\"342\"],\"https://images-na.ssl-images-amazon.com/images/I/616V-asDHeL._UX385_.jpg\":[\"498\",\"385\"],\"https://images-na.ssl-images-amazon.com/images/I/616V-asDHeL._UX569_.jpg\":[\"736\",\"569\"]}}],\"2 Maroon / 2 Purple\":[{\"large\":\"https://images-na.ssl-images-amazon.com/images/I/41wyEZJGGpL.jpg\",\"variant\":\"MAIN\",\"hiRes\":\"https://images-na.ssl-images-amazon.com/images/I/61WF1y4eEgL._UL1200_.jpg\",\"thumb\":\"https://images-na.ssl-images-amazon.com/images/I/41wyEZJGGpL._SR38,50_.jpg\",\"main\":{\"https://images-na.ssl-images-amazon.com/images/I/61WF1y4eEgL._UY679_.jpg\":[\"679\",\"495\"],\"https://images-na.ssl-images-amazon.com/images/I/61WF1y4eEgL._UY741_.jpg\":[\"741\",\"540\"],\"https://images-na.ssl-images-amazon.com/images/I/61WF1y4eEgL._UY606_.jpg\":[\"606\",\"441\"],\"https://images-na.ssl-images-amazon.com/images/I/61WF1y4eEgL._UY550_.jpg\":[\"550\",\"401\"],\"https://images-na.ssl-images-amazon.com/images/I/61WF1y4eEgL._UY879_.jpg\":[\"879\",\"640\"],\"https://images-na.ssl-images-amazon.com/images/I/61WF1y4eEgL._UY500_.jpg\":[\"500\",\"364\"],\"https://images-na.ssl-images-amazon.com/images/I/61WF1y4eEgL._UY445_.jpg\":[\"445\",\"324\"]}}],\"2 Light Steel / 2 Yellow\":[{\"large\":\"https://images-na.ssl-images-amazon.com/images/I/41Eas8tuKnL.jpg\",\"variant\":\"MAIN\",\"hiRes\":\"https://images-na.ssl-images-amazon.com/images/I/61iQ7US226L._UL1200_.jpg\",\"thumb\":\"https://images-na.ssl-images-amazon.com/images/I/41Eas8tuKnL._SR38,50_.jpg\",\"main\":{\"https://images-na.ssl-images-amazon.com/images/I/61iQ7US226L._UX342_.jpg\":[\"442\",\"342\"],\"https://images-na.ssl-images-amazon.com/images/I/61iQ7US226L._UX679_.jpg\":[\"877\",\"679\"],\"https://images-na.ssl-images-amazon.com/images/I/61iQ7US226L._UX569_.jpg\":[\"735\",\"569\"],\"https://images-na.ssl-images-amazon.com/images/I/61iQ7US226L._UX466_.jpg\":[\"602\",\"466\"],\"https://images-na.ssl-images-amazon.com/images/I/61iQ7US226L._UX522_.jpg\":[\"674\",\"522\"],\"https://images-na.ssl-images-amazon.com/images/I/61iQ7US226L._UX425_.jpg\":[\"549\",\"425\"],\"https://images-na.ssl-images-amazon.com/images/I/61iQ7US226L._UX385_.jpg\":[\"497\",\"385\"]}}],\"2 Ash / 2 Pale Pink\":[{\"large\":\"https://images-na.ssl-images-amazon.com/images/I/415MoMYfOgL.jpg\",\"variant\":\"MAIN\",\"hiRes\":\"https://images-na.ssl-images-amazon.com/images/I/71bYggR6ObL._UL1200_.jpg\",\"thumb\":\"https://images-na.ssl-images-amazon.com/images/I/415MoMYfOgL._SR38,50_.jpg\",\"main\":{\"https://images-na.ssl-images-amazon.com/images/I/71bYggR6ObL._UX342_.jpg\":[\"440\",\"342\"],\"https://images-na.ssl-images-amazon.com/images/I/71bYggR6ObL._UX679_.jpg\":[\"874\",\"679\"],\"https://images-na.ssl-images-amazon.com/images/I/71bYggR6ObL._UX569_.jpg\":[\"733\",\"569\"],\"https://images-na.ssl-images-amazon.com/images/I/71bYggR6ObL._UX466_.jpg\":[\"600\",\"466\"],\"https://images-na.ssl-images-amazon.com/images/I/71bYggR6ObL._UX425_.jpg\":[\"547\",\"425\"],\"https://images-na.ssl-images-amazon.com/images/I/71bYggR6ObL._UX385_.jpg\":[\"496\",\"385\"],\"https://images-na.ssl-images-amazon.com/images/I/71bYggR6ObL._UX522_.jpg\":[\"672\",\"522\"]}}],\"2 Deep Forest / 2 Purple\":[{\"large\":\"https://images-na.ssl-images-amazon.com/images/I/41OmaW%2BLKdL.jpg\",\"variant\":\"MAIN\",\"hiRes\":\"https://images-na.ssl-images-amazon.com/images/I/61eYiHZj1DL._UL1200_.jpg\",\"thumb\":\"https://images-na.ssl-images-amazon.com/images/I/41OmaW%2BLKdL._SR38,50_.jpg\",\"main\":{\"https://images-na.ssl-images-amazon.com/images/I/61eYiHZj1DL._UX522_.jpg\":[\"676\",\"522\"],\"https://images-na.ssl-images-amazon.com/images/I/61eYiHZj1DL._UY550_.jpg\":[\"550\",\"424\"],\"https://images-na.ssl-images-amazon.com/images/I/61eYiHZj1DL._UX466_.jpg\":[\"604\",\"466\"],\"https://images-na.ssl-images-amazon.com/images/I/61eYiHZj1DL._UX342_.jpg\":[\"443\",\"342\"],\"https://images-na.ssl-images-amazon.com/images/I/61eYiHZj1DL._UX569_.jpg\":[\"737\",\"569\"],\"https://images-na.ssl-images-amazon.com/images/I/61eYiHZj1DL._UY879_.jpg\":[\"879\",\"678\"],\"https://images-na.ssl-images-amazon.com/images/I/61eYiHZj1DL._UX385_.jpg\":[\"499\",\"385\"]}}],\"2 Ash / 2 Deep Forest\":[{\"large\":\"https://images-na.ssl-images-amazon.com/images/I/41jnmNApbcL.jpg\",\"variant\":\"MAIN\",\"hiRes\":\"https://images-na.ssl-images-amazon.com/images/I/71xQLR0mIGL._UL1200_.jpg\",\"thumb\":\"https://images-na.ssl-images-amazon.com/images/I/41jnmNApbcL._SR38,50_.jpg\",\"main\":{\"https://images-na.ssl-images-amazon.com/images/I/71xQLR0mIGL._UX569_.jpg\":[\"735\",\"569\"],\"https://images-na.ssl-images-amazon.com/images/I/71xQLR0mIGL._UX522_.jpg\":[\"674\",\"522\"],\"https://images-na.ssl-images-amazon.com/images/I/71xQLR0mIGL._UX466_.jpg\":[\"602\",\"466\"],\"https://images-na.ssl-images-amazon.com/images/I/71xQLR0mIGL._UX385_.jpg\":[\"497\",\"385\"],\"https://images-na.ssl-images-amazon.com/images/I/71xQLR0mIGL._UX425_.jpg\":[\"549\",\"425\"],\"https://images-na.ssl-images-amazon.com/images/I/71xQLR0mIGL._UX679_.jpg\":[\"877\",\"679\"],\"https://images-na.ssl-images-amazon.com/images/I/71xQLR0mIGL._UX342_.jpg\":[\"442\",\"342\"]}}],\"2 Orange / 2 Pale Pink\":[{\"large\":\"https://images-na.ssl-images-amazon.com/images/I/41HHzlndfQL.jpg\",\"variant\":\"MAIN\",\"hiRes\":\"https://images-na.ssl-images-amazon.com/images/I/61a%2Bl713ZOL._UL1200_.jpg\",\"thumb\":\"https://images-na.ssl-images-amazon.com/images/I/41HHzlndfQL._SR38,50_.jpg\",\"main\":{\"https://images-na.ssl-images-amazon.com/images/I/61a%2Bl713ZOL._UX679_.jpg\":[\"876\",\"679\"],\"https://images-na.ssl-images-amazon.com/images/I/61a%2Bl713ZOL._UX569_.jpg\":[\"734\",\"569\"],\"https://images-na.ssl-images-amazon.com/images/I/61a%2Bl713ZOL._UX342_.jpg\":[\"441\",\"342\"],\"https://images-na.ssl-images-amazon.com/images/I/61a%2Bl713ZOL._UX522_.jpg\":[\"674\",\"522\"],\"https://images-na.ssl-images-amazon.com/images/I/61a%2Bl713ZOL._UX466_.jpg\":[\"601\",\"466\"],\"https://images-na.ssl-images-amazon.com/images/I/61a%2Bl713ZOL._UX385_.jpg\":[\"497\",\"385\"],\"https://images-na.ssl-images-amazon.com/images/I/61a%2Bl713ZOL._UX425_.jpg\":[\"548\",\"425\"]}}],\"2 Maroon / 2 Deep Royal\":[{\"large\":\"https://images-na.ssl-images-amazon.com/images/I/419zs8oiNAL.jpg\",\"variant\":\"MAIN\",\"hiRes\":\"https://images-na.ssl-images-amazon.com/images/I/61fenJ0dmRL._UL1200_.jpg\",\"thumb\":\"https://images-na.ssl-images-amazon.com/images/I/419zs8oiNAL._SR38,50_.jpg\",\"main\":{\"https://images-na.ssl-images-amazon.com/images/I/61fenJ0dmRL._UY741_.jpg\":[\"741\",\"540\"],\"https://images-na.ssl-images-amazon.com/images/I/61fenJ0dmRL._UY606_.jpg\":[\"606\",\"441\"],\"https://images-na.ssl-images-amazon.com/images/I/61fenJ0dmRL._UY879_.jpg\":[\"879\",\"640\"],\"https://images-na.ssl-images-amazon.com/images/I/61fenJ0dmRL._UY679_.jpg\":[\"679\",\"495\"],\"https://images-na.ssl-images-amazon.com/images/I/61fenJ0dmRL._UY550_.jpg\":[\"550\",\"401\"],\"https://images-na.ssl-images-amazon.com/images/I/61fenJ0dmRL._UY500_.jpg\":[\"500\",\"364\"],\"https://images-na.ssl-images-amazon.com/images/I/61fenJ0dmRL._UY445_.jpg\":[\"445\",\"324\"]}}],\"2 Orange / 2 Purple\":[{\"large\":\"https://images-na.ssl-images-amazon.com/images/I/4160bmGjeYL.jpg\",\"variant\":\"MAIN\",\"hiRes\":\"https://images-na.ssl-images-amazon.com/images/I/61ubYP-IlRL._UL1200_.jpg\",\"thumb\":\"https://images-na.ssl-images-amazon.com/images/I/4160bmGjeYL._SR38,50_.jpg\",\"main\":{\"https://images-na.ssl-images-amazon.com/images/I/61ubYP-IlRL._UX522_.jpg\":[\"676\",\"522\"],\"https://images-na.ssl-images-amazon.com/images/I/61ubYP-IlRL._UX466_.jpg\":[\"603\",\"466\"],\"https://images-na.ssl-images-amazon.com/images/I/61ubYP-IlRL._UX385_.jpg\":[\"498\",\"385\"],\"https://images-na.ssl-images-amazon.com/images/I/61ubYP-IlRL._UX569_.jpg\":[\"737\",\"569\"],\"https://images-na.ssl-images-amazon.com/images/I/61ubYP-IlRL._UX679_.jpg\":[\"879\",\"679\"],\"https://images-na.ssl-images-amazon.com/images/I/61ubYP-IlRL._UY550_.jpg\":[\"550\",\"425\"],\"https://images-na.ssl-images-amazon.com/images/I/61ubYP-IlRL._UX342_.jpg\":[\"443\",\"342\"]}}],\"2 Denim Blue / 2 Yellow\":[{\"large\":\"https://images-na.ssl-images-amazon.com/images/I/41C-c1UeulL.jpg\",\"variant\":\"MAIN\",\"hiRes\":\"https://images-na.ssl-images-amazon.com/images/I/6162SWZdePL._UL1200_.jpg\",\"thumb\":\"https://images-na.ssl-images-amazon.com/images/I/41C-c1UeulL._SR38,50_.jpg\",\"main\":{\"https://images-na.ssl-images-amazon.com/images/I/6162SWZdePL._UX522_.jpg\":[\"676\",\"522\"],\"https://images-na.ssl-images-amazon.com/images/I/6162SWZdePL._UX385_.jpg\":[\"499\",\"385\"],\"https://images-na.ssl-images-amazon.com/images/I/6162SWZdePL._UX466_.jpg\":[\"604\",\"466\"],\"https://images-na.ssl-images-amazon.com/images/I/6162SWZdePL._UY879_.jpg\":[\"879\",\"678\"],\"https://images-na.ssl-images-amazon.com/images/I/6162SWZdePL._UX569_.jpg\":[\"737\",\"569\"],\"https://images-na.ssl-images-amazon.com/images/I/6162SWZdePL._UX342_.jpg\":[\"443\",\"342\"],\"https://images-na.ssl-images-amazon.com/images/I/6162SWZdePL._UY550_.jpg\":[\"550\",\"424\"]}}],\"2 Sand / 2 White\":[{\"large\":\"https://images-na.ssl-images-amazon.com/images/I/31JhUakgPDL.jpg\",\"variant\":\"MAIN\",\"hiRes\":\"https://images-na.ssl-images-amazon.com/images/I/61oSUcG7UiL._UL1200_.jpg\",\"thumb\":\"https://images-na.ssl-images-amazon.com/images/I/31JhUakgPDL._SR38,50_.jpg\",\"main\":{\"https://images-na.ssl-images-amazon.com/images/I/61oSUcG7UiL._UY550_.jpg\":[\"550\",\"402\"],\"https://images-na.ssl-images-amazon.com/images/I/61oSUcG7UiL._UY879_.jpg\":[\"879\",\"642\"],\"https://images-na.ssl-images-amazon.com/images/I/61oSUcG7UiL._UY445_.jpg\":[\"445\",\"325\"],\"https://images-na.ssl-images-amazon.com/images/I/61oSUcG7UiL._UY606_.jpg\":[\"606\",\"443\"],\"https://images-na.ssl-images-amazon.com/images/I/61oSUcG7UiL._UY500_.jpg\":[\"500\",\"365\"],\"https://images-na.ssl-images-amazon.com/images/I/61oSUcG7UiL._UY679_.jpg\":[\"679\",\"496\"],\"https://images-na.ssl-images-amazon.com/images/I/61oSUcG7UiL._UY741_.jpg\":[\"741\",\"542\"]}}],\"2 Denim Blue / 2 Navy\":[{\"large\":\"https://images-na.ssl-images-amazon.com/images/I/41MKVc6wkFL.jpg\",\"variant\":\"MAIN\",\"hiRes\":\"https://images-na.ssl-images-amazon.com/images/I/61rwloQJ0%2BL._UL1200_.jpg\",\"thumb\":\"https://images-na.ssl-images-amazon.com/images/I/41MKVc6wkFL._SR38,50_.jpg\",\"main\":{\"https://images-na.ssl-images-amazon.com/images/I/61rwloQJ0%2BL._UX569_.jpg\":[\"733\",\"569\"],\"https://images-na.ssl-images-amazon.com/images/I/61rwloQJ0%2BL._UX522_.jpg\":[\"672\",\"522\"],\"https://images-na.ssl-images-amazon.com/images/I/61rwloQJ0%2BL._UX342_.jpg\":[\"440\",\"342\"],\"https://images-na.ssl-images-amazon.com/images/I/61rwloQJ0%2BL._UX679_.jpg\":[\"874\",\"679\"],\"https://images-na.ssl-images-amazon.com/images/I/61rwloQJ0%2BL._UX385_.jpg\":[\"496\",\"385\"],\"https://images-na.ssl-images-amazon.com/images/I/61rwloQJ0%2BL._UX466_.jpg\":[\"600\",\"466\"],\"https://images-na.ssl-images-amazon.com/images/I/61rwloQJ0%2BL._UX425_.jpg\":[\"547\",\"425\"]}}],\"2 Denim Blue / 2 Lime\":[{\"large\":\"https://images-na.ssl-images-amazon.com/images/I/410NLqVUo4L.jpg\",\"variant\":\"MAIN\",\"hiRes\":\"https://images-na.ssl-images-amazon.com/images/I/61arMJBGzML._UL1200_.jpg\",\"thumb\":\"https://images-na.ssl-images-amazon.com/images/I/410NLqVUo4L._SR38,50_.jpg\",\"main\":{\"https://images-na.ssl-images-amazon.com/images/I/61arMJBGzML._UY879_.jpg\":[\"879\",\"642\"],\"https://images-na.ssl-images-amazon.com/images/I/61arMJBGzML._UY606_.jpg\":[\"606\",\"442\"],\"https://images-na.ssl-images-amazon.com/images/I/61arMJBGzML._UY550_.jpg\":[\"550\",\"402\"],\"https://images-na.ssl-images-amazon.com/images/I/61arMJBGzML._UY741_.jpg\":[\"741\",\"541\"],\"https://images-na.ssl-images-amazon.com/images/I/61arMJBGzML._UY679_.jpg\":[\"679\",\"496\"],\"https://images-na.ssl-images-amazon.com/images/I/61arMJBGzML._UY445_.jpg\":[\"445\",\"325\"],\"https://images-na.ssl-images-amazon.com/images/I/61arMJBGzML._UY500_.jpg\":[\"500\",\"365\"]}}],\"2 Sand / 2 Yellow\":[{\"large\":\"https://images-na.ssl-images-amazon.com/images/I/31QnpQKlFtL.jpg\",\"variant\":\"MAIN\",\"hiRes\":\"https://images-na.ssl-images-amazon.com/images/I/61LO275byaL._UL1200_.jpg\",\"thumb\":\"https://images-na.ssl-images-amazon.com/images/I/31QnpQKlFtL._SR38,50_.jpg\",\"main\":{\"https://images-na.ssl-images-amazon.com/images/I/61LO275byaL._UY500_.jpg\":[\"500\",\"366\"],\"https://images-na.ssl-images-amazon.com/images/I/61LO275byaL._UY879_.jpg\":[\"879\",\"644\"],\"https://images-na.ssl-images-amazon.com/images/I/61LO275byaL._UY445_.jpg\":[\"445\",\"326\"],\"https://images-na.ssl-images-amazon.com/images/I/61LO275byaL._UY550_.jpg\":[\"550\",\"403\"],\"https://images-na.ssl-images-amazon.com/images/I/61LO275byaL._UY741_.jpg\":[\"741\",\"543\"],\"https://images-na.ssl-images-amazon.com/images/I/61LO275byaL._UY679_.jpg\":[\"679\",\"497\"],\"https://images-na.ssl-images-amazon.com/images/I/61LO275byaL._UY606_.jpg\":[\"606\",\"444\"]}}],\"2 Light Blue / 2 White\":[{\"large\":\"https://images-na.ssl-images-amazon.com/images/I/31MgUCPdL2L.jpg\",\"variant\":\"MAIN\",\"hiRes\":\"https://images-na.ssl-images-amazon.com/images/I/61eyzO-2ekL._UL1200_.jpg\",\"thumb\":\"https://images-na.ssl-images-amazon.com/images/I/31MgUCPdL2L._SR38,50_.jpg\",\"main\":{\"https://images-na.ssl-images-amazon.com/images/I/61eyzO-2ekL._UX569_.jpg\":[\"734\",\"569\"],\"https://images-na.ssl-images-amazon.com/images/I/61eyzO-2ekL._UX679_.jpg\":[\"876\",\"679\"],\"https://images-na.ssl-images-amazon.com/images/I/61eyzO-2ekL._UX342_.jpg\":[\"441\",\"342\"],\"https://images-na.ssl-images-amazon.com/images/I/61eyzO-2ekL._UX522_.jpg\":[\"674\",\"522\"],\"https://images-na.ssl-images-amazon.com/images/I/61eyzO-2ekL._UX425_.jpg\":[\"548\",\"425\"],\"https://images-na.ssl-images-amazon.com/images/I/61eyzO-2ekL._UX385_.jpg\":[\"497\",\"385\"],\"https://images-na.ssl-images-amazon.com/images/I/61eyzO-2ekL._UX466_.jpg\":[\"601\",\"466\"]}}],\"2 Deep Forest / 2 Pale Pink\":[{\"large\":\"https://images-na.ssl-images-amazon.com/images/I/41tXoEyCwOL.jpg\",\"variant\":\"MAIN\",\"hiRes\":\"https://images-na.ssl-images-amazon.com/images/I/61DzVrdRuqL._UL1200_.jpg\",\"thumb\":\"https://images-na.ssl-images-amazon.com/images/I/41tXoEyCwOL._SR38,50_.jpg\",\"main\":{\"https://images-na.ssl-images-amazon.com/images/I/61DzVrdRuqL._UX342_.jpg\":[\"441\",\"342\"],\"https://images-na.ssl-images-amazon.com/images/I/61DzVrdRuqL._UX679_.jpg\":[\"875\",\"679\"],\"https://images-na.ssl-images-amazon.com/images/I/61DzVrdRuqL._UX522_.jpg\":[\"673\",\"522\"],\"https://images-na.ssl-images-amazon.com/images/I/61DzVrdRuqL._UX569_.jpg\":[\"733\",\"569\"],\"https://images-na.ssl-images-amazon.com/images/I/61DzVrdRuqL._UX385_.jpg\":[\"496\",\"385\"],\"https://images-na.ssl-images-amazon.com/images/I/61DzVrdRuqL._UX466_.jpg\":[\"601\",\"466\"],\"https://images-na.ssl-images-amazon.com/images/I/61DzVrdRuqL._UX425_.jpg\":[\"548\",\"425\"]}}],\"2 Maroon / 2 White\":[{\"large\":\"https://images-na.ssl-images-amazon.com/images/I/312CcYqNrSL.jpg\",\"variant\":\"MAIN\",\"hiRes\":\"https://images-na.ssl-images-amazon.com/images/I/615vW0Ojk%2BL._UL1200_.jpg\",\"thumb\":\"https://images-na.ssl-images-amazon.com/images/I/312CcYqNrSL._SR38,50_.jpg\",\"main\":{\"https://images-na.ssl-images-amazon.com/images/I/615vW0Ojk%2BL._UY445_.jpg\":[\"445\",\"323\"],\"https://images-na.ssl-images-amazon.com/images/I/615vW0Ojk%2BL._UY879_.jpg\":[\"879\",\"638\"],\"https://images-na.ssl-images-amazon.com/images/I/615vW0Ojk%2BL._UY550_.jpg\":[\"550\",\"399\"],\"https://images-na.ssl-images-amazon.com/images/I/615vW0Ojk%2BL._UY679_.jpg\":[\"679\",\"493\"],\"https://images-na.ssl-images-amazon.com/images/I/615vW0Ojk%2BL._UY741_.jpg\":[\"741\",\"538\"],\"https://images-na.ssl-images-amazon.com/images/I/615vW0Ojk%2BL._UY606_.jpg\":[\"606\",\"440\"],\"https://images-na.ssl-images-amazon.com/images/I/615vW0Ojk%2BL._UY500_.jpg\":[\"500\",\"363\"]}}],\"2 Deep Red / 2 Light Blue\":[{\"large\":\"https://images-na.ssl-images-amazon.com/images/I/41xrYhlnkSL.jpg\",\"variant\":\"MAIN\",\"hiRes\":\"https://images-na.ssl-images-amazon.com/images/I/61fjC8Qk0sL._UL1200_.jpg\",\"thumb\":\"https://images-na.ssl-images-amazon.com/images/I/41xrYhlnkSL._SR38,50_.jpg\",\"main\":{\"https://images-na.ssl-images-amazon.com/images/I/61fjC8Qk0sL._UX679_.jpg\":[\"864\",\"679\"],\"https://images-na.ssl-images-amazon.com/images/I/61fjC8Qk0sL._UX466_.jpg\":[\"593\",\"466\"],\"https://images-na.ssl-images-amazon.com/images/I/61fjC8Qk0sL._UX385_.jpg\":[\"490\",\"385\"],\"https://images-na.ssl-images-amazon.com/images/I/61fjC8Qk0sL._UX342_.jpg\":[\"435\",\"342\"],\"https://images-na.ssl-images-amazon.com/images/I/61fjC8Qk0sL._UX425_.jpg\":[\"541\",\"425\"],\"https://images-na.ssl-images-amazon.com/images/I/61fjC8Qk0sL._UX569_.jpg\":[\"724\",\"569\"],\"https://images-na.ssl-images-amazon.com/images/I/61fjC8Qk0sL._UX522_.jpg\":[\"664\",\"522\"]}}],\"2 Deep Royal / 2 Smoke Grey\":[{\"large\":\"https://images-na.ssl-images-amazon.com/images/I/412ujBefCbL.jpg\",\"variant\":\"MAIN\",\"hiRes\":\"https://images-na.ssl-images-amazon.com/images/I/61m6uXidjlL._UL1200_.jpg\",\"thumb\":\"https://images-na.ssl-images-amazon.com/images/I/412ujBefCbL._SR38,50_.jpg\",\"main\":{\"https://images-na.ssl-images-amazon.com/images/I/61m6uXidjlL._UX569_.jpg\":[\"723\",\"569\"],\"https://images-na.ssl-images-amazon.com/images/I/61m6uXidjlL._UX522_.jpg\":[\"664\",\"522\"],\"https://images-na.ssl-images-amazon.com/images/I/61m6uXidjlL._UX425_.jpg\":[\"540\",\"425\"],\"https://images-na.ssl-images-amazon.com/images/I/61m6uXidjlL._UX385_.jpg\":[\"489\",\"385\"],\"https://images-na.ssl-images-amazon.com/images/I/61m6uXidjlL._UX342_.jpg\":[\"435\",\"342\"],\"https://images-na.ssl-images-amazon.com/images/I/61m6uXidjlL._UX466_.jpg\":[\"592\",\"466\"],\"https://images-na.ssl-images-amazon.com/images/I/61m6uXidjlL._UX679_.jpg\":[\"863\",\"679\"]}}],\"2 Denim Blue / 2 Deep Red\":[{\"large\":\"https://images-na.ssl-images-amazon.com/images/I/41gkTgyfmLL.jpg\",\"variant\":\"MAIN\",\"hiRes\":\"https://images-na.ssl-images-amazon.com/images/I/61Dnl9wxTRL._UL1200_.jpg\",\"thumb\":\"https://images-na.ssl-images-amazon.com/images/I/41gkTgyfmLL._SR38,50_.jpg\",\"main\":{\"https://images-na.ssl-images-amazon.com/images/I/61Dnl9wxTRL._UX679_.jpg\":[\"876\",\"679\"],\"https://images-na.ssl-images-amazon.com/images/I/61Dnl9wxTRL._UX569_.jpg\":[\"734\",\"569\"],\"https://images-na.ssl-images-amazon.com/images/I/61Dnl9wxTRL._UX522_.jpg\":[\"674\",\"522\"],\"https://images-na.ssl-images-amazon.com/images/I/61Dnl9wxTRL._UX385_.jpg\":[\"497\",\"385\"],\"https://images-na.ssl-images-amazon.com/images/I/61Dnl9wxTRL._UX425_.jpg\":[\"548\",\"425\"],\"https://images-na.ssl-images-amazon.com/images/I/61Dnl9wxTRL._UX466_.jpg\":[\"601\",\"466\"],\"https://images-na.ssl-images-amazon.com/images/I/61Dnl9wxTRL._UX342_.jpg\":[\"441\",\"342\"]}}],\"2 Black / 2 Deep Royal\":[{\"large\":\"https://images-na.ssl-images-amazon.com/images/I/41-2i8yfTfL.jpg\",\"variant\":\"MAIN\",\"hiRes\":\"https://images-na.ssl-images-amazon.com/images/I/61rpN3PB83L._UL1200_.jpg\",\"thumb\":\"https://images-na.ssl-images-amazon.com/images/I/41-2i8yfTfL._SR38,50_.jpg\",\"main\":{\"https://images-na.ssl-images-amazon.com/images/I/61rpN3PB83L._UY741_.jpg\":[\"741\",\"569\"],\"https://images-na.ssl-images-amazon.com/images/I/61rpN3PB83L._UY550_.jpg\":[\"550\",\"422\"],\"https://images-na.ssl-images-amazon.com/images/I/61rpN3PB83L._UY445_.jpg\":[\"445\",\"342\"],\"https://images-na.ssl-images-amazon.com/images/I/61rpN3PB83L._UY606_.jpg\":[\"606\",\"465\"],\"https://images-na.ssl-images-amazon.com/images/I/61rpN3PB83L._UY500_.jpg\":[\"500\",\"384\"],\"https://images-na.ssl-images-amazon.com/images/I/61rpN3PB83L._UY679_.jpg\":[\"679\",\"521\"],\"https://images-na.ssl-images-amazon.com/images/I/61rpN3PB83L._UY879_.jpg\":[\"879\",\"675\"]}}],\"2 Smoke Grey / 2 Yellow\":[{\"large\":\"https://images-na.ssl-images-amazon.com/images/I/411LimwIyUL.jpg\",\"variant\":\"MAIN\",\"hiRes\":\"https://images-na.ssl-images-amazon.com/images/I/61Q710ATQgL._UL1200_.jpg\",\"thumb\":\"https://images-na.ssl-images-amazon.com/images/I/411LimwIyUL._SR38,50_.jpg\",\"main\":{\"https://images-na.ssl-images-amazon.com/images/I/61Q710ATQgL._UX569_.jpg\":[\"730\",\"569\"],\"https://images-na.ssl-images-amazon.com/images/I/61Q710ATQgL._UX425_.jpg\":[\"545\",\"425\"],\"https://images-na.ssl-images-amazon.com/images/I/61Q710ATQgL._UX385_.jpg\":[\"494\",\"385\"],\"https://images-na.ssl-images-amazon.com/images/I/61Q710ATQgL._UX342_.jpg\":[\"439\",\"342\"],\"https://images-na.ssl-images-amazon.com/images/I/61Q710ATQgL._UX522_.jpg\":[\"670\",\"522\"],\"https://images-na.ssl-images-amazon.com/images/I/61Q710ATQgL._UX466_.jpg\":[\"598\",\"466\"],\"https://images-na.ssl-images-amazon.com/images/I/61Q710ATQgL._UX679_.jpg\":[\"871\",\"679\"]}}],\"2 Light Blue / 2 Navy\":[{\"large\":\"https://images-na.ssl-images-amazon.com/images/I/41Hx7aJuObL.jpg\",\"variant\":\"MAIN\",\"hiRes\":\"https://images-na.ssl-images-amazon.com/images/I/618Aiub5FvL._UL1200_.jpg\",\"thumb\":\"https://images-na.ssl-images-amazon.com/images/I/41Hx7aJuObL._SR38,50_.jpg\",\"main\":{\"https://images-na.ssl-images-amazon.com/images/I/618Aiub5FvL._UX385_.jpg\":[\"497\",\"385\"],\"https://images-na.ssl-images-amazon.com/images/I/618Aiub5FvL._UX425_.jpg\":[\"548\",\"425\"],\"https://images-na.ssl-images-amazon.com/images/I/618Aiub5FvL._UX342_.jpg\":[\"441\",\"342\"],\"https://images-na.ssl-images-amazon.com/images/I/618Aiub5FvL._UX522_.jpg\":[\"674\",\"522\"],\"https://images-na.ssl-images-amazon.com/images/I/618Aiub5FvL._UX569_.jpg\":[\"734\",\"569\"],\"https://images-na.ssl-images-amazon.com/images/I/618Aiub5FvL._UX466_.jpg\":[\"601\",\"466\"],\"https://images-na.ssl-images-amazon.com/images/I/618Aiub5FvL._UX679_.jpg\":[\"876\",\"679\"]}}],\"Smoke Grey\":[{\"large\":\"https://images-na.ssl-images-amazon.com/images/I/41AQxZhhVeL.jpg\",\"variant\":\"MAIN\",\"hiRes\":\"https://images-na.ssl-images-amazon.com/images/I/91pjpxYDkkL._UL1500_.jpg\",\"thumb\":\"https://images-na.ssl-images-amazon.com/images/I/41AQxZhhVeL._SR38,50_.jpg\",\"main\":{\"https://images-na.ssl-images-amazon.com/images/I/91pjpxYDkkL._UX679_.jpg\":[\"836\",\"679\"],\"https://images-na.ssl-images-amazon.com/images/I/91pjpxYDkkL._UX569_.jpg\":[\"700\",\"569\"],\"https://images-na.ssl-images-amazon.com/images/I/91pjpxYDkkL._UX522_.jpg\":[\"642\",\"522\"],\"https://images-na.ssl-images-amazon.com/images/I/91pjpxYDkkL._UX425_.jpg\":[\"523\",\"425\"],\"https://images-na.ssl-images-amazon.com/images/I/91pjpxYDkkL._UX466_.jpg\":[\"574\",\"466\"],\"https://images-na.ssl-images-amazon.com/images/I/91pjpxYDkkL._UX385_.jpg\":[\"474\",\"385\"],\"https://images-na.ssl-images-amazon.com/images/I/91pjpxYDkkL._UX342_.jpg\":[\"421\",\"342\"]}}],\"2 Lime / 2 Purple\":[{\"large\":\"https://images-na.ssl-images-amazon.com/images/I/419WTjbAXuL.jpg\",\"variant\":\"MAIN\",\"hiRes\":\"https://images-na.ssl-images-amazon.com/images/I/61XKpEsO3VL._UL1200_.jpg\",\"thumb\":\"https://images-na.ssl-images-amazon.com/images/I/419WTjbAXuL._SR38,50_.jpg\",\"main\":{\"https://images-na.ssl-images-amazon.com/images/I/61XKpEsO3VL._UY679_.jpg\":[\"679\",\"496\"],\"https://images-na.ssl-images-amazon.com/images/I/61XKpEsO3VL._UY500_.jpg\":[\"500\",\"365\"],\"https://images-na.ssl-images-amazon.com/images/I/61XKpEsO3VL._UY879_.jpg\":[\"879\",\"642\"],\"https://images-na.ssl-images-amazon.com/images/I/61XKpEsO3VL._UY550_.jpg\":[\"550\",\"402\"],\"https://images-na.ssl-images-amazon.com/images/I/61XKpEsO3VL._UY741_.jpg\":[\"741\",\"541\"],\"https://images-na.ssl-images-amazon.com/images/I/61XKpEsO3VL._UY445_.jpg\":[\"445\",\"325\"],\"https://images-na.ssl-images-amazon.com/images/I/61XKpEsO3VL._UY606_.jpg\":[\"606\",\"442\"]}}],\"2 Maroon / 2 Lime\":[{\"large\":\"https://images-na.ssl-images-amazon.com/images/I/4150h%2Bk3ESL.jpg\",\"variant\":\"MAIN\",\"hiRes\":\"https://images-na.ssl-images-amazon.com/images/I/61exibT1wBL._UL1200_.jpg\",\"thumb\":\"https://images-na.ssl-images-amazon.com/images/I/4150h%2Bk3ESL._SR38,50_.jpg\",\"main\":{\"https://images-na.ssl-images-amazon.com/images/I/61exibT1wBL._UY445_.jpg\":[\"445\",\"335\"],\"https://images-na.ssl-images-amazon.com/images/I/61exibT1wBL._UY606_.jpg\":[\"606\",\"457\"],\"https://images-na.ssl-images-amazon.com/images/I/61exibT1wBL._UY500_.jpg\":[\"500\",\"377\"],\"https://images-na.ssl-images-amazon.com/images/I/61exibT1wBL._UY879_.jpg\":[\"879\",\"662\"],\"https://images-na.ssl-images-amazon.com/images/I/61exibT1wBL._UY741_.jpg\":[\"741\",\"558\"],\"https://images-na.ssl-images-amazon.com/images/I/61exibT1wBL._UY679_.jpg\":[\"679\",\"512\"],\"https://images-na.ssl-images-amazon.com/images/I/61exibT1wBL._UY550_.jpg\":[\"550\",\"414\"]}}],\"2 Deep Red / 2 Navy\":[{\"large\":\"https://images-na.ssl-images-amazon.com/images/I/41DNFpy6MsL.jpg\",\"variant\":\"MAIN\",\"hiRes\":\"https://images-na.ssl-images-amazon.com/images/I/61hHmP3W8nL._UL1200_.jpg\",\"thumb\":\"https://images-na.ssl-images-amazon.com/images/I/41DNFpy6MsL._SR38,50_.jpg\",\"main\":{\"https://images-na.ssl-images-amazon.com/images/I/61hHmP3W8nL._UX385_.jpg\":[\"489\",\"385\"],\"https://images-na.ssl-images-amazon.com/images/I/61hHmP3W8nL._UX679_.jpg\":[\"862\",\"679\"],\"https://images-na.ssl-images-amazon.com/images/I/61hHmP3W8nL._UX425_.jpg\":[\"540\",\"425\"],\"https://images-na.ssl-images-amazon.com/images/I/61hHmP3W8nL._UX342_.jpg\":[\"434\",\"342\"],\"https://images-na.ssl-images-amazon.com/images/I/61hHmP3W8nL._UX569_.jpg\":[\"723\",\"569\"],\"https://images-na.ssl-images-amazon.com/images/I/61hHmP3W8nL._UX522_.jpg\":[\"663\",\"522\"],\"https://images-na.ssl-images-amazon.com/images/I/61hHmP3W8nL._UX466_.jpg\":[\"592\",\"466\"]}}],\"2 Navy / 2 Sand\":[{\"large\":\"https://images-na.ssl-images-amazon.com/images/I/31%2B%2BePugH6L.jpg\",\"variant\":\"MAIN\",\"hiRes\":\"https://images-na.ssl-images-amazon.com/images/I/612pp-INStL._UL1200_.jpg\",\"thumb\":\"https://images-na.ssl-images-amazon.com/images/I/31%2B%2BePugH6L._SR38,50_.jpg\",\"main\":{\"https://images-na.ssl-images-amazon.com/images/I/612pp-INStL._UY550_.jpg\":[\"550\",\"403\"],\"https://images-na.ssl-images-amazon.com/images/I/612pp-INStL._UY879_.jpg\":[\"879\",\"645\"],\"https://images-na.ssl-images-amazon.com/images/I/612pp-INStL._UY679_.jpg\":[\"679\",\"498\"],\"https://images-na.ssl-images-amazon.com/images/I/612pp-INStL._UY500_.jpg\":[\"500\",\"367\"],\"https://images-na.ssl-images-amazon.com/images/I/612pp-INStL._UY741_.jpg\":[\"741\",\"543\"],\"https://images-na.ssl-images-amazon.com/images/I/612pp-INStL._UY445_.jpg\":[\"445\",\"326\"],\"https://images-na.ssl-images-amazon.com/images/I/612pp-INStL._UY606_.jpg\":[\"606\",\"444\"]}}],\"2 Lime / 2 White\":[{\"large\":\"https://images-na.ssl-images-amazon.com/images/I/41rDK0-AsJL.jpg\",\"variant\":\"MAIN\",\"hiRes\":\"https://images-na.ssl-images-amazon.com/images/I/61dVkHGp-XL._UL1200_.jpg\",\"thumb\":\"https://images-na.ssl-images-amazon.com/images/I/41rDK0-AsJL._SR38,50_.jpg\",\"main\":{\"https://images-na.ssl-images-amazon.com/images/I/61dVkHGp-XL._UY679_.jpg\":[\"679\",\"495\"],\"https://images-na.ssl-images-amazon.com/images/I/61dVkHGp-XL._UY879_.jpg\":[\"879\",\"641\"],\"https://images-na.ssl-images-amazon.com/images/I/61dVkHGp-XL._UY741_.jpg\":[\"741\",\"540\"],\"https://images-na.ssl-images-amazon.com/images/I/61dVkHGp-XL._UY550_.jpg\":[\"550\",\"401\"],\"https://images-na.ssl-images-amazon.com/images/I/61dVkHGp-XL._UY606_.jpg\":[\"606\",\"442\"],\"https://images-na.ssl-images-amazon.com/images/I/61dVkHGp-XL._UY445_.jpg\":[\"445\",\"324\"],\"https://images-na.ssl-images-amazon.com/images/I/61dVkHGp-XL._UY500_.jpg\":[\"500\",\"365\"]}}],\"2 Orange / 2 Gold\":[{\"large\":\"https://images-na.ssl-images-amazon.com/images/I/41WHfvtG28L.jpg\",\"variant\":\"MAIN\",\"hiRes\":\"https://images-na.ssl-images-amazon.com/images/I/61%2BXgLDX1bL._UL1200_.jpg\",\"thumb\":\"https://images-na.ssl-images-amazon.com/images/I/41WHfvtG28L._SR38,50_.jpg\",\"main\":{\"https://images-na.ssl-images-amazon.com/images/I/61%2BXgLDX1bL._UY879_.jpg\":[\"879\",\"676\"],\"https://images-na.ssl-images-amazon.com/images/I/61%2BXgLDX1bL._UX569_.jpg\":[\"740\",\"569\"],\"https://images-na.ssl-images-amazon.com/images/I/61%2BXgLDX1bL._UX466_.jpg\":[\"606\",\"466\"],\"https://images-na.ssl-images-amazon.com/images/I/61%2BXgLDX1bL._UX342_.jpg\":[\"445\",\"342\"],\"https://images-na.ssl-images-amazon.com/images/I/61%2BXgLDX1bL._UX522_.jpg\":[\"679\",\"522\"],\"https://images-na.ssl-images-amazon.com/images/I/61%2BXgLDX1bL._UY550_.jpg\":[\"550\",\"423\"],\"https://images-na.ssl-images-amazon.com/images/I/61%2BXgLDX1bL._UY500_.jpg\":[\"500\",\"385\"]}}],\"2 Purple / 2 Yellow\":[{\"large\":\"https://images-na.ssl-images-amazon.com/images/I/41eeB6wZ78L.jpg\",\"variant\":\"MAIN\",\"hiRes\":\"https://images-na.ssl-images-amazon.com/images/I/61wM5Z3TfwL._UL1200_.jpg\",\"thumb\":\"https://images-na.ssl-images-amazon.com/images/I/41eeB6wZ78L._SR38,50_.jpg\",\"main\":{\"https://images-na.ssl-images-amazon.com/images/I/61wM5Z3TfwL._UX466_.jpg\":[\"604\",\"466\"],\"https://images-na.ssl-images-amazon.com/images/I/61wM5Z3TfwL._UY879_.jpg\":[\"879\",\"678\"],\"https://images-na.ssl-images-amazon.com/images/I/61wM5Z3TfwL._UX569_.jpg\":[\"737\",\"569\"],\"https://images-na.ssl-images-amazon.com/images/I/61wM5Z3TfwL._UX385_.jpg\":[\"499\",\"385\"],\"https://images-na.ssl-images-amazon.com/images/I/61wM5Z3TfwL._UX522_.jpg\":[\"676\",\"522\"],\"https://images-na.ssl-images-amazon.com/images/I/61wM5Z3TfwL._UY550_.jpg\":[\"550\",\"424\"],\"https://images-na.ssl-images-amazon.com/images/I/61wM5Z3TfwL._UX342_.jpg\":[\"443\",\"342\"]}}],\"2 Light Blue / 2 Pale Pink\":[{\"large\":\"https://images-na.ssl-images-amazon.com/images/I/31trTPhgxaL.jpg\",\"variant\":\"MAIN\",\"hiRes\":\"https://images-na.ssl-images-amazon.com/images/I/61yLBr1bXUL._UL1200_.jpg\",\"thumb\":\"https://images-na.ssl-images-amazon.com/images/I/31trTPhgxaL._SR38,50_.jpg\",\"main\":{\"https://images-na.ssl-images-amazon.com/images/I/61yLBr1bXUL._UX679_.jpg\":[\"877\",\"679\"],\"https://images-na.ssl-images-amazon.com/images/I/61yLBr1bXUL._UX425_.jpg\":[\"549\",\"425\"],\"https://images-na.ssl-images-amazon.com/images/I/61yLBr1bXUL._UX466_.jpg\":[\"602\",\"466\"],\"https://images-na.ssl-images-amazon.com/images/I/61yLBr1bXUL._UX342_.jpg\":[\"442\",\"342\"],\"https://images-na.ssl-images-amazon.com/images/I/61yLBr1bXUL._UX569_.jpg\":[\"735\",\"569\"],\"https://images-na.ssl-images-amazon.com/images/I/61yLBr1bXUL._UX522_.jpg\":[\"674\",\"522\"],\"https://images-na.ssl-images-amazon.com/images/I/61yLBr1bXUL._UX385_.jpg\":[\"497\",\"385\"]}}],\"Purple\":[{\"large\":\"https://images-na.ssl-images-amazon.com/images/I/41SciDntrKL.jpg\",\"variant\":\"MAIN\",\"hiRes\":\"https://images-na.ssl-images-amazon.com/images/I/61o8N1N5luL._UL1200_.jpg\",\"thumb\":\"https://images-na.ssl-images-amazon.com/images/I/41SciDntrKL._SR38,50_.jpg\",\"main\":{\"https://images-na.ssl-images-amazon.com/images/I/61o8N1N5luL._UX385_.jpg\":[\"491\",\"385\"],\"https://images-na.ssl-images-amazon.com/images/I/61o8N1N5luL._UX466_.jpg\":[\"595\",\"466\"],\"https://images-na.ssl-images-amazon.com/images/I/61o8N1N5luL._UX342_.jpg\":[\"437\",\"342\"],\"https://images-na.ssl-images-amazon.com/images/I/61o8N1N5luL._UX522_.jpg\":[\"666\",\"522\"],\"https://images-na.ssl-images-amazon.com/images/I/61o8N1N5luL._UX569_.jpg\":[\"726\",\"569\"],\"https://images-na.ssl-images-amazon.com/images/I/61o8N1N5luL._UX679_.jpg\":[\"867\",\"679\"],\"https://images-na.ssl-images-amazon.com/images/I/61o8N1N5luL._UX425_.jpg\":[\"543\",\"425\"]}}],\"2 Ash / 2 Light Steel\":[{\"large\":\"https://images-na.ssl-images-amazon.com/images/I/41AaVu6blTL.jpg\",\"variant\":\"MAIN\",\"hiRes\":\"https://images-na.ssl-images-amazon.com/images/I/71qy%2Bi-KCgL._UL1200_.jpg\",\"thumb\":\"https://images-na.ssl-images-amazon.com/images/I/41AaVu6blTL._SR38,50_.jpg\",\"main\":{\"https://images-na.ssl-images-amazon.com/images/I/71qy%2Bi-KCgL._UX522_.jpg\":[\"676\",\"522\"],\"https://images-na.ssl-images-amazon.com/images/I/71qy%2Bi-KCgL._UX385_.jpg\":[\"498\",\"385\"],\"https://images-na.ssl-images-amazon.com/images/I/71qy%2Bi-KCgL._UX466_.jpg\":[\"603\",\"466\"],\"https://images-na.ssl-images-amazon.com/images/I/71qy%2Bi-KCgL._UX569_.jpg\":[\"737\",\"569\"],\"https://images-na.ssl-images-amazon.com/images/I/71qy%2Bi-KCgL._UY550_.jpg\":[\"550\",\"425\"],\"https://images-na.ssl-images-amazon.com/images/I/71qy%2Bi-KCgL._UX679_.jpg\":[\"879\",\"679\"],\"https://images-na.ssl-images-amazon.com/images/I/71qy%2Bi-KCgL._UX342_.jpg\":[\"443\",\"342\"]}}],\"2 Deep Royal / 2 Pale Pink\":[{\"large\":\"https://images-na.ssl-images-amazon.com/images/I/41yl85hwHUL.jpg\",\"variant\":\"MAIN\",\"hiRes\":\"https://images-na.ssl-images-amazon.com/images/I/61Y3iK1Zx6L._UL1200_.jpg\",\"thumb\":\"https://images-na.ssl-images-amazon.com/images/I/41yl85hwHUL._SR38,50_.jpg\",\"main\":{\"https://images-na.ssl-images-amazon.com/images/I/61Y3iK1Zx6L._UX466_.jpg\":[\"593\",\"466\"],\"https://images-na.ssl-images-amazon.com/images/I/61Y3iK1Zx6L._UX385_.jpg\":[\"490\",\"385\"],\"https://images-na.ssl-images-amazon.com/images/I/61Y3iK1Zx6L._UX342_.jpg\":[\"435\",\"342\"],\"https://images-na.ssl-images-amazon.com/images/I/61Y3iK1Zx6L._UX679_.jpg\":[\"864\",\"679\"],\"https://images-na.ssl-images-amazon.com/images/I/61Y3iK1Zx6L._UX569_.jpg\":[\"724\",\"569\"],\"https://images-na.ssl-images-amazon.com/images/I/61Y3iK1Zx6L._UX522_.jpg\":[\"664\",\"522\"],\"https://images-na.ssl-images-amazon.com/images/I/61Y3iK1Zx6L._UX425_.jpg\":[\"541\",\"425\"]}}],\"2 Deep Red / 2 Deep Royal\":[{\"large\":\"https://images-na.ssl-images-amazon.com/images/I/41Vf55LATjL.jpg\",\"variant\":\"MAIN\",\"hiRes\":\"https://images-na.ssl-images-amazon.com/images/I/61O32G3cejL._UL1200_.jpg\",\"thumb\":\"https://images-na.ssl-images-amazon.com/images/I/41Vf55LATjL._SR38,50_.jpg\",\"main\":{\"https://images-na.ssl-images-amazon.com/images/I/61O32G3cejL._UX466_.jpg\":[\"594\",\"466\"],\"https://images-na.ssl-images-amazon.com/images/I/61O32G3cejL._UX569_.jpg\":[\"726\",\"569\"],\"https://images-na.ssl-images-amazon.com/images/I/61O32G3cejL._UX679_.jpg\":[\"866\",\"679\"],\"https://images-na.ssl-images-amazon.com/images/I/61O32G3cejL._UX522_.jpg\":[\"666\",\"522\"],\"https://images-na.ssl-images-amazon.com/images/I/61O32G3cejL._UX385_.jpg\":[\"491\",\"385\"],\"https://images-na.ssl-images-amazon.com/images/I/61O32G3cejL._UX342_.jpg\":[\"436\",\"342\"],\"https://images-na.ssl-images-amazon.com/images/I/61O32G3cejL._UX425_.jpg\":[\"542\",\"425\"]}}],\"2 Gold / 2 Lime\":[{\"large\":\"https://images-na.ssl-images-amazon.com/images/I/41eDcgi3feL.jpg\",\"variant\":\"MAIN\",\"hiRes\":\"https://images-na.ssl-images-amazon.com/images/I/61Rw79JYaGL._UL1200_.jpg\",\"thumb\":\"https://images-na.ssl-images-amazon.com/images/I/41eDcgi3feL._SR38,50_.jpg\",\"main\":{\"https://images-na.ssl-images-amazon.com/images/I/61Rw79JYaGL._UY741_.jpg\":[\"741\",\"542\"],\"https://images-na.ssl-images-amazon.com/images/I/61Rw79JYaGL._UY606_.jpg\":[\"606\",\"443\"],\"https://images-na.ssl-images-amazon.com/images/I/61Rw79JYaGL._UY550_.jpg\":[\"550\",\"402\"],\"https://images-na.ssl-images-amazon.com/images/I/61Rw79JYaGL._UY679_.jpg\":[\"679\",\"496\"],\"https://images-na.ssl-images-amazon.com/images/I/61Rw79JYaGL._UY879_.jpg\":[\"879\",\"642\"],\"https://images-na.ssl-images-amazon.com/images/I/61Rw79JYaGL._UY500_.jpg\":[\"500\",\"365\"],\"https://images-na.ssl-images-amazon.com/images/I/61Rw79JYaGL._UY445_.jpg\":[\"445\",\"325\"]}}],\"Yellow\":[{\"large\":\"https://images-na.ssl-images-amazon.com/images/I/31M1mpZ29aL.jpg\",\"variant\":\"MAIN\",\"hiRes\":\"https://images-na.ssl-images-amazon.com/images/I/51MKMqsZEkL._UL1200_.jpg\",\"thumb\":\"https://images-na.ssl-images-amazon.com/images/I/31M1mpZ29aL._SR38,50_.jpg\",\"main\":{\"https://images-na.ssl-images-amazon.com/images/I/51MKMqsZEkL._UX522_.jpg\":[\"665\",\"522\"],\"https://images-na.ssl-images-amazon.com/images/I/51MKMqsZEkL._UX466_.jpg\":[\"594\",\"466\"],\"https://images-na.ssl-images-amazon.com/images/I/51MKMqsZEkL._UX385_.jpg\":[\"490\",\"385\"],\"https://images-na.ssl-images-amazon.com/images/I/51MKMqsZEkL._UX342_.jpg\":[\"436\",\"342\"],\"https://images-na.ssl-images-amazon.com/images/I/51MKMqsZEkL._UX569_.jpg\":[\"725\",\"569\"],\"https://images-na.ssl-images-amazon.com/images/I/51MKMqsZEkL._UX679_.jpg\":[\"865\",\"679\"],\"https://images-na.ssl-images-amazon.com/images/I/51MKMqsZEkL._UX425_.jpg\":[\"541\",\"425\"]}}],\"2 Orange / 2 Smoke Grey\":[{\"large\":\"https://images-na.ssl-images-amazon.com/images/I/41cEEf7K53L.jpg\",\"variant\":\"MAIN\",\"hiRes\":\"https://images-na.ssl-images-amazon.com/images/I/617WHaVTyKL._UL1200_.jpg\",\"thumb\":\"https://images-na.ssl-images-amazon.com/images/I/41cEEf7K53L._SR38,50_.jpg\",\"main\":{\"https://images-na.ssl-images-amazon.com/images/I/617WHaVTyKL._UX342_.jpg\":[\"443\",\"342\"],\"https://images-na.ssl-images-amazon.com/images/I/617WHaVTyKL._UX385_.jpg\":[\"498\",\"385\"],\"https://images-na.ssl-images-amazon.com/images/I/617WHaVTyKL._UX522_.jpg\":[\"676\",\"522\"],\"https://images-na.ssl-images-amazon.com/images/I/617WHaVTyKL._UX466_.jpg\":[\"603\",\"466\"],\"https://images-na.ssl-images-amazon.com/images/I/617WHaVTyKL._UX679_.jpg\":[\"879\",\"679\"],\"https://images-na.ssl-images-amazon.com/images/I/617WHaVTyKL._UY550_.jpg\":[\"550\",\"425\"],\"https://images-na.ssl-images-amazon.com/images/I/617WHaVTyKL._UX569_.jpg\":[\"737\",\"569\"]}}],\"2 Ash / 2 Deep Red\":[{\"large\":\"https://images-na.ssl-images-amazon.com/images/I/41-JRLstApL.jpg\",\"variant\":\"MAIN\",\"hiRes\":\"https://images-na.ssl-images-amazon.com/images/I/713u38czdhL._UL1200_.jpg\",\"thumb\":\"https://images-na.ssl-images-amazon.com/images/I/41-JRLstApL._SR38,50_.jpg\",\"main\":{\"https://images-na.ssl-images-amazon.com/images/I/713u38czdhL._UX569_.jpg\":[\"735\",\"569\"],\"https://images-na.ssl-images-amazon.com/images/I/713u38czdhL._UX522_.jpg\":[\"674\",\"522\"],\"https://images-na.ssl-images-amazon.com/images/I/713u38czdhL._UX466_.jpg\":[\"602\",\"466\"],\"https://images-na.ssl-images-amazon.com/images/I/713u38czdhL._UX425_.jpg\":[\"549\",\"425\"],\"https://images-na.ssl-images-amazon.com/images/I/713u38czdhL._UX385_.jpg\":[\"497\",\"385\"],\"https://images-na.ssl-images-amazon.com/images/I/713u38czdhL._UX679_.jpg\":[\"877\",\"679\"],\"https://images-na.ssl-images-amazon.com/images/I/713u38czdhL._UX342_.jpg\":[\"442\",\"342\"]}}],\"2 Deep Red / 2 Lime\":[{\"large\":\"https://images-na.ssl-images-amazon.com/images/I/41bJbFYAbtL.jpg\",\"variant\":\"MAIN\",\"hiRes\":\"https://images-na.ssl-images-amazon.com/images/I/61yttRRPreL._UL1200_.jpg\",\"thumb\":\"https://images-na.ssl-images-amazon.com/images/I/41bJbFYAbtL._SR38,50_.jpg\",\"main\":{\"https://images-na.ssl-images-amazon.com/images/I/61yttRRPreL._UY679_.jpg\":[\"679\",\"500\"],\"https://images-na.ssl-images-amazon.com/images/I/61yttRRPreL._UY445_.jpg\":[\"445\",\"327\"],\"https://images-na.ssl-images-amazon.com/images/I/61yttRRPreL._UY606_.jpg\":[\"606\",\"446\"],\"https://images-na.ssl-images-amazon.com/images/I/61yttRRPreL._UY500_.jpg\":[\"500\",\"368\"],\"https://images-na.ssl-images-amazon.com/images/I/61yttRRPreL._UY741_.jpg\":[\"741\",\"545\"],\"https://images-na.ssl-images-amazon.com/images/I/61yttRRPreL._UY550_.jpg\":[\"550\",\"405\"],\"https://images-na.ssl-images-amazon.com/images/I/61yttRRPreL._UY879_.jpg\":[\"879\",\"647\"]}}],\"Lime\":[{\"large\":\"https://images-na.ssl-images-amazon.com/images/I/41FOsho9taL.jpg\",\"variant\":\"MAIN\",\"hiRes\":\"https://images-na.ssl-images-amazon.com/images/I/91L3GZUZiNL._UL1500_.jpg\",\"thumb\":\"https://images-na.ssl-images-amazon.com/images/I/41FOsho9taL._SR38,50_.jpg\",\"main\":{\"https://images-na.ssl-images-amazon.com/images/I/91L3GZUZiNL._UX385_.jpg\":[\"474\",\"385\"],\"https://images-na.ssl-images-amazon.com/images/I/91L3GZUZiNL._UX425_.jpg\":[\"523\",\"425\"],\"https://images-na.ssl-images-amazon.com/images/I/91L3GZUZiNL._UX342_.jpg\":[\"421\",\"342\"],\"https://images-na.ssl-images-amazon.com/images/I/91L3GZUZiNL._UX466_.jpg\":[\"574\",\"466\"],\"https://images-na.ssl-images-amazon.com/images/I/91L3GZUZiNL._UX522_.jpg\":[\"642\",\"522\"],\"https://images-na.ssl-images-amazon.com/images/I/91L3GZUZiNL._UX679_.jpg\":[\"836\",\"679\"],\"https://images-na.ssl-images-amazon.com/images/I/91L3GZUZiNL._UX569_.jpg\":[\"700\",\"569\"]}}],\"2 Orange / 2 Yellow\":[{\"large\":\"https://images-na.ssl-images-amazon.com/images/I/41JHMN9TSgL.jpg\",\"variant\":\"MAIN\",\"hiRes\":\"https://images-na.ssl-images-amazon.com/images/I/61tD2u1zGlL._UL1200_.jpg\",\"thumb\":\"https://images-na.ssl-images-amazon.com/images/I/41JHMN9TSgL._SR38,50_.jpg\",\"main\":{\"https://images-na.ssl-images-amazon.com/images/I/61tD2u1zGlL._UY879_.jpg\":[\"879\",\"678\"],\"https://images-na.ssl-images-amazon.com/images/I/61tD2u1zGlL._UX569_.jpg\":[\"737\",\"569\"],\"https://images-na.ssl-images-amazon.com/images/I/61tD2u1zGlL._UX466_.jpg\":[\"604\",\"466\"],\"https://images-na.ssl-images-amazon.com/images/I/61tD2u1zGlL._UY550_.jpg\":[\"550\",\"424\"],\"https://images-na.ssl-images-amazon.com/images/I/61tD2u1zGlL._UX385_.jpg\":[\"499\",\"385\"],\"https://images-na.ssl-images-amazon.com/images/I/61tD2u1zGlL._UX342_.jpg\":[\"443\",\"342\"],\"https://images-na.ssl-images-amazon.com/images/I/61tD2u1zGlL._UX522_.jpg\":[\"676\",\"522\"]}}],\"2 Black / 2 Sand\":[{\"large\":\"https://images-na.ssl-images-amazon.com/images/I/31fDZbYtJiL.jpg\",\"variant\":\"MAIN\",\"hiRes\":\"https://images-na.ssl-images-amazon.com/images/I/6120V17hrmL._UL1200_.jpg\",\"thumb\":\"https://images-na.ssl-images-amazon.com/images/I/31fDZbYtJiL._SR38,50_.jpg\",\"main\":{\"https://images-na.ssl-images-amazon.com/images/I/6120V17hrmL._UY606_.jpg\":[\"606\",\"443\"],\"https://images-na.ssl-images-amazon.com/images/I/6120V17hrmL._UY879_.jpg\":[\"879\",\"642\"],\"https://images-na.ssl-images-amazon.com/images/I/6120V17hrmL._UY679_.jpg\":[\"679\",\"496\"],\"https://images-na.ssl-images-amazon.com/images/I/6120V17hrmL._UY445_.jpg\":[\"445\",\"325\"],\"https://images-na.ssl-images-amazon.com/images/I/6120V17hrmL._UY741_.jpg\":[\"741\",\"542\"],\"https://images-na.ssl-images-amazon.com/images/I/6120V17hrmL._UY500_.jpg\":[\"500\",\"365\"],\"https://images-na.ssl-images-amazon.com/images/I/6120V17hrmL._UY550_.jpg\":[\"550\",\"402\"]}}],\"2 Denim Blue / 2 White\":[{\"large\":\"https://images-na.ssl-images-amazon.com/images/I/41lAcEgg%2BlL.jpg\",\"variant\":\"MAIN\",\"hiRes\":\"https://images-na.ssl-images-amazon.com/images/I/61huAuE7apL._UL1200_.jpg\",\"thumb\":\"https://images-na.ssl-images-amazon.com/images/I/41lAcEgg%2BlL._SR38,50_.jpg\",\"main\":{\"https://images-na.ssl-images-amazon.com/images/I/61huAuE7apL._UX522_.jpg\":[\"672\",\"522\"],\"https://images-na.ssl-images-amazon.com/images/I/61huAuE7apL._UX466_.jpg\":[\"600\",\"466\"],\"https://images-na.ssl-images-amazon.com/images/I/61huAuE7apL._UX425_.jpg\":[\"547\",\"425\"],\"https://images-na.ssl-images-amazon.com/images/I/61huAuE7apL._UX569_.jpg\":[\"733\",\"569\"],\"https://images-na.ssl-images-amazon.com/images/I/61huAuE7apL._UX342_.jpg\":[\"440\",\"342\"],\"https://images-na.ssl-images-amazon.com/images/I/61huAuE7apL._UX679_.jpg\":[\"874\",\"679\"],\"https://images-na.ssl-images-amazon.com/images/I/61huAuE7apL._UX385_.jpg\":[\"496\",\"385\"]}}],\"2 Deep Red / 2 Sand\":[{\"large\":\"https://images-na.ssl-images-amazon.com/images/I/31EVa-4EXqL.jpg\",\"variant\":\"MAIN\",\"hiRes\":\"https://images-na.ssl-images-amazon.com/images/I/61ab6xHEzLL._UL1200_.jpg\",\"thumb\":\"https://images-na.ssl-images-amazon.com/images/I/31EVa-4EXqL._SR38,50_.jpg\",\"main\":{\"https://images-na.ssl-images-amazon.com/images/I/61ab6xHEzLL._UY741_.jpg\":[\"741\",\"543\"],\"https://images-na.ssl-images-amazon.com/images/I/61ab6xHEzLL._UY445_.jpg\":[\"445\",\"326\"],\"https://images-na.ssl-images-amazon.com/images/I/61ab6xHEzLL._UY606_.jpg\":[\"606\",\"444\"],\"https://images-na.ssl-images-amazon.com/images/I/61ab6xHEzLL._UY550_.jpg\":[\"550\",\"403\"],\"https://images-na.ssl-images-amazon.com/images/I/61ab6xHEzLL._UY500_.jpg\":[\"500\",\"366\"],\"https://images-na.ssl-images-amazon.com/images/I/61ab6xHEzLL._UY879_.jpg\":[\"879\",\"644\"],\"https://images-na.ssl-images-amazon.com/images/I/61ab6xHEzLL._UY679_.jpg\":[\"679\",\"497\"]}}],\"2 Orange / 2 Black\":[{\"large\":\"https://images-na.ssl-images-amazon.com/images/I/41DRGgI64rL.jpg\",\"variant\":\"MAIN\",\"hiRes\":\"https://images-na.ssl-images-amazon.com/images/I/61MTPm5y%2BnL._UL1200_.jpg\",\"thumb\":\"https://images-na.ssl-images-amazon.com/images/I/41DRGgI64rL._SR38,50_.jpg\",\"main\":{\"https://images-na.ssl-images-amazon.com/images/I/61MTPm5y%2BnL._UY550_.jpg\":[\"550\",\"425\"],\"https://images-na.ssl-images-amazon.com/images/I/61MTPm5y%2BnL._UX466_.jpg\":[\"603\",\"466\"],\"https://images-na.ssl-images-amazon.com/images/I/61MTPm5y%2BnL._UX385_.jpg\":[\"498\",\"385\"],\"https://images-na.ssl-images-amazon.com/images/I/61MTPm5y%2BnL._UX679_.jpg\":[\"879\",\"679\"],\"https://images-na.ssl-images-amazon.com/images/I/61MTPm5y%2BnL._UX569_.jpg\":[\"737\",\"569\"],\"https://images-na.ssl-images-amazon.com/images/I/61MTPm5y%2BnL._UX342_.jpg\":[\"443\",\"342\"],\"https://images-na.ssl-images-amazon.com/images/I/61MTPm5y%2BnL._UX522_.jpg\":[\"676\",\"522\"]}}],\"Light Blue\":[{\"large\":\"https://images-na.ssl-images-amazon.com/images/I/41HQOhkSD1L.jpg\",\"variant\":\"MAIN\",\"hiRes\":\"https://images-na.ssl-images-amazon.com/images/I/91CZgnbbaLL._UL1500_.jpg\",\"thumb\":\"https://images-na.ssl-images-amazon.com/images/I/41HQOhkSD1L._SR38,50_.jpg\",\"main\":{\"https://images-na.ssl-images-amazon.com/images/I/91CZgnbbaLL._UX342_.jpg\":[\"421\",\"342\"],\"https://images-na.ssl-images-amazon.com/images/I/91CZgnbbaLL._UX679_.jpg\":[\"836\",\"679\"],\"https://images-na.ssl-images-amazon.com/images/I/91CZgnbbaLL._UX522_.jpg\":[\"642\",\"522\"],\"https://images-na.ssl-images-amazon.com/images/I/91CZgnbbaLL._UX569_.jpg\":[\"700\",\"569\"],\"https://images-na.ssl-images-amazon.com/images/I/91CZgnbbaLL._UX466_.jpg\":[\"574\",\"466\"],\"https://images-na.ssl-images-amazon.com/images/I/91CZgnbbaLL._UX385_.jpg\":[\"474\",\"385\"],\"https://images-na.ssl-images-amazon.com/images/I/91CZgnbbaLL._UX425_.jpg\":[\"523\",\"425\"]}}],\"2 Gold / 2 Sand\":[{\"large\":\"https://images-na.ssl-images-amazon.com/images/I/31jD-oGPDeL.jpg\",\"variant\":\"MAIN\",\"hiRes\":\"https://images-na.ssl-images-amazon.com/images/I/61kMq%2BnkrZL._UL1200_.jpg\",\"thumb\":\"https://images-na.ssl-images-amazon.com/images/I/31jD-oGPDeL._SR38,50_.jpg\",\"main\":{\"https://images-na.ssl-images-amazon.com/images/I/61kMq%2BnkrZL._UY500_.jpg\":[\"500\",\"366\"],\"https://images-na.ssl-images-amazon.com/images/I/61kMq%2BnkrZL._UY879_.jpg\":[\"879\",\"644\"],\"https://images-na.ssl-images-amazon.com/images/I/61kMq%2BnkrZL._UY679_.jpg\":[\"679\",\"497\"],\"https://images-na.ssl-images-amazon.com/images/I/61kMq%2BnkrZL._UY741_.jpg\":[\"741\",\"543\"],\"https://images-na.ssl-images-amazon.com/images/I/61kMq%2BnkrZL._UY550_.jpg\":[\"550\",\"403\"],\"https://images-na.ssl-images-amazon.com/images/I/61kMq%2BnkrZL._UY606_.jpg\":[\"606\",\"444\"],\"https://images-na.ssl-images-amazon.com/images/I/61kMq%2BnkrZL._UY445_.jpg\":[\"445\",\"326\"]}}],\"2 Gold / 2 Light Steel\":[{\"large\":\"https://images-na.ssl-images-amazon.com/images/I/41BBKsG97mL.jpg\",\"variant\":\"MAIN\",\"hiRes\":\"https://images-na.ssl-images-amazon.com/images/I/61VET5X826L._UL1200_.jpg\",\"thumb\":\"https://images-na.ssl-images-amazon.com/images/I/41BBKsG97mL._SR38,50_.jpg\",\"main\":{\"https://images-na.ssl-images-amazon.com/images/I/61VET5X826L._UX569_.jpg\":[\"735\",\"569\"],\"https://images-na.ssl-images-amazon.com/images/I/61VET5X826L._UX385_.jpg\":[\"497\",\"385\"],\"https://images-na.ssl-images-amazon.com/images/I/61VET5X826L._UX679_.jpg\":[\"877\",\"679\"],\"https://images-na.ssl-images-amazon.com/images/I/61VET5X826L._UX466_.jpg\":[\"602\",\"466\"],\"https://images-na.ssl-images-amazon.com/images/I/61VET5X826L._UX425_.jpg\":[\"549\",\"425\"],\"https://images-na.ssl-images-amazon.com/images/I/61VET5X826L._UX522_.jpg\":[\"674\",\"522\"],\"https://images-na.ssl-images-amazon.com/images/I/61VET5X826L._UX342_.jpg\":[\"442\",\"342\"]}}],\"2 Gold / 2 Light Blue\":[{\"large\":\"https://images-na.ssl-images-amazon.com/images/I/41iTbjDxskL.jpg\",\"variant\":\"MAIN\",\"hiRes\":\"https://images-na.ssl-images-amazon.com/images/I/61cpnKBjSNL._UL1200_.jpg\",\"thumb\":\"https://images-na.ssl-images-amazon.com/images/I/41iTbjDxskL._SR38,50_.jpg\",\"main\":{\"https://images-na.ssl-images-amazon.com/images/I/61cpnKBjSNL._UX569_.jpg\":[\"736\",\"569\"],\"https://images-na.ssl-images-amazon.com/images/I/61cpnKBjSNL._UX466_.jpg\":[\"603\",\"466\"],\"https://images-na.ssl-images-amazon.com/images/I/61cpnKBjSNL._UX385_.jpg\":[\"498\",\"385\"],\"https://images-na.ssl-images-amazon.com/images/I/61cpnKBjSNL._UX522_.jpg\":[\"675\",\"522\"],\"https://images-na.ssl-images-amazon.com/images/I/61cpnKBjSNL._UX342_.jpg\":[\"442\",\"342\"],\"https://images-na.ssl-images-amazon.com/images/I/61cpnKBjSNL._UX425_.jpg\":[\"550\",\"425\"],\"https://images-na.ssl-images-amazon.com/images/I/61cpnKBjSNL._UX679_.jpg\":[\"878\",\"679\"]}}],\"2 Deep Red / 2 Smoke Grey\":[{\"large\":\"https://images-na.ssl-images-amazon.com/images/I/41ENc%2B7ke0L.jpg\",\"variant\":\"MAIN\",\"hiRes\":\"https://images-na.ssl-images-amazon.com/images/I/61urzsgbpeL._UL1200_.jpg\",\"thumb\":\"https://images-na.ssl-images-amazon.com/images/I/41ENc%2B7ke0L._SR38,50_.jpg\",\"main\":{\"https://images-na.ssl-images-amazon.com/images/I/61urzsgbpeL._UX679_.jpg\":[\"862\",\"679\"],\"https://images-na.ssl-images-amazon.com/images/I/61urzsgbpeL._UX522_.jpg\":[\"663\",\"522\"],\"https://images-na.ssl-images-amazon.com/images/I/61urzsgbpeL._UX466_.jpg\":[\"592\",\"466\"],\"https://images-na.ssl-images-amazon.com/images/I/61urzsgbpeL._UX385_.jpg\":[\"489\",\"385\"],\"https://images-na.ssl-images-amazon.com/images/I/61urzsgbpeL._UX342_.jpg\":[\"434\",\"342\"],\"https://images-na.ssl-images-amazon.com/images/I/61urzsgbpeL._UX569_.jpg\":[\"723\",\"569\"],\"https://images-na.ssl-images-amazon.com/images/I/61urzsgbpeL._UX425_.jpg\":[\"540\",\"425\"]}}],\"2 Deep Forest / 2 White\":[{\"large\":\"https://images-na.ssl-images-amazon.com/images/I/415MCBbkxUL.jpg\",\"variant\":\"MAIN\",\"hiRes\":\"https://images-na.ssl-images-amazon.com/images/I/616jVMFOByL._UL1200_.jpg\",\"thumb\":\"https://images-na.ssl-images-amazon.com/images/I/415MCBbkxUL._SR38,50_.jpg\",\"main\":{\"https://images-na.ssl-images-amazon.com/images/I/616jVMFOByL._UX385_.jpg\":[\"499\",\"385\"],\"https://images-na.ssl-images-amazon.com/images/I/616jVMFOByL._UY879_.jpg\":[\"879\",\"678\"],\"https://images-na.ssl-images-amazon.com/images/I/616jVMFOByL._UX466_.jpg\":[\"604\",\"466\"],\"https://images-na.ssl-images-amazon.com/images/I/616jVMFOByL._UX342_.jpg\":[\"443\",\"342\"],\"https://images-na.ssl-images-amazon.com/images/I/616jVMFOByL._UY550_.jpg\":[\"550\",\"424\"],\"https://images-na.ssl-images-amazon.com/images/I/616jVMFOByL._UX522_.jpg\":[\"676\",\"522\"],\"https://images-na.ssl-images-amazon.com/images/I/616jVMFOByL._UX569_.jpg\":[\"737\",\"569\"]}}],\"2 Ash / 2 Gold\":[{\"large\":\"https://images-na.ssl-images-amazon.com/images/I/41UIf9-yNtL.jpg\",\"variant\":\"MAIN\",\"hiRes\":\"https://images-na.ssl-images-amazon.com/images/I/71XLs1r6bTL._UL1200_.jpg\",\"thumb\":\"https://images-na.ssl-images-amazon.com/images/I/41UIf9-yNtL._SR38,50_.jpg\",\"main\":{\"https://images-na.ssl-images-amazon.com/images/I/71XLs1r6bTL._UY550_.jpg\":[\"550\",\"424\"],\"https://images-na.ssl-images-amazon.com/images/I/71XLs1r6bTL._UY879_.jpg\":[\"879\",\"678\"],\"https://images-na.ssl-images-amazon.com/images/I/71XLs1r6bTL._UX385_.jpg\":[\"499\",\"385\"],\"https://images-na.ssl-images-amazon.com/images/I/71XLs1r6bTL._UX466_.jpg\":[\"605\",\"466\"],\"https://images-na.ssl-images-amazon.com/images/I/71XLs1r6bTL._UX342_.jpg\":[\"444\",\"342\"],\"https://images-na.ssl-images-amazon.com/images/I/71XLs1r6bTL._UX522_.jpg\":[\"677\",\"522\"],\"https://images-na.ssl-images-amazon.com/images/I/71XLs1r6bTL._UX569_.jpg\":[\"738\",\"569\"]}}],\"2 Lime / 2 Yellow\":[{\"large\":\"https://images-na.ssl-images-amazon.com/images/I/41D52i3burL.jpg\",\"variant\":\"MAIN\",\"hiRes\":\"https://images-na.ssl-images-amazon.com/images/I/61tzz385avL._UL1200_.jpg\",\"thumb\":\"https://images-na.ssl-images-amazon.com/images/I/41D52i3burL._SR38,50_.jpg\",\"main\":{\"https://images-na.ssl-images-amazon.com/images/I/61tzz385avL._UY550_.jpg\":[\"550\",\"402\"],\"https://images-na.ssl-images-amazon.com/images/I/61tzz385avL._UY741_.jpg\":[\"741\",\"541\"],\"https://images-na.ssl-images-amazon.com/images/I/61tzz385avL._UY879_.jpg\":[\"879\",\"642\"],\"https://images-na.ssl-images-amazon.com/images/I/61tzz385avL._UY606_.jpg\":[\"606\",\"442\"],\"https://images-na.ssl-images-amazon.com/images/I/61tzz385avL._UY500_.jpg\":[\"500\",\"365\"],\"https://images-na.ssl-images-amazon.com/images/I/61tzz385avL._UY445_.jpg\":[\"445\",\"325\"],\"https://images-na.ssl-images-amazon.com/images/I/61tzz385avL._UY679_.jpg\":[\"679\",\"496\"]}}],\"2 Ash / 2 Orange\":[{\"large\":\"https://images-na.ssl-images-amazon.com/images/I/41PDJir0LXL.jpg\",\"variant\":\"MAIN\",\"hiRes\":\"https://images-na.ssl-images-amazon.com/images/I/71xJn4-YfPL._UL1200_.jpg\",\"thumb\":\"https://images-na.ssl-images-amazon.com/images/I/41PDJir0LXL._SR38,50_.jpg\",\"main\":{\"https://images-na.ssl-images-amazon.com/images/I/71xJn4-YfPL._UX522_.jpg\":[\"678\",\"522\"],\"https://images-na.ssl-images-amazon.com/images/I/71xJn4-YfPL._UX466_.jpg\":[\"605\",\"466\"],\"https://images-na.ssl-images-amazon.com/images/I/71xJn4-YfPL._UY500_.jpg\":[\"500\",\"385\"],\"https://images-na.ssl-images-amazon.com/images/I/71xJn4-YfPL._UX342_.jpg\":[\"444\",\"342\"],\"https://images-na.ssl-images-amazon.com/images/I/71xJn4-YfPL._UY550_.jpg\":[\"550\",\"424\"],\"https://images-na.ssl-images-amazon.com/images/I/71xJn4-YfPL._UY879_.jpg\":[\"879\",\"677\"],\"https://images-na.ssl-images-amazon.com/images/I/71xJn4-YfPL._UX569_.jpg\":[\"739\",\"569\"]}}],\"2 Deep Royal / 2 Yellow\":[{\"large\":\"https://images-na.ssl-images-amazon.com/images/I/41M7U%2BNCTrL.jpg\",\"variant\":\"MAIN\",\"hiRes\":\"https://images-na.ssl-images-amazon.com/images/I/61BXK3gKVRL._UL1200_.jpg\",\"thumb\":\"https://images-na.ssl-images-amazon.com/images/I/41M7U%2BNCTrL._SR38,50_.jpg\",\"main\":{\"https://images-na.ssl-images-amazon.com/images/I/61BXK3gKVRL._UX522_.jpg\":[\"667\",\"522\"],\"https://images-na.ssl-images-amazon.com/images/I/61BXK3gKVRL._UX466_.jpg\":[\"596\",\"466\"],\"https://images-na.ssl-images-amazon.com/images/I/61BXK3gKVRL._UX342_.jpg\":[\"437\",\"342\"],\"https://images-na.ssl-images-amazon.com/images/I/61BXK3gKVRL._UX679_.jpg\":[\"868\",\"679\"],\"https://images-na.ssl-images-amazon.com/images/I/61BXK3gKVRL._UX569_.jpg\":[\"727\",\"569\"],\"https://images-na.ssl-images-amazon.com/images/I/61BXK3gKVRL._UX425_.jpg\":[\"543\",\"425\"],\"https://images-na.ssl-images-amazon.com/images/I/61BXK3gKVRL._UX385_.jpg\":[\"492\",\"385\"]}}],\"2 Maroon / 2 Pale Pink\":[{\"large\":\"https://images-na.ssl-images-amazon.com/images/I/31JHp%2BEXilL.jpg\",\"variant\":\"MAIN\",\"hiRes\":\"https://images-na.ssl-images-amazon.com/images/I/619bi0PpiPL._UL1200_.jpg\",\"thumb\":\"https://images-na.ssl-images-amazon.com/images/I/31JHp%2BEXilL._SR38,50_.jpg\",\"main\":{\"https://images-na.ssl-images-amazon.com/images/I/619bi0PpiPL._UY679_.jpg\":[\"679\",\"495\"],\"https://images-na.ssl-images-amazon.com/images/I/619bi0PpiPL._UY879_.jpg\":[\"879\",\"640\"],\"https://images-na.ssl-images-amazon.com/images/I/619bi0PpiPL._UY606_.jpg\":[\"606\",\"441\"],\"https://images-na.ssl-images-amazon.com/images/I/619bi0PpiPL._UY550_.jpg\":[\"550\",\"401\"],\"https://images-na.ssl-images-amazon.com/images/I/619bi0PpiPL._UY500_.jpg\":[\"500\",\"364\"],\"https://images-na.ssl-images-amazon.com/images/I/619bi0PpiPL._UY741_.jpg\":[\"741\",\"540\"],\"https://images-na.ssl-images-amazon.com/images/I/619bi0PpiPL._UY445_.jpg\":[\"445\",\"324\"]}}],\"2 Light Blue / 2 Purple\":[{\"large\":\"https://images-na.ssl-images-amazon.com/images/I/41QBdg96pgL.jpg\",\"variant\":\"MAIN\",\"hiRes\":\"https://images-na.ssl-images-amazon.com/images/I/61i8pg5EktL._UL1200_.jpg\",\"thumb\":\"https://images-na.ssl-images-amazon.com/images/I/41QBdg96pgL._SR38,50_.jpg\",\"main\":{\"https://images-na.ssl-images-amazon.com/images/I/61i8pg5EktL._UX466_.jpg\":[\"601\",\"466\"],\"https://images-na.ssl-images-amazon.com/images/I/61i8pg5EktL._UX522_.jpg\":[\"674\",\"522\"],\"https://images-na.ssl-images-amazon.com/images/I/61i8pg5EktL._UX425_.jpg\":[\"548\",\"425\"],\"https://images-na.ssl-images-amazon.com/images/I/61i8pg5EktL._UX385_.jpg\":[\"497\",\"385\"],\"https://images-na.ssl-images-amazon.com/images/I/61i8pg5EktL._UX569_.jpg\":[\"734\",\"569\"],\"https://images-na.ssl-images-amazon.com/images/I/61i8pg5EktL._UX679_.jpg\":[\"876\",\"679\"],\"https://images-na.ssl-images-amazon.com/images/I/61i8pg5EktL._UX342_.jpg\":[\"441\",\"342\"]}}],\"Pale Pink\":[{\"large\":\"https://images-na.ssl-images-amazon.com/images/I/3119iCPHhhL.jpg\",\"variant\":\"MAIN\",\"hiRes\":\"https://images-na.ssl-images-amazon.com/images/I/61n4cclSXmL._UL1200_.jpg\",\"thumb\":\"https://images-na.ssl-images-amazon.com/images/I/3119iCPHhhL._SR38,50_.jpg\",\"main\":{\"https://images-na.ssl-images-amazon.com/images/I/61n4cclSXmL._UX569_.jpg\":[\"713\",\"569\"],\"https://images-na.ssl-images-amazon.com/images/I/61n4cclSXmL._UX425_.jpg\":[\"533\",\"425\"],\"https://images-na.ssl-images-amazon.com/images/I/61n4cclSXmL._UX466_.jpg\":[\"584\",\"466\"],\"https://images-na.ssl-images-amazon.com/images/I/61n4cclSXmL._UX385_.jpg\":[\"483\",\"385\"],\"https://images-na.ssl-images-amazon.com/images/I/61n4cclSXmL._UX679_.jpg\":[\"851\",\"679\"],\"https://images-na.ssl-images-amazon.com/images/I/61n4cclSXmL._UX522_.jpg\":[\"655\",\"522\"],\"https://images-na.ssl-images-amazon.com/images/I/61n4cclSXmL._UX342_.jpg\":[\"429\",\"342\"]}}],\"2 Deep Forest / 2 Yellow\":[{\"large\":\"https://images-na.ssl-images-amazon.com/images/I/410KwrHhOFL.jpg\",\"variant\":\"MAIN\",\"hiRes\":\"https://images-na.ssl-images-amazon.com/images/I/61Dgw4t4OiL._UL1200_.jpg\",\"thumb\":\"https://images-na.ssl-images-amazon.com/images/I/410KwrHhOFL._SR38,50_.jpg\",\"main\":{\"https://images-na.ssl-images-amazon.com/images/I/61Dgw4t4OiL._UX466_.jpg\":[\"603\",\"466\"],\"https://images-na.ssl-images-amazon.com/images/I/61Dgw4t4OiL._UY550_.jpg\":[\"550\",\"425\"],\"https://images-na.ssl-images-amazon.com/images/I/61Dgw4t4OiL._UX342_.jpg\":[\"443\",\"342\"],\"https://images-na.ssl-images-amazon.com/images/I/61Dgw4t4OiL._UX522_.jpg\":[\"676\",\"522\"],\"https://images-na.ssl-images-amazon.com/images/I/61Dgw4t4OiL._UX679_.jpg\":[\"879\",\"679\"],\"https://images-na.ssl-images-amazon.com/images/I/61Dgw4t4OiL._UX385_.jpg\":[\"498\",\"385\"],\"https://images-na.ssl-images-amazon.com/images/I/61Dgw4t4OiL._UX569_.jpg\":[\"737\",\"569\"]}}],\"2 Ash / 2 Light Blue\":[{\"large\":\"https://images-na.ssl-images-amazon.com/images/I/41se90j4-TL.jpg\",\"variant\":\"MAIN\",\"hiRes\":\"https://images-na.ssl-images-amazon.com/images/I/71xUZYX0S-L._UL1200_.jpg\",\"thumb\":\"https://images-na.ssl-images-amazon.com/images/I/41se90j4-TL._SR38,50_.jpg\",\"main\":{\"https://images-na.ssl-images-amazon.com/images/I/71xUZYX0S-L._UX466_.jpg\":[\"604\",\"466\"],\"https://images-na.ssl-images-amazon.com/images/I/71xUZYX0S-L._UY550_.jpg\":[\"550\",\"424\"],\"https://images-na.ssl-images-amazon.com/images/I/71xUZYX0S-L._UX342_.jpg\":[\"443\",\"342\"],\"https://images-na.ssl-images-amazon.com/images/I/71xUZYX0S-L._UX522_.jpg\":[\"676\",\"522\"],\"https://images-na.ssl-images-amazon.com/images/I/71xUZYX0S-L._UX385_.jpg\":[\"499\",\"385\"],\"https://images-na.ssl-images-amazon.com/images/I/71xUZYX0S-L._UX569_.jpg\":[\"737\",\"569\"],\"https://images-na.ssl-images-amazon.com/images/I/71xUZYX0S-L._UY879_.jpg\":[\"879\",\"678\"]}}],\"2 Light Steel / 2 Lime\":[{\"large\":\"https://images-na.ssl-images-amazon.com/images/I/41xqrkSynFL.jpg\",\"variant\":\"MAIN\",\"hiRes\":\"https://images-na.ssl-images-amazon.com/images/I/6159MPQViVL._UL1200_.jpg\",\"thumb\":\"https://images-na.ssl-images-amazon.com/images/I/41xqrkSynFL._SR38,50_.jpg\",\"main\":{\"https://images-na.ssl-images-amazon.com/images/I/6159MPQViVL._UY741_.jpg\":[\"741\",\"540\"],\"https://images-na.ssl-images-amazon.com/images/I/6159MPQViVL._UY679_.jpg\":[\"679\",\"495\"],\"https://images-na.ssl-images-amazon.com/images/I/6159MPQViVL._UY606_.jpg\":[\"606\",\"442\"],\"https://images-na.ssl-images-amazon.com/images/I/6159MPQViVL._UY879_.jpg\":[\"879\",\"641\"],\"https://images-na.ssl-images-amazon.com/images/I/6159MPQViVL._UY500_.jpg\":[\"500\",\"365\"],\"https://images-na.ssl-images-amazon.com/images/I/6159MPQViVL._UY550_.jpg\":[\"550\",\"401\"],\"https://images-na.ssl-images-amazon.com/images/I/6159MPQViVL._UY445_.jpg\":[\"445\",\"324\"]}}],\"2 Maroon / 2 Yellow\":[{\"large\":\"https://images-na.ssl-images-amazon.com/images/I/41u-%2BaCwCUL.jpg\",\"variant\":\"MAIN\",\"hiRes\":\"https://images-na.ssl-images-amazon.com/images/I/61oUOUBcI8L._UL1200_.jpg\",\"thumb\":\"https://images-na.ssl-images-amazon.com/images/I/41u-%2BaCwCUL._SR38,50_.jpg\",\"main\":{\"https://images-na.ssl-images-amazon.com/images/I/61oUOUBcI8L._UY741_.jpg\":[\"741\",\"540\"],\"https://images-na.ssl-images-amazon.com/images/I/61oUOUBcI8L._UY679_.jpg\":[\"679\",\"495\"],\"https://images-na.ssl-images-amazon.com/images/I/61oUOUBcI8L._UY500_.jpg\":[\"500\",\"364\"],\"https://images-na.ssl-images-amazon.com/images/I/61oUOUBcI8L._UY879_.jpg\":[\"879\",\"640\"],\"https://images-na.ssl-images-amazon.com/images/I/61oUOUBcI8L._UY606_.jpg\":[\"606\",\"441\"],\"https://images-na.ssl-images-amazon.com/images/I/61oUOUBcI8L._UY445_.jpg\":[\"445\",\"324\"],\"https://images-na.ssl-images-amazon.com/images/I/61oUOUBcI8L._UY550_.jpg\":[\"550\",\"401\"]}}],\"2 Navy / 2 Smoke Grey\":[{\"large\":\"https://images-na.ssl-images-amazon.com/images/I/41QUpTQapmL.jpg\",\"variant\":\"MAIN\",\"hiRes\":\"https://images-na.ssl-images-amazon.com/images/I/61r1ZyG5skL._UL1200_.jpg\",\"thumb\":\"https://images-na.ssl-images-amazon.com/images/I/41QUpTQapmL._SR38,50_.jpg\",\"main\":{\"https://images-na.ssl-images-amazon.com/images/I/61r1ZyG5skL._UX425_.jpg\":[\"549\",\"425\"],\"https://images-na.ssl-images-amazon.com/images/I/61r1ZyG5skL._UX385_.jpg\":[\"497\",\"385\"],\"https://images-na.ssl-images-amazon.com/images/I/61r1ZyG5skL._UX569_.jpg\":[\"735\",\"569\"],\"https://images-na.ssl-images-amazon.com/images/I/61r1ZyG5skL._UX679_.jpg\":[\"877\",\"679\"],\"https://images-na.ssl-images-amazon.com/images/I/61r1ZyG5skL._UX522_.jpg\":[\"674\",\"522\"],\"https://images-na.ssl-images-amazon.com/images/I/61r1ZyG5skL._UX466_.jpg\":[\"602\",\"466\"],\"https://images-na.ssl-images-amazon.com/images/I/61r1ZyG5skL._UX342_.jpg\":[\"442\",\"342\"]}}],\"2 Pale Pink / 2 Smoke Grey\":[{\"large\":\"https://images-na.ssl-images-amazon.com/images/I/417yTvpgkFL.jpg\",\"variant\":\"MAIN\",\"hiRes\":\"https://images-na.ssl-images-amazon.com/images/I/61bV1pTCZWL._UL1200_.jpg\",\"thumb\":\"https://images-na.ssl-images-amazon.com/images/I/417yTvpgkFL._SR38,50_.jpg\",\"main\":{\"https://images-na.ssl-images-amazon.com/images/I/61bV1pTCZWL._UX385_.jpg\":[\"425\",\"385\"],\"https://images-na.ssl-images-amazon.com/images/I/61bV1pTCZWL._UX342_.jpg\":[\"378\",\"342\"],\"https://images-na.ssl-images-amazon.com/images/I/61bV1pTCZWL._UX522_.jpg\":[\"576\",\"522\"],\"https://images-na.ssl-images-amazon.com/images/I/61bV1pTCZWL._UX466_.jpg\":[\"514\",\"466\"],\"https://images-na.ssl-images-amazon.com/images/I/61bV1pTCZWL._UX679_.jpg\":[\"750\",\"679\"],\"https://images-na.ssl-images-amazon.com/images/I/61bV1pTCZWL._UX569_.jpg\":[\"628\",\"569\"],\"https://images-na.ssl-images-amazon.com/images/I/61bV1pTCZWL._UX425_.jpg\":[\"469\",\"425\"]}}],\"2 Black / 2 Purple\":[{\"large\":\"https://images-na.ssl-images-amazon.com/images/I/41mu3AIyTEL.jpg\",\"variant\":\"MAIN\",\"hiRes\":\"https://images-na.ssl-images-amazon.com/images/I/61z7-xGr9fL._UL1200_.jpg\",\"thumb\":\"https://images-na.ssl-images-amazon.com/images/I/41mu3AIyTEL._SR38,50_.jpg\",\"main\":{\"https://images-na.ssl-images-amazon.com/images/I/61z7-xGr9fL._UX569_.jpg\":[\"740\",\"569\"],\"https://images-na.ssl-images-amazon.com/images/I/61z7-xGr9fL._UY500_.jpg\":[\"500\",\"385\"],\"https://images-na.ssl-images-amazon.com/images/I/61z7-xGr9fL._UY879_.jpg\":[\"879\",\"676\"],\"https://images-na.ssl-images-amazon.com/images/I/61z7-xGr9fL._UX466_.jpg\":[\"606\",\"466\"],\"https://images-na.ssl-images-amazon.com/images/I/61z7-xGr9fL._UY550_.jpg\":[\"550\",\"423\"],\"https://images-na.ssl-images-amazon.com/images/I/61z7-xGr9fL._UX342_.jpg\":[\"445\",\"342\"],\"https://images-na.ssl-images-amazon.com/images/I/61z7-xGr9fL._UX522_.jpg\":[\"679\",\"522\"]}}],\"2 Pale Pink / 2 Sand\":[{\"large\":\"https://images-na.ssl-images-amazon.com/images/I/31vvoPSWCdL.jpg\",\"variant\":\"MAIN\",\"hiRes\":\"https://images-na.ssl-images-amazon.com/images/I/61p93wdjCBL._UL1200_.jpg\",\"thumb\":\"https://images-na.ssl-images-amazon.com/images/I/31vvoPSWCdL._SR38,50_.jpg\",\"main\":{\"https://images-na.ssl-images-amazon.com/images/I/61p93wdjCBL._UY879_.jpg\":[\"879\",\"644\"],\"https://images-na.ssl-images-amazon.com/images/I/61p93wdjCBL._UY606_.jpg\":[\"606\",\"444\"],\"https://images-na.ssl-images-amazon.com/images/I/61p93wdjCBL._UY550_.jpg\":[\"550\",\"403\"],\"https://images-na.ssl-images-amazon.com/images/I/61p93wdjCBL._UY445_.jpg\":[\"445\",\"326\"],\"https://images-na.ssl-images-amazon.com/images/I/61p93wdjCBL._UY741_.jpg\":[\"741\",\"543\"],\"https://images-na.ssl-images-amazon.com/images/I/61p93wdjCBL._UY679_.jpg\":[\"679\",\"497\"],\"https://images-na.ssl-images-amazon.com/images/I/61p93wdjCBL._UY500_.jpg\":[\"500\",\"366\"]}}],\"2 Ash / 2 Purple\":[{\"large\":\"https://images-na.ssl-images-amazon.com/images/I/41H1c2-giZL.jpg\",\"variant\":\"MAIN\",\"hiRes\":\"https://images-na.ssl-images-amazon.com/images/I/71GZKYhKlwL._UL1200_.jpg\",\"thumb\":\"https://images-na.ssl-images-amazon.com/images/I/41H1c2-giZL._SR38,50_.jpg\",\"main\":{\"https://images-na.ssl-images-amazon.com/images/I/71GZKYhKlwL._UX466_.jpg\":[\"603\",\"466\"],\"https://images-na.ssl-images-amazon.com/images/I/71GZKYhKlwL._UX522_.jpg\":[\"676\",\"522\"],\"https://images-na.ssl-images-amazon.com/images/I/71GZKYhKlwL._UX385_.jpg\":[\"498\",\"385\"],\"https://images-na.ssl-images-amazon.com/images/I/71GZKYhKlwL._UX569_.jpg\":[\"737\",\"569\"],\"https://images-na.ssl-images-amazon.com/images/I/71GZKYhKlwL._UX679_.jpg\":[\"879\",\"679\"],\"https://images-na.ssl-images-amazon.com/images/I/71GZKYhKlwL._UY550_.jpg\":[\"550\",\"425\"],\"https://images-na.ssl-images-amazon.com/images/I/71GZKYhKlwL._UX342_.jpg\":[\"443\",\"342\"]}}],\"2 Black / 2 Deep Forest\":[{\"large\":\"https://images-na.ssl-images-amazon.com/images/I/411exHES2jL.jpg\",\"variant\":\"MAIN\",\"hiRes\":\"https://images-na.ssl-images-amazon.com/images/I/61USIPiK7iL._UL1200_.jpg\",\"thumb\":\"https://images-na.ssl-images-amazon.com/images/I/411exHES2jL._SR38,50_.jpg\",\"main\":{\"https://images-na.ssl-images-amazon.com/images/I/61USIPiK7iL._UX569_.jpg\":[\"738\",\"569\"],\"https://images-na.ssl-images-amazon.com/images/I/61USIPiK7iL._UX466_.jpg\":[\"605\",\"466\"],\"https://images-na.ssl-images-amazon.com/images/I/61USIPiK7iL._UY879_.jpg\":[\"879\",\"678\"],\"https://images-na.ssl-images-amazon.com/images/I/61USIPiK7iL._UX385_.jpg\":[\"499\",\"385\"],\"https://images-na.ssl-images-amazon.com/images/I/61USIPiK7iL._UX522_.jpg\":[\"677\",\"522\"],\"https://images-na.ssl-images-amazon.com/images/I/61USIPiK7iL._UY550_.jpg\":[\"550\",\"424\"],\"https://images-na.ssl-images-amazon.com/images/I/61USIPiK7iL._UX342_.jpg\":[\"444\",\"342\"]}}],\"2 Navy / 2 Purple\":[{\"large\":\"https://images-na.ssl-images-amazon.com/images/I/41EzndltKbL.jpg\",\"variant\":\"MAIN\",\"hiRes\":\"https://images-na.ssl-images-amazon.com/images/I/61Vy04-6NHL._UL1200_.jpg\",\"thumb\":\"https://images-na.ssl-images-amazon.com/images/I/41EzndltKbL._SR38,50_.jpg\",\"main\":{\"https://images-na.ssl-images-amazon.com/images/I/61Vy04-6NHL._UX522_.jpg\":[\"674\",\"522\"],\"https://images-na.ssl-images-amazon.com/images/I/61Vy04-6NHL._UX385_.jpg\":[\"497\",\"385\"],\"https://images-na.ssl-images-amazon.com/images/I/61Vy04-6NHL._UX466_.jpg\":[\"602\",\"466\"],\"https://images-na.ssl-images-amazon.com/images/I/61Vy04-6NHL._UX425_.jpg\":[\"549\",\"425\"],\"https://images-na.ssl-images-amazon.com/images/I/61Vy04-6NHL._UX679_.jpg\":[\"877\",\"679\"],\"https://images-na.ssl-images-amazon.com/images/I/61Vy04-6NHL._UX569_.jpg\":[\"735\",\"569\"],\"https://images-na.ssl-images-amazon.com/images/I/61Vy04-6NHL._UX342_.jpg\":[\"442\",\"342\"]}}],\"2 Black / 2 Smoke Grey\":[{\"large\":\"https://images-na.ssl-images-amazon.com/images/I/41hqFCyX5uL.jpg\",\"variant\":\"MAIN\",\"hiRes\":\"https://images-na.ssl-images-amazon.com/images/I/61PwgCm0d8L._UL1200_.jpg\",\"thumb\":\"https://images-na.ssl-images-amazon.com/images/I/41hqFCyX5uL._SR38,50_.jpg\",\"main\":{\"https://images-na.ssl-images-amazon.com/images/I/61PwgCm0d8L._UX522_.jpg\":[\"679\",\"522\"],\"https://images-na.ssl-images-amazon.com/images/I/61PwgCm0d8L._UX342_.jpg\":[\"445\",\"342\"],\"https://images-na.ssl-images-amazon.com/images/I/61PwgCm0d8L._UX569_.jpg\":[\"740\",\"569\"],\"https://images-na.ssl-images-amazon.com/images/I/61PwgCm0d8L._UY500_.jpg\":[\"500\",\"385\"],\"https://images-na.ssl-images-amazon.com/images/I/61PwgCm0d8L._UY879_.jpg\":[\"879\",\"676\"],\"https://images-na.ssl-images-amazon.com/images/I/61PwgCm0d8L._UX466_.jpg\":[\"606\",\"466\"],\"https://images-na.ssl-images-amazon.com/images/I/61PwgCm0d8L._UY550_.jpg\":[\"550\",\"423\"]}}],\"Orange\":[{\"large\":\"https://images-na.ssl-images-amazon.com/images/I/41BFCnqG65L.jpg\",\"variant\":\"MAIN\",\"hiRes\":\"https://images-na.ssl-images-amazon.com/images/I/81YtibQxFIL._UL1500_.jpg\",\"thumb\":\"https://images-na.ssl-images-amazon.com/images/I/41BFCnqG65L._SR38,50_.jpg\",\"main\":{\"https://images-na.ssl-images-amazon.com/images/I/81YtibQxFIL._UX466_.jpg\":[\"574\",\"466\"],\"https://images-na.ssl-images-amazon.com/images/I/81YtibQxFIL._UX425_.jpg\":[\"523\",\"425\"],\"https://images-na.ssl-images-amazon.com/images/I/81YtibQxFIL._UX342_.jpg\":[\"421\",\"342\"],\"https://images-na.ssl-images-amazon.com/images/I/81YtibQxFIL._UX569_.jpg\":[\"700\",\"569\"],\"https://images-na.ssl-images-amazon.com/images/I/81YtibQxFIL._UX522_.jpg\":[\"642\",\"522\"],\"https://images-na.ssl-images-amazon.com/images/I/81YtibQxFIL._UX679_.jpg\":[\"836\",\"679\"],\"https://images-na.ssl-images-amazon.com/images/I/81YtibQxFIL._UX385_.jpg\":[\"474\",\"385\"]}}],\"2 Deep Royal / 2 Sand\":[{\"large\":\"https://images-na.ssl-images-amazon.com/images/I/318DQglZ0FL.jpg\",\"variant\":\"MAIN\",\"hiRes\":\"https://images-na.ssl-images-amazon.com/images/I/61jcrs8PjNL._UL1200_.jpg\",\"thumb\":\"https://images-na.ssl-images-amazon.com/images/I/318DQglZ0FL._SR38,50_.jpg\",\"main\":{\"https://images-na.ssl-images-amazon.com/images/I/61jcrs8PjNL._UY606_.jpg\":[\"606\",\"444\"],\"https://images-na.ssl-images-amazon.com/images/I/61jcrs8PjNL._UY879_.jpg\":[\"879\",\"644\"],\"https://images-na.ssl-images-amazon.com/images/I/61jcrs8PjNL._UY445_.jpg\":[\"445\",\"326\"],\"https://images-na.ssl-images-amazon.com/images/I/61jcrs8PjNL._UY550_.jpg\":[\"550\",\"403\"],\"https://images-na.ssl-images-amazon.com/images/I/61jcrs8PjNL._UY500_.jpg\":[\"500\",\"366\"],\"https://images-na.ssl-images-amazon.com/images/I/61jcrs8PjNL._UY679_.jpg\":[\"679\",\"497\"],\"https://images-na.ssl-images-amazon.com/images/I/61jcrs8PjNL._UY741_.jpg\":[\"741\",\"543\"]}}],\"2 Gold / 2 Pale Pink\":[{\"large\":\"https://images-na.ssl-images-amazon.com/images/I/41b9G6VNHLL.jpg\",\"variant\":\"MAIN\",\"hiRes\":\"https://images-na.ssl-images-amazon.com/images/I/61zCrBFtCML._UL1200_.jpg\",\"thumb\":\"https://images-na.ssl-images-amazon.com/images/I/41b9G6VNHLL._SR38,50_.jpg\",\"main\":{\"https://images-na.ssl-images-amazon.com/images/I/61zCrBFtCML._UX385_.jpg\":[\"496\",\"385\"],\"https://images-na.ssl-images-amazon.com/images/I/61zCrBFtCML._UX679_.jpg\":[\"875\",\"679\"],\"https://images-na.ssl-images-amazon.com/images/I/61zCrBFtCML._UX522_.jpg\":[\"673\",\"522\"],\"https://images-na.ssl-images-amazon.com/images/I/61zCrBFtCML._UX466_.jpg\":[\"601\",\"466\"],\"https://images-na.ssl-images-amazon.com/images/I/61zCrBFtCML._UX425_.jpg\":[\"548\",\"425\"],\"https://images-na.ssl-images-amazon.com/images/I/61zCrBFtCML._UX342_.jpg\":[\"441\",\"342\"],\"https://images-na.ssl-images-amazon.com/images/I/61zCrBFtCML._UX569_.jpg\":[\"733\",\"569\"]}}],\"2 Light Blue / 2 Sand\":[{\"large\":\"https://images-na.ssl-images-amazon.com/images/I/31uyp5nOn5L.jpg\",\"variant\":\"MAIN\",\"hiRes\":\"https://images-na.ssl-images-amazon.com/images/I/61Y6UM9UHNL._UL1200_.jpg\",\"thumb\":\"https://images-na.ssl-images-amazon.com/images/I/31uyp5nOn5L._SR38,50_.jpg\",\"main\":{\"https://images-na.ssl-images-amazon.com/images/I/61Y6UM9UHNL._UY445_.jpg\":[\"445\",\"326\"],\"https://images-na.ssl-images-amazon.com/images/I/61Y6UM9UHNL._UY500_.jpg\":[\"500\",\"366\"],\"https://images-na.ssl-images-amazon.com/images/I/61Y6UM9UHNL._UY679_.jpg\":[\"679\",\"497\"],\"https://images-na.ssl-images-amazon.com/images/I/61Y6UM9UHNL._UY879_.jpg\":[\"879\",\"644\"],\"https://images-na.ssl-images-amazon.com/images/I/61Y6UM9UHNL._UY741_.jpg\":[\"741\",\"543\"],\"https://images-na.ssl-images-amazon.com/images/I/61Y6UM9UHNL._UY606_.jpg\":[\"606\",\"444\"],\"https://images-na.ssl-images-amazon.com/images/I/61Y6UM9UHNL._UY550_.jpg\":[\"550\",\"403\"]}}],\"2 Deep Forest / 2 Lime\":[{\"large\":\"https://images-na.ssl-images-amazon.com/images/I/41eJ4tKcvJL.jpg\",\"variant\":\"MAIN\",\"hiRes\":\"https://images-na.ssl-images-amazon.com/images/I/61StHyafmJL._UL1200_.jpg\",\"thumb\":\"https://images-na.ssl-images-amazon.com/images/I/41eJ4tKcvJL._SR38,50_.jpg\",\"main\":{\"https://images-na.ssl-images-amazon.com/images/I/61StHyafmJL._UY879_.jpg\":[\"879\",\"646\"],\"https://images-na.ssl-images-amazon.com/images/I/61StHyafmJL._UY550_.jpg\":[\"550\",\"404\"],\"https://images-na.ssl-images-amazon.com/images/I/61StHyafmJL._UY679_.jpg\":[\"679\",\"499\"],\"https://images-na.ssl-images-amazon.com/images/I/61StHyafmJL._UY741_.jpg\":[\"741\",\"545\"],\"https://images-na.ssl-images-amazon.com/images/I/61StHyafmJL._UY606_.jpg\":[\"606\",\"445\"],\"https://images-na.ssl-images-amazon.com/images/I/61StHyafmJL._UY500_.jpg\":[\"500\",\"368\"],\"https://images-na.ssl-images-amazon.com/images/I/61StHyafmJL._UY445_.jpg\":[\"445\",\"327\"]}}],\"Black/Heather Ash\":[{\"large\":\"https://images-na.ssl-images-amazon.com/images/I/41pqYQdliML.jpg\",\"variant\":\"MAIN\",\"hiRes\":\"https://images-na.ssl-images-amazon.com/images/I/71HyZAvUTKL._UL1500_.jpg\",\"thumb\":\"https://images-na.ssl-images-amazon.com/images/I/41pqYQdliML._SR38,50_.jpg\",\"main\":{\"https://images-na.ssl-images-amazon.com/images/I/71HyZAvUTKL._UX466_.jpg\":[\"582\",\"466\"],\"https://images-na.ssl-images-amazon.com/images/I/71HyZAvUTKL._UX569_.jpg\":[\"711\",\"569\"],\"https://images-na.ssl-images-amazon.com/images/I/71HyZAvUTKL._UX679_.jpg\":[\"849\",\"679\"],\"https://images-na.ssl-images-amazon.com/images/I/71HyZAvUTKL._UX425_.jpg\":[\"531\",\"425\"],\"https://images-na.ssl-images-amazon.com/images/I/71HyZAvUTKL._UX342_.jpg\":[\"427\",\"342\"],\"https://images-na.ssl-images-amazon.com/images/I/71HyZAvUTKL._UX522_.jpg\":[\"652\",\"522\"],\"https://images-na.ssl-images-amazon.com/images/I/71HyZAvUTKL._UX385_.jpg\":[\"481\",\"385\"]}}],\"2 Pale Pink / 2 Purple\":[{\"large\":\"https://images-na.ssl-images-amazon.com/images/I/41wjyWDptIL.jpg\",\"variant\":\"MAIN\",\"hiRes\":\"https://images-na.ssl-images-amazon.com/images/I/613WWJD9eFL._UL1200_.jpg\",\"thumb\":\"https://images-na.ssl-images-amazon.com/images/I/41wjyWDptIL._SR38,50_.jpg\",\"main\":{\"https://images-na.ssl-images-amazon.com/images/I/613WWJD9eFL._UX522_.jpg\":[\"575\",\"522\"],\"https://images-na.ssl-images-amazon.com/images/I/613WWJD9eFL._UX569_.jpg\":[\"627\",\"569\"],\"https://images-na.ssl-images-amazon.com/images/I/613WWJD9eFL._UX425_.jpg\":[\"468\",\"425\"],\"https://images-na.ssl-images-amazon.com/images/I/613WWJD9eFL._UX385_.jpg\":[\"424\",\"385\"],\"https://images-na.ssl-images-amazon.com/images/I/613WWJD9eFL._UX342_.jpg\":[\"377\",\"342\"],\"https://images-na.ssl-images-amazon.com/images/I/613WWJD9eFL._UX679_.jpg\":[\"748\",\"679\"],\"https://images-na.ssl-images-amazon.com/images/I/613WWJD9eFL._UX466_.jpg\":[\"513\",\"466\"]}}],\"Ash\":[{\"large\":\"https://images-na.ssl-images-amazon.com/images/I/41ynwdOlpmL.jpg\",\"variant\":\"MAIN\",\"hiRes\":\"https://images-na.ssl-images-amazon.com/images/I/913-1ZxQgOL._UL1500_.jpg\",\"thumb\":\"https://images-na.ssl-images-amazon.com/images/I/41ynwdOlpmL._SR38,50_.jpg\",\"main\":{\"https://images-na.ssl-images-amazon.com/images/I/913-1ZxQgOL._UX385_.jpg\":[\"474\",\"385\"],\"https://images-na.ssl-images-amazon.com/images/I/913-1ZxQgOL._UX569_.jpg\":[\"700\",\"569\"],\"https://images-na.ssl-images-amazon.com/images/I/913-1ZxQgOL._UX342_.jpg\":[\"421\",\"342\"],\"https://images-na.ssl-images-amazon.com/images/I/913-1ZxQgOL._UX522_.jpg\":[\"642\",\"522\"],\"https://images-na.ssl-images-amazon.com/images/I/913-1ZxQgOL._UX425_.jpg\":[\"523\",\"425\"],\"https://images-na.ssl-images-amazon.com/images/I/913-1ZxQgOL._UX679_.jpg\":[\"836\",\"679\"],\"https://images-na.ssl-images-amazon.com/images/I/913-1ZxQgOL._UX466_.jpg\":[\"574\",\"466\"]}}],\"2 Orange / 2 Deep Red\":[{\"large\":\"https://images-na.ssl-images-amazon.com/images/I/41QoeTuyqxL.jpg\",\"variant\":\"MAIN\",\"hiRes\":\"https://images-na.ssl-images-amazon.com/images/I/61LC9DyVdGL._UL1200_.jpg\",\"thumb\":\"https://images-na.ssl-images-amazon.com/images/I/41QoeTuyqxL._SR38,50_.jpg\",\"main\":{\"https://images-na.ssl-images-amazon.com/images/I/61LC9DyVdGL._UX679_.jpg\":[\"879\",\"679\"],\"https://images-na.ssl-images-amazon.com/images/I/61LC9DyVdGL._UX522_.jpg\":[\"676\",\"522\"],\"https://images-na.ssl-images-amazon.com/images/I/61LC9DyVdGL._UY550_.jpg\":[\"550\",\"425\"],\"https://images-na.ssl-images-amazon.com/images/I/61LC9DyVdGL._UX569_.jpg\":[\"737\",\"569\"],\"https://images-na.ssl-images-amazon.com/images/I/61LC9DyVdGL._UX385_.jpg\":[\"498\",\"385\"],\"https://images-na.ssl-images-amazon.com/images/I/61LC9DyVdGL._UX466_.jpg\":[\"603\",\"466\"],\"https://images-na.ssl-images-amazon.com/images/I/61LC9DyVdGL._UX342_.jpg\":[\"443\",\"342\"]}}],\"2 Deep Forest / 2 Deep Royal\":[{\"large\":\"https://images-na.ssl-images-amazon.com/images/I/41-GEXTS%2BVL.jpg\",\"variant\":\"MAIN\",\"hiRes\":\"https://images-na.ssl-images-amazon.com/images/I/61DSZAsLIHL._UL1200_.jpg\",\"thumb\":\"https://images-na.ssl-images-amazon.com/images/I/41-GEXTS%2BVL._SR38,50_.jpg\",\"main\":{\"https://images-na.ssl-images-amazon.com/images/I/61DSZAsLIHL._UX466_.jpg\":[\"605\",\"466\"],\"https://images-na.ssl-images-amazon.com/images/I/61DSZAsLIHL._UX522_.jpg\":[\"678\",\"522\"],\"https://images-na.ssl-images-amazon.com/images/I/61DSZAsLIHL._UY500_.jpg\":[\"500\",\"385\"],\"https://images-na.ssl-images-amazon.com/images/I/61DSZAsLIHL._UX342_.jpg\":[\"444\",\"342\"],\"https://images-na.ssl-images-amazon.com/images/I/61DSZAsLIHL._UX569_.jpg\":[\"739\",\"569\"],\"https://images-na.ssl-images-amazon.com/images/I/61DSZAsLIHL._UY550_.jpg\":[\"550\",\"424\"],\"https://images-na.ssl-images-amazon.com/images/I/61DSZAsLIHL._UY879_.jpg\":[\"879\",\"677\"]}}],\"2 Black / 2 Light Blue\":[{\"large\":\"https://images-na.ssl-images-amazon.com/images/I/41S6AyrYrNL.jpg\",\"variant\":\"MAIN\",\"hiRes\":\"https://images-na.ssl-images-amazon.com/images/I/61d8MraOibL._UL1200_.jpg\",\"thumb\":\"https://images-na.ssl-images-amazon.com/images/I/41S6AyrYrNL._SR38,50_.jpg\",\"main\":{\"https://images-na.ssl-images-amazon.com/images/I/61d8MraOibL._UY445_.jpg\":[\"445\",\"342\"],\"https://images-na.ssl-images-amazon.com/images/I/61d8MraOibL._UX569_.jpg\":[\"741\",\"569\"],\"https://images-na.ssl-images-amazon.com/images/I/61d8MraOibL._UY606_.jpg\":[\"606\",\"466\"],\"https://images-na.ssl-images-amazon.com/images/I/61d8MraOibL._UY500_.jpg\":[\"500\",\"384\"],\"https://images-na.ssl-images-amazon.com/images/I/61d8MraOibL._UY879_.jpg\":[\"879\",\"675\"],\"https://images-na.ssl-images-amazon.com/images/I/61d8MraOibL._UY679_.jpg\":[\"679\",\"522\"],\"https://images-na.ssl-images-amazon.com/images/I/61d8MraOibL._UY550_.jpg\":[\"550\",\"423\"]}}],\"2 Sand / 2 Smoke Grey\":[{\"large\":\"https://images-na.ssl-images-amazon.com/images/I/31xmxAL%2BQrL.jpg\",\"variant\":\"MAIN\",\"hiRes\":\"https://images-na.ssl-images-amazon.com/images/I/615Kt%2BTQStL._UL1200_.jpg\",\"thumb\":\"https://images-na.ssl-images-amazon.com/images/I/31xmxAL%2BQrL._SR38,50_.jpg\",\"main\":{\"https://images-na.ssl-images-amazon.com/images/I/615Kt%2BTQStL._UY879_.jpg\":[\"879\",\"642\"],\"https://images-na.ssl-images-amazon.com/images/I/615Kt%2BTQStL._UY550_.jpg\":[\"550\",\"402\"],\"https://images-na.ssl-images-amazon.com/images/I/615Kt%2BTQStL._UY445_.jpg\":[\"445\",\"325\"],\"https://images-na.ssl-images-amazon.com/images/I/615Kt%2BTQStL._UY606_.jpg\":[\"606\",\"442\"],\"https://images-na.ssl-images-amazon.com/images/I/615Kt%2BTQStL._UY679_.jpg\":[\"679\",\"496\"],\"https://images-na.ssl-images-amazon.com/images/I/615Kt%2BTQStL._UY741_.jpg\":[\"741\",\"541\"],\"https://images-na.ssl-images-amazon.com/images/I/615Kt%2BTQStL._UY500_.jpg\":[\"500\",\"365\"]}}],\"2 Deep Red / 2 Pale Pink\":[{\"large\":\"https://images-na.ssl-images-amazon.com/images/I/41Fsuh4mljL.jpg\",\"variant\":\"MAIN\",\"hiRes\":\"https://images-na.ssl-images-amazon.com/images/I/61JKHyAxOuL._UL1200_.jpg\",\"thumb\":\"https://images-na.ssl-images-amazon.com/images/I/41Fsuh4mljL._SR38,50_.jpg\",\"main\":{\"https://images-na.ssl-images-amazon.com/images/I/61JKHyAxOuL._UX342_.jpg\":[\"435\",\"342\"],\"https://images-na.ssl-images-amazon.com/images/I/61JKHyAxOuL._UX679_.jpg\":[\"864\",\"679\"],\"https://images-na.ssl-images-amazon.com/images/I/61JKHyAxOuL._UX569_.jpg\":[\"724\",\"569\"],\"https://images-na.ssl-images-amazon.com/images/I/61JKHyAxOuL._UX425_.jpg\":[\"541\",\"425\"],\"https://images-na.ssl-images-amazon.com/images/I/61JKHyAxOuL._UX466_.jpg\":[\"593\",\"466\"],\"https://images-na.ssl-images-amazon.com/images/I/61JKHyAxOuL._UX522_.jpg\":[\"664\",\"522\"],\"https://images-na.ssl-images-amazon.com/images/I/61JKHyAxOuL._UX385_.jpg\":[\"490\",\"385\"]}}],\"2 Ash / 2 Sand\":[{\"large\":\"https://images-na.ssl-images-amazon.com/images/I/31StyTy6cxL.jpg\",\"variant\":\"MAIN\",\"hiRes\":\"https://images-na.ssl-images-amazon.com/images/I/61IJMgXpfFL._UL1200_.jpg\",\"thumb\":\"https://images-na.ssl-images-amazon.com/images/I/31StyTy6cxL._SR38,50_.jpg\",\"main\":{\"https://images-na.ssl-images-amazon.com/images/I/61IJMgXpfFL._UY606_.jpg\":[\"606\",\"443\"],\"https://images-na.ssl-images-amazon.com/images/I/61IJMgXpfFL._UY500_.jpg\":[\"500\",\"366\"],\"https://images-na.ssl-images-amazon.com/images/I/61IJMgXpfFL._UY550_.jpg\":[\"550\",\"402\"],\"https://images-na.ssl-images-amazon.com/images/I/61IJMgXpfFL._UY741_.jpg\":[\"741\",\"542\"],\"https://images-na.ssl-images-amazon.com/images/I/61IJMgXpfFL._UY879_.jpg\":[\"879\",\"643\"],\"https://images-na.ssl-images-amazon.com/images/I/61IJMgXpfFL._UY679_.jpg\":[\"679\",\"497\"],\"https://images-na.ssl-images-amazon.com/images/I/61IJMgXpfFL._UY445_.jpg\":[\"445\",\"326\"]}}],\"-White\":[{\"large\":\"https://images-na.ssl-images-amazon.com/images/I/310WqZDmlnL.jpg\",\"variant\":\"MAIN\",\"hiRes\":\"https://images-na.ssl-images-amazon.com/images/I/61Uu90UipcL._UL1500_.jpg\",\"thumb\":\"https://images-na.ssl-images-amazon.com/images/I/310WqZDmlnL._SR38,50_.jpg\",\"main\":{\"https://images-na.ssl-images-amazon.com/images/I/61Uu90UipcL._UX522_.jpg\":[\"652\",\"522\"],\"https://images-na.ssl-images-amazon.com/images/I/61Uu90UipcL._UX342_.jpg\":[\"427\",\"342\"],\"https://images-na.ssl-images-amazon.com/images/I/61Uu90UipcL._UX569_.jpg\":[\"711\",\"569\"],\"https://images-na.ssl-images-amazon.com/images/I/61Uu90UipcL._UX466_.jpg\":[\"582\",\"466\"],\"https://images-na.ssl-images-amazon.com/images/I/61Uu90UipcL._UX385_.jpg\":[\"481\",\"385\"],\"https://images-na.ssl-images-amazon.com/images/I/61Uu90UipcL._UX679_.jpg\":[\"849\",\"679\"],\"https://images-na.ssl-images-amazon.com/images/I/61Uu90UipcL._UX425_.jpg\":[\"531\",\"425\"]}},{\"large\":\"https://images-na.ssl-images-amazon.com/images/I/310WqZDmlnL.jpg\",\"variant\":\"PT01\",\"hiRes\":\"https://images-na.ssl-images-amazon.com/images/I/61Uu90UipcL._UL1500_.jpg\",\"thumb\":\"https://images-na.ssl-images-amazon.com/images/I/310WqZDmlnL._SR38,50_.jpg\",\"main\":{\"https://images-na.ssl-images-amazon.com/images/I/61Uu90UipcL._UX522_.jpg\":[\"652\",\"522\"],\"https://images-na.ssl-images-amazon.com/images/I/61Uu90UipcL._UX342_.jpg\":[\"427\",\"342\"],\"https://images-na.ssl-images-amazon.com/images/I/61Uu90UipcL._UX569_.jpg\":[\"711\",\"569\"],\"https://images-na.ssl-images-amazon.com/images/I/61Uu90UipcL._UX466_.jpg\":[\"582\",\"466\"],\"https://images-na.ssl-images-amazon.com/images/I/61Uu90UipcL._UX385_.jpg\":[\"481\",\"385\"],\"https://images-na.ssl-images-amazon.com/images/I/61Uu90UipcL._UX679_.jpg\":[\"849\",\"679\"],\"https://images-na.ssl-images-amazon.com/images/I/61Uu90UipcL._UX425_.jpg\":[\"531\",\"425\"]}},{\"large\":\"https://images-na.ssl-images-amazon.com/images/I/31ZztBCg6FL.jpg\",\"variant\":\"PT02\",\"hiRes\":\"https://images-na.ssl-images-amazon.com/images/I/51iRT3QLoBL._UL1500_.jpg\",\"thumb\":\"https://images-na.ssl-images-amazon.com/images/I/31ZztBCg6FL._SR38,50_.jpg\",\"main\":{\"https://images-na.ssl-images-amazon.com/images/I/51iRT3QLoBL._UX679_.jpg\":[\"849\",\"679\"],\"https://images-na.ssl-images-amazon.com/images/I/51iRT3QLoBL._UX466_.jpg\":[\"582\",\"466\"],\"https://images-na.ssl-images-amazon.com/images/I/51iRT3QLoBL._UX522_.jpg\":[\"652\",\"522\"],\"https://images-na.ssl-images-amazon.com/images/I/51iRT3QLoBL._UX569_.jpg\":[\"711\",\"569\"],\"https://images-na.ssl-images-amazon.com/images/I/51iRT3QLoBL._UX425_.jpg\":[\"531\",\"425\"],\"https://images-na.ssl-images-amazon.com/images/I/51iRT3QLoBL._UX385_.jpg\":[\"481\",\"385\"],\"https://images-na.ssl-images-amazon.com/images/I/51iRT3QLoBL._UX342_.jpg\":[\"427\",\"342\"]}}],\"2 Ash / 2 Smoke Grey\":[{\"large\":\"https://images-na.ssl-images-amazon.com/images/I/41sUoO9OFZL.jpg\",\"variant\":\"MAIN\",\"hiRes\":\"https://images-na.ssl-images-amazon.com/images/I/716ghCqGboL._UL1200_.jpg\",\"thumb\":\"https://images-na.ssl-images-amazon.com/images/I/41sUoO9OFZL._SR38,50_.jpg\",\"main\":{\"https://images-na.ssl-images-amazon.com/images/I/716ghCqGboL._UX466_.jpg\":[\"603\",\"466\"],\"https://images-na.ssl-images-amazon.com/images/I/716ghCqGboL._UX385_.jpg\":[\"498\",\"385\"],\"https://images-na.ssl-images-amazon.com/images/I/716ghCqGboL._UX679_.jpg\":[\"879\",\"679\"],\"https://images-na.ssl-images-amazon.com/images/I/716ghCqGboL._UX569_.jpg\":[\"737\",\"569\"],\"https://images-na.ssl-images-amazon.com/images/I/716ghCqGboL._UX342_.jpg\":[\"443\",\"342\"],\"https://images-na.ssl-images-amazon.com/images/I/716ghCqGboL._UX522_.jpg\":[\"676\",\"522\"],\"https://images-na.ssl-images-amazon.com/images/I/716ghCqGboL._UY550_.jpg\":[\"550\",\"425\"]}}],\"2 Maroon / 2 Smoke Grey\":[{\"large\":\"https://images-na.ssl-images-amazon.com/images/I/318OjOigxvL.jpg\",\"variant\":\"MAIN\",\"hiRes\":\"https://images-na.ssl-images-amazon.com/images/I/61v5etWtMiL._UL1200_.jpg\",\"thumb\":\"https://images-na.ssl-images-amazon.com/images/I/318OjOigxvL._SR38,50_.jpg\",\"main\":{\"https://images-na.ssl-images-amazon.com/images/I/61v5etWtMiL._UY445_.jpg\":[\"445\",\"323\"],\"https://images-na.ssl-images-amazon.com/images/I/61v5etWtMiL._UY550_.jpg\":[\"550\",\"399\"],\"https://images-na.ssl-images-amazon.com/images/I/61v5etWtMiL._UY741_.jpg\":[\"741\",\"538\"],\"https://images-na.ssl-images-amazon.com/images/I/61v5etWtMiL._UY500_.jpg\":[\"500\",\"363\"],\"https://images-na.ssl-images-amazon.com/images/I/61v5etWtMiL._UY679_.jpg\":[\"679\",\"493\"],\"https://images-na.ssl-images-amazon.com/images/I/61v5etWtMiL._UY879_.jpg\":[\"879\",\"638\"],\"https://images-na.ssl-images-amazon.com/images/I/61v5etWtMiL._UY606_.jpg\":[\"606\",\"440\"]}}],\"2 Light Blue / 2 Smoke Grey\":[{\"large\":\"https://images-na.ssl-images-amazon.com/images/I/41fv-F41U1L.jpg\",\"variant\":\"MAIN\",\"hiRes\":\"https://images-na.ssl-images-amazon.com/images/I/61oS2nOf2IL._UL1200_.jpg\",\"thumb\":\"https://images-na.ssl-images-amazon.com/images/I/41fv-F41U1L._SR38,50_.jpg\",\"main\":{\"https://images-na.ssl-images-amazon.com/images/I/61oS2nOf2IL._UX385_.jpg\":[\"497\",\"385\"],\"https://images-na.ssl-images-amazon.com/images/I/61oS2nOf2IL._UX522_.jpg\":[\"674\",\"522\"],\"https://images-na.ssl-images-amazon.com/images/I/61oS2nOf2IL._UX679_.jpg\":[\"876\",\"679\"],\"https://images-na.ssl-images-amazon.com/images/I/61oS2nOf2IL._UX425_.jpg\":[\"548\",\"425\"],\"https://images-na.ssl-images-amazon.com/images/I/61oS2nOf2IL._UX342_.jpg\":[\"441\",\"342\"],\"https://images-na.ssl-images-amazon.com/images/I/61oS2nOf2IL._UX569_.jpg\":[\"734\",\"569\"],\"https://images-na.ssl-images-amazon.com/images/I/61oS2nOf2IL._UX466_.jpg\":[\"601\",\"466\"]}}],\"Gold\":[{\"large\":\"https://images-na.ssl-images-amazon.com/images/I/41W%2BPlvGoEL.jpg\",\"variant\":\"MAIN\",\"hiRes\":\"https://images-na.ssl-images-amazon.com/images/I/61HdSxBkMcL._UL1200_.jpg\",\"thumb\":\"https://images-na.ssl-images-amazon.com/images/I/41W%2BPlvGoEL._SR38,50_.jpg\",\"main\":{\"https://images-na.ssl-images-amazon.com/images/I/61HdSxBkMcL._UX385_.jpg\":[\"484\",\"385\"],\"https://images-na.ssl-images-amazon.com/images/I/61HdSxBkMcL._UX679_.jpg\":[\"853\",\"679\"],\"https://images-na.ssl-images-amazon.com/images/I/61HdSxBkMcL._UX342_.jpg\":[\"430\",\"342\"],\"https://images-na.ssl-images-amazon.com/images/I/61HdSxBkMcL._UX425_.jpg\":[\"534\",\"425\"],\"https://images-na.ssl-images-amazon.com/images/I/61HdSxBkMcL._UX522_.jpg\":[\"656\",\"522\"],\"https://images-na.ssl-images-amazon.com/images/I/61HdSxBkMcL._UX569_.jpg\":[\"715\",\"569\"],\"https://images-na.ssl-images-amazon.com/images/I/61HdSxBkMcL._UX466_.jpg\":[\"586\",\"466\"]}}],\"2 Deep Forest / 2 Navy\":[{\"large\":\"https://images-na.ssl-images-amazon.com/images/I/41XYhAlnifL.jpg\",\"variant\":\"MAIN\",\"hiRes\":\"https://images-na.ssl-images-amazon.com/images/I/61kSVKL0n5L._UL1200_.jpg\",\"thumb\":\"https://images-na.ssl-images-amazon.com/images/I/41XYhAlnifL._SR38,50_.jpg\",\"main\":{\"https://images-na.ssl-images-amazon.com/images/I/61kSVKL0n5L._UX569_.jpg\":[\"737\",\"569\"],\"https://images-na.ssl-images-amazon.com/images/I/61kSVKL0n5L._UY550_.jpg\":[\"550\",\"424\"],\"https://images-na.ssl-images-amazon.com/images/I/61kSVKL0n5L._UX522_.jpg\":[\"676\",\"522\"],\"https://images-na.ssl-images-amazon.com/images/I/61kSVKL0n5L._UX466_.jpg\":[\"604\",\"466\"],\"https://images-na.ssl-images-amazon.com/images/I/61kSVKL0n5L._UY879_.jpg\":[\"879\",\"678\"],\"https://images-na.ssl-images-amazon.com/images/I/61kSVKL0n5L._UX385_.jpg\":[\"499\",\"385\"],\"https://images-na.ssl-images-amazon.com/images/I/61kSVKL0n5L._UX342_.jpg\":[\"443\",\"342\"]}}],\"2 Light Steel / 2 White\":[{\"large\":\"https://images-na.ssl-images-amazon.com/images/I/41mTkh2pwTL.jpg\",\"variant\":\"MAIN\",\"hiRes\":\"https://images-na.ssl-images-amazon.com/images/I/61Dpt0LSGnL._UL1200_.jpg\",\"thumb\":\"https://images-na.ssl-images-amazon.com/images/I/41mTkh2pwTL._SR38,50_.jpg\",\"main\":{\"https://images-na.ssl-images-amazon.com/images/I/61Dpt0LSGnL._UX385_.jpg\":[\"494\",\"385\"],\"https://images-na.ssl-images-amazon.com/images/I/61Dpt0LSGnL._UX342_.jpg\":[\"439\",\"342\"],\"https://images-na.ssl-images-amazon.com/images/I/61Dpt0LSGnL._UX425_.jpg\":[\"545\",\"425\"],\"https://images-na.ssl-images-amazon.com/images/I/61Dpt0LSGnL._UX679_.jpg\":[\"871\",\"679\"],\"https://images-na.ssl-images-amazon.com/images/I/61Dpt0LSGnL._UX569_.jpg\":[\"730\",\"569\"],\"https://images-na.ssl-images-amazon.com/images/I/61Dpt0LSGnL._UX522_.jpg\":[\"670\",\"522\"],\"https://images-na.ssl-images-amazon.com/images/I/61Dpt0LSGnL._UX466_.jpg\":[\"598\",\"466\"]}}],\"Juniper\":[{\"large\":\"https://images-na.ssl-images-amazon.com/images/I/41u-BFrN%2BVL.jpg\",\"variant\":\"MAIN\",\"hiRes\":\"https://images-na.ssl-images-amazon.com/images/I/91M70MnL78L._UL1500_.jpg\",\"thumb\":\"https://images-na.ssl-images-amazon.com/images/I/41u-BFrN%2BVL._SR38,50_.jpg\",\"main\":{\"https://images-na.ssl-images-amazon.com/images/I/91M70MnL78L._UX569_.jpg\":[\"700\",\"569\"],\"https://images-na.ssl-images-amazon.com/images/I/91M70MnL78L._UX522_.jpg\":[\"642\",\"522\"],\"https://images-na.ssl-images-amazon.com/images/I/91M70MnL78L._UX466_.jpg\":[\"574\",\"466\"],\"https://images-na.ssl-images-amazon.com/images/I/91M70MnL78L._UX385_.jpg\":[\"474\",\"385\"],\"https://images-na.ssl-images-amazon.com/images/I/91M70MnL78L._UX679_.jpg\":[\"836\",\"679\"],\"https://images-na.ssl-images-amazon.com/images/I/91M70MnL78L._UX425_.jpg\":[\"523\",\"425\"],\"https://images-na.ssl-images-amazon.com/images/I/91M70MnL78L._UX342_.jpg\":[\"421\",\"342\"]}}],\"Deep Royal\":[{\"large\":\"https://images-na.ssl-images-amazon.com/images/I/41%2BR-6Nh9EL.jpg\",\"variant\":\"MAIN\",\"hiRes\":\"https://images-na.ssl-images-amazon.com/images/I/913RZ%2B1jKmL._UL1500_.jpg\",\"thumb\":\"https://images-na.ssl-images-amazon.com/images/I/41%2BR-6Nh9EL._SR38,50_.jpg\",\"main\":{\"https://images-na.ssl-images-amazon.com/images/I/913RZ%2B1jKmL._UX466_.jpg\":[\"574\",\"466\"],\"https://images-na.ssl-images-amazon.com/images/I/913RZ%2B1jKmL._UX425_.jpg\":[\"523\",\"425\"],\"https://images-na.ssl-images-amazon.com/images/I/913RZ%2B1jKmL._UX385_.jpg\":[\"474\",\"385\"],\"https://images-na.ssl-images-amazon.com/images/I/913RZ%2B1jKmL._UX679_.jpg\":[\"836\",\"679\"],\"https://images-na.ssl-images-amazon.com/images/I/913RZ%2B1jKmL._UX569_.jpg\":[\"700\",\"569\"],\"https://images-na.ssl-images-amazon.com/images/I/913RZ%2B1jKmL._UX522_.jpg\":[\"642\",\"522\"],\"https://images-na.ssl-images-amazon.com/images/I/913RZ%2B1jKmL._UX342_.jpg\":[\"421\",\"342\"]}}],\"2 Maroon / 2 Gold\":[{\"large\":\"https://images-na.ssl-images-amazon.com/images/I/41tohhT4DaL.jpg\",\"variant\":\"MAIN\",\"hiRes\":\"https://images-na.ssl-images-amazon.com/images/I/61I6rwzA15L._UL1200_.jpg\",\"thumb\":\"https://images-na.ssl-images-amazon.com/images/I/41tohhT4DaL._SR38,50_.jpg\",\"main\":{\"https://images-na.ssl-images-amazon.com/images/I/61I6rwzA15L._UY741_.jpg\":[\"741\",\"540\"],\"https://images-na.ssl-images-amazon.com/images/I/61I6rwzA15L._UY550_.jpg\":[\"550\",\"401\"],\"https://images-na.ssl-images-amazon.com/images/I/61I6rwzA15L._UY500_.jpg\":[\"500\",\"364\"],\"https://images-na.ssl-images-amazon.com/images/I/61I6rwzA15L._UY445_.jpg\":[\"445\",\"324\"],\"https://images-na.ssl-images-amazon.com/images/I/61I6rwzA15L._UY879_.jpg\":[\"879\",\"640\"],\"https://images-na.ssl-images-amazon.com/images/I/61I6rwzA15L._UY679_.jpg\":[\"679\",\"495\"],\"https://images-na.ssl-images-amazon.com/images/I/61I6rwzA15L._UY606_.jpg\":[\"606\",\"441\"]}}],\"White\":[{\"large\":\"https://images-na.ssl-images-amazon.com/images/I/41pH2UfiEZL.jpg\",\"variant\":\"MAIN\",\"hiRes\":\"https://images-na.ssl-images-amazon.com/images/I/814-cvNfrML._UL1500_.jpg\",\"thumb\":\"https://images-na.ssl-images-amazon.com/images/I/41pH2UfiEZL._SR38,50_.jpg\",\"main\":{\"https://images-na.ssl-images-amazon.com/images/I/814-cvNfrML._UX385_.jpg\":[\"474\",\"385\"],\"https://images-na.ssl-images-amazon.com/images/I/814-cvNfrML._UX342_.jpg\":[\"421\",\"342\"],\"https://images-na.ssl-images-amazon.com/images/I/814-cvNfrML._UX679_.jpg\":[\"836\",\"679\"],\"https://images-na.ssl-images-amazon.com/images/I/814-cvNfrML._UX522_.jpg\":[\"642\",\"522\"],\"https://images-na.ssl-images-amazon.com/images/I/814-cvNfrML._UX466_.jpg\":[\"574\",\"466\"],\"https://images-na.ssl-images-amazon.com/images/I/814-cvNfrML._UX425_.jpg\":[\"523\",\"425\"],\"https://images-na.ssl-images-amazon.com/images/I/814-cvNfrML._UX569_.jpg\":[\"700\",\"569\"]}}],\"Light Steel\":[{\"large\":\"https://images-na.ssl-images-amazon.com/images/I/41T-xOjFlFL.jpg\",\"variant\":\"MAIN\",\"hiRes\":\"https://images-na.ssl-images-amazon.com/images/I/91pETNI4XDL._UL1500_.jpg\",\"thumb\":\"https://images-na.ssl-images-amazon.com/images/I/41T-xOjFlFL._SR38,50_.jpg\",\"main\":{\"https://images-na.ssl-images-amazon.com/images/I/91pETNI4XDL._UX522_.jpg\":[\"642\",\"522\"],\"https://images-na.ssl-images-amazon.com/images/I/91pETNI4XDL._UX679_.jpg\":[\"836\",\"679\"],\"https://images-na.ssl-images-amazon.com/images/I/91pETNI4XDL._UX425_.jpg\":[\"523\",\"425\"],\"https://images-na.ssl-images-amazon.com/images/I/91pETNI4XDL._UX385_.jpg\":[\"474\",\"385\"],\"https://images-na.ssl-images-amazon.com/images/I/91pETNI4XDL._UX466_.jpg\":[\"574\",\"466\"],\"https://images-na.ssl-images-amazon.com/images/I/91pETNI4XDL._UX342_.jpg\":[\"421\",\"342\"],\"https://images-na.ssl-images-amazon.com/images/I/91pETNI4XDL._UX569_.jpg\":[\"700\",\"569\"]}}],\"2 Light Blue / 2 Lime\":[{\"large\":\"https://images-na.ssl-images-amazon.com/images/I/41SVuu68yaL.jpg\",\"variant\":\"MAIN\",\"hiRes\":\"https://images-na.ssl-images-amazon.com/images/I/61i-JIzy1SL._UL1200_.jpg\",\"thumb\":\"https://images-na.ssl-images-amazon.com/images/I/41SVuu68yaL._SR38,50_.jpg\",\"main\":{\"https://images-na.ssl-images-amazon.com/images/I/61i-JIzy1SL._UY741_.jpg\":[\"741\",\"545\"],\"https://images-na.ssl-images-amazon.com/images/I/61i-JIzy1SL._UY679_.jpg\":[\"679\",\"500\"],\"https://images-na.ssl-images-amazon.com/images/I/61i-JIzy1SL._UY606_.jpg\":[\"606\",\"446\"],\"https://images-na.ssl-images-amazon.com/images/I/61i-JIzy1SL._UY500_.jpg\":[\"500\",\"368\"],\"https://images-na.ssl-images-amazon.com/images/I/61i-JIzy1SL._UY445_.jpg\":[\"445\",\"327\"],\"https://images-na.ssl-images-amazon.com/images/I/61i-JIzy1SL._UY879_.jpg\":[\"879\",\"647\"],\"https://images-na.ssl-images-amazon.com/images/I/61i-JIzy1SL._UY550_.jpg\":[\"550\",\"405\"]}}],\"2 Denim Blue / 2 Orange\":[{\"large\":\"https://images-na.ssl-images-amazon.com/images/I/41B9newOo5L.jpg\",\"variant\":\"MAIN\",\"hiRes\":\"https://images-na.ssl-images-amazon.com/images/I/617x0BLDtdL._UL1200_.jpg\",\"thumb\":\"https://images-na.ssl-images-amazon.com/images/I/41B9newOo5L._SR38,50_.jpg\",\"main\":{\"https://images-na.ssl-images-amazon.com/images/I/617x0BLDtdL._UX569_.jpg\":[\"738\",\"569\"],\"https://images-na.ssl-images-amazon.com/images/I/617x0BLDtdL._UY879_.jpg\":[\"879\",\"678\"],\"https://images-na.ssl-images-amazon.com/images/I/617x0BLDtdL._UX385_.jpg\":[\"499\",\"385\"],\"https://images-na.ssl-images-amazon.com/images/I/617x0BLDtdL._UX522_.jpg\":[\"677\",\"522\"],\"https://images-na.ssl-images-amazon.com/images/I/617x0BLDtdL._UX466_.jpg\":[\"605\",\"466\"],\"https://images-na.ssl-images-amazon.com/images/I/617x0BLDtdL._UY550_.jpg\":[\"550\",\"424\"],\"https://images-na.ssl-images-amazon.com/images/I/617x0BLDtdL._UX342_.jpg\":[\"444\",\"342\"]}}],\"2 Denim Blue / 2 Light Blue\":[{\"large\":\"https://images-na.ssl-images-amazon.com/images/I/41eoIMadmDL.jpg\",\"variant\":\"MAIN\",\"hiRes\":\"https://images-na.ssl-images-amazon.com/images/I/61xHg52M1PL._UL1200_.jpg\",\"thumb\":\"https://images-na.ssl-images-amazon.com/images/I/41eoIMadmDL._SR38,50_.jpg\",\"main\":{\"https://images-na.ssl-images-amazon.com/images/I/61xHg52M1PL._UX679_.jpg\":[\"876\",\"679\"],\"https://images-na.ssl-images-amazon.com/images/I/61xHg52M1PL._UX569_.jpg\":[\"734\",\"569\"],\"https://images-na.ssl-images-amazon.com/images/I/61xHg52M1PL._UX522_.jpg\":[\"674\",\"522\"],\"https://images-na.ssl-images-amazon.com/images/I/61xHg52M1PL._UX425_.jpg\":[\"548\",\"425\"],\"https://images-na.ssl-images-amazon.com/images/I/61xHg52M1PL._UX466_.jpg\":[\"601\",\"466\"],\"https://images-na.ssl-images-amazon.com/images/I/61xHg52M1PL._UX385_.jpg\":[\"497\",\"385\"],\"https://images-na.ssl-images-amazon.com/images/I/61xHg52M1PL._UX342_.jpg\":[\"441\",\"342\"]}}],\"2 Orange / 2 Light Steel\":[{\"large\":\"https://images-na.ssl-images-amazon.com/images/I/41bZyBqZEdL.jpg\",\"variant\":\"MAIN\",\"hiRes\":\"https://images-na.ssl-images-amazon.com/images/I/61fl6uEXHZL._UL1200_.jpg\",\"thumb\":\"https://images-na.ssl-images-amazon.com/images/I/41bZyBqZEdL._SR38,50_.jpg\",\"main\":{\"https://images-na.ssl-images-amazon.com/images/I/61fl6uEXHZL._UX466_.jpg\":[\"603\",\"466\"],\"https://images-na.ssl-images-amazon.com/images/I/61fl6uEXHZL._UY550_.jpg\":[\"550\",\"425\"],\"https://images-na.ssl-images-amazon.com/images/I/61fl6uEXHZL._UX569_.jpg\":[\"737\",\"569\"],\"https://images-na.ssl-images-amazon.com/images/I/61fl6uEXHZL._UX522_.jpg\":[\"676\",\"522\"],\"https://images-na.ssl-images-amazon.com/images/I/61fl6uEXHZL._UX342_.jpg\":[\"443\",\"342\"],\"https://images-na.ssl-images-amazon.com/images/I/61fl6uEXHZL._UX385_.jpg\":[\"498\",\"385\"],\"https://images-na.ssl-images-amazon.com/images/I/61fl6uEXHZL._UX679_.jpg\":[\"879\",\"679\"]}}],\"2 Ash / 2 Lime\":[{\"large\":\"https://images-na.ssl-images-amazon.com/images/I/41p6DBulqbL.jpg\",\"variant\":\"MAIN\",\"hiRes\":\"https://images-na.ssl-images-amazon.com/images/I/61sLDBCTT2L._UL1200_.jpg\",\"thumb\":\"https://images-na.ssl-images-amazon.com/images/I/41p6DBulqbL._SR38,50_.jpg\",\"main\":{\"https://images-na.ssl-images-amazon.com/images/I/61sLDBCTT2L._UY606_.jpg\":[\"606\",\"445\"],\"https://images-na.ssl-images-amazon.com/images/I/61sLDBCTT2L._UY741_.jpg\":[\"741\",\"544\"],\"https://images-na.ssl-images-amazon.com/images/I/61sLDBCTT2L._UY550_.jpg\":[\"550\",\"404\"],\"https://images-na.ssl-images-amazon.com/images/I/61sLDBCTT2L._UY445_.jpg\":[\"445\",\"327\"],\"https://images-na.ssl-images-amazon.com/images/I/61sLDBCTT2L._UY500_.jpg\":[\"500\",\"367\"],\"https://images-na.ssl-images-amazon.com/images/I/61sLDBCTT2L._UY879_.jpg\":[\"879\",\"645\"],\"https://images-na.ssl-images-amazon.com/images/I/61sLDBCTT2L._UY679_.jpg\":[\"679\",\"498\"]}}],\"2 Orange / 2 White\":[{\"large\":\"https://images-na.ssl-images-amazon.com/images/I/41LLw9Q0KGL.jpg\",\"variant\":\"MAIN\",\"hiRes\":\"https://images-na.ssl-images-amazon.com/images/I/61aSAsIi1uL._UL1200_.jpg\",\"thumb\":\"https://images-na.ssl-images-amazon.com/images/I/41LLw9Q0KGL._SR38,50_.jpg\",\"main\":{\"https://images-na.ssl-images-amazon.com/images/I/61aSAsIi1uL._UX342_.jpg\":[\"443\",\"342\"],\"https://images-na.ssl-images-amazon.com/images/I/61aSAsIi1uL._UX569_.jpg\":[\"737\",\"569\"],\"https://images-na.ssl-images-amazon.com/images/I/61aSAsIi1uL._UX679_.jpg\":[\"879\",\"679\"],\"https://images-na.ssl-images-amazon.com/images/I/61aSAsIi1uL._UY550_.jpg\":[\"550\",\"425\"],\"https://images-na.ssl-images-amazon.com/images/I/61aSAsIi1uL._UX466_.jpg\":[\"603\",\"466\"],\"https://images-na.ssl-images-amazon.com/images/I/61aSAsIi1uL._UX385_.jpg\":[\"498\",\"385\"],\"https://images-na.ssl-images-amazon.com/images/I/61aSAsIi1uL._UX522_.jpg\":[\"676\",\"522\"]}}],\"2 Deep Red / 2 Light Steel\":[{\"large\":\"https://images-na.ssl-images-amazon.com/images/I/41HmR1V7I0L.jpg\",\"variant\":\"MAIN\",\"hiRes\":\"https://images-na.ssl-images-amazon.com/images/I/61zLm-FJAbL._UL1200_.jpg\",\"thumb\":\"https://images-na.ssl-images-amazon.com/images/I/41HmR1V7I0L._SR38,50_.jpg\",\"main\":{\"https://images-na.ssl-images-amazon.com/images/I/61zLm-FJAbL._UX569_.jpg\":[\"723\",\"569\"],\"https://images-na.ssl-images-amazon.com/images/I/61zLm-FJAbL._UX679_.jpg\":[\"862\",\"679\"],\"https://images-na.ssl-images-amazon.com/images/I/61zLm-FJAbL._UX425_.jpg\":[\"540\",\"425\"],\"https://images-na.ssl-images-amazon.com/images/I/61zLm-FJAbL._UX522_.jpg\":[\"663\",\"522\"],\"https://images-na.ssl-images-amazon.com/images/I/61zLm-FJAbL._UX385_.jpg\":[\"489\",\"385\"],\"https://images-na.ssl-images-amazon.com/images/I/61zLm-FJAbL._UX342_.jpg\":[\"434\",\"342\"],\"https://images-na.ssl-images-amazon.com/images/I/61zLm-FJAbL._UX466_.jpg\":[\"592\",\"466\"]}}],\"2 Lime / 2 Sand\":[{\"large\":\"https://images-na.ssl-images-amazon.com/images/I/41xm1LM4zPL.jpg\",\"variant\":\"MAIN\",\"hiRes\":\"https://images-na.ssl-images-amazon.com/images/I/613RUBVXGML._UL1200_.jpg\",\"thumb\":\"https://images-na.ssl-images-amazon.com/images/I/41xm1LM4zPL._SR38,50_.jpg\",\"main\":{\"https://images-na.ssl-images-amazon.com/images/I/613RUBVXGML._UY879_.jpg\":[\"879\",\"637\"],\"https://images-na.ssl-images-amazon.com/images/I/613RUBVXGML._UY500_.jpg\":[\"500\",\"362\"],\"https://images-na.ssl-images-amazon.com/images/I/613RUBVXGML._UY741_.jpg\":[\"741\",\"537\"],\"https://images-na.ssl-images-amazon.com/images/I/613RUBVXGML._UY445_.jpg\":[\"445\",\"323\"],\"https://images-na.ssl-images-amazon.com/images/I/613RUBVXGML._UY679_.jpg\":[\"679\",\"492\"],\"https://images-na.ssl-images-amazon.com/images/I/613RUBVXGML._UY550_.jpg\":[\"550\",\"399\"],\"https://images-na.ssl-images-amazon.com/images/I/613RUBVXGML._UY606_.jpg\":[\"606\",\"439\"]}}]}']"
      ]
     },
     "execution_count": 63,
     "metadata": {},
     "output_type": "execute_result"
    }
   ],
   "source": [
    "sku_img"
   ]
  },
  {
   "cell_type": "code",
   "execution_count": 65,
   "metadata": {
    "collapsed": false
   },
   "outputs": [],
   "source": [
    "tag = sku_soup.find(\"script\", text=re.compile(\"P.when\\('A', 'jQuery', 'ImageBlockATF', 'cf'\\)\"))"
   ]
  },
  {
   "cell_type": "code",
   "execution_count": 68,
   "metadata": {
    "collapsed": false
   },
   "outputs": [
    {
     "data": {
      "text/plain": [
       "['{\"2 Navy / 2 Pale Pink\":[{\"large\":\"https://images-na.ssl-images-amazon.com/images/I/4179D%2Bli2eL.jpg\",\"variant\":\"MAIN\",\"hiRes\":\"https://images-na.ssl-images-amazon.com/images/I/61zmKTq4f8L._UL1200_.jpg\",\"thumb\":\"https://images-na.ssl-images-amazon.com/images/I/4179D%2Bli2eL._SR38,50_.jpg\",\"main\":{\"https://images-na.ssl-images-amazon.com/images/I/61zmKTq4f8L._UX569_.jpg\":[\"731\",\"569\"],\"https://images-na.ssl-images-amazon.com/images/I/61zmKTq4f8L._UX466_.jpg\":[\"599\",\"466\"],\"https://images-na.ssl-images-amazon.com/images/I/61zmKTq4f8L._UX385_.jpg\":[\"495\",\"385\"],\"https://images-na.ssl-images-amazon.com/images/I/61zmKTq4f8L._UX679_.jpg\":[\"872\",\"679\"],\"https://images-na.ssl-images-amazon.com/images/I/61zmKTq4f8L._UX522_.jpg\":[\"671\",\"522\"],\"https://images-na.ssl-images-amazon.com/images/I/61zmKTq4f8L._UX342_.jpg\":[\"439\",\"342\"],\"https://images-na.ssl-images-amazon.com/images/I/61zmKTq4f8L._UX425_.jpg\":[\"546\",\"425\"]}}],\"2 Deep Royal / 2 Gold\":[{\"large\":\"https://images-na.ssl-images-amazon.com/images/I/4194NYifDwL.jpg\",\"variant\":\"MAIN\",\"hiRes\":\"https://images-na.ssl-images-amazon.com/images/I/61UWbGrR7kL._UL1200_.jpg\",\"thumb\":\"https://images-na.ssl-images-amazon.com/images/I/4194NYifDwL._SR38,50_.jpg\",\"main\":{\"https://images-na.ssl-images-amazon.com/images/I/61UWbGrR7kL._UX679_.jpg\":[\"869\",\"679\"],\"https://images-na.ssl-images-amazon.com/images/I/61UWbGrR7kL._UX522_.jpg\":[\"668\",\"522\"],\"https://images-na.ssl-images-amazon.com/images/I/61UWbGrR7kL._UX569_.jpg\":[\"728\",\"569\"],\"https://images-na.ssl-images-amazon.com/images/I/61UWbGrR7kL._UX425_.jpg\":[\"544\",\"425\"],\"https://images-na.ssl-images-amazon.com/images/I/61UWbGrR7kL._UX466_.jpg\":[\"596\",\"466\"],\"https://images-na.ssl-images-amazon.com/images/I/61UWbGrR7kL._UX342_.jpg\":[\"438\",\"342\"],\"https://images-na.ssl-images-amazon.com/images/I/61UWbGrR7kL._UX385_.jpg\":[\"493\",\"385\"]}}],\"2 Black / 2 Gold\":[{\"large\":\"https://images-na.ssl-images-amazon.com/images/I/41bKUWxpeZL.jpg\",\"variant\":\"MAIN\",\"hiRes\":\"https://images-na.ssl-images-amazon.com/images/I/61o0CP9L0ZL._UL1200_.jpg\",\"thumb\":\"https://images-na.ssl-images-amazon.com/images/I/41bKUWxpeZL._SR38,50_.jpg\",\"main\":{\"https://images-na.ssl-images-amazon.com/images/I/61o0CP9L0ZL._UY550_.jpg\":[\"550\",\"422\"],\"https://images-na.ssl-images-amazon.com/images/I/61o0CP9L0ZL._UY879_.jpg\":[\"879\",\"675\"],\"https://images-na.ssl-images-amazon.com/images/I/61o0CP9L0ZL._UY679_.jpg\":[\"679\",\"521\"],\"https://images-na.ssl-images-amazon.com/images/I/61o0CP9L0ZL._UY445_.jpg\":[\"445\",\"342\"],\"https://images-na.ssl-images-amazon.com/images/I/61o0CP9L0ZL._UY741_.jpg\":[\"741\",\"569\"],\"https://images-na.ssl-images-amazon.com/images/I/61o0CP9L0ZL._UY500_.jpg\":[\"500\",\"384\"],\"https://images-na.ssl-images-amazon.com/images/I/61o0CP9L0ZL._UY606_.jpg\":[\"606\",\"465\"]}}],\"2 Maroon / 2 Orange\":[{\"large\":\"https://images-na.ssl-images-amazon.com/images/I/41ZmvCI5g5L.jpg\",\"variant\":\"MAIN\",\"hiRes\":\"https://images-na.ssl-images-amazon.com/images/I/61phrAmJkhL._UL1200_.jpg\",\"thumb\":\"https://images-na.ssl-images-amazon.com/images/I/41ZmvCI5g5L._SR38,50_.jpg\",\"main\":{\"https://images-na.ssl-images-amazon.com/images/I/61phrAmJkhL._UY606_.jpg\":[\"606\",\"441\"],\"https://images-na.ssl-images-amazon.com/images/I/61phrAmJkhL._UY500_.jpg\":[\"500\",\"364\"],\"https://images-na.ssl-images-amazon.com/images/I/61phrAmJkhL._UY445_.jpg\":[\"445\",\"324\"],\"https://images-na.ssl-images-amazon.com/images/I/61phrAmJkhL._UY679_.jpg\":[\"679\",\"495\"],\"https://images-na.ssl-images-amazon.com/images/I/61phrAmJkhL._UY550_.jpg\":[\"550\",\"401\"],\"https://images-na.ssl-images-amazon.com/images/I/61phrAmJkhL._UY879_.jpg\":[\"879\",\"640\"],\"https://images-na.ssl-images-amazon.com/images/I/61phrAmJkhL._UY741_.jpg\":[\"741\",\"540\"]}}],\"2 Denim Blue / 2 Maroon\":[{\"large\":\"https://images-na.ssl-images-amazon.com/images/I/41OSqXQzgKL.jpg\",\"variant\":\"MAIN\",\"hiRes\":\"https://images-na.ssl-images-amazon.com/images/I/61MYyQFQwSL._UL1200_.jpg\",\"thumb\":\"https://images-na.ssl-images-amazon.com/images/I/41OSqXQzgKL._SR38,50_.jpg\",\"main\":{\"https://images-na.ssl-images-amazon.com/images/I/61MYyQFQwSL._UY500_.jpg\":[\"500\",\"364\"],\"https://images-na.ssl-images-amazon.com/images/I/61MYyQFQwSL._UY679_.jpg\":[\"679\",\"494\"],\"https://images-na.ssl-images-amazon.com/images/I/61MYyQFQwSL._UY550_.jpg\":[\"550\",\"400\"],\"https://images-na.ssl-images-amazon.com/images/I/61MYyQFQwSL._UY606_.jpg\":[\"606\",\"441\"],\"https://images-na.ssl-images-amazon.com/images/I/61MYyQFQwSL._UY879_.jpg\":[\"879\",\"639\"],\"https://images-na.ssl-images-amazon.com/images/I/61MYyQFQwSL._UY741_.jpg\":[\"741\",\"539\"],\"https://images-na.ssl-images-amazon.com/images/I/61MYyQFQwSL._UY445_.jpg\":[\"445\",\"324\"]}}],\"2 Light Steel / 2 Pale Pink\":[{\"large\":\"https://images-na.ssl-images-amazon.com/images/I/415SagCCfsL.jpg\",\"variant\":\"MAIN\",\"hiRes\":\"https://images-na.ssl-images-amazon.com/images/I/616jVQ59JjL._UL1200_.jpg\",\"thumb\":\"https://images-na.ssl-images-amazon.com/images/I/415SagCCfsL._SR38,50_.jpg\",\"main\":{\"https://images-na.ssl-images-amazon.com/images/I/616jVQ59JjL._UX679_.jpg\":[\"873\",\"679\"],\"https://images-na.ssl-images-amazon.com/images/I/616jVQ59JjL._UX569_.jpg\":[\"732\",\"569\"],\"https://images-na.ssl-images-amazon.com/images/I/616jVQ59JjL._UX425_.jpg\":[\"547\",\"425\"],\"https://images-na.ssl-images-amazon.com/images/I/616jVQ59JjL._UX342_.jpg\":[\"440\",\"342\"],\"https://images-na.ssl-images-amazon.com/images/I/616jVQ59JjL._UX522_.jpg\":[\"671\",\"522\"],\"https://images-na.ssl-images-amazon.com/images/I/616jVQ59JjL._UX466_.jpg\":[\"599\",\"466\"],\"https://images-na.ssl-images-amazon.com/images/I/616jVQ59JjL._UX385_.jpg\":[\"495\",\"385\"]}}],\"2 Deep Red / 2 Yellow\":[{\"large\":\"https://images-na.ssl-images-amazon.com/images/I/41dGTn9zDyL.jpg\",\"variant\":\"MAIN\",\"hiRes\":\"https://images-na.ssl-images-amazon.com/images/I/61u2bMCqzoL._UL1200_.jpg\",\"thumb\":\"https://images-na.ssl-images-amazon.com/images/I/41dGTn9zDyL._SR38,50_.jpg\",\"main\":{\"https://images-na.ssl-images-amazon.com/images/I/61u2bMCqzoL._UX466_.jpg\":[\"596\",\"466\"],\"https://images-na.ssl-images-amazon.com/images/I/61u2bMCqzoL._UX342_.jpg\":[\"437\",\"342\"],\"https://images-na.ssl-images-amazon.com/images/I/61u2bMCqzoL._UX425_.jpg\":[\"543\",\"425\"],\"https://images-na.ssl-images-amazon.com/images/I/61u2bMCqzoL._UX385_.jpg\":[\"492\",\"385\"],\"https://images-na.ssl-images-amazon.com/images/I/61u2bMCqzoL._UX522_.jpg\":[\"667\",\"522\"],\"https://images-na.ssl-images-amazon.com/images/I/61u2bMCqzoL._UX569_.jpg\":[\"727\",\"569\"],\"https://images-na.ssl-images-amazon.com/images/I/61u2bMCqzoL._UX679_.jpg\":[\"868\",\"679\"]}}],\"2 Gold / 2 Smoke Grey\":[{\"large\":\"https://images-na.ssl-images-amazon.com/images/I/41qvSNlq59L.jpg\",\"variant\":\"MAIN\",\"hiRes\":\"https://images-na.ssl-images-amazon.com/images/I/61nZVlDUH9L._UL1200_.jpg\",\"thumb\":\"https://images-na.ssl-images-amazon.com/images/I/41qvSNlq59L._SR38,50_.jpg\",\"main\":{\"https://images-na.ssl-images-amazon.com/images/I/61nZVlDUH9L._UX679_.jpg\":[\"877\",\"679\"],\"https://images-na.ssl-images-amazon.com/images/I/61nZVlDUH9L._UX522_.jpg\":[\"674\",\"522\"],\"https://images-na.ssl-images-amazon.com/images/I/61nZVlDUH9L._UX342_.jpg\":[\"442\",\"342\"],\"https://images-na.ssl-images-amazon.com/images/I/61nZVlDUH9L._UX425_.jpg\":[\"549\",\"425\"],\"https://images-na.ssl-images-amazon.com/images/I/61nZVlDUH9L._UX569_.jpg\":[\"735\",\"569\"],\"https://images-na.ssl-images-amazon.com/images/I/61nZVlDUH9L._UX466_.jpg\":[\"602\",\"466\"],\"https://images-na.ssl-images-amazon.com/images/I/61nZVlDUH9L._UX385_.jpg\":[\"497\",\"385\"]}}],\"2 Lime / 2 Smoke Grey\":[{\"large\":\"https://images-na.ssl-images-amazon.com/images/I/41%2B66n-J3zL.jpg\",\"variant\":\"MAIN\",\"hiRes\":\"https://images-na.ssl-images-amazon.com/images/I/61gSNHFDd3L._UL1200_.jpg\",\"thumb\":\"https://images-na.ssl-images-amazon.com/images/I/41%2B66n-J3zL._SR38,50_.jpg\",\"main\":{\"https://images-na.ssl-images-amazon.com/images/I/61gSNHFDd3L._UY606_.jpg\":[\"606\",\"442\"],\"https://images-na.ssl-images-amazon.com/images/I/61gSNHFDd3L._UY741_.jpg\":[\"741\",\"541\"],\"https://images-na.ssl-images-amazon.com/images/I/61gSNHFDd3L._UY445_.jpg\":[\"445\",\"325\"],\"https://images-na.ssl-images-amazon.com/images/I/61gSNHFDd3L._UY879_.jpg\":[\"879\",\"642\"],\"https://images-na.ssl-images-amazon.com/images/I/61gSNHFDd3L._UY679_.jpg\":[\"679\",\"496\"],\"https://images-na.ssl-images-amazon.com/images/I/61gSNHFDd3L._UY550_.jpg\":[\"550\",\"402\"],\"https://images-na.ssl-images-amazon.com/images/I/61gSNHFDd3L._UY500_.jpg\":[\"500\",\"365\"]}}],\"Deep Forest\":[{\"large\":\"https://images-na.ssl-images-amazon.com/images/I/41T-gRSLY-L.jpg\",\"variant\":\"MAIN\",\"hiRes\":\"https://images-na.ssl-images-amazon.com/images/I/81kYaIGJ3FL._UL1500_.jpg\",\"thumb\":\"https://images-na.ssl-images-amazon.com/images/I/41T-gRSLY-L._SR38,50_.jpg\",\"main\":{\"https://images-na.ssl-images-amazon.com/images/I/81kYaIGJ3FL._UX342_.jpg\":[\"421\",\"342\"],\"https://images-na.ssl-images-amazon.com/images/I/81kYaIGJ3FL._UX569_.jpg\":[\"700\",\"569\"],\"https://images-na.ssl-images-amazon.com/images/I/81kYaIGJ3FL._UX466_.jpg\":[\"574\",\"466\"],\"https://images-na.ssl-images-amazon.com/images/I/81kYaIGJ3FL._UX522_.jpg\":[\"642\",\"522\"],\"https://images-na.ssl-images-amazon.com/images/I/81kYaIGJ3FL._UX425_.jpg\":[\"523\",\"425\"],\"https://images-na.ssl-images-amazon.com/images/I/81kYaIGJ3FL._UX679_.jpg\":[\"836\",\"679\"],\"https://images-na.ssl-images-amazon.com/images/I/81kYaIGJ3FL._UX385_.jpg\":[\"474\",\"385\"]}}],\"2 Gold / 2 Yellow\":[{\"large\":\"https://images-na.ssl-images-amazon.com/images/I/41zzNfz4YhL.jpg\",\"variant\":\"MAIN\",\"hiRes\":\"https://images-na.ssl-images-amazon.com/images/I/61hLdFGiUcL._UL1200_.jpg\",\"thumb\":\"https://images-na.ssl-images-amazon.com/images/I/41zzNfz4YhL._SR38,50_.jpg\",\"main\":{\"https://images-na.ssl-images-amazon.com/images/I/61hLdFGiUcL._UX569_.jpg\":[\"736\",\"569\"],\"https://images-na.ssl-images-amazon.com/images/I/61hLdFGiUcL._UX679_.jpg\":[\"878\",\"679\"],\"https://images-na.ssl-images-amazon.com/images/I/61hLdFGiUcL._UX385_.jpg\":[\"498\",\"385\"],\"https://images-na.ssl-images-amazon.com/images/I/61hLdFGiUcL._UX466_.jpg\":[\"603\",\"466\"],\"https://images-na.ssl-images-amazon.com/images/I/61hLdFGiUcL._UX425_.jpg\":[\"550\",\"425\"],\"https://images-na.ssl-images-amazon.com/images/I/61hLdFGiUcL._UX522_.jpg\":[\"675\",\"522\"],\"https://images-na.ssl-images-amazon.com/images/I/61hLdFGiUcL._UX342_.jpg\":[\"442\",\"342\"]}}],\"2 Denim Blue / 2 Gold\":[{\"large\":\"https://images-na.ssl-images-amazon.com/images/I/413FSai71%2BL.jpg\",\"variant\":\"MAIN\",\"hiRes\":\"https://images-na.ssl-images-amazon.com/images/I/61J3EFoYkCL._UL1200_.jpg\",\"thumb\":\"https://images-na.ssl-images-amazon.com/images/I/413FSai71%2BL._SR38,50_.jpg\",\"main\":{\"https://images-na.ssl-images-amazon.com/images/I/61J3EFoYkCL._UY879_.jpg\":[\"879\",\"678\"],\"https://images-na.ssl-images-amazon.com/images/I/61J3EFoYkCL._UX569_.jpg\":[\"738\",\"569\"],\"https://images-na.ssl-images-amazon.com/images/I/61J3EFoYkCL._UX522_.jpg\":[\"677\",\"522\"],\"https://images-na.ssl-images-amazon.com/images/I/61J3EFoYkCL._UY550_.jpg\":[\"550\",\"424\"],\"https://images-na.ssl-images-amazon.com/images/I/61J3EFoYkCL._UX385_.jpg\":[\"499\",\"385\"],\"https://images-na.ssl-images-amazon.com/images/I/61J3EFoYkCL._UX466_.jpg\":[\"605\",\"466\"],\"https://images-na.ssl-images-amazon.com/images/I/61J3EFoYkCL._UX342_.jpg\":[\"444\",\"342\"]}}],\"2 Denim Blue / 2 Light Steel\":[{\"large\":\"https://images-na.ssl-images-amazon.com/images/I/413WBtXD6BL.jpg\",\"variant\":\"MAIN\",\"hiRes\":\"https://images-na.ssl-images-amazon.com/images/I/61kJAiJA2xL._UL1200_.jpg\",\"thumb\":\"https://images-na.ssl-images-amazon.com/images/I/413WBtXD6BL._SR38,50_.jpg\",\"main\":{\"https://images-na.ssl-images-amazon.com/images/I/61kJAiJA2xL._UX522_.jpg\":[\"672\",\"522\"],\"https://images-na.ssl-images-amazon.com/images/I/61kJAiJA2xL._UX342_.jpg\":[\"440\",\"342\"],\"https://images-na.ssl-images-amazon.com/images/I/61kJAiJA2xL._UX466_.jpg\":[\"600\",\"466\"],\"https://images-na.ssl-images-amazon.com/images/I/61kJAiJA2xL._UX425_.jpg\":[\"547\",\"425\"],\"https://images-na.ssl-images-amazon.com/images/I/61kJAiJA2xL._UX385_.jpg\":[\"496\",\"385\"],\"https://images-na.ssl-images-amazon.com/images/I/61kJAiJA2xL._UX569_.jpg\":[\"733\",\"569\"],\"https://images-na.ssl-images-amazon.com/images/I/61kJAiJA2xL._UX679_.jpg\":[\"874\",\"679\"]}}],\"2 Ash / 2 Deep Royal\":[{\"large\":\"https://images-na.ssl-images-amazon.com/images/I/41Qsm8r6tEL.jpg\",\"variant\":\"MAIN\",\"hiRes\":\"https://images-na.ssl-images-amazon.com/images/I/71fuInEShlL._UL1200_.jpg\",\"thumb\":\"https://images-na.ssl-images-amazon.com/images/I/41Qsm8r6tEL._SR38,50_.jpg\",\"main\":{\"https://images-na.ssl-images-amazon.com/images/I/71fuInEShlL._UX522_.jpg\":[\"677\",\"522\"],\"https://images-na.ssl-images-amazon.com/images/I/71fuInEShlL._UY550_.jpg\":[\"550\",\"424\"],\"https://images-na.ssl-images-amazon.com/images/I/71fuInEShlL._UY879_.jpg\":[\"879\",\"678\"],\"https://images-na.ssl-images-amazon.com/images/I/71fuInEShlL._UX569_.jpg\":[\"738\",\"569\"],\"https://images-na.ssl-images-amazon.com/images/I/71fuInEShlL._UX466_.jpg\":[\"605\",\"466\"],\"https://images-na.ssl-images-amazon.com/images/I/71fuInEShlL._UX385_.jpg\":[\"499\",\"385\"],\"https://images-na.ssl-images-amazon.com/images/I/71fuInEShlL._UX342_.jpg\":[\"444\",\"342\"]}}],\"2 Maroon / 2 Navy\":[{\"large\":\"https://images-na.ssl-images-amazon.com/images/I/31VHaL5GFdL.jpg\",\"variant\":\"MAIN\",\"hiRes\":\"https://images-na.ssl-images-amazon.com/images/I/614S9bLobYL._UL1200_.jpg\",\"thumb\":\"https://images-na.ssl-images-amazon.com/images/I/31VHaL5GFdL._SR38,50_.jpg\",\"main\":{\"https://images-na.ssl-images-amazon.com/images/I/614S9bLobYL._UY741_.jpg\":[\"741\",\"540\"],\"https://images-na.ssl-images-amazon.com/images/I/614S9bLobYL._UY879_.jpg\":[\"879\",\"640\"],\"https://images-na.ssl-images-amazon.com/images/I/614S9bLobYL._UY500_.jpg\":[\"500\",\"364\"],\"https://images-na.ssl-images-amazon.com/images/I/614S9bLobYL._UY679_.jpg\":[\"679\",\"495\"],\"https://images-na.ssl-images-amazon.com/images/I/614S9bLobYL._UY606_.jpg\":[\"606\",\"441\"],\"https://images-na.ssl-images-amazon.com/images/I/614S9bLobYL._UY550_.jpg\":[\"550\",\"401\"],\"https://images-na.ssl-images-amazon.com/images/I/614S9bLobYL._UY445_.jpg\":[\"445\",\"324\"]}}],\"Navy\":[{\"large\":\"https://images-na.ssl-images-amazon.com/images/I/41tTLf%2BlRsL.jpg\",\"variant\":\"MAIN\",\"hiRes\":\"https://images-na.ssl-images-amazon.com/images/I/81YXisLJ6SL._UL1500_.jpg\",\"thumb\":\"https://images-na.ssl-images-amazon.com/images/I/41tTLf%2BlRsL._SR38,50_.jpg\",\"main\":{\"https://images-na.ssl-images-amazon.com/images/I/81YXisLJ6SL._UX522_.jpg\":[\"642\",\"522\"],\"https://images-na.ssl-images-amazon.com/images/I/81YXisLJ6SL._UX425_.jpg\":[\"523\",\"425\"],\"https://images-na.ssl-images-amazon.com/images/I/81YXisLJ6SL._UX569_.jpg\":[\"700\",\"569\"],\"https://images-na.ssl-images-amazon.com/images/I/81YXisLJ6SL._UX385_.jpg\":[\"474\",\"385\"],\"https://images-na.ssl-images-amazon.com/images/I/81YXisLJ6SL._UX342_.jpg\":[\"421\",\"342\"],\"https://images-na.ssl-images-amazon.com/images/I/81YXisLJ6SL._UX679_.jpg\":[\"836\",\"679\"],\"https://images-na.ssl-images-amazon.com/images/I/81YXisLJ6SL._UX466_.jpg\":[\"574\",\"466\"]}}],\"2 Lime / 2 Navy\":[{\"large\":\"https://images-na.ssl-images-amazon.com/images/I/41%2B5HRdwQdL.jpg\",\"variant\":\"MAIN\",\"hiRes\":\"https://images-na.ssl-images-amazon.com/images/I/61bXF7YoPPL._UL1200_.jpg\",\"thumb\":\"https://images-na.ssl-images-amazon.com/images/I/41%2B5HRdwQdL._SR38,50_.jpg\",\"main\":{\"https://images-na.ssl-images-amazon.com/images/I/61bXF7YoPPL._UY606_.jpg\":[\"606\",\"442\"],\"https://images-na.ssl-images-amazon.com/images/I/61bXF7YoPPL._UY500_.jpg\":[\"500\",\"365\"],\"https://images-na.ssl-images-amazon.com/images/I/61bXF7YoPPL._UY879_.jpg\":[\"879\",\"642\"],\"https://images-na.ssl-images-amazon.com/images/I/61bXF7YoPPL._UY679_.jpg\":[\"679\",\"496\"],\"https://images-na.ssl-images-amazon.com/images/I/61bXF7YoPPL._UY550_.jpg\":[\"550\",\"402\"],\"https://images-na.ssl-images-amazon.com/images/I/61bXF7YoPPL._UY741_.jpg\":[\"741\",\"541\"],\"https://images-na.ssl-images-amazon.com/images/I/61bXF7YoPPL._UY445_.jpg\":[\"445\",\"325\"]}}],\"2 Orange / 2 Deep Forest\":[{\"large\":\"https://images-na.ssl-images-amazon.com/images/I/4129HDOr8mL.jpg\",\"variant\":\"MAIN\",\"hiRes\":\"https://images-na.ssl-images-amazon.com/images/I/61gSnlCx0PL._UL1200_.jpg\",\"thumb\":\"https://images-na.ssl-images-amazon.com/images/I/4129HDOr8mL._SR38,50_.jpg\",\"main\":{\"https://images-na.ssl-images-amazon.com/images/I/61gSnlCx0PL._UX679_.jpg\":[\"879\",\"679\"],\"https://images-na.ssl-images-amazon.com/images/I/61gSnlCx0PL._UX522_.jpg\":[\"676\",\"522\"],\"https://images-na.ssl-images-amazon.com/images/I/61gSnlCx0PL._UX342_.jpg\":[\"443\",\"342\"],\"https://images-na.ssl-images-amazon.com/images/I/61gSnlCx0PL._UY550_.jpg\":[\"550\",\"425\"],\"https://images-na.ssl-images-amazon.com/images/I/61gSnlCx0PL._UX466_.jpg\":[\"603\",\"466\"],\"https://images-na.ssl-images-amazon.com/images/I/61gSnlCx0PL._UX385_.jpg\":[\"498\",\"385\"],\"https://images-na.ssl-images-amazon.com/images/I/61gSnlCx0PL._UX569_.jpg\":[\"737\",\"569\"]}}],\"2 Deep Royal / 2 Lime\":[{\"large\":\"https://images-na.ssl-images-amazon.com/images/I/41YY9jgL0uL.jpg\",\"variant\":\"MAIN\",\"hiRes\":\"https://images-na.ssl-images-amazon.com/images/I/618OXxK0YDL._UL1200_.jpg\",\"thumb\":\"https://images-na.ssl-images-amazon.com/images/I/41YY9jgL0uL._SR38,50_.jpg\",\"main\":{\"https://images-na.ssl-images-amazon.com/images/I/618OXxK0YDL._UY606_.jpg\":[\"606\",\"442\"],\"https://images-na.ssl-images-amazon.com/images/I/618OXxK0YDL._UY679_.jpg\":[\"679\",\"496\"],\"https://images-na.ssl-images-amazon.com/images/I/618OXxK0YDL._UY879_.jpg\":[\"879\",\"642\"],\"https://images-na.ssl-images-amazon.com/images/I/618OXxK0YDL._UY445_.jpg\":[\"445\",\"325\"],\"https://images-na.ssl-images-amazon.com/images/I/618OXxK0YDL._UY741_.jpg\":[\"741\",\"541\"],\"https://images-na.ssl-images-amazon.com/images/I/618OXxK0YDL._UY550_.jpg\":[\"550\",\"402\"],\"https://images-na.ssl-images-amazon.com/images/I/618OXxK0YDL._UY500_.jpg\":[\"500\",\"365\"]}}],\"2 Black / 2 Lime\":[{\"large\":\"https://images-na.ssl-images-amazon.com/images/I/41fNKA3pF2L.jpg\",\"variant\":\"MAIN\",\"hiRes\":\"https://images-na.ssl-images-amazon.com/images/I/618neb8EvBL._UL1200_.jpg\",\"thumb\":\"https://images-na.ssl-images-amazon.com/images/I/41fNKA3pF2L._SR38,50_.jpg\",\"main\":{\"https://images-na.ssl-images-amazon.com/images/I/618neb8EvBL._UY500_.jpg\":[\"500\",\"365\"],\"https://images-na.ssl-images-amazon.com/images/I/618neb8EvBL._UY879_.jpg\":[\"879\",\"642\"],\"https://images-na.ssl-images-amazon.com/images/I/618neb8EvBL._UY606_.jpg\":[\"606\",\"442\"],\"https://images-na.ssl-images-amazon.com/images/I/618neb8EvBL._UY550_.jpg\":[\"550\",\"402\"],\"https://images-na.ssl-images-amazon.com/images/I/618neb8EvBL._UY741_.jpg\":[\"741\",\"541\"],\"https://images-na.ssl-images-amazon.com/images/I/618neb8EvBL._UY679_.jpg\":[\"679\",\"496\"],\"https://images-na.ssl-images-amazon.com/images/I/618neb8EvBL._UY445_.jpg\":[\"445\",\"325\"]}}],\"2 Ash / 2 White\":[{\"large\":\"https://images-na.ssl-images-amazon.com/images/I/41CShTDhNcL.jpg\",\"variant\":\"MAIN\",\"hiRes\":\"https://images-na.ssl-images-amazon.com/images/I/7172ioXm41L._UL1200_.jpg\",\"thumb\":\"https://images-na.ssl-images-amazon.com/images/I/41CShTDhNcL._SR38,50_.jpg\",\"main\":{\"https://images-na.ssl-images-amazon.com/images/I/7172ioXm41L._UX522_.jpg\":[\"676\",\"522\"],\"https://images-na.ssl-images-amazon.com/images/I/7172ioXm41L._UX569_.jpg\":[\"737\",\"569\"],\"https://images-na.ssl-images-amazon.com/images/I/7172ioXm41L._UY879_.jpg\":[\"879\",\"678\"],\"https://images-na.ssl-images-amazon.com/images/I/7172ioXm41L._UX342_.jpg\":[\"443\",\"342\"],\"https://images-na.ssl-images-amazon.com/images/I/7172ioXm41L._UX385_.jpg\":[\"499\",\"385\"],\"https://images-na.ssl-images-amazon.com/images/I/7172ioXm41L._UX466_.jpg\":[\"604\",\"466\"],\"https://images-na.ssl-images-amazon.com/images/I/7172ioXm41L._UY550_.jpg\":[\"550\",\"424\"]}}],\"2 Orange / 2 Deep Royal\":[{\"large\":\"https://images-na.ssl-images-amazon.com/images/I/4110RCd2O3L.jpg\",\"variant\":\"MAIN\",\"hiRes\":\"https://images-na.ssl-images-amazon.com/images/I/61IuVRb57OL._UL1200_.jpg\",\"thumb\":\"https://images-na.ssl-images-amazon.com/images/I/4110RCd2O3L._SR38,50_.jpg\",\"main\":{\"https://images-na.ssl-images-amazon.com/images/I/61IuVRb57OL._UY879_.jpg\":[\"879\",\"676\"],\"https://images-na.ssl-images-amazon.com/images/I/61IuVRb57OL._UX569_.jpg\":[\"740\",\"569\"],\"https://images-na.ssl-images-amazon.com/images/I/61IuVRb57OL._UY500_.jpg\":[\"500\",\"385\"],\"https://images-na.ssl-images-amazon.com/images/I/61IuVRb57OL._UY550_.jpg\":[\"550\",\"423\"],\"https://images-na.ssl-images-amazon.com/images/I/61IuVRb57OL._UX522_.jpg\":[\"679\",\"522\"],\"https://images-na.ssl-images-amazon.com/images/I/61IuVRb57OL._UX466_.jpg\":[\"606\",\"466\"],\"https://images-na.ssl-images-amazon.com/images/I/61IuVRb57OL._UX342_.jpg\":[\"445\",\"342\"]}}],\"2 Navy / 2 White\":[{\"large\":\"https://images-na.ssl-images-amazon.com/images/I/41VMmOS8HWL.jpg\",\"variant\":\"MAIN\",\"hiRes\":\"https://images-na.ssl-images-amazon.com/images/I/61cp2zelJZL._UL1200_.jpg\",\"thumb\":\"https://images-na.ssl-images-amazon.com/images/I/41VMmOS8HWL._SR38,50_.jpg\",\"main\":{\"https://images-na.ssl-images-amazon.com/images/I/61cp2zelJZL._UX385_.jpg\":[\"498\",\"385\"],\"https://images-na.ssl-images-amazon.com/images/I/61cp2zelJZL._UX569_.jpg\":[\"736\",\"569\"],\"https://images-na.ssl-images-amazon.com/images/I/61cp2zelJZL._UX522_.jpg\":[\"675\",\"522\"],\"https://images-na.ssl-images-amazon.com/images/I/61cp2zelJZL._UX466_.jpg\":[\"603\",\"466\"],\"https://images-na.ssl-images-amazon.com/images/I/61cp2zelJZL._UX679_.jpg\":[\"878\",\"679\"],\"https://images-na.ssl-images-amazon.com/images/I/61cp2zelJZL._UX425_.jpg\":[\"550\",\"425\"],\"https://images-na.ssl-images-amazon.com/images/I/61cp2zelJZL._UX342_.jpg\":[\"442\",\"342\"]}}],\"2 Maroon / 2 Sand\":[{\"large\":\"https://images-na.ssl-images-amazon.com/images/I/419m-vo72DL.jpg\",\"variant\":\"MAIN\",\"hiRes\":\"https://images-na.ssl-images-amazon.com/images/I/61G09uRGL1L._UL1200_.jpg\",\"thumb\":\"https://images-na.ssl-images-amazon.com/images/I/419m-vo72DL._SR38,50_.jpg\",\"main\":{\"https://images-na.ssl-images-amazon.com/images/I/61G09uRGL1L._UX679_.jpg\":[\"864\",\"679\"],\"https://images-na.ssl-images-amazon.com/images/I/61G09uRGL1L._UX522_.jpg\":[\"664\",\"522\"],\"https://images-na.ssl-images-amazon.com/images/I/61G09uRGL1L._UX569_.jpg\":[\"724\",\"569\"],\"https://images-na.ssl-images-amazon.com/images/I/61G09uRGL1L._UX385_.jpg\":[\"490\",\"385\"],\"https://images-na.ssl-images-amazon.com/images/I/61G09uRGL1L._UX466_.jpg\":[\"593\",\"466\"],\"https://images-na.ssl-images-amazon.com/images/I/61G09uRGL1L._UX342_.jpg\":[\"435\",\"342\"],\"https://images-na.ssl-images-amazon.com/images/I/61G09uRGL1L._UX425_.jpg\":[\"541\",\"425\"]}}],\"2 Deep Forest / 2 Smoke Grey\":[{\"large\":\"https://images-na.ssl-images-amazon.com/images/I/4192MNxBiaL.jpg\",\"variant\":\"MAIN\",\"hiRes\":\"https://images-na.ssl-images-amazon.com/images/I/61bvqqGQyRL._UL1200_.jpg\",\"thumb\":\"https://images-na.ssl-images-amazon.com/images/I/4192MNxBiaL._SR38,50_.jpg\",\"main\":{\"https://images-na.ssl-images-amazon.com/images/I/61bvqqGQyRL._UY879_.jpg\":[\"879\",\"678\"],\"https://images-na.ssl-images-amazon.com/images/I/61bvqqGQyRL._UX522_.jpg\":[\"676\",\"522\"],\"https://images-na.ssl-images-amazon.com/images/I/61bvqqGQyRL._UX466_.jpg\":[\"604\",\"466\"],\"https://images-na.ssl-images-amazon.com/images/I/61bvqqGQyRL._UX385_.jpg\":[\"499\",\"385\"],\"https://images-na.ssl-images-amazon.com/images/I/61bvqqGQyRL._UX342_.jpg\":[\"443\",\"342\"],\"https://images-na.ssl-images-amazon.com/images/I/61bvqqGQyRL._UX569_.jpg\":[\"737\",\"569\"],\"https://images-na.ssl-images-amazon.com/images/I/61bvqqGQyRL._UY550_.jpg\":[\"550\",\"424\"]}}],\"2 Deep Red / 2 Gold\":[{\"large\":\"https://images-na.ssl-images-amazon.com/images/I/41SaAduKOqL.jpg\",\"variant\":\"MAIN\",\"hiRes\":\"https://images-na.ssl-images-amazon.com/images/I/619C0-XqmfL._UL1200_.jpg\",\"thumb\":\"https://images-na.ssl-images-amazon.com/images/I/41SaAduKOqL._SR38,50_.jpg\",\"main\":{\"https://images-na.ssl-images-amazon.com/images/I/619C0-XqmfL._UX569_.jpg\":[\"728\",\"569\"],\"https://images-na.ssl-images-amazon.com/images/I/619C0-XqmfL._UX679_.jpg\":[\"869\",\"679\"],\"https://images-na.ssl-images-amazon.com/images/I/619C0-XqmfL._UX425_.jpg\":[\"544\",\"425\"],\"https://images-na.ssl-images-amazon.com/images/I/619C0-XqmfL._UX342_.jpg\":[\"438\",\"342\"],\"https://images-na.ssl-images-amazon.com/images/I/619C0-XqmfL._UX522_.jpg\":[\"668\",\"522\"],\"https://images-na.ssl-images-amazon.com/images/I/619C0-XqmfL._UX466_.jpg\":[\"596\",\"466\"],\"https://images-na.ssl-images-amazon.com/images/I/619C0-XqmfL._UX385_.jpg\":[\"493\",\"385\"]}}],\"2 Orange / 2 Sand\":[{\"large\":\"https://images-na.ssl-images-amazon.com/images/I/31LD363EGFL.jpg\",\"variant\":\"MAIN\",\"hiRes\":\"https://images-na.ssl-images-amazon.com/images/I/61jgAe9ediL._UL1200_.jpg\",\"thumb\":\"https://images-na.ssl-images-amazon.com/images/I/31LD363EGFL._SR38,50_.jpg\",\"main\":{\"https://images-na.ssl-images-amazon.com/images/I/61jgAe9ediL._UY741_.jpg\":[\"741\",\"543\"],\"https://images-na.ssl-images-amazon.com/images/I/61jgAe9ediL._UY679_.jpg\":[\"679\",\"497\"],\"https://images-na.ssl-images-amazon.com/images/I/61jgAe9ediL._UY606_.jpg\":[\"606\",\"444\"],\"https://images-na.ssl-images-amazon.com/images/I/61jgAe9ediL._UY445_.jpg\":[\"445\",\"326\"],\"https://images-na.ssl-images-amazon.com/images/I/61jgAe9ediL._UY879_.jpg\":[\"879\",\"644\"],\"https://images-na.ssl-images-amazon.com/images/I/61jgAe9ediL._UY550_.jpg\":[\"550\",\"403\"],\"https://images-na.ssl-images-amazon.com/images/I/61jgAe9ediL._UY500_.jpg\":[\"500\",\"366\"]}}],\"2 Deep Red / 2 White\":[{\"large\":\"https://images-na.ssl-images-amazon.com/images/I/41aHQL089bL.jpg\",\"variant\":\"MAIN\",\"hiRes\":\"https://images-na.ssl-images-amazon.com/images/I/61BC77mDORL._UL1200_.jpg\",\"thumb\":\"https://images-na.ssl-images-amazon.com/images/I/41aHQL089bL._SR38,50_.jpg\",\"main\":{\"https://images-na.ssl-images-amazon.com/images/I/61BC77mDORL._UX679_.jpg\":[\"862\",\"679\"],\"https://images-na.ssl-images-amazon.com/images/I/61BC77mDORL._UX569_.jpg\":[\"723\",\"569\"],\"https://images-na.ssl-images-amazon.com/images/I/61BC77mDORL._UX425_.jpg\":[\"540\",\"425\"],\"https://images-na.ssl-images-amazon.com/images/I/61BC77mDORL._UX466_.jpg\":[\"592\",\"466\"],\"https://images-na.ssl-images-amazon.com/images/I/61BC77mDORL._UX522_.jpg\":[\"663\",\"522\"],\"https://images-na.ssl-images-amazon.com/images/I/61BC77mDORL._UX342_.jpg\":[\"434\",\"342\"],\"https://images-na.ssl-images-amazon.com/images/I/61BC77mDORL._UX385_.jpg\":[\"489\",\"385\"]}}],\"Deep Red\":[{\"large\":\"https://images-na.ssl-images-amazon.com/images/I/41b6NtZtPlL.jpg\",\"variant\":\"MAIN\",\"hiRes\":\"https://images-na.ssl-images-amazon.com/images/I/81ZCdL4zwHL._UL1500_.jpg\",\"thumb\":\"https://images-na.ssl-images-amazon.com/images/I/41b6NtZtPlL._SR38,50_.jpg\",\"main\":{\"https://images-na.ssl-images-amazon.com/images/I/81ZCdL4zwHL._UX425_.jpg\":[\"523\",\"425\"],\"https://images-na.ssl-images-amazon.com/images/I/81ZCdL4zwHL._UX569_.jpg\":[\"700\",\"569\"],\"https://images-na.ssl-images-amazon.com/images/I/81ZCdL4zwHL._UX522_.jpg\":[\"642\",\"522\"],\"https://images-na.ssl-images-amazon.com/images/I/81ZCdL4zwHL._UX385_.jpg\":[\"474\",\"385\"],\"https://images-na.ssl-images-amazon.com/images/I/81ZCdL4zwHL._UX679_.jpg\":[\"836\",\"679\"],\"https://images-na.ssl-images-amazon.com/images/I/81ZCdL4zwHL._UX466_.jpg\":[\"574\",\"466\"],\"https://images-na.ssl-images-amazon.com/images/I/81ZCdL4zwHL._UX342_.jpg\":[\"421\",\"342\"]}}],\"2 Pale Pink / 2 White\":[{\"large\":\"https://images-na.ssl-images-amazon.com/images/I/41pGx0eOsmL.jpg\",\"variant\":\"MAIN\",\"hiRes\":\"https://images-na.ssl-images-amazon.com/images/I/61i3ARWyJwL._UL1200_.jpg\",\"thumb\":\"https://images-na.ssl-images-amazon.com/images/I/41pGx0eOsmL._SR38,50_.jpg\",\"main\":{\"https://images-na.ssl-images-amazon.com/images/I/61i3ARWyJwL._UX569_.jpg\":[\"629\",\"569\"],\"https://images-na.ssl-images-amazon.com/images/I/61i3ARWyJwL._UX466_.jpg\":[\"515\",\"466\"],\"https://images-na.ssl-images-amazon.com/images/I/61i3ARWyJwL._UX425_.jpg\":[\"470\",\"425\"],\"https://images-na.ssl-images-amazon.com/images/I/61i3ARWyJwL._UX342_.jpg\":[\"378\",\"342\"],\"https://images-na.ssl-images-amazon.com/images/I/61i3ARWyJwL._UX522_.jpg\":[\"577\",\"522\"],\"https://images-na.ssl-images-amazon.com/images/I/61i3ARWyJwL._UX679_.jpg\":[\"751\",\"679\"],\"https://images-na.ssl-images-amazon.com/images/I/61i3ARWyJwL._UX385_.jpg\":[\"426\",\"385\"]}}],\"2 Navy / 2 Yellow\":[{\"large\":\"https://images-na.ssl-images-amazon.com/images/I/41UaNBqbJpL.jpg\",\"variant\":\"MAIN\",\"hiRes\":\"https://images-na.ssl-images-amazon.com/images/I/61yBBYMwTqL._UL1200_.jpg\",\"thumb\":\"https://images-na.ssl-images-amazon.com/images/I/41UaNBqbJpL._SR38,50_.jpg\",\"main\":{\"https://images-na.ssl-images-amazon.com/images/I/61yBBYMwTqL._UX569_.jpg\":[\"734\",\"569\"],\"https://images-na.ssl-images-amazon.com/images/I/61yBBYMwTqL._UX385_.jpg\":[\"497\",\"385\"],\"https://images-na.ssl-images-amazon.com/images/I/61yBBYMwTqL._UX522_.jpg\":[\"674\",\"522\"],\"https://images-na.ssl-images-amazon.com/images/I/61yBBYMwTqL._UX466_.jpg\":[\"601\",\"466\"],\"https://images-na.ssl-images-amazon.com/images/I/61yBBYMwTqL._UX679_.jpg\":[\"876\",\"679\"],\"https://images-na.ssl-images-amazon.com/images/I/61yBBYMwTqL._UX342_.jpg\":[\"441\",\"342\"],\"https://images-na.ssl-images-amazon.com/images/I/61yBBYMwTqL._UX425_.jpg\":[\"548\",\"425\"]}}],\"2 Denim Blue / 2 Smoke Grey\":[{\"large\":\"https://images-na.ssl-images-amazon.com/images/I/41uJE0uf41L.jpg\",\"variant\":\"MAIN\",\"hiRes\":\"https://images-na.ssl-images-amazon.com/images/I/61vLbweqwML._UL1200_.jpg\",\"thumb\":\"https://images-na.ssl-images-amazon.com/images/I/41uJE0uf41L._SR38,50_.jpg\",\"main\":{\"https://images-na.ssl-images-amazon.com/images/I/61vLbweqwML._UX385_.jpg\":[\"496\",\"385\"],\"https://images-na.ssl-images-amazon.com/images/I/61vLbweqwML._UX342_.jpg\":[\"440\",\"342\"],\"https://images-na.ssl-images-amazon.com/images/I/61vLbweqwML._UX679_.jpg\":[\"874\",\"679\"],\"https://images-na.ssl-images-amazon.com/images/I/61vLbweqwML._UX466_.jpg\":[\"600\",\"466\"],\"https://images-na.ssl-images-amazon.com/images/I/61vLbweqwML._UX522_.jpg\":[\"672\",\"522\"],\"https://images-na.ssl-images-amazon.com/images/I/61vLbweqwML._UX425_.jpg\":[\"547\",\"425\"],\"https://images-na.ssl-images-amazon.com/images/I/61vLbweqwML._UX569_.jpg\":[\"733\",\"569\"]}}],\"2 Heather Grey / 2 Black\":[{\"large\":\"https://images-na.ssl-images-amazon.com/images/I/41pqYQdliML.jpg\",\"variant\":\"MAIN\",\"hiRes\":\"https://images-na.ssl-images-amazon.com/images/I/71HyZAvUTKL._UL1500_.jpg\",\"thumb\":\"https://images-na.ssl-images-amazon.com/images/I/41pqYQdliML._SR38,50_.jpg\",\"main\":{\"https://images-na.ssl-images-amazon.com/images/I/71HyZAvUTKL._UX466_.jpg\":[\"582\",\"466\"],\"https://images-na.ssl-images-amazon.com/images/I/71HyZAvUTKL._UX569_.jpg\":[\"711\",\"569\"],\"https://images-na.ssl-images-amazon.com/images/I/71HyZAvUTKL._UX679_.jpg\":[\"849\",\"679\"],\"https://images-na.ssl-images-amazon.com/images/I/71HyZAvUTKL._UX425_.jpg\":[\"531\",\"425\"],\"https://images-na.ssl-images-amazon.com/images/I/71HyZAvUTKL._UX342_.jpg\":[\"427\",\"342\"],\"https://images-na.ssl-images-amazon.com/images/I/71HyZAvUTKL._UX522_.jpg\":[\"652\",\"522\"],\"https://images-na.ssl-images-amazon.com/images/I/71HyZAvUTKL._UX385_.jpg\":[\"481\",\"385\"]}}],\"2 Ash / 2 Navy\":[{\"large\":\"https://images-na.ssl-images-amazon.com/images/I/41ZM84lqfgL.jpg\",\"variant\":\"MAIN\",\"hiRes\":\"https://images-na.ssl-images-amazon.com/images/I/71nVhXk3SFL._UL1200_.jpg\",\"thumb\":\"https://images-na.ssl-images-amazon.com/images/I/41ZM84lqfgL._SR38,50_.jpg\",\"main\":{\"https://images-na.ssl-images-amazon.com/images/I/71nVhXk3SFL._UX466_.jpg\":[\"603\",\"466\"],\"https://images-na.ssl-images-amazon.com/images/I/71nVhXk3SFL._UX569_.jpg\":[\"737\",\"569\"],\"https://images-na.ssl-images-amazon.com/images/I/71nVhXk3SFL._UX342_.jpg\":[\"443\",\"342\"],\"https://images-na.ssl-images-amazon.com/images/I/71nVhXk3SFL._UX679_.jpg\":[\"879\",\"679\"],\"https://images-na.ssl-images-amazon.com/images/I/71nVhXk3SFL._UX522_.jpg\":[\"676\",\"522\"],\"https://images-na.ssl-images-amazon.com/images/I/71nVhXk3SFL._UY550_.jpg\":[\"550\",\"425\"],\"https://images-na.ssl-images-amazon.com/images/I/71nVhXk3SFL._UX385_.jpg\":[\"498\",\"385\"]}}],\"2 Deep Forest / 2 Light Blue\":[{\"large\":\"https://images-na.ssl-images-amazon.com/images/I/41zYpRDgRQL.jpg\",\"variant\":\"MAIN\",\"hiRes\":\"https://images-na.ssl-images-amazon.com/images/I/61%2B0UypSUbL._UL1200_.jpg\",\"thumb\":\"https://images-na.ssl-images-amazon.com/images/I/41zYpRDgRQL._SR38,50_.jpg\",\"main\":{\"https://images-na.ssl-images-amazon.com/images/I/61%2B0UypSUbL._UY879_.jpg\":[\"879\",\"678\"],\"https://images-na.ssl-images-amazon.com/images/I/61%2B0UypSUbL._UX466_.jpg\":[\"605\",\"466\"],\"https://images-na.ssl-images-amazon.com/images/I/61%2B0UypSUbL._UX385_.jpg\":[\"499\",\"385\"],\"https://images-na.ssl-images-amazon.com/images/I/61%2B0UypSUbL._UY550_.jpg\":[\"550\",\"424\"],\"https://images-na.ssl-images-amazon.com/images/I/61%2B0UypSUbL._UX342_.jpg\":[\"444\",\"342\"],\"https://images-na.ssl-images-amazon.com/images/I/61%2B0UypSUbL._UX569_.jpg\":[\"738\",\"569\"],\"https://images-na.ssl-images-amazon.com/images/I/61%2B0UypSUbL._UX522_.jpg\":[\"677\",\"522\"]}}],\"White Crewneck\":[{\"large\":\"https://images-na.ssl-images-amazon.com/images/I/31hA7aVCjgL.jpg\",\"variant\":\"MAIN\",\"hiRes\":\"https://images-na.ssl-images-amazon.com/images/I/61azvPQoa3L._UL1500_.jpg\",\"thumb\":\"https://images-na.ssl-images-amazon.com/images/I/31hA7aVCjgL._SR38,50_.jpg\",\"main\":{\"https://images-na.ssl-images-amazon.com/images/I/61azvPQoa3L._UX425_.jpg\":[\"531\",\"425\"],\"https://images-na.ssl-images-amazon.com/images/I/61azvPQoa3L._UX466_.jpg\":[\"582\",\"466\"],\"https://images-na.ssl-images-amazon.com/images/I/61azvPQoa3L._UX569_.jpg\":[\"711\",\"569\"],\"https://images-na.ssl-images-amazon.com/images/I/61azvPQoa3L._UX522_.jpg\":[\"652\",\"522\"],\"https://images-na.ssl-images-amazon.com/images/I/61azvPQoa3L._UX385_.jpg\":[\"481\",\"385\"],\"https://images-na.ssl-images-amazon.com/images/I/61azvPQoa3L._UX679_.jpg\":[\"849\",\"679\"],\"https://images-na.ssl-images-amazon.com/images/I/61azvPQoa3L._UX342_.jpg\":[\"427\",\"342\"]}}],\"2 Gold / 2 White\":[{\"large\":\"https://images-na.ssl-images-amazon.com/images/I/41tWEJfOeXL.jpg\",\"variant\":\"MAIN\",\"hiRes\":\"https://images-na.ssl-images-amazon.com/images/I/61I%2Bk3PUj8L._UL1200_.jpg\",\"thumb\":\"https://images-na.ssl-images-amazon.com/images/I/41tWEJfOeXL._SR38,50_.jpg\",\"main\":{\"https://images-na.ssl-images-amazon.com/images/I/61I%2Bk3PUj8L._UX522_.jpg\":[\"674\",\"522\"],\"https://images-na.ssl-images-amazon.com/images/I/61I%2Bk3PUj8L._UX569_.jpg\":[\"735\",\"569\"],\"https://images-na.ssl-images-amazon.com/images/I/61I%2Bk3PUj8L._UX425_.jpg\":[\"549\",\"425\"],\"https://images-na.ssl-images-amazon.com/images/I/61I%2Bk3PUj8L._UX679_.jpg\":[\"877\",\"679\"],\"https://images-na.ssl-images-amazon.com/images/I/61I%2Bk3PUj8L._UX385_.jpg\":[\"497\",\"385\"],\"https://images-na.ssl-images-amazon.com/images/I/61I%2Bk3PUj8L._UX466_.jpg\":[\"602\",\"466\"],\"https://images-na.ssl-images-amazon.com/images/I/61I%2Bk3PUj8L._UX342_.jpg\":[\"442\",\"342\"]}}],\"2 Orange / 2 Light Blue\":[{\"large\":\"https://images-na.ssl-images-amazon.com/images/I/41C0TfrH5gL.jpg\",\"variant\":\"MAIN\",\"hiRes\":\"https://images-na.ssl-images-amazon.com/images/I/61kmo9em03L._UL1200_.jpg\",\"thumb\":\"https://images-na.ssl-images-amazon.com/images/I/41C0TfrH5gL._SR38,50_.jpg\",\"main\":{\"https://images-na.ssl-images-amazon.com/images/I/61kmo9em03L._UX385_.jpg\":[\"499\",\"385\"],\"https://images-na.ssl-images-amazon.com/images/I/61kmo9em03L._UX522_.jpg\":[\"677\",\"522\"],\"https://images-na.ssl-images-amazon.com/images/I/61kmo9em03L._UY550_.jpg\":[\"550\",\"424\"],\"https://images-na.ssl-images-amazon.com/images/I/61kmo9em03L._UX466_.jpg\":[\"605\",\"466\"],\"https://images-na.ssl-images-amazon.com/images/I/61kmo9em03L._UY879_.jpg\":[\"879\",\"678\"],\"https://images-na.ssl-images-amazon.com/images/I/61kmo9em03L._UX569_.jpg\":[\"738\",\"569\"],\"https://images-na.ssl-images-amazon.com/images/I/61kmo9em03L._UX342_.jpg\":[\"444\",\"342\"]}}],\"2 Deep Red / 2 Purple\":[{\"large\":\"https://images-na.ssl-images-amazon.com/images/I/41tx4-2WxBL.jpg\",\"variant\":\"MAIN\",\"hiRes\":\"https://images-na.ssl-images-amazon.com/images/I/61frneyF3eL._UL1200_.jpg\",\"thumb\":\"https://images-na.ssl-images-amazon.com/images/I/41tx4-2WxBL._SR38,50_.jpg\",\"main\":{\"https://images-na.ssl-images-amazon.com/images/I/61frneyF3eL._UX679_.jpg\":[\"862\",\"679\"],\"https://images-na.ssl-images-amazon.com/images/I/61frneyF3eL._UX342_.jpg\":[\"434\",\"342\"],\"https://images-na.ssl-images-amazon.com/images/I/61frneyF3eL._UX569_.jpg\":[\"723\",\"569\"],\"https://images-na.ssl-images-amazon.com/images/I/61frneyF3eL._UX425_.jpg\":[\"540\",\"425\"],\"https://images-na.ssl-images-amazon.com/images/I/61frneyF3eL._UX522_.jpg\":[\"663\",\"522\"],\"https://images-na.ssl-images-amazon.com/images/I/61frneyF3eL._UX466_.jpg\":[\"592\",\"466\"],\"https://images-na.ssl-images-amazon.com/images/I/61frneyF3eL._UX385_.jpg\":[\"489\",\"385\"]}}],\"2 Purple / 2 Sand\":[{\"large\":\"https://images-na.ssl-images-amazon.com/images/I/31NtrZXKyyL.jpg\",\"variant\":\"MAIN\",\"hiRes\":\"https://images-na.ssl-images-amazon.com/images/I/618GCubMoCL._UL1200_.jpg\",\"thumb\":\"https://images-na.ssl-images-amazon.com/images/I/31NtrZXKyyL._SR38,50_.jpg\",\"main\":{\"https://images-na.ssl-images-amazon.com/images/I/618GCubMoCL._UY606_.jpg\":[\"606\",\"444\"],\"https://images-na.ssl-images-amazon.com/images/I/618GCubMoCL._UY550_.jpg\":[\"550\",\"403\"],\"https://images-na.ssl-images-amazon.com/images/I/618GCubMoCL._UY500_.jpg\":[\"500\",\"366\"],\"https://images-na.ssl-images-amazon.com/images/I/618GCubMoCL._UY741_.jpg\":[\"741\",\"543\"],\"https://images-na.ssl-images-amazon.com/images/I/618GCubMoCL._UY445_.jpg\":[\"445\",\"326\"],\"https://images-na.ssl-images-amazon.com/images/I/618GCubMoCL._UY879_.jpg\":[\"879\",\"644\"],\"https://images-na.ssl-images-amazon.com/images/I/618GCubMoCL._UY679_.jpg\":[\"679\",\"497\"]}}],\"2 Light Steel / 2 Sand\":[{\"large\":\"https://images-na.ssl-images-amazon.com/images/I/31bPSJ-PwpL.jpg\",\"variant\":\"MAIN\",\"hiRes\":\"https://images-na.ssl-images-amazon.com/images/I/61vfbScQFUL._UL1200_.jpg\",\"thumb\":\"https://images-na.ssl-images-amazon.com/images/I/31bPSJ-PwpL._SR38,50_.jpg\",\"main\":{\"https://images-na.ssl-images-amazon.com/images/I/61vfbScQFUL._UY741_.jpg\":[\"741\",\"542\"],\"https://images-na.ssl-images-amazon.com/images/I/61vfbScQFUL._UY550_.jpg\":[\"550\",\"402\"],\"https://images-na.ssl-images-amazon.com/images/I/61vfbScQFUL._UY879_.jpg\":[\"879\",\"643\"],\"https://images-na.ssl-images-amazon.com/images/I/61vfbScQFUL._UY500_.jpg\":[\"500\",\"366\"],\"https://images-na.ssl-images-amazon.com/images/I/61vfbScQFUL._UY606_.jpg\":[\"606\",\"443\"],\"https://images-na.ssl-images-amazon.com/images/I/61vfbScQFUL._UY679_.jpg\":[\"679\",\"497\"],\"https://images-na.ssl-images-amazon.com/images/I/61vfbScQFUL._UY445_.jpg\":[\"445\",\"326\"]}}],\"2 Light Steel / 2 Smoke Grey\":[{\"large\":\"https://images-na.ssl-images-amazon.com/images/I/4109o21BAKL.jpg\",\"variant\":\"MAIN\",\"hiRes\":\"https://images-na.ssl-images-amazon.com/images/I/61%2BnpnKXHxL._UL1200_.jpg\",\"thumb\":\"https://images-na.ssl-images-amazon.com/images/I/4109o21BAKL._SR38,50_.jpg\",\"main\":{\"https://images-na.ssl-images-amazon.com/images/I/61%2BnpnKXHxL._UX569_.jpg\":[\"730\",\"569\"],\"https://images-na.ssl-images-amazon.com/images/I/61%2BnpnKXHxL._UX522_.jpg\":[\"670\",\"522\"],\"https://images-na.ssl-images-amazon.com/images/I/61%2BnpnKXHxL._UX466_.jpg\":[\"598\",\"466\"],\"https://images-na.ssl-images-amazon.com/images/I/61%2BnpnKXHxL._UX342_.jpg\":[\"439\",\"342\"],\"https://images-na.ssl-images-amazon.com/images/I/61%2BnpnKXHxL._UX385_.jpg\":[\"494\",\"385\"],\"https://images-na.ssl-images-amazon.com/images/I/61%2BnpnKXHxL._UX679_.jpg\":[\"871\",\"679\"],\"https://images-na.ssl-images-amazon.com/images/I/61%2BnpnKXHxL._UX425_.jpg\":[\"545\",\"425\"]}}],\"2 Gold / 2 Purple\":[{\"large\":\"https://images-na.ssl-images-amazon.com/images/I/41IxdxR9beL.jpg\",\"variant\":\"MAIN\",\"hiRes\":\"https://images-na.ssl-images-amazon.com/images/I/618zNQaAfeL._UL1200_.jpg\",\"thumb\":\"https://images-na.ssl-images-amazon.com/images/I/41IxdxR9beL._SR38,50_.jpg\",\"main\":{\"https://images-na.ssl-images-amazon.com/images/I/618zNQaAfeL._UX425_.jpg\":[\"549\",\"425\"],\"https://images-na.ssl-images-amazon.com/images/I/618zNQaAfeL._UX385_.jpg\":[\"497\",\"385\"],\"https://images-na.ssl-images-amazon.com/images/I/618zNQaAfeL._UX342_.jpg\":[\"442\",\"342\"],\"https://images-na.ssl-images-amazon.com/images/I/618zNQaAfeL._UX679_.jpg\":[\"877\",\"679\"],\"https://images-na.ssl-images-amazon.com/images/I/618zNQaAfeL._UX569_.jpg\":[\"735\",\"569\"],\"https://images-na.ssl-images-amazon.com/images/I/618zNQaAfeL._UX522_.jpg\":[\"674\",\"522\"],\"https://images-na.ssl-images-amazon.com/images/I/618zNQaAfeL._UX466_.jpg\":[\"602\",\"466\"]}}],\"2 Deep Royal / 2 White\":[{\"large\":\"https://images-na.ssl-images-amazon.com/images/I/415FI1%2BDgML.jpg\",\"variant\":\"MAIN\",\"hiRes\":\"https://images-na.ssl-images-amazon.com/images/I/61fh4l3zdXL._UL1200_.jpg\",\"thumb\":\"https://images-na.ssl-images-amazon.com/images/I/415FI1%2BDgML._SR38,50_.jpg\",\"main\":{\"https://images-na.ssl-images-amazon.com/images/I/61fh4l3zdXL._UX466_.jpg\":[\"592\",\"466\"],\"https://images-na.ssl-images-amazon.com/images/I/61fh4l3zdXL._UX342_.jpg\":[\"435\",\"342\"],\"https://images-na.ssl-images-amazon.com/images/I/61fh4l3zdXL._UX569_.jpg\":[\"723\",\"569\"],\"https://images-na.ssl-images-amazon.com/images/I/61fh4l3zdXL._UX425_.jpg\":[\"540\",\"425\"],\"https://images-na.ssl-images-amazon.com/images/I/61fh4l3zdXL._UX679_.jpg\":[\"863\",\"679\"],\"https://images-na.ssl-images-amazon.com/images/I/61fh4l3zdXL._UX522_.jpg\":[\"664\",\"522\"],\"https://images-na.ssl-images-amazon.com/images/I/61fh4l3zdXL._UX385_.jpg\":[\"489\",\"385\"]}}],\"2 White / 2 Yellow\":[{\"large\":\"https://images-na.ssl-images-amazon.com/images/I/31Fi18hsOOL.jpg\",\"variant\":\"MAIN\",\"hiRes\":\"https://images-na.ssl-images-amazon.com/images/I/61k1IZ0AusL._UL1200_.jpg\",\"thumb\":\"https://images-na.ssl-images-amazon.com/images/I/31Fi18hsOOL._SR38,50_.jpg\",\"main\":{\"https://images-na.ssl-images-amazon.com/images/I/61k1IZ0AusL._UY879_.jpg\":[\"879\",\"669\"],\"https://images-na.ssl-images-amazon.com/images/I/61k1IZ0AusL._UY500_.jpg\":[\"500\",\"380\"],\"https://images-na.ssl-images-amazon.com/images/I/61k1IZ0AusL._UY606_.jpg\":[\"606\",\"461\"],\"https://images-na.ssl-images-amazon.com/images/I/61k1IZ0AusL._UY550_.jpg\":[\"550\",\"418\"],\"https://images-na.ssl-images-amazon.com/images/I/61k1IZ0AusL._UY445_.jpg\":[\"445\",\"339\"],\"https://images-na.ssl-images-amazon.com/images/I/61k1IZ0AusL._UY741_.jpg\":[\"741\",\"564\"],\"https://images-na.ssl-images-amazon.com/images/I/61k1IZ0AusL._UY679_.jpg\":[\"679\",\"517\"]}}],\"2 Light Steel / 2 Navy\":[{\"large\":\"https://images-na.ssl-images-amazon.com/images/I/41bIsJ2h34L.jpg\",\"variant\":\"MAIN\",\"hiRes\":\"https://images-na.ssl-images-amazon.com/images/I/61hlX66QliL._UL1200_.jpg\",\"thumb\":\"https://images-na.ssl-images-amazon.com/images/I/41bIsJ2h34L._SR38,50_.jpg\",\"main\":{\"https://images-na.ssl-images-amazon.com/images/I/61hlX66QliL._UX679_.jpg\":[\"871\",\"679\"],\"https://images-na.ssl-images-amazon.com/images/I/61hlX66QliL._UX466_.jpg\":[\"598\",\"466\"],\"https://images-na.ssl-images-amazon.com/images/I/61hlX66QliL._UX569_.jpg\":[\"730\",\"569\"],\"https://images-na.ssl-images-amazon.com/images/I/61hlX66QliL._UX385_.jpg\":[\"494\",\"385\"],\"https://images-na.ssl-images-amazon.com/images/I/61hlX66QliL._UX425_.jpg\":[\"545\",\"425\"],\"https://images-na.ssl-images-amazon.com/images/I/61hlX66QliL._UX342_.jpg\":[\"439\",\"342\"],\"https://images-na.ssl-images-amazon.com/images/I/61hlX66QliL._UX522_.jpg\":[\"670\",\"522\"]}}],\"Maroon\":[{\"large\":\"https://images-na.ssl-images-amazon.com/images/I/41g-RVxq27L.jpg\",\"variant\":\"MAIN\",\"hiRes\":\"https://images-na.ssl-images-amazon.com/images/I/81Ih5ndmJcL._UL1500_.jpg\",\"thumb\":\"https://images-na.ssl-images-amazon.com/images/I/41g-RVxq27L._SR38,50_.jpg\",\"main\":{\"https://images-na.ssl-images-amazon.com/images/I/81Ih5ndmJcL._UX522_.jpg\":[\"642\",\"522\"],\"https://images-na.ssl-images-amazon.com/images/I/81Ih5ndmJcL._UX569_.jpg\":[\"700\",\"569\"],\"https://images-na.ssl-images-amazon.com/images/I/81Ih5ndmJcL._UX679_.jpg\":[\"836\",\"679\"],\"https://images-na.ssl-images-amazon.com/images/I/81Ih5ndmJcL._UX425_.jpg\":[\"523\",\"425\"],\"https://images-na.ssl-images-amazon.com/images/I/81Ih5ndmJcL._UX385_.jpg\":[\"474\",\"385\"],\"https://images-na.ssl-images-amazon.com/images/I/81Ih5ndmJcL._UX466_.jpg\":[\"574\",\"466\"],\"https://images-na.ssl-images-amazon.com/images/I/81Ih5ndmJcL._UX342_.jpg\":[\"421\",\"342\"]}}],\"2 Ash / 2 Maroon\":[{\"large\":\"https://images-na.ssl-images-amazon.com/images/I/41e6R8I8toL.jpg\",\"variant\":\"MAIN\",\"hiRes\":\"https://images-na.ssl-images-amazon.com/images/I/71fGa0EhHWL._UL1200_.jpg\",\"thumb\":\"https://images-na.ssl-images-amazon.com/images/I/41e6R8I8toL._SR38,50_.jpg\",\"main\":{\"https://images-na.ssl-images-amazon.com/images/I/71fGa0EhHWL._UY500_.jpg\":[\"500\",\"375\"],\"https://images-na.ssl-images-amazon.com/images/I/71fGa0EhHWL._UY741_.jpg\":[\"741\",\"556\"],\"https://images-na.ssl-images-amazon.com/images/I/71fGa0EhHWL._UY679_.jpg\":[\"679\",\"509\"],\"https://images-na.ssl-images-amazon.com/images/I/71fGa0EhHWL._UY445_.jpg\":[\"445\",\"334\"],\"https://images-na.ssl-images-amazon.com/images/I/71fGa0EhHWL._UY606_.jpg\":[\"606\",\"454\"],\"https://images-na.ssl-images-amazon.com/images/I/71fGa0EhHWL._UY550_.jpg\":[\"550\",\"412\"],\"https://images-na.ssl-images-amazon.com/images/I/71fGa0EhHWL._UY879_.jpg\":[\"879\",\"659\"]}}],\"2 Denim Blue / 2 Deep Forest\":[{\"large\":\"https://images-na.ssl-images-amazon.com/images/I/416If-Q5APL.jpg\",\"variant\":\"MAIN\",\"hiRes\":\"https://images-na.ssl-images-amazon.com/images/I/61rYSdMLS6L._UL1200_.jpg\",\"thumb\":\"https://images-na.ssl-images-amazon.com/images/I/416If-Q5APL._SR38,50_.jpg\",\"main\":{\"https://images-na.ssl-images-amazon.com/images/I/61rYSdMLS6L._UX466_.jpg\":[\"600\",\"466\"],\"https://images-na.ssl-images-amazon.com/images/I/61rYSdMLS6L._UX569_.jpg\":[\"733\",\"569\"],\"https://images-na.ssl-images-amazon.com/images/I/61rYSdMLS6L._UX425_.jpg\":[\"547\",\"425\"],\"https://images-na.ssl-images-amazon.com/images/I/61rYSdMLS6L._UX679_.jpg\":[\"874\",\"679\"],\"https://images-na.ssl-images-amazon.com/images/I/61rYSdMLS6L._UX522_.jpg\":[\"672\",\"522\"],\"https://images-na.ssl-images-amazon.com/images/I/61rYSdMLS6L._UX342_.jpg\":[\"440\",\"342\"],\"https://images-na.ssl-images-amazon.com/images/I/61rYSdMLS6L._UX385_.jpg\":[\"496\",\"385\"]}}],\"2 Maroon / 2 Deep Forest\":[{\"large\":\"https://images-na.ssl-images-amazon.com/images/I/31mAmyLGS0L.jpg\",\"variant\":\"MAIN\",\"hiRes\":\"https://images-na.ssl-images-amazon.com/images/I/61Y8213eyQL._UL1200_.jpg\",\"thumb\":\"https://images-na.ssl-images-amazon.com/images/I/31mAmyLGS0L._SR38,50_.jpg\",\"main\":{\"https://images-na.ssl-images-amazon.com/images/I/61Y8213eyQL._UY879_.jpg\":[\"879\",\"639\"],\"https://images-na.ssl-images-amazon.com/images/I/61Y8213eyQL._UY500_.jpg\":[\"500\",\"364\"],\"https://images-na.ssl-images-amazon.com/images/I/61Y8213eyQL._UY679_.jpg\":[\"679\",\"494\"],\"https://images-na.ssl-images-amazon.com/images/I/61Y8213eyQL._UY606_.jpg\":[\"606\",\"441\"],\"https://images-na.ssl-images-amazon.com/images/I/61Y8213eyQL._UY550_.jpg\":[\"550\",\"400\"],\"https://images-na.ssl-images-amazon.com/images/I/61Y8213eyQL._UY445_.jpg\":[\"445\",\"324\"],\"https://images-na.ssl-images-amazon.com/images/I/61Y8213eyQL._UY741_.jpg\":[\"741\",\"539\"]}}],\"2 Light Blue / 2 Light Steel\":[{\"large\":\"https://images-na.ssl-images-amazon.com/images/I/41zlfXKs5AL.jpg\",\"variant\":\"MAIN\",\"hiRes\":\"https://images-na.ssl-images-amazon.com/images/I/617%2Bs8h%2BfiL._UL1200_.jpg\",\"thumb\":\"https://images-na.ssl-images-amazon.com/images/I/41zlfXKs5AL._SR38,50_.jpg\",\"main\":{\"https://images-na.ssl-images-amazon.com/images/I/617%2Bs8h%2BfiL._UX425_.jpg\":[\"548\",\"425\"],\"https://images-na.ssl-images-amazon.com/images/I/617%2Bs8h%2BfiL._UX342_.jpg\":[\"441\",\"342\"],\"https://images-na.ssl-images-amazon.com/images/I/617%2Bs8h%2BfiL._UX466_.jpg\":[\"601\",\"466\"],\"https://images-na.ssl-images-amazon.com/images/I/617%2Bs8h%2BfiL._UX569_.jpg\":[\"734\",\"569\"],\"https://images-na.ssl-images-amazon.com/images/I/617%2Bs8h%2BfiL._UX522_.jpg\":[\"674\",\"522\"],\"https://images-na.ssl-images-amazon.com/images/I/617%2Bs8h%2BfiL._UX679_.jpg\":[\"876\",\"679\"],\"https://images-na.ssl-images-amazon.com/images/I/617%2Bs8h%2BfiL._UX385_.jpg\":[\"497\",\"385\"]}}],\"2 Gold / 2 Navy\":[{\"large\":\"https://images-na.ssl-images-amazon.com/images/I/41Wqr9hF3JL.jpg\",\"variant\":\"MAIN\",\"hiRes\":\"https://images-na.ssl-images-amazon.com/images/I/614xL8rGLEL._UL1200_.jpg\",\"thumb\":\"https://images-na.ssl-images-amazon.com/images/I/41Wqr9hF3JL._SR38,50_.jpg\",\"main\":{\"https://images-na.ssl-images-amazon.com/images/I/614xL8rGLEL._UX342_.jpg\":[\"442\",\"342\"],\"https://images-na.ssl-images-amazon.com/images/I/614xL8rGLEL._UX569_.jpg\":[\"735\",\"569\"],\"https://images-na.ssl-images-amazon.com/images/I/614xL8rGLEL._UX522_.jpg\":[\"674\",\"522\"],\"https://images-na.ssl-images-amazon.com/images/I/614xL8rGLEL._UX425_.jpg\":[\"549\",\"425\"],\"https://images-na.ssl-images-amazon.com/images/I/614xL8rGLEL._UX679_.jpg\":[\"877\",\"679\"],\"https://images-na.ssl-images-amazon.com/images/I/614xL8rGLEL._UX466_.jpg\":[\"602\",\"466\"],\"https://images-na.ssl-images-amazon.com/images/I/614xL8rGLEL._UX385_.jpg\":[\"497\",\"385\"]}}],\"2 Deep Royal / 2 Light Steel\":[{\"large\":\"https://images-na.ssl-images-amazon.com/images/I/41ptm4pDEVL.jpg\",\"variant\":\"MAIN\",\"hiRes\":\"https://images-na.ssl-images-amazon.com/images/I/61TF3dyEZZL._UL1200_.jpg\",\"thumb\":\"https://images-na.ssl-images-amazon.com/images/I/41ptm4pDEVL._SR38,50_.jpg\",\"main\":{\"https://images-na.ssl-images-amazon.com/images/I/61TF3dyEZZL._UX679_.jpg\":[\"863\",\"679\"],\"https://images-na.ssl-images-amazon.com/images/I/61TF3dyEZZL._UX569_.jpg\":[\"723\",\"569\"],\"https://images-na.ssl-images-amazon.com/images/I/61TF3dyEZZL._UX425_.jpg\":[\"540\",\"425\"],\"https://images-na.ssl-images-amazon.com/images/I/61TF3dyEZZL._UX385_.jpg\":[\"489\",\"385\"],\"https://images-na.ssl-images-amazon.com/images/I/61TF3dyEZZL._UX342_.jpg\":[\"435\",\"342\"],\"https://images-na.ssl-images-amazon.com/images/I/61TF3dyEZZL._UX522_.jpg\":[\"664\",\"522\"],\"https://images-na.ssl-images-amazon.com/images/I/61TF3dyEZZL._UX466_.jpg\":[\"592\",\"466\"]}}],\"Black\":[{\"large\":\"https://images-na.ssl-images-amazon.com/images/I/41loaRuvR9L.jpg\",\"variant\":\"MAIN\",\"hiRes\":\"https://images-na.ssl-images-amazon.com/images/I/81UFAlUcZaL._UL1500_.jpg\",\"thumb\":\"https://images-na.ssl-images-amazon.com/images/I/41loaRuvR9L._SR38,50_.jpg\",\"main\":{\"https://images-na.ssl-images-amazon.com/images/I/81UFAlUcZaL._UX342_.jpg\":[\"421\",\"342\"],\"https://images-na.ssl-images-amazon.com/images/I/81UFAlUcZaL._UX466_.jpg\":[\"574\",\"466\"],\"https://images-na.ssl-images-amazon.com/images/I/81UFAlUcZaL._UX679_.jpg\":[\"836\",\"679\"],\"https://images-na.ssl-images-amazon.com/images/I/81UFAlUcZaL._UX385_.jpg\":[\"474\",\"385\"],\"https://images-na.ssl-images-amazon.com/images/I/81UFAlUcZaL._UX569_.jpg\":[\"700\",\"569\"],\"https://images-na.ssl-images-amazon.com/images/I/81UFAlUcZaL._UX522_.jpg\":[\"642\",\"522\"],\"https://images-na.ssl-images-amazon.com/images/I/81UFAlUcZaL._UX425_.jpg\":[\"523\",\"425\"]}}],\"2 Deep Royal / 2 Navy\":[{\"large\":\"https://images-na.ssl-images-amazon.com/images/I/41bkguimXUL.jpg\",\"variant\":\"MAIN\",\"hiRes\":\"https://images-na.ssl-images-amazon.com/images/I/61sNF8ZDL%2BL._UL1200_.jpg\",\"thumb\":\"https://images-na.ssl-images-amazon.com/images/I/41bkguimXUL._SR38,50_.jpg\",\"main\":{\"https://images-na.ssl-images-amazon.com/images/I/61sNF8ZDL%2BL._UX679_.jpg\":[\"863\",\"679\"],\"https://images-na.ssl-images-amazon.com/images/I/61sNF8ZDL%2BL._UX466_.jpg\":[\"592\",\"466\"],\"https://images-na.ssl-images-amazon.com/images/I/61sNF8ZDL%2BL._UX425_.jpg\":[\"540\",\"425\"],\"https://images-na.ssl-images-amazon.com/images/I/61sNF8ZDL%2BL._UX342_.jpg\":[\"435\",\"342\"],\"https://images-na.ssl-images-amazon.com/images/I/61sNF8ZDL%2BL._UX569_.jpg\":[\"723\",\"569\"],\"https://images-na.ssl-images-amazon.com/images/I/61sNF8ZDL%2BL._UX522_.jpg\":[\"664\",\"522\"],\"https://images-na.ssl-images-amazon.com/images/I/61sNF8ZDL%2BL._UX385_.jpg\":[\"489\",\"385\"]}}],\"2 Deep Royal / 2 Purple\":[{\"large\":\"https://images-na.ssl-images-amazon.com/images/I/41bSRRSDFsL.jpg\",\"variant\":\"MAIN\",\"hiRes\":\"https://images-na.ssl-images-amazon.com/images/I/61Nz0vIw0tL._UL1200_.jpg\",\"thumb\":\"https://images-na.ssl-images-amazon.com/images/I/41bSRRSDFsL._SR38,50_.jpg\",\"main\":{\"https://images-na.ssl-images-amazon.com/images/I/61Nz0vIw0tL._UX425_.jpg\":[\"540\",\"425\"],\"https://images-na.ssl-images-amazon.com/images/I/61Nz0vIw0tL._UX385_.jpg\":[\"489\",\"385\"],\"https://images-na.ssl-images-amazon.com/images/I/61Nz0vIw0tL._UX466_.jpg\":[\"592\",\"466\"],\"https://images-na.ssl-images-amazon.com/images/I/61Nz0vIw0tL._UX342_.jpg\":[\"435\",\"342\"],\"https://images-na.ssl-images-amazon.com/images/I/61Nz0vIw0tL._UX679_.jpg\":[\"863\",\"679\"],\"https://images-na.ssl-images-amazon.com/images/I/61Nz0vIw0tL._UX522_.jpg\":[\"664\",\"522\"],\"https://images-na.ssl-images-amazon.com/images/I/61Nz0vIw0tL._UX569_.jpg\":[\"723\",\"569\"]}}],\"2 Deep Forest / 2 Gold\":[{\"large\":\"https://images-na.ssl-images-amazon.com/images/I/41%2BMdFsl1pL.jpg\",\"variant\":\"MAIN\",\"hiRes\":\"https://images-na.ssl-images-amazon.com/images/I/61Kn5kj6FlL._UL1200_.jpg\",\"thumb\":\"https://images-na.ssl-images-amazon.com/images/I/41%2BMdFsl1pL._SR38,50_.jpg\",\"main\":{\"https://images-na.ssl-images-amazon.com/images/I/61Kn5kj6FlL._UX569_.jpg\":[\"739\",\"569\"],\"https://images-na.ssl-images-amazon.com/images/I/61Kn5kj6FlL._UX522_.jpg\":[\"678\",\"522\"],\"https://images-na.ssl-images-amazon.com/images/I/61Kn5kj6FlL._UX342_.jpg\":[\"444\",\"342\"],\"https://images-na.ssl-images-amazon.com/images/I/61Kn5kj6FlL._UX466_.jpg\":[\"605\",\"466\"],\"https://images-na.ssl-images-amazon.com/images/I/61Kn5kj6FlL._UY550_.jpg\":[\"550\",\"424\"],\"https://images-na.ssl-images-amazon.com/images/I/61Kn5kj6FlL._UY879_.jpg\":[\"879\",\"677\"],\"https://images-na.ssl-images-amazon.com/images/I/61Kn5kj6FlL._UY500_.jpg\":[\"500\",\"385\"]}}],\"Denim Blue\":[{\"large\":\"https://images-na.ssl-images-amazon.com/images/I/41ORtWYGW6L.jpg\",\"variant\":\"MAIN\",\"hiRes\":\"https://images-na.ssl-images-amazon.com/images/I/91fSZOTo0aL._UL1500_.jpg\",\"thumb\":\"https://images-na.ssl-images-amazon.com/images/I/41ORtWYGW6L._SR38,50_.jpg\",\"main\":{\"https://images-na.ssl-images-amazon.com/images/I/91fSZOTo0aL._UX466_.jpg\":[\"574\",\"466\"],\"https://images-na.ssl-images-amazon.com/images/I/91fSZOTo0aL._UX385_.jpg\":[\"474\",\"385\"],\"https://images-na.ssl-images-amazon.com/images/I/91fSZOTo0aL._UX342_.jpg\":[\"421\",\"342\"],\"https://images-na.ssl-images-amazon.com/images/I/91fSZOTo0aL._UX522_.jpg\":[\"642\",\"522\"],\"https://images-na.ssl-images-amazon.com/images/I/91fSZOTo0aL._UX425_.jpg\":[\"523\",\"425\"],\"https://images-na.ssl-images-amazon.com/images/I/91fSZOTo0aL._UX569_.jpg\":[\"700\",\"569\"],\"https://images-na.ssl-images-amazon.com/images/I/91fSZOTo0aL._UX679_.jpg\":[\"836\",\"679\"]}}],\"2 Purple / 2 White\":[{\"large\":\"https://images-na.ssl-images-amazon.com/images/I/41YlamlDWlL.jpg\",\"variant\":\"MAIN\",\"hiRes\":\"https://images-na.ssl-images-amazon.com/images/I/61WcG0bkjYL._UL1200_.jpg\",\"thumb\":\"https://images-na.ssl-images-amazon.com/images/I/41YlamlDWlL._SR38,50_.jpg\",\"main\":{\"https://images-na.ssl-images-amazon.com/images/I/61WcG0bkjYL._UX522_.jpg\":[\"676\",\"522\"],\"https://images-na.ssl-images-amazon.com/images/I/61WcG0bkjYL._UY550_.jpg\":[\"550\",\"425\"],\"https://images-na.ssl-images-amazon.com/images/I/61WcG0bkjYL._UX342_.jpg\":[\"443\",\"342\"],\"https://images-na.ssl-images-amazon.com/images/I/61WcG0bkjYL._UX569_.jpg\":[\"737\",\"569\"],\"https://images-na.ssl-images-amazon.com/images/I/61WcG0bkjYL._UX385_.jpg\":[\"498\",\"385\"],\"https://images-na.ssl-images-amazon.com/images/I/61WcG0bkjYL._UX466_.jpg\":[\"603\",\"466\"],\"https://images-na.ssl-images-amazon.com/images/I/61WcG0bkjYL._UX679_.jpg\":[\"879\",\"679\"]}}],\"2 Purple / 2 Smoke Grey\":[{\"large\":\"https://images-na.ssl-images-amazon.com/images/I/41Z3gqWtQ5L.jpg\",\"variant\":\"MAIN\",\"hiRes\":\"https://images-na.ssl-images-amazon.com/images/I/617xd6k3RCL._UL1200_.jpg\",\"thumb\":\"https://images-na.ssl-images-amazon.com/images/I/41Z3gqWtQ5L._SR38,50_.jpg\",\"main\":{\"https://images-na.ssl-images-amazon.com/images/I/617xd6k3RCL._UX522_.jpg\":[\"676\",\"522\"],\"https://images-na.ssl-images-amazon.com/images/I/617xd6k3RCL._UX342_.jpg\":[\"443\",\"342\"],\"https://images-na.ssl-images-amazon.com/images/I/617xd6k3RCL._UX466_.jpg\":[\"603\",\"466\"],\"https://images-na.ssl-images-amazon.com/images/I/617xd6k3RCL._UX569_.jpg\":[\"737\",\"569\"],\"https://images-na.ssl-images-amazon.com/images/I/617xd6k3RCL._UY550_.jpg\":[\"550\",\"425\"],\"https://images-na.ssl-images-amazon.com/images/I/617xd6k3RCL._UX679_.jpg\":[\"879\",\"679\"],\"https://images-na.ssl-images-amazon.com/images/I/617xd6k3RCL._UX385_.jpg\":[\"498\",\"385\"]}}],\"2 Smoke Grey / 2 White\":[{\"large\":\"https://images-na.ssl-images-amazon.com/images/I/416YblF4uzL.jpg\",\"variant\":\"MAIN\",\"hiRes\":\"https://images-na.ssl-images-amazon.com/images/I/61rOWkZ-WfL._UL1200_.jpg\",\"thumb\":\"https://images-na.ssl-images-amazon.com/images/I/416YblF4uzL._SR38,50_.jpg\",\"main\":{\"https://images-na.ssl-images-amazon.com/images/I/61rOWkZ-WfL._UX466_.jpg\":[\"595\",\"466\"],\"https://images-na.ssl-images-amazon.com/images/I/61rOWkZ-WfL._UX385_.jpg\":[\"491\",\"385\"],\"https://images-na.ssl-images-amazon.com/images/I/61rOWkZ-WfL._UX522_.jpg\":[\"666\",\"522\"],\"https://images-na.ssl-images-amazon.com/images/I/61rOWkZ-WfL._UX569_.jpg\":[\"726\",\"569\"],\"https://images-na.ssl-images-amazon.com/images/I/61rOWkZ-WfL._UX679_.jpg\":[\"867\",\"679\"],\"https://images-na.ssl-images-amazon.com/images/I/61rOWkZ-WfL._UX342_.jpg\":[\"437\",\"342\"],\"https://images-na.ssl-images-amazon.com/images/I/61rOWkZ-WfL._UX425_.jpg\":[\"543\",\"425\"]}}],\"2 Denim Blue / 2 Sand\":[{\"large\":\"https://images-na.ssl-images-amazon.com/images/I/31pFkPRrkOL.jpg\",\"variant\":\"MAIN\",\"hiRes\":\"https://images-na.ssl-images-amazon.com/images/I/61LcDSSkZdL._UL1200_.jpg\",\"thumb\":\"https://images-na.ssl-images-amazon.com/images/I/31pFkPRrkOL._SR38,50_.jpg\",\"main\":{\"https://images-na.ssl-images-amazon.com/images/I/61LcDSSkZdL._UY550_.jpg\":[\"550\",\"403\"],\"https://images-na.ssl-images-amazon.com/images/I/61LcDSSkZdL._UY445_.jpg\":[\"445\",\"326\"],\"https://images-na.ssl-images-amazon.com/images/I/61LcDSSkZdL._UY606_.jpg\":[\"606\",\"444\"],\"https://images-na.ssl-images-amazon.com/images/I/61LcDSSkZdL._UY679_.jpg\":[\"679\",\"497\"],\"https://images-na.ssl-images-amazon.com/images/I/61LcDSSkZdL._UY879_.jpg\":[\"879\",\"644\"],\"https://images-na.ssl-images-amazon.com/images/I/61LcDSSkZdL._UY500_.jpg\":[\"500\",\"366\"],\"https://images-na.ssl-images-amazon.com/images/I/61LcDSSkZdL._UY741_.jpg\":[\"741\",\"543\"]}}],\"Sand\":[{\"large\":\"https://images-na.ssl-images-amazon.com/images/I/31eWuU%2Bht4L.jpg\",\"variant\":\"MAIN\",\"hiRes\":\"https://images-na.ssl-images-amazon.com/images/I/51Hu42RsgeL._UL1200_.jpg\",\"thumb\":\"https://images-na.ssl-images-amazon.com/images/I/31eWuU%2Bht4L._SR38,50_.jpg\",\"main\":{\"https://images-na.ssl-images-amazon.com/images/I/51Hu42RsgeL._UX466_.jpg\":[\"596\",\"466\"],\"https://images-na.ssl-images-amazon.com/images/I/51Hu42RsgeL._UX679_.jpg\":[\"868\",\"679\"],\"https://images-na.ssl-images-amazon.com/images/I/51Hu42RsgeL._UX385_.jpg\":[\"492\",\"385\"],\"https://images-na.ssl-images-amazon.com/images/I/51Hu42RsgeL._UX569_.jpg\":[\"727\",\"569\"],\"https://images-na.ssl-images-amazon.com/images/I/51Hu42RsgeL._UX522_.jpg\":[\"667\",\"522\"],\"https://images-na.ssl-images-amazon.com/images/I/51Hu42RsgeL._UX425_.jpg\":[\"543\",\"425\"],\"https://images-na.ssl-images-amazon.com/images/I/51Hu42RsgeL._UX342_.jpg\":[\"437\",\"342\"]}}],\"2 Ash / 2 Denim Blue\":[{\"large\":\"https://images-na.ssl-images-amazon.com/images/I/41cNwy7VBzL.jpg\",\"variant\":\"MAIN\",\"hiRes\":\"https://images-na.ssl-images-amazon.com/images/I/71dUHSmEE1L._UL1200_.jpg\",\"thumb\":\"https://images-na.ssl-images-amazon.com/images/I/41cNwy7VBzL._SR38,50_.jpg\",\"main\":{\"https://images-na.ssl-images-amazon.com/images/I/71dUHSmEE1L._UX569_.jpg\":[\"737\",\"569\"],\"https://images-na.ssl-images-amazon.com/images/I/71dUHSmEE1L._UX466_.jpg\":[\"604\",\"466\"],\"https://images-na.ssl-images-amazon.com/images/I/71dUHSmEE1L._UX342_.jpg\":[\"443\",\"342\"],\"https://images-na.ssl-images-amazon.com/images/I/71dUHSmEE1L._UY550_.jpg\":[\"550\",\"424\"],\"https://images-na.ssl-images-amazon.com/images/I/71dUHSmEE1L._UX522_.jpg\":[\"676\",\"522\"],\"https://images-na.ssl-images-amazon.com/images/I/71dUHSmEE1L._UY879_.jpg\":[\"879\",\"678\"],\"https://images-na.ssl-images-amazon.com/images/I/71dUHSmEE1L._UX385_.jpg\":[\"499\",\"385\"]}}],\"Camouflage\":[{\"large\":\"https://images-na.ssl-images-amazon.com/images/I/51rQir%2BbuqL.jpg\",\"variant\":\"MAIN\",\"hiRes\":\"https://images-na.ssl-images-amazon.com/images/I/71BS9SYfDBL._UL1081_.jpg\",\"thumb\":\"https://images-na.ssl-images-amazon.com/images/I/51rQir%2BbuqL._SR38,50_.jpg\",\"main\":{\"https://images-na.ssl-images-amazon.com/images/I/71BS9SYfDBL._UX466_.jpg\":[\"540\",\"466\"],\"https://images-na.ssl-images-amazon.com/images/I/71BS9SYfDBL._UX522_.jpg\":[\"605\",\"522\"],\"https://images-na.ssl-images-amazon.com/images/I/71BS9SYfDBL._UX425_.jpg\":[\"492\",\"425\"],\"https://images-na.ssl-images-amazon.com/images/I/71BS9SYfDBL._UX385_.jpg\":[\"446\",\"385\"],\"https://images-na.ssl-images-amazon.com/images/I/71BS9SYfDBL._UX569_.jpg\":[\"659\",\"569\"],\"https://images-na.ssl-images-amazon.com/images/I/71BS9SYfDBL._UX342_.jpg\":[\"396\",\"342\"],\"https://images-na.ssl-images-amazon.com/images/I/71BS9SYfDBL._UX679_.jpg\":[\"787\",\"679\"]}}],\"2 Deep Forest / 2 Sand\":[{\"large\":\"https://images-na.ssl-images-amazon.com/images/I/31jUPWHmD0L.jpg\",\"variant\":\"MAIN\",\"hiRes\":\"https://images-na.ssl-images-amazon.com/images/I/619%2BxhjUzaL._UL1200_.jpg\",\"thumb\":\"https://images-na.ssl-images-amazon.com/images/I/31jUPWHmD0L._SR38,50_.jpg\",\"main\":{\"https://images-na.ssl-images-amazon.com/images/I/619%2BxhjUzaL._UY679_.jpg\":[\"679\",\"497\"],\"https://images-na.ssl-images-amazon.com/images/I/619%2BxhjUzaL._UY606_.jpg\":[\"606\",\"443\"],\"https://images-na.ssl-images-amazon.com/images/I/619%2BxhjUzaL._UY879_.jpg\":[\"879\",\"643\"],\"https://images-na.ssl-images-amazon.com/images/I/619%2BxhjUzaL._UY550_.jpg\":[\"550\",\"402\"],\"https://images-na.ssl-images-amazon.com/images/I/619%2BxhjUzaL._UY445_.jpg\":[\"445\",\"326\"],\"https://images-na.ssl-images-amazon.com/images/I/619%2BxhjUzaL._UY741_.jpg\":[\"741\",\"542\"],\"https://images-na.ssl-images-amazon.com/images/I/619%2BxhjUzaL._UY500_.jpg\":[\"500\",\"366\"]}}],\"2 Deep Forest / 2 Deep Red\":[{\"large\":\"https://images-na.ssl-images-amazon.com/images/I/41PMDXu399L.jpg\",\"variant\":\"MAIN\",\"hiRes\":\"https://images-na.ssl-images-amazon.com/images/I/61qGn91oPkL._UL1200_.jpg\",\"thumb\":\"https://images-na.ssl-images-amazon.com/images/I/41PMDXu399L._SR38,50_.jpg\",\"main\":{\"https://images-na.ssl-images-amazon.com/images/I/61qGn91oPkL._UX385_.jpg\":[\"497\",\"385\"],\"https://images-na.ssl-images-amazon.com/images/I/61qGn91oPkL._UX342_.jpg\":[\"442\",\"342\"],\"https://images-na.ssl-images-amazon.com/images/I/61qGn91oPkL._UX466_.jpg\":[\"602\",\"466\"],\"https://images-na.ssl-images-amazon.com/images/I/61qGn91oPkL._UX569_.jpg\":[\"735\",\"569\"],\"https://images-na.ssl-images-amazon.com/images/I/61qGn91oPkL._UX425_.jpg\":[\"549\",\"425\"],\"https://images-na.ssl-images-amazon.com/images/I/61qGn91oPkL._UX679_.jpg\":[\"877\",\"679\"],\"https://images-na.ssl-images-amazon.com/images/I/61qGn91oPkL._UX522_.jpg\":[\"674\",\"522\"]}}],\"2 Deep Royal / 2 Light Blue\":[{\"large\":\"https://images-na.ssl-images-amazon.com/images/I/41TnFmCP6YL.jpg\",\"variant\":\"MAIN\",\"hiRes\":\"https://images-na.ssl-images-amazon.com/images/I/610K-5JDinL._UL1200_.jpg\",\"thumb\":\"https://images-na.ssl-images-amazon.com/images/I/41TnFmCP6YL._SR38,50_.jpg\",\"main\":{\"https://images-na.ssl-images-amazon.com/images/I/610K-5JDinL._UX385_.jpg\":[\"490\",\"385\"],\"https://images-na.ssl-images-amazon.com/images/I/610K-5JDinL._UX679_.jpg\":[\"864\",\"679\"],\"https://images-na.ssl-images-amazon.com/images/I/610K-5JDinL._UX466_.jpg\":[\"593\",\"466\"],\"https://images-na.ssl-images-amazon.com/images/I/610K-5JDinL._UX569_.jpg\":[\"724\",\"569\"],\"https://images-na.ssl-images-amazon.com/images/I/610K-5JDinL._UX425_.jpg\":[\"541\",\"425\"],\"https://images-na.ssl-images-amazon.com/images/I/610K-5JDinL._UX522_.jpg\":[\"664\",\"522\"],\"https://images-na.ssl-images-amazon.com/images/I/610K-5JDinL._UX342_.jpg\":[\"435\",\"342\"]}}],\"2 Maroon / 2 Light Steel\":[{\"large\":\"https://images-na.ssl-images-amazon.com/images/I/41LT4EK13LL.jpg\",\"variant\":\"MAIN\",\"hiRes\":\"https://images-na.ssl-images-amazon.com/images/I/61SQSSYffTL._UL1200_.jpg\",\"thumb\":\"https://images-na.ssl-images-amazon.com/images/I/41LT4EK13LL._SR38,50_.jpg\",\"main\":{\"https://images-na.ssl-images-amazon.com/images/I/61SQSSYffTL._UY550_.jpg\":[\"550\",\"400\"],\"https://images-na.ssl-images-amazon.com/images/I/61SQSSYffTL._UY606_.jpg\":[\"606\",\"440\"],\"https://images-na.ssl-images-amazon.com/images/I/61SQSSYffTL._UY445_.jpg\":[\"445\",\"323\"],\"https://images-na.ssl-images-amazon.com/images/I/61SQSSYffTL._UY879_.jpg\":[\"879\",\"639\"],\"https://images-na.ssl-images-amazon.com/images/I/61SQSSYffTL._UY500_.jpg\":[\"500\",\"363\"],\"https://images-na.ssl-images-amazon.com/images/I/61SQSSYffTL._UY679_.jpg\":[\"679\",\"493\"],\"https://images-na.ssl-images-amazon.com/images/I/61SQSSYffTL._UY741_.jpg\":[\"741\",\"538\"]}}],\"2 Light Blue / 2 Yellow\":[{\"large\":\"https://images-na.ssl-images-amazon.com/images/I/319E--bXzUL.jpg\",\"variant\":\"MAIN\",\"hiRes\":\"https://images-na.ssl-images-amazon.com/images/I/61jWYjZ7ZPL._UL1200_.jpg\",\"thumb\":\"https://images-na.ssl-images-amazon.com/images/I/319E--bXzUL._SR38,50_.jpg\",\"main\":{\"https://images-na.ssl-images-amazon.com/images/I/61jWYjZ7ZPL._UX522_.jpg\":[\"677\",\"522\"],\"https://images-na.ssl-images-amazon.com/images/I/61jWYjZ7ZPL._UX569_.jpg\":[\"738\",\"569\"],\"https://images-na.ssl-images-amazon.com/images/I/61jWYjZ7ZPL._UX342_.jpg\":[\"444\",\"342\"],\"https://images-na.ssl-images-amazon.com/images/I/61jWYjZ7ZPL._UY879_.jpg\":[\"879\",\"678\"],\"https://images-na.ssl-images-amazon.com/images/I/61jWYjZ7ZPL._UX466_.jpg\":[\"605\",\"466\"],\"https://images-na.ssl-images-amazon.com/images/I/61jWYjZ7ZPL._UY550_.jpg\":[\"550\",\"424\"],\"https://images-na.ssl-images-amazon.com/images/I/61jWYjZ7ZPL._UX385_.jpg\":[\"499\",\"385\"]}}],\"2 Black / 2 Light Steel\":[{\"large\":\"https://images-na.ssl-images-amazon.com/images/I/41Jc9ZHp1eL.jpg\",\"variant\":\"MAIN\",\"hiRes\":\"https://images-na.ssl-images-amazon.com/images/I/61K6MxIwbvL._UL1200_.jpg\",\"thumb\":\"https://images-na.ssl-images-amazon.com/images/I/41Jc9ZHp1eL._SR38,50_.jpg\",\"main\":{\"https://images-na.ssl-images-amazon.com/images/I/61K6MxIwbvL._UY550_.jpg\":[\"550\",\"423\"],\"https://images-na.ssl-images-amazon.com/images/I/61K6MxIwbvL._UX342_.jpg\":[\"445\",\"342\"],\"https://images-na.ssl-images-amazon.com/images/I/61K6MxIwbvL._UY500_.jpg\":[\"500\",\"385\"],\"https://images-na.ssl-images-amazon.com/images/I/61K6MxIwbvL._UX569_.jpg\":[\"740\",\"569\"],\"https://images-na.ssl-images-amazon.com/images/I/61K6MxIwbvL._UX466_.jpg\":[\"606\",\"466\"],\"https://images-na.ssl-images-amazon.com/images/I/61K6MxIwbvL._UX522_.jpg\":[\"679\",\"522\"],\"https://images-na.ssl-images-amazon.com/images/I/61K6MxIwbvL._UY879_.jpg\":[\"879\",\"676\"]}}],\"2 Maroon / 2 Deep Red\":[{\"large\":\"https://images-na.ssl-images-amazon.com/images/I/41-4EffvbsL.jpg\",\"variant\":\"MAIN\",\"hiRes\":\"https://images-na.ssl-images-amazon.com/images/I/61zkCd%2BO9CL._UL1200_.jpg\",\"thumb\":\"https://images-na.ssl-images-amazon.com/images/I/41-4EffvbsL._SR38,50_.jpg\",\"main\":{\"https://images-na.ssl-images-amazon.com/images/I/61zkCd%2BO9CL._UY679_.jpg\":[\"679\",\"495\"],\"https://images-na.ssl-images-amazon.com/images/I/61zkCd%2BO9CL._UY606_.jpg\":[\"606\",\"441\"],\"https://images-na.ssl-images-amazon.com/images/I/61zkCd%2BO9CL._UY445_.jpg\":[\"445\",\"324\"],\"https://images-na.ssl-images-amazon.com/images/I/61zkCd%2BO9CL._UY500_.jpg\":[\"500\",\"364\"],\"https://images-na.ssl-images-amazon.com/images/I/61zkCd%2BO9CL._UY879_.jpg\":[\"879\",\"640\"],\"https://images-na.ssl-images-amazon.com/images/I/61zkCd%2BO9CL._UY741_.jpg\":[\"741\",\"540\"],\"https://images-na.ssl-images-amazon.com/images/I/61zkCd%2BO9CL._UY550_.jpg\":[\"550\",\"401\"]}}],\"2 Orange / 2 Lime\":[{\"large\":\"https://images-na.ssl-images-amazon.com/images/I/41VJBDPvCwL.jpg\",\"variant\":\"MAIN\",\"hiRes\":\"https://images-na.ssl-images-amazon.com/images/I/612rRsN-GFL._UL1200_.jpg\",\"thumb\":\"https://images-na.ssl-images-amazon.com/images/I/41VJBDPvCwL._SR38,50_.jpg\",\"main\":{\"https://images-na.ssl-images-amazon.com/images/I/612rRsN-GFL._UY741_.jpg\":[\"741\",\"542\"],\"https://images-na.ssl-images-amazon.com/images/I/612rRsN-GFL._UY445_.jpg\":[\"445\",\"325\"],\"https://images-na.ssl-images-amazon.com/images/I/612rRsN-GFL._UY679_.jpg\":[\"679\",\"496\"],\"https://images-na.ssl-images-amazon.com/images/I/612rRsN-GFL._UY606_.jpg\":[\"606\",\"443\"],\"https://images-na.ssl-images-amazon.com/images/I/612rRsN-GFL._UY550_.jpg\":[\"550\",\"402\"],\"https://images-na.ssl-images-amazon.com/images/I/612rRsN-GFL._UY879_.jpg\":[\"879\",\"642\"],\"https://images-na.ssl-images-amazon.com/images/I/612rRsN-GFL._UY500_.jpg\":[\"500\",\"365\"]}}],\"2 Lime / 2 Pale Pink\":[{\"large\":\"https://images-na.ssl-images-amazon.com/images/I/417nT5uNJ9L.jpg\",\"variant\":\"MAIN\",\"hiRes\":\"https://images-na.ssl-images-amazon.com/images/I/61r8lAkzbBL._UL1200_.jpg\",\"thumb\":\"https://images-na.ssl-images-amazon.com/images/I/417nT5uNJ9L._SR38,50_.jpg\",\"main\":{\"https://images-na.ssl-images-amazon.com/images/I/61r8lAkzbBL._UY879_.jpg\":[\"879\",\"643\"],\"https://images-na.ssl-images-amazon.com/images/I/61r8lAkzbBL._UY679_.jpg\":[\"679\",\"497\"],\"https://images-na.ssl-images-amazon.com/images/I/61r8lAkzbBL._UY500_.jpg\":[\"500\",\"366\"],\"https://images-na.ssl-images-amazon.com/images/I/61r8lAkzbBL._UY445_.jpg\":[\"445\",\"326\"],\"https://images-na.ssl-images-amazon.com/images/I/61r8lAkzbBL._UY741_.jpg\":[\"741\",\"542\"],\"https://images-na.ssl-images-amazon.com/images/I/61r8lAkzbBL._UY606_.jpg\":[\"606\",\"443\"],\"https://images-na.ssl-images-amazon.com/images/I/61r8lAkzbBL._UY550_.jpg\":[\"550\",\"402\"]}}],\"2 Denim Blue / 2 Deep Royal\":[{\"large\":\"https://images-na.ssl-images-amazon.com/images/I/41VIG9KSSAL.jpg\",\"variant\":\"MAIN\",\"hiRes\":\"https://images-na.ssl-images-amazon.com/images/I/616V-asDHeL._UL1200_.jpg\",\"thumb\":\"https://images-na.ssl-images-amazon.com/images/I/41VIG9KSSAL._SR38,50_.jpg\",\"main\":{\"https://images-na.ssl-images-amazon.com/images/I/616V-asDHeL._UX425_.jpg\":[\"550\",\"425\"],\"https://images-na.ssl-images-amazon.com/images/I/616V-asDHeL._UX466_.jpg\":[\"603\",\"466\"],\"https://images-na.ssl-images-amazon.com/images/I/616V-asDHeL._UX679_.jpg\":[\"878\",\"679\"],\"https://images-na.ssl-images-amazon.com/images/I/616V-asDHeL._UX522_.jpg\":[\"675\",\"522\"],\"https://images-na.ssl-images-amazon.com/images/I/616V-asDHeL._UX342_.jpg\":[\"442\",\"342\"],\"https://images-na.ssl-images-amazon.com/images/I/616V-asDHeL._UX385_.jpg\":[\"498\",\"385\"],\"https://images-na.ssl-images-amazon.com/images/I/616V-asDHeL._UX569_.jpg\":[\"736\",\"569\"]}}],\"2 Maroon / 2 Purple\":[{\"large\":\"https://images-na.ssl-images-amazon.com/images/I/41wyEZJGGpL.jpg\",\"variant\":\"MAIN\",\"hiRes\":\"https://images-na.ssl-images-amazon.com/images/I/61WF1y4eEgL._UL1200_.jpg\",\"thumb\":\"https://images-na.ssl-images-amazon.com/images/I/41wyEZJGGpL._SR38,50_.jpg\",\"main\":{\"https://images-na.ssl-images-amazon.com/images/I/61WF1y4eEgL._UY679_.jpg\":[\"679\",\"495\"],\"https://images-na.ssl-images-amazon.com/images/I/61WF1y4eEgL._UY741_.jpg\":[\"741\",\"540\"],\"https://images-na.ssl-images-amazon.com/images/I/61WF1y4eEgL._UY606_.jpg\":[\"606\",\"441\"],\"https://images-na.ssl-images-amazon.com/images/I/61WF1y4eEgL._UY550_.jpg\":[\"550\",\"401\"],\"https://images-na.ssl-images-amazon.com/images/I/61WF1y4eEgL._UY879_.jpg\":[\"879\",\"640\"],\"https://images-na.ssl-images-amazon.com/images/I/61WF1y4eEgL._UY500_.jpg\":[\"500\",\"364\"],\"https://images-na.ssl-images-amazon.com/images/I/61WF1y4eEgL._UY445_.jpg\":[\"445\",\"324\"]}}],\"2 Light Steel / 2 Yellow\":[{\"large\":\"https://images-na.ssl-images-amazon.com/images/I/41Eas8tuKnL.jpg\",\"variant\":\"MAIN\",\"hiRes\":\"https://images-na.ssl-images-amazon.com/images/I/61iQ7US226L._UL1200_.jpg\",\"thumb\":\"https://images-na.ssl-images-amazon.com/images/I/41Eas8tuKnL._SR38,50_.jpg\",\"main\":{\"https://images-na.ssl-images-amazon.com/images/I/61iQ7US226L._UX342_.jpg\":[\"442\",\"342\"],\"https://images-na.ssl-images-amazon.com/images/I/61iQ7US226L._UX679_.jpg\":[\"877\",\"679\"],\"https://images-na.ssl-images-amazon.com/images/I/61iQ7US226L._UX569_.jpg\":[\"735\",\"569\"],\"https://images-na.ssl-images-amazon.com/images/I/61iQ7US226L._UX466_.jpg\":[\"602\",\"466\"],\"https://images-na.ssl-images-amazon.com/images/I/61iQ7US226L._UX522_.jpg\":[\"674\",\"522\"],\"https://images-na.ssl-images-amazon.com/images/I/61iQ7US226L._UX425_.jpg\":[\"549\",\"425\"],\"https://images-na.ssl-images-amazon.com/images/I/61iQ7US226L._UX385_.jpg\":[\"497\",\"385\"]}}],\"2 Ash / 2 Pale Pink\":[{\"large\":\"https://images-na.ssl-images-amazon.com/images/I/415MoMYfOgL.jpg\",\"variant\":\"MAIN\",\"hiRes\":\"https://images-na.ssl-images-amazon.com/images/I/71bYggR6ObL._UL1200_.jpg\",\"thumb\":\"https://images-na.ssl-images-amazon.com/images/I/415MoMYfOgL._SR38,50_.jpg\",\"main\":{\"https://images-na.ssl-images-amazon.com/images/I/71bYggR6ObL._UX342_.jpg\":[\"440\",\"342\"],\"https://images-na.ssl-images-amazon.com/images/I/71bYggR6ObL._UX679_.jpg\":[\"874\",\"679\"],\"https://images-na.ssl-images-amazon.com/images/I/71bYggR6ObL._UX569_.jpg\":[\"733\",\"569\"],\"https://images-na.ssl-images-amazon.com/images/I/71bYggR6ObL._UX466_.jpg\":[\"600\",\"466\"],\"https://images-na.ssl-images-amazon.com/images/I/71bYggR6ObL._UX425_.jpg\":[\"547\",\"425\"],\"https://images-na.ssl-images-amazon.com/images/I/71bYggR6ObL._UX385_.jpg\":[\"496\",\"385\"],\"https://images-na.ssl-images-amazon.com/images/I/71bYggR6ObL._UX522_.jpg\":[\"672\",\"522\"]}}],\"2 Deep Forest / 2 Purple\":[{\"large\":\"https://images-na.ssl-images-amazon.com/images/I/41OmaW%2BLKdL.jpg\",\"variant\":\"MAIN\",\"hiRes\":\"https://images-na.ssl-images-amazon.com/images/I/61eYiHZj1DL._UL1200_.jpg\",\"thumb\":\"https://images-na.ssl-images-amazon.com/images/I/41OmaW%2BLKdL._SR38,50_.jpg\",\"main\":{\"https://images-na.ssl-images-amazon.com/images/I/61eYiHZj1DL._UX522_.jpg\":[\"676\",\"522\"],\"https://images-na.ssl-images-amazon.com/images/I/61eYiHZj1DL._UY550_.jpg\":[\"550\",\"424\"],\"https://images-na.ssl-images-amazon.com/images/I/61eYiHZj1DL._UX466_.jpg\":[\"604\",\"466\"],\"https://images-na.ssl-images-amazon.com/images/I/61eYiHZj1DL._UX342_.jpg\":[\"443\",\"342\"],\"https://images-na.ssl-images-amazon.com/images/I/61eYiHZj1DL._UX569_.jpg\":[\"737\",\"569\"],\"https://images-na.ssl-images-amazon.com/images/I/61eYiHZj1DL._UY879_.jpg\":[\"879\",\"678\"],\"https://images-na.ssl-images-amazon.com/images/I/61eYiHZj1DL._UX385_.jpg\":[\"499\",\"385\"]}}],\"2 Ash / 2 Deep Forest\":[{\"large\":\"https://images-na.ssl-images-amazon.com/images/I/41jnmNApbcL.jpg\",\"variant\":\"MAIN\",\"hiRes\":\"https://images-na.ssl-images-amazon.com/images/I/71xQLR0mIGL._UL1200_.jpg\",\"thumb\":\"https://images-na.ssl-images-amazon.com/images/I/41jnmNApbcL._SR38,50_.jpg\",\"main\":{\"https://images-na.ssl-images-amazon.com/images/I/71xQLR0mIGL._UX569_.jpg\":[\"735\",\"569\"],\"https://images-na.ssl-images-amazon.com/images/I/71xQLR0mIGL._UX522_.jpg\":[\"674\",\"522\"],\"https://images-na.ssl-images-amazon.com/images/I/71xQLR0mIGL._UX466_.jpg\":[\"602\",\"466\"],\"https://images-na.ssl-images-amazon.com/images/I/71xQLR0mIGL._UX385_.jpg\":[\"497\",\"385\"],\"https://images-na.ssl-images-amazon.com/images/I/71xQLR0mIGL._UX425_.jpg\":[\"549\",\"425\"],\"https://images-na.ssl-images-amazon.com/images/I/71xQLR0mIGL._UX679_.jpg\":[\"877\",\"679\"],\"https://images-na.ssl-images-amazon.com/images/I/71xQLR0mIGL._UX342_.jpg\":[\"442\",\"342\"]}}],\"2 Orange / 2 Pale Pink\":[{\"large\":\"https://images-na.ssl-images-amazon.com/images/I/41HHzlndfQL.jpg\",\"variant\":\"MAIN\",\"hiRes\":\"https://images-na.ssl-images-amazon.com/images/I/61a%2Bl713ZOL._UL1200_.jpg\",\"thumb\":\"https://images-na.ssl-images-amazon.com/images/I/41HHzlndfQL._SR38,50_.jpg\",\"main\":{\"https://images-na.ssl-images-amazon.com/images/I/61a%2Bl713ZOL._UX679_.jpg\":[\"876\",\"679\"],\"https://images-na.ssl-images-amazon.com/images/I/61a%2Bl713ZOL._UX569_.jpg\":[\"734\",\"569\"],\"https://images-na.ssl-images-amazon.com/images/I/61a%2Bl713ZOL._UX342_.jpg\":[\"441\",\"342\"],\"https://images-na.ssl-images-amazon.com/images/I/61a%2Bl713ZOL._UX522_.jpg\":[\"674\",\"522\"],\"https://images-na.ssl-images-amazon.com/images/I/61a%2Bl713ZOL._UX466_.jpg\":[\"601\",\"466\"],\"https://images-na.ssl-images-amazon.com/images/I/61a%2Bl713ZOL._UX385_.jpg\":[\"497\",\"385\"],\"https://images-na.ssl-images-amazon.com/images/I/61a%2Bl713ZOL._UX425_.jpg\":[\"548\",\"425\"]}}],\"2 Maroon / 2 Deep Royal\":[{\"large\":\"https://images-na.ssl-images-amazon.com/images/I/419zs8oiNAL.jpg\",\"variant\":\"MAIN\",\"hiRes\":\"https://images-na.ssl-images-amazon.com/images/I/61fenJ0dmRL._UL1200_.jpg\",\"thumb\":\"https://images-na.ssl-images-amazon.com/images/I/419zs8oiNAL._SR38,50_.jpg\",\"main\":{\"https://images-na.ssl-images-amazon.com/images/I/61fenJ0dmRL._UY741_.jpg\":[\"741\",\"540\"],\"https://images-na.ssl-images-amazon.com/images/I/61fenJ0dmRL._UY606_.jpg\":[\"606\",\"441\"],\"https://images-na.ssl-images-amazon.com/images/I/61fenJ0dmRL._UY879_.jpg\":[\"879\",\"640\"],\"https://images-na.ssl-images-amazon.com/images/I/61fenJ0dmRL._UY679_.jpg\":[\"679\",\"495\"],\"https://images-na.ssl-images-amazon.com/images/I/61fenJ0dmRL._UY550_.jpg\":[\"550\",\"401\"],\"https://images-na.ssl-images-amazon.com/images/I/61fenJ0dmRL._UY500_.jpg\":[\"500\",\"364\"],\"https://images-na.ssl-images-amazon.com/images/I/61fenJ0dmRL._UY445_.jpg\":[\"445\",\"324\"]}}],\"2 Orange / 2 Purple\":[{\"large\":\"https://images-na.ssl-images-amazon.com/images/I/4160bmGjeYL.jpg\",\"variant\":\"MAIN\",\"hiRes\":\"https://images-na.ssl-images-amazon.com/images/I/61ubYP-IlRL._UL1200_.jpg\",\"thumb\":\"https://images-na.ssl-images-amazon.com/images/I/4160bmGjeYL._SR38,50_.jpg\",\"main\":{\"https://images-na.ssl-images-amazon.com/images/I/61ubYP-IlRL._UX522_.jpg\":[\"676\",\"522\"],\"https://images-na.ssl-images-amazon.com/images/I/61ubYP-IlRL._UX466_.jpg\":[\"603\",\"466\"],\"https://images-na.ssl-images-amazon.com/images/I/61ubYP-IlRL._UX385_.jpg\":[\"498\",\"385\"],\"https://images-na.ssl-images-amazon.com/images/I/61ubYP-IlRL._UX569_.jpg\":[\"737\",\"569\"],\"https://images-na.ssl-images-amazon.com/images/I/61ubYP-IlRL._UX679_.jpg\":[\"879\",\"679\"],\"https://images-na.ssl-images-amazon.com/images/I/61ubYP-IlRL._UY550_.jpg\":[\"550\",\"425\"],\"https://images-na.ssl-images-amazon.com/images/I/61ubYP-IlRL._UX342_.jpg\":[\"443\",\"342\"]}}],\"2 Denim Blue / 2 Yellow\":[{\"large\":\"https://images-na.ssl-images-amazon.com/images/I/41C-c1UeulL.jpg\",\"variant\":\"MAIN\",\"hiRes\":\"https://images-na.ssl-images-amazon.com/images/I/6162SWZdePL._UL1200_.jpg\",\"thumb\":\"https://images-na.ssl-images-amazon.com/images/I/41C-c1UeulL._SR38,50_.jpg\",\"main\":{\"https://images-na.ssl-images-amazon.com/images/I/6162SWZdePL._UX522_.jpg\":[\"676\",\"522\"],\"https://images-na.ssl-images-amazon.com/images/I/6162SWZdePL._UX385_.jpg\":[\"499\",\"385\"],\"https://images-na.ssl-images-amazon.com/images/I/6162SWZdePL._UX466_.jpg\":[\"604\",\"466\"],\"https://images-na.ssl-images-amazon.com/images/I/6162SWZdePL._UY879_.jpg\":[\"879\",\"678\"],\"https://images-na.ssl-images-amazon.com/images/I/6162SWZdePL._UX569_.jpg\":[\"737\",\"569\"],\"https://images-na.ssl-images-amazon.com/images/I/6162SWZdePL._UX342_.jpg\":[\"443\",\"342\"],\"https://images-na.ssl-images-amazon.com/images/I/6162SWZdePL._UY550_.jpg\":[\"550\",\"424\"]}}],\"2 Sand / 2 White\":[{\"large\":\"https://images-na.ssl-images-amazon.com/images/I/31JhUakgPDL.jpg\",\"variant\":\"MAIN\",\"hiRes\":\"https://images-na.ssl-images-amazon.com/images/I/61oSUcG7UiL._UL1200_.jpg\",\"thumb\":\"https://images-na.ssl-images-amazon.com/images/I/31JhUakgPDL._SR38,50_.jpg\",\"main\":{\"https://images-na.ssl-images-amazon.com/images/I/61oSUcG7UiL._UY550_.jpg\":[\"550\",\"402\"],\"https://images-na.ssl-images-amazon.com/images/I/61oSUcG7UiL._UY879_.jpg\":[\"879\",\"642\"],\"https://images-na.ssl-images-amazon.com/images/I/61oSUcG7UiL._UY445_.jpg\":[\"445\",\"325\"],\"https://images-na.ssl-images-amazon.com/images/I/61oSUcG7UiL._UY606_.jpg\":[\"606\",\"443\"],\"https://images-na.ssl-images-amazon.com/images/I/61oSUcG7UiL._UY500_.jpg\":[\"500\",\"365\"],\"https://images-na.ssl-images-amazon.com/images/I/61oSUcG7UiL._UY679_.jpg\":[\"679\",\"496\"],\"https://images-na.ssl-images-amazon.com/images/I/61oSUcG7UiL._UY741_.jpg\":[\"741\",\"542\"]}}],\"2 Denim Blue / 2 Navy\":[{\"large\":\"https://images-na.ssl-images-amazon.com/images/I/41MKVc6wkFL.jpg\",\"variant\":\"MAIN\",\"hiRes\":\"https://images-na.ssl-images-amazon.com/images/I/61rwloQJ0%2BL._UL1200_.jpg\",\"thumb\":\"https://images-na.ssl-images-amazon.com/images/I/41MKVc6wkFL._SR38,50_.jpg\",\"main\":{\"https://images-na.ssl-images-amazon.com/images/I/61rwloQJ0%2BL._UX569_.jpg\":[\"733\",\"569\"],\"https://images-na.ssl-images-amazon.com/images/I/61rwloQJ0%2BL._UX522_.jpg\":[\"672\",\"522\"],\"https://images-na.ssl-images-amazon.com/images/I/61rwloQJ0%2BL._UX342_.jpg\":[\"440\",\"342\"],\"https://images-na.ssl-images-amazon.com/images/I/61rwloQJ0%2BL._UX679_.jpg\":[\"874\",\"679\"],\"https://images-na.ssl-images-amazon.com/images/I/61rwloQJ0%2BL._UX385_.jpg\":[\"496\",\"385\"],\"https://images-na.ssl-images-amazon.com/images/I/61rwloQJ0%2BL._UX466_.jpg\":[\"600\",\"466\"],\"https://images-na.ssl-images-amazon.com/images/I/61rwloQJ0%2BL._UX425_.jpg\":[\"547\",\"425\"]}}],\"2 Denim Blue / 2 Lime\":[{\"large\":\"https://images-na.ssl-images-amazon.com/images/I/410NLqVUo4L.jpg\",\"variant\":\"MAIN\",\"hiRes\":\"https://images-na.ssl-images-amazon.com/images/I/61arMJBGzML._UL1200_.jpg\",\"thumb\":\"https://images-na.ssl-images-amazon.com/images/I/410NLqVUo4L._SR38,50_.jpg\",\"main\":{\"https://images-na.ssl-images-amazon.com/images/I/61arMJBGzML._UY879_.jpg\":[\"879\",\"642\"],\"https://images-na.ssl-images-amazon.com/images/I/61arMJBGzML._UY606_.jpg\":[\"606\",\"442\"],\"https://images-na.ssl-images-amazon.com/images/I/61arMJBGzML._UY550_.jpg\":[\"550\",\"402\"],\"https://images-na.ssl-images-amazon.com/images/I/61arMJBGzML._UY741_.jpg\":[\"741\",\"541\"],\"https://images-na.ssl-images-amazon.com/images/I/61arMJBGzML._UY679_.jpg\":[\"679\",\"496\"],\"https://images-na.ssl-images-amazon.com/images/I/61arMJBGzML._UY445_.jpg\":[\"445\",\"325\"],\"https://images-na.ssl-images-amazon.com/images/I/61arMJBGzML._UY500_.jpg\":[\"500\",\"365\"]}}],\"2 Sand / 2 Yellow\":[{\"large\":\"https://images-na.ssl-images-amazon.com/images/I/31QnpQKlFtL.jpg\",\"variant\":\"MAIN\",\"hiRes\":\"https://images-na.ssl-images-amazon.com/images/I/61LO275byaL._UL1200_.jpg\",\"thumb\":\"https://images-na.ssl-images-amazon.com/images/I/31QnpQKlFtL._SR38,50_.jpg\",\"main\":{\"https://images-na.ssl-images-amazon.com/images/I/61LO275byaL._UY500_.jpg\":[\"500\",\"366\"],\"https://images-na.ssl-images-amazon.com/images/I/61LO275byaL._UY879_.jpg\":[\"879\",\"644\"],\"https://images-na.ssl-images-amazon.com/images/I/61LO275byaL._UY445_.jpg\":[\"445\",\"326\"],\"https://images-na.ssl-images-amazon.com/images/I/61LO275byaL._UY550_.jpg\":[\"550\",\"403\"],\"https://images-na.ssl-images-amazon.com/images/I/61LO275byaL._UY741_.jpg\":[\"741\",\"543\"],\"https://images-na.ssl-images-amazon.com/images/I/61LO275byaL._UY679_.jpg\":[\"679\",\"497\"],\"https://images-na.ssl-images-amazon.com/images/I/61LO275byaL._UY606_.jpg\":[\"606\",\"444\"]}}],\"2 Light Blue / 2 White\":[{\"large\":\"https://images-na.ssl-images-amazon.com/images/I/31MgUCPdL2L.jpg\",\"variant\":\"MAIN\",\"hiRes\":\"https://images-na.ssl-images-amazon.com/images/I/61eyzO-2ekL._UL1200_.jpg\",\"thumb\":\"https://images-na.ssl-images-amazon.com/images/I/31MgUCPdL2L._SR38,50_.jpg\",\"main\":{\"https://images-na.ssl-images-amazon.com/images/I/61eyzO-2ekL._UX569_.jpg\":[\"734\",\"569\"],\"https://images-na.ssl-images-amazon.com/images/I/61eyzO-2ekL._UX679_.jpg\":[\"876\",\"679\"],\"https://images-na.ssl-images-amazon.com/images/I/61eyzO-2ekL._UX342_.jpg\":[\"441\",\"342\"],\"https://images-na.ssl-images-amazon.com/images/I/61eyzO-2ekL._UX522_.jpg\":[\"674\",\"522\"],\"https://images-na.ssl-images-amazon.com/images/I/61eyzO-2ekL._UX425_.jpg\":[\"548\",\"425\"],\"https://images-na.ssl-images-amazon.com/images/I/61eyzO-2ekL._UX385_.jpg\":[\"497\",\"385\"],\"https://images-na.ssl-images-amazon.com/images/I/61eyzO-2ekL._UX466_.jpg\":[\"601\",\"466\"]}}],\"2 Deep Forest / 2 Pale Pink\":[{\"large\":\"https://images-na.ssl-images-amazon.com/images/I/41tXoEyCwOL.jpg\",\"variant\":\"MAIN\",\"hiRes\":\"https://images-na.ssl-images-amazon.com/images/I/61DzVrdRuqL._UL1200_.jpg\",\"thumb\":\"https://images-na.ssl-images-amazon.com/images/I/41tXoEyCwOL._SR38,50_.jpg\",\"main\":{\"https://images-na.ssl-images-amazon.com/images/I/61DzVrdRuqL._UX342_.jpg\":[\"441\",\"342\"],\"https://images-na.ssl-images-amazon.com/images/I/61DzVrdRuqL._UX679_.jpg\":[\"875\",\"679\"],\"https://images-na.ssl-images-amazon.com/images/I/61DzVrdRuqL._UX522_.jpg\":[\"673\",\"522\"],\"https://images-na.ssl-images-amazon.com/images/I/61DzVrdRuqL._UX569_.jpg\":[\"733\",\"569\"],\"https://images-na.ssl-images-amazon.com/images/I/61DzVrdRuqL._UX385_.jpg\":[\"496\",\"385\"],\"https://images-na.ssl-images-amazon.com/images/I/61DzVrdRuqL._UX466_.jpg\":[\"601\",\"466\"],\"https://images-na.ssl-images-amazon.com/images/I/61DzVrdRuqL._UX425_.jpg\":[\"548\",\"425\"]}}],\"2 Maroon / 2 White\":[{\"large\":\"https://images-na.ssl-images-amazon.com/images/I/312CcYqNrSL.jpg\",\"variant\":\"MAIN\",\"hiRes\":\"https://images-na.ssl-images-amazon.com/images/I/615vW0Ojk%2BL._UL1200_.jpg\",\"thumb\":\"https://images-na.ssl-images-amazon.com/images/I/312CcYqNrSL._SR38,50_.jpg\",\"main\":{\"https://images-na.ssl-images-amazon.com/images/I/615vW0Ojk%2BL._UY445_.jpg\":[\"445\",\"323\"],\"https://images-na.ssl-images-amazon.com/images/I/615vW0Ojk%2BL._UY879_.jpg\":[\"879\",\"638\"],\"https://images-na.ssl-images-amazon.com/images/I/615vW0Ojk%2BL._UY550_.jpg\":[\"550\",\"399\"],\"https://images-na.ssl-images-amazon.com/images/I/615vW0Ojk%2BL._UY679_.jpg\":[\"679\",\"493\"],\"https://images-na.ssl-images-amazon.com/images/I/615vW0Ojk%2BL._UY741_.jpg\":[\"741\",\"538\"],\"https://images-na.ssl-images-amazon.com/images/I/615vW0Ojk%2BL._UY606_.jpg\":[\"606\",\"440\"],\"https://images-na.ssl-images-amazon.com/images/I/615vW0Ojk%2BL._UY500_.jpg\":[\"500\",\"363\"]}}],\"2 Deep Red / 2 Light Blue\":[{\"large\":\"https://images-na.ssl-images-amazon.com/images/I/41xrYhlnkSL.jpg\",\"variant\":\"MAIN\",\"hiRes\":\"https://images-na.ssl-images-amazon.com/images/I/61fjC8Qk0sL._UL1200_.jpg\",\"thumb\":\"https://images-na.ssl-images-amazon.com/images/I/41xrYhlnkSL._SR38,50_.jpg\",\"main\":{\"https://images-na.ssl-images-amazon.com/images/I/61fjC8Qk0sL._UX679_.jpg\":[\"864\",\"679\"],\"https://images-na.ssl-images-amazon.com/images/I/61fjC8Qk0sL._UX466_.jpg\":[\"593\",\"466\"],\"https://images-na.ssl-images-amazon.com/images/I/61fjC8Qk0sL._UX385_.jpg\":[\"490\",\"385\"],\"https://images-na.ssl-images-amazon.com/images/I/61fjC8Qk0sL._UX342_.jpg\":[\"435\",\"342\"],\"https://images-na.ssl-images-amazon.com/images/I/61fjC8Qk0sL._UX425_.jpg\":[\"541\",\"425\"],\"https://images-na.ssl-images-amazon.com/images/I/61fjC8Qk0sL._UX569_.jpg\":[\"724\",\"569\"],\"https://images-na.ssl-images-amazon.com/images/I/61fjC8Qk0sL._UX522_.jpg\":[\"664\",\"522\"]}}],\"2 Deep Royal / 2 Smoke Grey\":[{\"large\":\"https://images-na.ssl-images-amazon.com/images/I/412ujBefCbL.jpg\",\"variant\":\"MAIN\",\"hiRes\":\"https://images-na.ssl-images-amazon.com/images/I/61m6uXidjlL._UL1200_.jpg\",\"thumb\":\"https://images-na.ssl-images-amazon.com/images/I/412ujBefCbL._SR38,50_.jpg\",\"main\":{\"https://images-na.ssl-images-amazon.com/images/I/61m6uXidjlL._UX569_.jpg\":[\"723\",\"569\"],\"https://images-na.ssl-images-amazon.com/images/I/61m6uXidjlL._UX522_.jpg\":[\"664\",\"522\"],\"https://images-na.ssl-images-amazon.com/images/I/61m6uXidjlL._UX425_.jpg\":[\"540\",\"425\"],\"https://images-na.ssl-images-amazon.com/images/I/61m6uXidjlL._UX385_.jpg\":[\"489\",\"385\"],\"https://images-na.ssl-images-amazon.com/images/I/61m6uXidjlL._UX342_.jpg\":[\"435\",\"342\"],\"https://images-na.ssl-images-amazon.com/images/I/61m6uXidjlL._UX466_.jpg\":[\"592\",\"466\"],\"https://images-na.ssl-images-amazon.com/images/I/61m6uXidjlL._UX679_.jpg\":[\"863\",\"679\"]}}],\"2 Denim Blue / 2 Deep Red\":[{\"large\":\"https://images-na.ssl-images-amazon.com/images/I/41gkTgyfmLL.jpg\",\"variant\":\"MAIN\",\"hiRes\":\"https://images-na.ssl-images-amazon.com/images/I/61Dnl9wxTRL._UL1200_.jpg\",\"thumb\":\"https://images-na.ssl-images-amazon.com/images/I/41gkTgyfmLL._SR38,50_.jpg\",\"main\":{\"https://images-na.ssl-images-amazon.com/images/I/61Dnl9wxTRL._UX679_.jpg\":[\"876\",\"679\"],\"https://images-na.ssl-images-amazon.com/images/I/61Dnl9wxTRL._UX569_.jpg\":[\"734\",\"569\"],\"https://images-na.ssl-images-amazon.com/images/I/61Dnl9wxTRL._UX522_.jpg\":[\"674\",\"522\"],\"https://images-na.ssl-images-amazon.com/images/I/61Dnl9wxTRL._UX385_.jpg\":[\"497\",\"385\"],\"https://images-na.ssl-images-amazon.com/images/I/61Dnl9wxTRL._UX425_.jpg\":[\"548\",\"425\"],\"https://images-na.ssl-images-amazon.com/images/I/61Dnl9wxTRL._UX466_.jpg\":[\"601\",\"466\"],\"https://images-na.ssl-images-amazon.com/images/I/61Dnl9wxTRL._UX342_.jpg\":[\"441\",\"342\"]}}],\"2 Black / 2 Deep Royal\":[{\"large\":\"https://images-na.ssl-images-amazon.com/images/I/41-2i8yfTfL.jpg\",\"variant\":\"MAIN\",\"hiRes\":\"https://images-na.ssl-images-amazon.com/images/I/61rpN3PB83L._UL1200_.jpg\",\"thumb\":\"https://images-na.ssl-images-amazon.com/images/I/41-2i8yfTfL._SR38,50_.jpg\",\"main\":{\"https://images-na.ssl-images-amazon.com/images/I/61rpN3PB83L._UY741_.jpg\":[\"741\",\"569\"],\"https://images-na.ssl-images-amazon.com/images/I/61rpN3PB83L._UY550_.jpg\":[\"550\",\"422\"],\"https://images-na.ssl-images-amazon.com/images/I/61rpN3PB83L._UY445_.jpg\":[\"445\",\"342\"],\"https://images-na.ssl-images-amazon.com/images/I/61rpN3PB83L._UY606_.jpg\":[\"606\",\"465\"],\"https://images-na.ssl-images-amazon.com/images/I/61rpN3PB83L._UY500_.jpg\":[\"500\",\"384\"],\"https://images-na.ssl-images-amazon.com/images/I/61rpN3PB83L._UY679_.jpg\":[\"679\",\"521\"],\"https://images-na.ssl-images-amazon.com/images/I/61rpN3PB83L._UY879_.jpg\":[\"879\",\"675\"]}}],\"2 Smoke Grey / 2 Yellow\":[{\"large\":\"https://images-na.ssl-images-amazon.com/images/I/411LimwIyUL.jpg\",\"variant\":\"MAIN\",\"hiRes\":\"https://images-na.ssl-images-amazon.com/images/I/61Q710ATQgL._UL1200_.jpg\",\"thumb\":\"https://images-na.ssl-images-amazon.com/images/I/411LimwIyUL._SR38,50_.jpg\",\"main\":{\"https://images-na.ssl-images-amazon.com/images/I/61Q710ATQgL._UX569_.jpg\":[\"730\",\"569\"],\"https://images-na.ssl-images-amazon.com/images/I/61Q710ATQgL._UX425_.jpg\":[\"545\",\"425\"],\"https://images-na.ssl-images-amazon.com/images/I/61Q710ATQgL._UX385_.jpg\":[\"494\",\"385\"],\"https://images-na.ssl-images-amazon.com/images/I/61Q710ATQgL._UX342_.jpg\":[\"439\",\"342\"],\"https://images-na.ssl-images-amazon.com/images/I/61Q710ATQgL._UX522_.jpg\":[\"670\",\"522\"],\"https://images-na.ssl-images-amazon.com/images/I/61Q710ATQgL._UX466_.jpg\":[\"598\",\"466\"],\"https://images-na.ssl-images-amazon.com/images/I/61Q710ATQgL._UX679_.jpg\":[\"871\",\"679\"]}}],\"2 Light Blue / 2 Navy\":[{\"large\":\"https://images-na.ssl-images-amazon.com/images/I/41Hx7aJuObL.jpg\",\"variant\":\"MAIN\",\"hiRes\":\"https://images-na.ssl-images-amazon.com/images/I/618Aiub5FvL._UL1200_.jpg\",\"thumb\":\"https://images-na.ssl-images-amazon.com/images/I/41Hx7aJuObL._SR38,50_.jpg\",\"main\":{\"https://images-na.ssl-images-amazon.com/images/I/618Aiub5FvL._UX385_.jpg\":[\"497\",\"385\"],\"https://images-na.ssl-images-amazon.com/images/I/618Aiub5FvL._UX425_.jpg\":[\"548\",\"425\"],\"https://images-na.ssl-images-amazon.com/images/I/618Aiub5FvL._UX342_.jpg\":[\"441\",\"342\"],\"https://images-na.ssl-images-amazon.com/images/I/618Aiub5FvL._UX522_.jpg\":[\"674\",\"522\"],\"https://images-na.ssl-images-amazon.com/images/I/618Aiub5FvL._UX569_.jpg\":[\"734\",\"569\"],\"https://images-na.ssl-images-amazon.com/images/I/618Aiub5FvL._UX466_.jpg\":[\"601\",\"466\"],\"https://images-na.ssl-images-amazon.com/images/I/618Aiub5FvL._UX679_.jpg\":[\"876\",\"679\"]}}],\"Smoke Grey\":[{\"large\":\"https://images-na.ssl-images-amazon.com/images/I/41AQxZhhVeL.jpg\",\"variant\":\"MAIN\",\"hiRes\":\"https://images-na.ssl-images-amazon.com/images/I/91pjpxYDkkL._UL1500_.jpg\",\"thumb\":\"https://images-na.ssl-images-amazon.com/images/I/41AQxZhhVeL._SR38,50_.jpg\",\"main\":{\"https://images-na.ssl-images-amazon.com/images/I/91pjpxYDkkL._UX679_.jpg\":[\"836\",\"679\"],\"https://images-na.ssl-images-amazon.com/images/I/91pjpxYDkkL._UX569_.jpg\":[\"700\",\"569\"],\"https://images-na.ssl-images-amazon.com/images/I/91pjpxYDkkL._UX522_.jpg\":[\"642\",\"522\"],\"https://images-na.ssl-images-amazon.com/images/I/91pjpxYDkkL._UX425_.jpg\":[\"523\",\"425\"],\"https://images-na.ssl-images-amazon.com/images/I/91pjpxYDkkL._UX466_.jpg\":[\"574\",\"466\"],\"https://images-na.ssl-images-amazon.com/images/I/91pjpxYDkkL._UX385_.jpg\":[\"474\",\"385\"],\"https://images-na.ssl-images-amazon.com/images/I/91pjpxYDkkL._UX342_.jpg\":[\"421\",\"342\"]}}],\"2 Lime / 2 Purple\":[{\"large\":\"https://images-na.ssl-images-amazon.com/images/I/419WTjbAXuL.jpg\",\"variant\":\"MAIN\",\"hiRes\":\"https://images-na.ssl-images-amazon.com/images/I/61XKpEsO3VL._UL1200_.jpg\",\"thumb\":\"https://images-na.ssl-images-amazon.com/images/I/419WTjbAXuL._SR38,50_.jpg\",\"main\":{\"https://images-na.ssl-images-amazon.com/images/I/61XKpEsO3VL._UY679_.jpg\":[\"679\",\"496\"],\"https://images-na.ssl-images-amazon.com/images/I/61XKpEsO3VL._UY500_.jpg\":[\"500\",\"365\"],\"https://images-na.ssl-images-amazon.com/images/I/61XKpEsO3VL._UY879_.jpg\":[\"879\",\"642\"],\"https://images-na.ssl-images-amazon.com/images/I/61XKpEsO3VL._UY550_.jpg\":[\"550\",\"402\"],\"https://images-na.ssl-images-amazon.com/images/I/61XKpEsO3VL._UY741_.jpg\":[\"741\",\"541\"],\"https://images-na.ssl-images-amazon.com/images/I/61XKpEsO3VL._UY445_.jpg\":[\"445\",\"325\"],\"https://images-na.ssl-images-amazon.com/images/I/61XKpEsO3VL._UY606_.jpg\":[\"606\",\"442\"]}}],\"2 Maroon / 2 Lime\":[{\"large\":\"https://images-na.ssl-images-amazon.com/images/I/4150h%2Bk3ESL.jpg\",\"variant\":\"MAIN\",\"hiRes\":\"https://images-na.ssl-images-amazon.com/images/I/61exibT1wBL._UL1200_.jpg\",\"thumb\":\"https://images-na.ssl-images-amazon.com/images/I/4150h%2Bk3ESL._SR38,50_.jpg\",\"main\":{\"https://images-na.ssl-images-amazon.com/images/I/61exibT1wBL._UY445_.jpg\":[\"445\",\"335\"],\"https://images-na.ssl-images-amazon.com/images/I/61exibT1wBL._UY606_.jpg\":[\"606\",\"457\"],\"https://images-na.ssl-images-amazon.com/images/I/61exibT1wBL._UY500_.jpg\":[\"500\",\"377\"],\"https://images-na.ssl-images-amazon.com/images/I/61exibT1wBL._UY879_.jpg\":[\"879\",\"662\"],\"https://images-na.ssl-images-amazon.com/images/I/61exibT1wBL._UY741_.jpg\":[\"741\",\"558\"],\"https://images-na.ssl-images-amazon.com/images/I/61exibT1wBL._UY679_.jpg\":[\"679\",\"512\"],\"https://images-na.ssl-images-amazon.com/images/I/61exibT1wBL._UY550_.jpg\":[\"550\",\"414\"]}}],\"2 Deep Red / 2 Navy\":[{\"large\":\"https://images-na.ssl-images-amazon.com/images/I/41DNFpy6MsL.jpg\",\"variant\":\"MAIN\",\"hiRes\":\"https://images-na.ssl-images-amazon.com/images/I/61hHmP3W8nL._UL1200_.jpg\",\"thumb\":\"https://images-na.ssl-images-amazon.com/images/I/41DNFpy6MsL._SR38,50_.jpg\",\"main\":{\"https://images-na.ssl-images-amazon.com/images/I/61hHmP3W8nL._UX385_.jpg\":[\"489\",\"385\"],\"https://images-na.ssl-images-amazon.com/images/I/61hHmP3W8nL._UX679_.jpg\":[\"862\",\"679\"],\"https://images-na.ssl-images-amazon.com/images/I/61hHmP3W8nL._UX425_.jpg\":[\"540\",\"425\"],\"https://images-na.ssl-images-amazon.com/images/I/61hHmP3W8nL._UX342_.jpg\":[\"434\",\"342\"],\"https://images-na.ssl-images-amazon.com/images/I/61hHmP3W8nL._UX569_.jpg\":[\"723\",\"569\"],\"https://images-na.ssl-images-amazon.com/images/I/61hHmP3W8nL._UX522_.jpg\":[\"663\",\"522\"],\"https://images-na.ssl-images-amazon.com/images/I/61hHmP3W8nL._UX466_.jpg\":[\"592\",\"466\"]}}],\"2 Navy / 2 Sand\":[{\"large\":\"https://images-na.ssl-images-amazon.com/images/I/31%2B%2BePugH6L.jpg\",\"variant\":\"MAIN\",\"hiRes\":\"https://images-na.ssl-images-amazon.com/images/I/612pp-INStL._UL1200_.jpg\",\"thumb\":\"https://images-na.ssl-images-amazon.com/images/I/31%2B%2BePugH6L._SR38,50_.jpg\",\"main\":{\"https://images-na.ssl-images-amazon.com/images/I/612pp-INStL._UY550_.jpg\":[\"550\",\"403\"],\"https://images-na.ssl-images-amazon.com/images/I/612pp-INStL._UY879_.jpg\":[\"879\",\"645\"],\"https://images-na.ssl-images-amazon.com/images/I/612pp-INStL._UY679_.jpg\":[\"679\",\"498\"],\"https://images-na.ssl-images-amazon.com/images/I/612pp-INStL._UY500_.jpg\":[\"500\",\"367\"],\"https://images-na.ssl-images-amazon.com/images/I/612pp-INStL._UY741_.jpg\":[\"741\",\"543\"],\"https://images-na.ssl-images-amazon.com/images/I/612pp-INStL._UY445_.jpg\":[\"445\",\"326\"],\"https://images-na.ssl-images-amazon.com/images/I/612pp-INStL._UY606_.jpg\":[\"606\",\"444\"]}}],\"2 Lime / 2 White\":[{\"large\":\"https://images-na.ssl-images-amazon.com/images/I/41rDK0-AsJL.jpg\",\"variant\":\"MAIN\",\"hiRes\":\"https://images-na.ssl-images-amazon.com/images/I/61dVkHGp-XL._UL1200_.jpg\",\"thumb\":\"https://images-na.ssl-images-amazon.com/images/I/41rDK0-AsJL._SR38,50_.jpg\",\"main\":{\"https://images-na.ssl-images-amazon.com/images/I/61dVkHGp-XL._UY679_.jpg\":[\"679\",\"495\"],\"https://images-na.ssl-images-amazon.com/images/I/61dVkHGp-XL._UY879_.jpg\":[\"879\",\"641\"],\"https://images-na.ssl-images-amazon.com/images/I/61dVkHGp-XL._UY741_.jpg\":[\"741\",\"540\"],\"https://images-na.ssl-images-amazon.com/images/I/61dVkHGp-XL._UY550_.jpg\":[\"550\",\"401\"],\"https://images-na.ssl-images-amazon.com/images/I/61dVkHGp-XL._UY606_.jpg\":[\"606\",\"442\"],\"https://images-na.ssl-images-amazon.com/images/I/61dVkHGp-XL._UY445_.jpg\":[\"445\",\"324\"],\"https://images-na.ssl-images-amazon.com/images/I/61dVkHGp-XL._UY500_.jpg\":[\"500\",\"365\"]}}],\"2 Orange / 2 Gold\":[{\"large\":\"https://images-na.ssl-images-amazon.com/images/I/41WHfvtG28L.jpg\",\"variant\":\"MAIN\",\"hiRes\":\"https://images-na.ssl-images-amazon.com/images/I/61%2BXgLDX1bL._UL1200_.jpg\",\"thumb\":\"https://images-na.ssl-images-amazon.com/images/I/41WHfvtG28L._SR38,50_.jpg\",\"main\":{\"https://images-na.ssl-images-amazon.com/images/I/61%2BXgLDX1bL._UY879_.jpg\":[\"879\",\"676\"],\"https://images-na.ssl-images-amazon.com/images/I/61%2BXgLDX1bL._UX569_.jpg\":[\"740\",\"569\"],\"https://images-na.ssl-images-amazon.com/images/I/61%2BXgLDX1bL._UX466_.jpg\":[\"606\",\"466\"],\"https://images-na.ssl-images-amazon.com/images/I/61%2BXgLDX1bL._UX342_.jpg\":[\"445\",\"342\"],\"https://images-na.ssl-images-amazon.com/images/I/61%2BXgLDX1bL._UX522_.jpg\":[\"679\",\"522\"],\"https://images-na.ssl-images-amazon.com/images/I/61%2BXgLDX1bL._UY550_.jpg\":[\"550\",\"423\"],\"https://images-na.ssl-images-amazon.com/images/I/61%2BXgLDX1bL._UY500_.jpg\":[\"500\",\"385\"]}}],\"2 Purple / 2 Yellow\":[{\"large\":\"https://images-na.ssl-images-amazon.com/images/I/41eeB6wZ78L.jpg\",\"variant\":\"MAIN\",\"hiRes\":\"https://images-na.ssl-images-amazon.com/images/I/61wM5Z3TfwL._UL1200_.jpg\",\"thumb\":\"https://images-na.ssl-images-amazon.com/images/I/41eeB6wZ78L._SR38,50_.jpg\",\"main\":{\"https://images-na.ssl-images-amazon.com/images/I/61wM5Z3TfwL._UX466_.jpg\":[\"604\",\"466\"],\"https://images-na.ssl-images-amazon.com/images/I/61wM5Z3TfwL._UY879_.jpg\":[\"879\",\"678\"],\"https://images-na.ssl-images-amazon.com/images/I/61wM5Z3TfwL._UX569_.jpg\":[\"737\",\"569\"],\"https://images-na.ssl-images-amazon.com/images/I/61wM5Z3TfwL._UX385_.jpg\":[\"499\",\"385\"],\"https://images-na.ssl-images-amazon.com/images/I/61wM5Z3TfwL._UX522_.jpg\":[\"676\",\"522\"],\"https://images-na.ssl-images-amazon.com/images/I/61wM5Z3TfwL._UY550_.jpg\":[\"550\",\"424\"],\"https://images-na.ssl-images-amazon.com/images/I/61wM5Z3TfwL._UX342_.jpg\":[\"443\",\"342\"]}}],\"2 Light Blue / 2 Pale Pink\":[{\"large\":\"https://images-na.ssl-images-amazon.com/images/I/31trTPhgxaL.jpg\",\"variant\":\"MAIN\",\"hiRes\":\"https://images-na.ssl-images-amazon.com/images/I/61yLBr1bXUL._UL1200_.jpg\",\"thumb\":\"https://images-na.ssl-images-amazon.com/images/I/31trTPhgxaL._SR38,50_.jpg\",\"main\":{\"https://images-na.ssl-images-amazon.com/images/I/61yLBr1bXUL._UX679_.jpg\":[\"877\",\"679\"],\"https://images-na.ssl-images-amazon.com/images/I/61yLBr1bXUL._UX425_.jpg\":[\"549\",\"425\"],\"https://images-na.ssl-images-amazon.com/images/I/61yLBr1bXUL._UX466_.jpg\":[\"602\",\"466\"],\"https://images-na.ssl-images-amazon.com/images/I/61yLBr1bXUL._UX342_.jpg\":[\"442\",\"342\"],\"https://images-na.ssl-images-amazon.com/images/I/61yLBr1bXUL._UX569_.jpg\":[\"735\",\"569\"],\"https://images-na.ssl-images-amazon.com/images/I/61yLBr1bXUL._UX522_.jpg\":[\"674\",\"522\"],\"https://images-na.ssl-images-amazon.com/images/I/61yLBr1bXUL._UX385_.jpg\":[\"497\",\"385\"]}}],\"Purple\":[{\"large\":\"https://images-na.ssl-images-amazon.com/images/I/41SciDntrKL.jpg\",\"variant\":\"MAIN\",\"hiRes\":\"https://images-na.ssl-images-amazon.com/images/I/61o8N1N5luL._UL1200_.jpg\",\"thumb\":\"https://images-na.ssl-images-amazon.com/images/I/41SciDntrKL._SR38,50_.jpg\",\"main\":{\"https://images-na.ssl-images-amazon.com/images/I/61o8N1N5luL._UX385_.jpg\":[\"491\",\"385\"],\"https://images-na.ssl-images-amazon.com/images/I/61o8N1N5luL._UX466_.jpg\":[\"595\",\"466\"],\"https://images-na.ssl-images-amazon.com/images/I/61o8N1N5luL._UX342_.jpg\":[\"437\",\"342\"],\"https://images-na.ssl-images-amazon.com/images/I/61o8N1N5luL._UX522_.jpg\":[\"666\",\"522\"],\"https://images-na.ssl-images-amazon.com/images/I/61o8N1N5luL._UX569_.jpg\":[\"726\",\"569\"],\"https://images-na.ssl-images-amazon.com/images/I/61o8N1N5luL._UX679_.jpg\":[\"867\",\"679\"],\"https://images-na.ssl-images-amazon.com/images/I/61o8N1N5luL._UX425_.jpg\":[\"543\",\"425\"]}}],\"2 Ash / 2 Light Steel\":[{\"large\":\"https://images-na.ssl-images-amazon.com/images/I/41AaVu6blTL.jpg\",\"variant\":\"MAIN\",\"hiRes\":\"https://images-na.ssl-images-amazon.com/images/I/71qy%2Bi-KCgL._UL1200_.jpg\",\"thumb\":\"https://images-na.ssl-images-amazon.com/images/I/41AaVu6blTL._SR38,50_.jpg\",\"main\":{\"https://images-na.ssl-images-amazon.com/images/I/71qy%2Bi-KCgL._UX522_.jpg\":[\"676\",\"522\"],\"https://images-na.ssl-images-amazon.com/images/I/71qy%2Bi-KCgL._UX385_.jpg\":[\"498\",\"385\"],\"https://images-na.ssl-images-amazon.com/images/I/71qy%2Bi-KCgL._UX466_.jpg\":[\"603\",\"466\"],\"https://images-na.ssl-images-amazon.com/images/I/71qy%2Bi-KCgL._UX569_.jpg\":[\"737\",\"569\"],\"https://images-na.ssl-images-amazon.com/images/I/71qy%2Bi-KCgL._UY550_.jpg\":[\"550\",\"425\"],\"https://images-na.ssl-images-amazon.com/images/I/71qy%2Bi-KCgL._UX679_.jpg\":[\"879\",\"679\"],\"https://images-na.ssl-images-amazon.com/images/I/71qy%2Bi-KCgL._UX342_.jpg\":[\"443\",\"342\"]}}],\"2 Deep Royal / 2 Pale Pink\":[{\"large\":\"https://images-na.ssl-images-amazon.com/images/I/41yl85hwHUL.jpg\",\"variant\":\"MAIN\",\"hiRes\":\"https://images-na.ssl-images-amazon.com/images/I/61Y3iK1Zx6L._UL1200_.jpg\",\"thumb\":\"https://images-na.ssl-images-amazon.com/images/I/41yl85hwHUL._SR38,50_.jpg\",\"main\":{\"https://images-na.ssl-images-amazon.com/images/I/61Y3iK1Zx6L._UX466_.jpg\":[\"593\",\"466\"],\"https://images-na.ssl-images-amazon.com/images/I/61Y3iK1Zx6L._UX385_.jpg\":[\"490\",\"385\"],\"https://images-na.ssl-images-amazon.com/images/I/61Y3iK1Zx6L._UX342_.jpg\":[\"435\",\"342\"],\"https://images-na.ssl-images-amazon.com/images/I/61Y3iK1Zx6L._UX679_.jpg\":[\"864\",\"679\"],\"https://images-na.ssl-images-amazon.com/images/I/61Y3iK1Zx6L._UX569_.jpg\":[\"724\",\"569\"],\"https://images-na.ssl-images-amazon.com/images/I/61Y3iK1Zx6L._UX522_.jpg\":[\"664\",\"522\"],\"https://images-na.ssl-images-amazon.com/images/I/61Y3iK1Zx6L._UX425_.jpg\":[\"541\",\"425\"]}}],\"2 Deep Red / 2 Deep Royal\":[{\"large\":\"https://images-na.ssl-images-amazon.com/images/I/41Vf55LATjL.jpg\",\"variant\":\"MAIN\",\"hiRes\":\"https://images-na.ssl-images-amazon.com/images/I/61O32G3cejL._UL1200_.jpg\",\"thumb\":\"https://images-na.ssl-images-amazon.com/images/I/41Vf55LATjL._SR38,50_.jpg\",\"main\":{\"https://images-na.ssl-images-amazon.com/images/I/61O32G3cejL._UX466_.jpg\":[\"594\",\"466\"],\"https://images-na.ssl-images-amazon.com/images/I/61O32G3cejL._UX569_.jpg\":[\"726\",\"569\"],\"https://images-na.ssl-images-amazon.com/images/I/61O32G3cejL._UX679_.jpg\":[\"866\",\"679\"],\"https://images-na.ssl-images-amazon.com/images/I/61O32G3cejL._UX522_.jpg\":[\"666\",\"522\"],\"https://images-na.ssl-images-amazon.com/images/I/61O32G3cejL._UX385_.jpg\":[\"491\",\"385\"],\"https://images-na.ssl-images-amazon.com/images/I/61O32G3cejL._UX342_.jpg\":[\"436\",\"342\"],\"https://images-na.ssl-images-amazon.com/images/I/61O32G3cejL._UX425_.jpg\":[\"542\",\"425\"]}}],\"2 Gold / 2 Lime\":[{\"large\":\"https://images-na.ssl-images-amazon.com/images/I/41eDcgi3feL.jpg\",\"variant\":\"MAIN\",\"hiRes\":\"https://images-na.ssl-images-amazon.com/images/I/61Rw79JYaGL._UL1200_.jpg\",\"thumb\":\"https://images-na.ssl-images-amazon.com/images/I/41eDcgi3feL._SR38,50_.jpg\",\"main\":{\"https://images-na.ssl-images-amazon.com/images/I/61Rw79JYaGL._UY741_.jpg\":[\"741\",\"542\"],\"https://images-na.ssl-images-amazon.com/images/I/61Rw79JYaGL._UY606_.jpg\":[\"606\",\"443\"],\"https://images-na.ssl-images-amazon.com/images/I/61Rw79JYaGL._UY550_.jpg\":[\"550\",\"402\"],\"https://images-na.ssl-images-amazon.com/images/I/61Rw79JYaGL._UY679_.jpg\":[\"679\",\"496\"],\"https://images-na.ssl-images-amazon.com/images/I/61Rw79JYaGL._UY879_.jpg\":[\"879\",\"642\"],\"https://images-na.ssl-images-amazon.com/images/I/61Rw79JYaGL._UY500_.jpg\":[\"500\",\"365\"],\"https://images-na.ssl-images-amazon.com/images/I/61Rw79JYaGL._UY445_.jpg\":[\"445\",\"325\"]}}],\"Yellow\":[{\"large\":\"https://images-na.ssl-images-amazon.com/images/I/31M1mpZ29aL.jpg\",\"variant\":\"MAIN\",\"hiRes\":\"https://images-na.ssl-images-amazon.com/images/I/51MKMqsZEkL._UL1200_.jpg\",\"thumb\":\"https://images-na.ssl-images-amazon.com/images/I/31M1mpZ29aL._SR38,50_.jpg\",\"main\":{\"https://images-na.ssl-images-amazon.com/images/I/51MKMqsZEkL._UX522_.jpg\":[\"665\",\"522\"],\"https://images-na.ssl-images-amazon.com/images/I/51MKMqsZEkL._UX466_.jpg\":[\"594\",\"466\"],\"https://images-na.ssl-images-amazon.com/images/I/51MKMqsZEkL._UX385_.jpg\":[\"490\",\"385\"],\"https://images-na.ssl-images-amazon.com/images/I/51MKMqsZEkL._UX342_.jpg\":[\"436\",\"342\"],\"https://images-na.ssl-images-amazon.com/images/I/51MKMqsZEkL._UX569_.jpg\":[\"725\",\"569\"],\"https://images-na.ssl-images-amazon.com/images/I/51MKMqsZEkL._UX679_.jpg\":[\"865\",\"679\"],\"https://images-na.ssl-images-amazon.com/images/I/51MKMqsZEkL._UX425_.jpg\":[\"541\",\"425\"]}}],\"2 Orange / 2 Smoke Grey\":[{\"large\":\"https://images-na.ssl-images-amazon.com/images/I/41cEEf7K53L.jpg\",\"variant\":\"MAIN\",\"hiRes\":\"https://images-na.ssl-images-amazon.com/images/I/617WHaVTyKL._UL1200_.jpg\",\"thumb\":\"https://images-na.ssl-images-amazon.com/images/I/41cEEf7K53L._SR38,50_.jpg\",\"main\":{\"https://images-na.ssl-images-amazon.com/images/I/617WHaVTyKL._UX342_.jpg\":[\"443\",\"342\"],\"https://images-na.ssl-images-amazon.com/images/I/617WHaVTyKL._UX385_.jpg\":[\"498\",\"385\"],\"https://images-na.ssl-images-amazon.com/images/I/617WHaVTyKL._UX522_.jpg\":[\"676\",\"522\"],\"https://images-na.ssl-images-amazon.com/images/I/617WHaVTyKL._UX466_.jpg\":[\"603\",\"466\"],\"https://images-na.ssl-images-amazon.com/images/I/617WHaVTyKL._UX679_.jpg\":[\"879\",\"679\"],\"https://images-na.ssl-images-amazon.com/images/I/617WHaVTyKL._UY550_.jpg\":[\"550\",\"425\"],\"https://images-na.ssl-images-amazon.com/images/I/617WHaVTyKL._UX569_.jpg\":[\"737\",\"569\"]}}],\"2 Ash / 2 Deep Red\":[{\"large\":\"https://images-na.ssl-images-amazon.com/images/I/41-JRLstApL.jpg\",\"variant\":\"MAIN\",\"hiRes\":\"https://images-na.ssl-images-amazon.com/images/I/713u38czdhL._UL1200_.jpg\",\"thumb\":\"https://images-na.ssl-images-amazon.com/images/I/41-JRLstApL._SR38,50_.jpg\",\"main\":{\"https://images-na.ssl-images-amazon.com/images/I/713u38czdhL._UX569_.jpg\":[\"735\",\"569\"],\"https://images-na.ssl-images-amazon.com/images/I/713u38czdhL._UX522_.jpg\":[\"674\",\"522\"],\"https://images-na.ssl-images-amazon.com/images/I/713u38czdhL._UX466_.jpg\":[\"602\",\"466\"],\"https://images-na.ssl-images-amazon.com/images/I/713u38czdhL._UX425_.jpg\":[\"549\",\"425\"],\"https://images-na.ssl-images-amazon.com/images/I/713u38czdhL._UX385_.jpg\":[\"497\",\"385\"],\"https://images-na.ssl-images-amazon.com/images/I/713u38czdhL._UX679_.jpg\":[\"877\",\"679\"],\"https://images-na.ssl-images-amazon.com/images/I/713u38czdhL._UX342_.jpg\":[\"442\",\"342\"]}}],\"2 Deep Red / 2 Lime\":[{\"large\":\"https://images-na.ssl-images-amazon.com/images/I/41bJbFYAbtL.jpg\",\"variant\":\"MAIN\",\"hiRes\":\"https://images-na.ssl-images-amazon.com/images/I/61yttRRPreL._UL1200_.jpg\",\"thumb\":\"https://images-na.ssl-images-amazon.com/images/I/41bJbFYAbtL._SR38,50_.jpg\",\"main\":{\"https://images-na.ssl-images-amazon.com/images/I/61yttRRPreL._UY679_.jpg\":[\"679\",\"500\"],\"https://images-na.ssl-images-amazon.com/images/I/61yttRRPreL._UY445_.jpg\":[\"445\",\"327\"],\"https://images-na.ssl-images-amazon.com/images/I/61yttRRPreL._UY606_.jpg\":[\"606\",\"446\"],\"https://images-na.ssl-images-amazon.com/images/I/61yttRRPreL._UY500_.jpg\":[\"500\",\"368\"],\"https://images-na.ssl-images-amazon.com/images/I/61yttRRPreL._UY741_.jpg\":[\"741\",\"545\"],\"https://images-na.ssl-images-amazon.com/images/I/61yttRRPreL._UY550_.jpg\":[\"550\",\"405\"],\"https://images-na.ssl-images-amazon.com/images/I/61yttRRPreL._UY879_.jpg\":[\"879\",\"647\"]}}],\"Lime\":[{\"large\":\"https://images-na.ssl-images-amazon.com/images/I/41FOsho9taL.jpg\",\"variant\":\"MAIN\",\"hiRes\":\"https://images-na.ssl-images-amazon.com/images/I/91L3GZUZiNL._UL1500_.jpg\",\"thumb\":\"https://images-na.ssl-images-amazon.com/images/I/41FOsho9taL._SR38,50_.jpg\",\"main\":{\"https://images-na.ssl-images-amazon.com/images/I/91L3GZUZiNL._UX385_.jpg\":[\"474\",\"385\"],\"https://images-na.ssl-images-amazon.com/images/I/91L3GZUZiNL._UX425_.jpg\":[\"523\",\"425\"],\"https://images-na.ssl-images-amazon.com/images/I/91L3GZUZiNL._UX342_.jpg\":[\"421\",\"342\"],\"https://images-na.ssl-images-amazon.com/images/I/91L3GZUZiNL._UX466_.jpg\":[\"574\",\"466\"],\"https://images-na.ssl-images-amazon.com/images/I/91L3GZUZiNL._UX522_.jpg\":[\"642\",\"522\"],\"https://images-na.ssl-images-amazon.com/images/I/91L3GZUZiNL._UX679_.jpg\":[\"836\",\"679\"],\"https://images-na.ssl-images-amazon.com/images/I/91L3GZUZiNL._UX569_.jpg\":[\"700\",\"569\"]}}],\"2 Orange / 2 Yellow\":[{\"large\":\"https://images-na.ssl-images-amazon.com/images/I/41JHMN9TSgL.jpg\",\"variant\":\"MAIN\",\"hiRes\":\"https://images-na.ssl-images-amazon.com/images/I/61tD2u1zGlL._UL1200_.jpg\",\"thumb\":\"https://images-na.ssl-images-amazon.com/images/I/41JHMN9TSgL._SR38,50_.jpg\",\"main\":{\"https://images-na.ssl-images-amazon.com/images/I/61tD2u1zGlL._UY879_.jpg\":[\"879\",\"678\"],\"https://images-na.ssl-images-amazon.com/images/I/61tD2u1zGlL._UX569_.jpg\":[\"737\",\"569\"],\"https://images-na.ssl-images-amazon.com/images/I/61tD2u1zGlL._UX466_.jpg\":[\"604\",\"466\"],\"https://images-na.ssl-images-amazon.com/images/I/61tD2u1zGlL._UY550_.jpg\":[\"550\",\"424\"],\"https://images-na.ssl-images-amazon.com/images/I/61tD2u1zGlL._UX385_.jpg\":[\"499\",\"385\"],\"https://images-na.ssl-images-amazon.com/images/I/61tD2u1zGlL._UX342_.jpg\":[\"443\",\"342\"],\"https://images-na.ssl-images-amazon.com/images/I/61tD2u1zGlL._UX522_.jpg\":[\"676\",\"522\"]}}],\"2 Black / 2 Sand\":[{\"large\":\"https://images-na.ssl-images-amazon.com/images/I/31fDZbYtJiL.jpg\",\"variant\":\"MAIN\",\"hiRes\":\"https://images-na.ssl-images-amazon.com/images/I/6120V17hrmL._UL1200_.jpg\",\"thumb\":\"https://images-na.ssl-images-amazon.com/images/I/31fDZbYtJiL._SR38,50_.jpg\",\"main\":{\"https://images-na.ssl-images-amazon.com/images/I/6120V17hrmL._UY606_.jpg\":[\"606\",\"443\"],\"https://images-na.ssl-images-amazon.com/images/I/6120V17hrmL._UY879_.jpg\":[\"879\",\"642\"],\"https://images-na.ssl-images-amazon.com/images/I/6120V17hrmL._UY679_.jpg\":[\"679\",\"496\"],\"https://images-na.ssl-images-amazon.com/images/I/6120V17hrmL._UY445_.jpg\":[\"445\",\"325\"],\"https://images-na.ssl-images-amazon.com/images/I/6120V17hrmL._UY741_.jpg\":[\"741\",\"542\"],\"https://images-na.ssl-images-amazon.com/images/I/6120V17hrmL._UY500_.jpg\":[\"500\",\"365\"],\"https://images-na.ssl-images-amazon.com/images/I/6120V17hrmL._UY550_.jpg\":[\"550\",\"402\"]}}],\"2 Denim Blue / 2 White\":[{\"large\":\"https://images-na.ssl-images-amazon.com/images/I/41lAcEgg%2BlL.jpg\",\"variant\":\"MAIN\",\"hiRes\":\"https://images-na.ssl-images-amazon.com/images/I/61huAuE7apL._UL1200_.jpg\",\"thumb\":\"https://images-na.ssl-images-amazon.com/images/I/41lAcEgg%2BlL._SR38,50_.jpg\",\"main\":{\"https://images-na.ssl-images-amazon.com/images/I/61huAuE7apL._UX522_.jpg\":[\"672\",\"522\"],\"https://images-na.ssl-images-amazon.com/images/I/61huAuE7apL._UX466_.jpg\":[\"600\",\"466\"],\"https://images-na.ssl-images-amazon.com/images/I/61huAuE7apL._UX425_.jpg\":[\"547\",\"425\"],\"https://images-na.ssl-images-amazon.com/images/I/61huAuE7apL._UX569_.jpg\":[\"733\",\"569\"],\"https://images-na.ssl-images-amazon.com/images/I/61huAuE7apL._UX342_.jpg\":[\"440\",\"342\"],\"https://images-na.ssl-images-amazon.com/images/I/61huAuE7apL._UX679_.jpg\":[\"874\",\"679\"],\"https://images-na.ssl-images-amazon.com/images/I/61huAuE7apL._UX385_.jpg\":[\"496\",\"385\"]}}],\"2 Deep Red / 2 Sand\":[{\"large\":\"https://images-na.ssl-images-amazon.com/images/I/31EVa-4EXqL.jpg\",\"variant\":\"MAIN\",\"hiRes\":\"https://images-na.ssl-images-amazon.com/images/I/61ab6xHEzLL._UL1200_.jpg\",\"thumb\":\"https://images-na.ssl-images-amazon.com/images/I/31EVa-4EXqL._SR38,50_.jpg\",\"main\":{\"https://images-na.ssl-images-amazon.com/images/I/61ab6xHEzLL._UY741_.jpg\":[\"741\",\"543\"],\"https://images-na.ssl-images-amazon.com/images/I/61ab6xHEzLL._UY445_.jpg\":[\"445\",\"326\"],\"https://images-na.ssl-images-amazon.com/images/I/61ab6xHEzLL._UY606_.jpg\":[\"606\",\"444\"],\"https://images-na.ssl-images-amazon.com/images/I/61ab6xHEzLL._UY550_.jpg\":[\"550\",\"403\"],\"https://images-na.ssl-images-amazon.com/images/I/61ab6xHEzLL._UY500_.jpg\":[\"500\",\"366\"],\"https://images-na.ssl-images-amazon.com/images/I/61ab6xHEzLL._UY879_.jpg\":[\"879\",\"644\"],\"https://images-na.ssl-images-amazon.com/images/I/61ab6xHEzLL._UY679_.jpg\":[\"679\",\"497\"]}}],\"2 Orange / 2 Black\":[{\"large\":\"https://images-na.ssl-images-amazon.com/images/I/41DRGgI64rL.jpg\",\"variant\":\"MAIN\",\"hiRes\":\"https://images-na.ssl-images-amazon.com/images/I/61MTPm5y%2BnL._UL1200_.jpg\",\"thumb\":\"https://images-na.ssl-images-amazon.com/images/I/41DRGgI64rL._SR38,50_.jpg\",\"main\":{\"https://images-na.ssl-images-amazon.com/images/I/61MTPm5y%2BnL._UY550_.jpg\":[\"550\",\"425\"],\"https://images-na.ssl-images-amazon.com/images/I/61MTPm5y%2BnL._UX466_.jpg\":[\"603\",\"466\"],\"https://images-na.ssl-images-amazon.com/images/I/61MTPm5y%2BnL._UX385_.jpg\":[\"498\",\"385\"],\"https://images-na.ssl-images-amazon.com/images/I/61MTPm5y%2BnL._UX679_.jpg\":[\"879\",\"679\"],\"https://images-na.ssl-images-amazon.com/images/I/61MTPm5y%2BnL._UX569_.jpg\":[\"737\",\"569\"],\"https://images-na.ssl-images-amazon.com/images/I/61MTPm5y%2BnL._UX342_.jpg\":[\"443\",\"342\"],\"https://images-na.ssl-images-amazon.com/images/I/61MTPm5y%2BnL._UX522_.jpg\":[\"676\",\"522\"]}}],\"Light Blue\":[{\"large\":\"https://images-na.ssl-images-amazon.com/images/I/41HQOhkSD1L.jpg\",\"variant\":\"MAIN\",\"hiRes\":\"https://images-na.ssl-images-amazon.com/images/I/91CZgnbbaLL._UL1500_.jpg\",\"thumb\":\"https://images-na.ssl-images-amazon.com/images/I/41HQOhkSD1L._SR38,50_.jpg\",\"main\":{\"https://images-na.ssl-images-amazon.com/images/I/91CZgnbbaLL._UX342_.jpg\":[\"421\",\"342\"],\"https://images-na.ssl-images-amazon.com/images/I/91CZgnbbaLL._UX679_.jpg\":[\"836\",\"679\"],\"https://images-na.ssl-images-amazon.com/images/I/91CZgnbbaLL._UX522_.jpg\":[\"642\",\"522\"],\"https://images-na.ssl-images-amazon.com/images/I/91CZgnbbaLL._UX569_.jpg\":[\"700\",\"569\"],\"https://images-na.ssl-images-amazon.com/images/I/91CZgnbbaLL._UX466_.jpg\":[\"574\",\"466\"],\"https://images-na.ssl-images-amazon.com/images/I/91CZgnbbaLL._UX385_.jpg\":[\"474\",\"385\"],\"https://images-na.ssl-images-amazon.com/images/I/91CZgnbbaLL._UX425_.jpg\":[\"523\",\"425\"]}}],\"2 Gold / 2 Sand\":[{\"large\":\"https://images-na.ssl-images-amazon.com/images/I/31jD-oGPDeL.jpg\",\"variant\":\"MAIN\",\"hiRes\":\"https://images-na.ssl-images-amazon.com/images/I/61kMq%2BnkrZL._UL1200_.jpg\",\"thumb\":\"https://images-na.ssl-images-amazon.com/images/I/31jD-oGPDeL._SR38,50_.jpg\",\"main\":{\"https://images-na.ssl-images-amazon.com/images/I/61kMq%2BnkrZL._UY500_.jpg\":[\"500\",\"366\"],\"https://images-na.ssl-images-amazon.com/images/I/61kMq%2BnkrZL._UY879_.jpg\":[\"879\",\"644\"],\"https://images-na.ssl-images-amazon.com/images/I/61kMq%2BnkrZL._UY679_.jpg\":[\"679\",\"497\"],\"https://images-na.ssl-images-amazon.com/images/I/61kMq%2BnkrZL._UY741_.jpg\":[\"741\",\"543\"],\"https://images-na.ssl-images-amazon.com/images/I/61kMq%2BnkrZL._UY550_.jpg\":[\"550\",\"403\"],\"https://images-na.ssl-images-amazon.com/images/I/61kMq%2BnkrZL._UY606_.jpg\":[\"606\",\"444\"],\"https://images-na.ssl-images-amazon.com/images/I/61kMq%2BnkrZL._UY445_.jpg\":[\"445\",\"326\"]}}],\"2 Gold / 2 Light Steel\":[{\"large\":\"https://images-na.ssl-images-amazon.com/images/I/41BBKsG97mL.jpg\",\"variant\":\"MAIN\",\"hiRes\":\"https://images-na.ssl-images-amazon.com/images/I/61VET5X826L._UL1200_.jpg\",\"thumb\":\"https://images-na.ssl-images-amazon.com/images/I/41BBKsG97mL._SR38,50_.jpg\",\"main\":{\"https://images-na.ssl-images-amazon.com/images/I/61VET5X826L._UX569_.jpg\":[\"735\",\"569\"],\"https://images-na.ssl-images-amazon.com/images/I/61VET5X826L._UX385_.jpg\":[\"497\",\"385\"],\"https://images-na.ssl-images-amazon.com/images/I/61VET5X826L._UX679_.jpg\":[\"877\",\"679\"],\"https://images-na.ssl-images-amazon.com/images/I/61VET5X826L._UX466_.jpg\":[\"602\",\"466\"],\"https://images-na.ssl-images-amazon.com/images/I/61VET5X826L._UX425_.jpg\":[\"549\",\"425\"],\"https://images-na.ssl-images-amazon.com/images/I/61VET5X826L._UX522_.jpg\":[\"674\",\"522\"],\"https://images-na.ssl-images-amazon.com/images/I/61VET5X826L._UX342_.jpg\":[\"442\",\"342\"]}}],\"2 Gold / 2 Light Blue\":[{\"large\":\"https://images-na.ssl-images-amazon.com/images/I/41iTbjDxskL.jpg\",\"variant\":\"MAIN\",\"hiRes\":\"https://images-na.ssl-images-amazon.com/images/I/61cpnKBjSNL._UL1200_.jpg\",\"thumb\":\"https://images-na.ssl-images-amazon.com/images/I/41iTbjDxskL._SR38,50_.jpg\",\"main\":{\"https://images-na.ssl-images-amazon.com/images/I/61cpnKBjSNL._UX569_.jpg\":[\"736\",\"569\"],\"https://images-na.ssl-images-amazon.com/images/I/61cpnKBjSNL._UX466_.jpg\":[\"603\",\"466\"],\"https://images-na.ssl-images-amazon.com/images/I/61cpnKBjSNL._UX385_.jpg\":[\"498\",\"385\"],\"https://images-na.ssl-images-amazon.com/images/I/61cpnKBjSNL._UX522_.jpg\":[\"675\",\"522\"],\"https://images-na.ssl-images-amazon.com/images/I/61cpnKBjSNL._UX342_.jpg\":[\"442\",\"342\"],\"https://images-na.ssl-images-amazon.com/images/I/61cpnKBjSNL._UX425_.jpg\":[\"550\",\"425\"],\"https://images-na.ssl-images-amazon.com/images/I/61cpnKBjSNL._UX679_.jpg\":[\"878\",\"679\"]}}],\"2 Deep Red / 2 Smoke Grey\":[{\"large\":\"https://images-na.ssl-images-amazon.com/images/I/41ENc%2B7ke0L.jpg\",\"variant\":\"MAIN\",\"hiRes\":\"https://images-na.ssl-images-amazon.com/images/I/61urzsgbpeL._UL1200_.jpg\",\"thumb\":\"https://images-na.ssl-images-amazon.com/images/I/41ENc%2B7ke0L._SR38,50_.jpg\",\"main\":{\"https://images-na.ssl-images-amazon.com/images/I/61urzsgbpeL._UX679_.jpg\":[\"862\",\"679\"],\"https://images-na.ssl-images-amazon.com/images/I/61urzsgbpeL._UX522_.jpg\":[\"663\",\"522\"],\"https://images-na.ssl-images-amazon.com/images/I/61urzsgbpeL._UX466_.jpg\":[\"592\",\"466\"],\"https://images-na.ssl-images-amazon.com/images/I/61urzsgbpeL._UX385_.jpg\":[\"489\",\"385\"],\"https://images-na.ssl-images-amazon.com/images/I/61urzsgbpeL._UX342_.jpg\":[\"434\",\"342\"],\"https://images-na.ssl-images-amazon.com/images/I/61urzsgbpeL._UX569_.jpg\":[\"723\",\"569\"],\"https://images-na.ssl-images-amazon.com/images/I/61urzsgbpeL._UX425_.jpg\":[\"540\",\"425\"]}}],\"2 Deep Forest / 2 White\":[{\"large\":\"https://images-na.ssl-images-amazon.com/images/I/415MCBbkxUL.jpg\",\"variant\":\"MAIN\",\"hiRes\":\"https://images-na.ssl-images-amazon.com/images/I/616jVMFOByL._UL1200_.jpg\",\"thumb\":\"https://images-na.ssl-images-amazon.com/images/I/415MCBbkxUL._SR38,50_.jpg\",\"main\":{\"https://images-na.ssl-images-amazon.com/images/I/616jVMFOByL._UX385_.jpg\":[\"499\",\"385\"],\"https://images-na.ssl-images-amazon.com/images/I/616jVMFOByL._UY879_.jpg\":[\"879\",\"678\"],\"https://images-na.ssl-images-amazon.com/images/I/616jVMFOByL._UX466_.jpg\":[\"604\",\"466\"],\"https://images-na.ssl-images-amazon.com/images/I/616jVMFOByL._UX342_.jpg\":[\"443\",\"342\"],\"https://images-na.ssl-images-amazon.com/images/I/616jVMFOByL._UY550_.jpg\":[\"550\",\"424\"],\"https://images-na.ssl-images-amazon.com/images/I/616jVMFOByL._UX522_.jpg\":[\"676\",\"522\"],\"https://images-na.ssl-images-amazon.com/images/I/616jVMFOByL._UX569_.jpg\":[\"737\",\"569\"]}}],\"2 Ash / 2 Gold\":[{\"large\":\"https://images-na.ssl-images-amazon.com/images/I/41UIf9-yNtL.jpg\",\"variant\":\"MAIN\",\"hiRes\":\"https://images-na.ssl-images-amazon.com/images/I/71XLs1r6bTL._UL1200_.jpg\",\"thumb\":\"https://images-na.ssl-images-amazon.com/images/I/41UIf9-yNtL._SR38,50_.jpg\",\"main\":{\"https://images-na.ssl-images-amazon.com/images/I/71XLs1r6bTL._UY550_.jpg\":[\"550\",\"424\"],\"https://images-na.ssl-images-amazon.com/images/I/71XLs1r6bTL._UY879_.jpg\":[\"879\",\"678\"],\"https://images-na.ssl-images-amazon.com/images/I/71XLs1r6bTL._UX385_.jpg\":[\"499\",\"385\"],\"https://images-na.ssl-images-amazon.com/images/I/71XLs1r6bTL._UX466_.jpg\":[\"605\",\"466\"],\"https://images-na.ssl-images-amazon.com/images/I/71XLs1r6bTL._UX342_.jpg\":[\"444\",\"342\"],\"https://images-na.ssl-images-amazon.com/images/I/71XLs1r6bTL._UX522_.jpg\":[\"677\",\"522\"],\"https://images-na.ssl-images-amazon.com/images/I/71XLs1r6bTL._UX569_.jpg\":[\"738\",\"569\"]}}],\"2 Lime / 2 Yellow\":[{\"large\":\"https://images-na.ssl-images-amazon.com/images/I/41D52i3burL.jpg\",\"variant\":\"MAIN\",\"hiRes\":\"https://images-na.ssl-images-amazon.com/images/I/61tzz385avL._UL1200_.jpg\",\"thumb\":\"https://images-na.ssl-images-amazon.com/images/I/41D52i3burL._SR38,50_.jpg\",\"main\":{\"https://images-na.ssl-images-amazon.com/images/I/61tzz385avL._UY550_.jpg\":[\"550\",\"402\"],\"https://images-na.ssl-images-amazon.com/images/I/61tzz385avL._UY741_.jpg\":[\"741\",\"541\"],\"https://images-na.ssl-images-amazon.com/images/I/61tzz385avL._UY879_.jpg\":[\"879\",\"642\"],\"https://images-na.ssl-images-amazon.com/images/I/61tzz385avL._UY606_.jpg\":[\"606\",\"442\"],\"https://images-na.ssl-images-amazon.com/images/I/61tzz385avL._UY500_.jpg\":[\"500\",\"365\"],\"https://images-na.ssl-images-amazon.com/images/I/61tzz385avL._UY445_.jpg\":[\"445\",\"325\"],\"https://images-na.ssl-images-amazon.com/images/I/61tzz385avL._UY679_.jpg\":[\"679\",\"496\"]}}],\"2 Ash / 2 Orange\":[{\"large\":\"https://images-na.ssl-images-amazon.com/images/I/41PDJir0LXL.jpg\",\"variant\":\"MAIN\",\"hiRes\":\"https://images-na.ssl-images-amazon.com/images/I/71xJn4-YfPL._UL1200_.jpg\",\"thumb\":\"https://images-na.ssl-images-amazon.com/images/I/41PDJir0LXL._SR38,50_.jpg\",\"main\":{\"https://images-na.ssl-images-amazon.com/images/I/71xJn4-YfPL._UX522_.jpg\":[\"678\",\"522\"],\"https://images-na.ssl-images-amazon.com/images/I/71xJn4-YfPL._UX466_.jpg\":[\"605\",\"466\"],\"https://images-na.ssl-images-amazon.com/images/I/71xJn4-YfPL._UY500_.jpg\":[\"500\",\"385\"],\"https://images-na.ssl-images-amazon.com/images/I/71xJn4-YfPL._UX342_.jpg\":[\"444\",\"342\"],\"https://images-na.ssl-images-amazon.com/images/I/71xJn4-YfPL._UY550_.jpg\":[\"550\",\"424\"],\"https://images-na.ssl-images-amazon.com/images/I/71xJn4-YfPL._UY879_.jpg\":[\"879\",\"677\"],\"https://images-na.ssl-images-amazon.com/images/I/71xJn4-YfPL._UX569_.jpg\":[\"739\",\"569\"]}}],\"2 Deep Royal / 2 Yellow\":[{\"large\":\"https://images-na.ssl-images-amazon.com/images/I/41M7U%2BNCTrL.jpg\",\"variant\":\"MAIN\",\"hiRes\":\"https://images-na.ssl-images-amazon.com/images/I/61BXK3gKVRL._UL1200_.jpg\",\"thumb\":\"https://images-na.ssl-images-amazon.com/images/I/41M7U%2BNCTrL._SR38,50_.jpg\",\"main\":{\"https://images-na.ssl-images-amazon.com/images/I/61BXK3gKVRL._UX522_.jpg\":[\"667\",\"522\"],\"https://images-na.ssl-images-amazon.com/images/I/61BXK3gKVRL._UX466_.jpg\":[\"596\",\"466\"],\"https://images-na.ssl-images-amazon.com/images/I/61BXK3gKVRL._UX342_.jpg\":[\"437\",\"342\"],\"https://images-na.ssl-images-amazon.com/images/I/61BXK3gKVRL._UX679_.jpg\":[\"868\",\"679\"],\"https://images-na.ssl-images-amazon.com/images/I/61BXK3gKVRL._UX569_.jpg\":[\"727\",\"569\"],\"https://images-na.ssl-images-amazon.com/images/I/61BXK3gKVRL._UX425_.jpg\":[\"543\",\"425\"],\"https://images-na.ssl-images-amazon.com/images/I/61BXK3gKVRL._UX385_.jpg\":[\"492\",\"385\"]}}],\"2 Maroon / 2 Pale Pink\":[{\"large\":\"https://images-na.ssl-images-amazon.com/images/I/31JHp%2BEXilL.jpg\",\"variant\":\"MAIN\",\"hiRes\":\"https://images-na.ssl-images-amazon.com/images/I/619bi0PpiPL._UL1200_.jpg\",\"thumb\":\"https://images-na.ssl-images-amazon.com/images/I/31JHp%2BEXilL._SR38,50_.jpg\",\"main\":{\"https://images-na.ssl-images-amazon.com/images/I/619bi0PpiPL._UY679_.jpg\":[\"679\",\"495\"],\"https://images-na.ssl-images-amazon.com/images/I/619bi0PpiPL._UY879_.jpg\":[\"879\",\"640\"],\"https://images-na.ssl-images-amazon.com/images/I/619bi0PpiPL._UY606_.jpg\":[\"606\",\"441\"],\"https://images-na.ssl-images-amazon.com/images/I/619bi0PpiPL._UY550_.jpg\":[\"550\",\"401\"],\"https://images-na.ssl-images-amazon.com/images/I/619bi0PpiPL._UY500_.jpg\":[\"500\",\"364\"],\"https://images-na.ssl-images-amazon.com/images/I/619bi0PpiPL._UY741_.jpg\":[\"741\",\"540\"],\"https://images-na.ssl-images-amazon.com/images/I/619bi0PpiPL._UY445_.jpg\":[\"445\",\"324\"]}}],\"2 Light Blue / 2 Purple\":[{\"large\":\"https://images-na.ssl-images-amazon.com/images/I/41QBdg96pgL.jpg\",\"variant\":\"MAIN\",\"hiRes\":\"https://images-na.ssl-images-amazon.com/images/I/61i8pg5EktL._UL1200_.jpg\",\"thumb\":\"https://images-na.ssl-images-amazon.com/images/I/41QBdg96pgL._SR38,50_.jpg\",\"main\":{\"https://images-na.ssl-images-amazon.com/images/I/61i8pg5EktL._UX466_.jpg\":[\"601\",\"466\"],\"https://images-na.ssl-images-amazon.com/images/I/61i8pg5EktL._UX522_.jpg\":[\"674\",\"522\"],\"https://images-na.ssl-images-amazon.com/images/I/61i8pg5EktL._UX425_.jpg\":[\"548\",\"425\"],\"https://images-na.ssl-images-amazon.com/images/I/61i8pg5EktL._UX385_.jpg\":[\"497\",\"385\"],\"https://images-na.ssl-images-amazon.com/images/I/61i8pg5EktL._UX569_.jpg\":[\"734\",\"569\"],\"https://images-na.ssl-images-amazon.com/images/I/61i8pg5EktL._UX679_.jpg\":[\"876\",\"679\"],\"https://images-na.ssl-images-amazon.com/images/I/61i8pg5EktL._UX342_.jpg\":[\"441\",\"342\"]}}],\"Pale Pink\":[{\"large\":\"https://images-na.ssl-images-amazon.com/images/I/3119iCPHhhL.jpg\",\"variant\":\"MAIN\",\"hiRes\":\"https://images-na.ssl-images-amazon.com/images/I/61n4cclSXmL._UL1200_.jpg\",\"thumb\":\"https://images-na.ssl-images-amazon.com/images/I/3119iCPHhhL._SR38,50_.jpg\",\"main\":{\"https://images-na.ssl-images-amazon.com/images/I/61n4cclSXmL._UX569_.jpg\":[\"713\",\"569\"],\"https://images-na.ssl-images-amazon.com/images/I/61n4cclSXmL._UX425_.jpg\":[\"533\",\"425\"],\"https://images-na.ssl-images-amazon.com/images/I/61n4cclSXmL._UX466_.jpg\":[\"584\",\"466\"],\"https://images-na.ssl-images-amazon.com/images/I/61n4cclSXmL._UX385_.jpg\":[\"483\",\"385\"],\"https://images-na.ssl-images-amazon.com/images/I/61n4cclSXmL._UX679_.jpg\":[\"851\",\"679\"],\"https://images-na.ssl-images-amazon.com/images/I/61n4cclSXmL._UX522_.jpg\":[\"655\",\"522\"],\"https://images-na.ssl-images-amazon.com/images/I/61n4cclSXmL._UX342_.jpg\":[\"429\",\"342\"]}}],\"2 Deep Forest / 2 Yellow\":[{\"large\":\"https://images-na.ssl-images-amazon.com/images/I/410KwrHhOFL.jpg\",\"variant\":\"MAIN\",\"hiRes\":\"https://images-na.ssl-images-amazon.com/images/I/61Dgw4t4OiL._UL1200_.jpg\",\"thumb\":\"https://images-na.ssl-images-amazon.com/images/I/410KwrHhOFL._SR38,50_.jpg\",\"main\":{\"https://images-na.ssl-images-amazon.com/images/I/61Dgw4t4OiL._UX466_.jpg\":[\"603\",\"466\"],\"https://images-na.ssl-images-amazon.com/images/I/61Dgw4t4OiL._UY550_.jpg\":[\"550\",\"425\"],\"https://images-na.ssl-images-amazon.com/images/I/61Dgw4t4OiL._UX342_.jpg\":[\"443\",\"342\"],\"https://images-na.ssl-images-amazon.com/images/I/61Dgw4t4OiL._UX522_.jpg\":[\"676\",\"522\"],\"https://images-na.ssl-images-amazon.com/images/I/61Dgw4t4OiL._UX679_.jpg\":[\"879\",\"679\"],\"https://images-na.ssl-images-amazon.com/images/I/61Dgw4t4OiL._UX385_.jpg\":[\"498\",\"385\"],\"https://images-na.ssl-images-amazon.com/images/I/61Dgw4t4OiL._UX569_.jpg\":[\"737\",\"569\"]}}],\"2 Ash / 2 Light Blue\":[{\"large\":\"https://images-na.ssl-images-amazon.com/images/I/41se90j4-TL.jpg\",\"variant\":\"MAIN\",\"hiRes\":\"https://images-na.ssl-images-amazon.com/images/I/71xUZYX0S-L._UL1200_.jpg\",\"thumb\":\"https://images-na.ssl-images-amazon.com/images/I/41se90j4-TL._SR38,50_.jpg\",\"main\":{\"https://images-na.ssl-images-amazon.com/images/I/71xUZYX0S-L._UX466_.jpg\":[\"604\",\"466\"],\"https://images-na.ssl-images-amazon.com/images/I/71xUZYX0S-L._UY550_.jpg\":[\"550\",\"424\"],\"https://images-na.ssl-images-amazon.com/images/I/71xUZYX0S-L._UX342_.jpg\":[\"443\",\"342\"],\"https://images-na.ssl-images-amazon.com/images/I/71xUZYX0S-L._UX522_.jpg\":[\"676\",\"522\"],\"https://images-na.ssl-images-amazon.com/images/I/71xUZYX0S-L._UX385_.jpg\":[\"499\",\"385\"],\"https://images-na.ssl-images-amazon.com/images/I/71xUZYX0S-L._UX569_.jpg\":[\"737\",\"569\"],\"https://images-na.ssl-images-amazon.com/images/I/71xUZYX0S-L._UY879_.jpg\":[\"879\",\"678\"]}}],\"2 Light Steel / 2 Lime\":[{\"large\":\"https://images-na.ssl-images-amazon.com/images/I/41xqrkSynFL.jpg\",\"variant\":\"MAIN\",\"hiRes\":\"https://images-na.ssl-images-amazon.com/images/I/6159MPQViVL._UL1200_.jpg\",\"thumb\":\"https://images-na.ssl-images-amazon.com/images/I/41xqrkSynFL._SR38,50_.jpg\",\"main\":{\"https://images-na.ssl-images-amazon.com/images/I/6159MPQViVL._UY741_.jpg\":[\"741\",\"540\"],\"https://images-na.ssl-images-amazon.com/images/I/6159MPQViVL._UY679_.jpg\":[\"679\",\"495\"],\"https://images-na.ssl-images-amazon.com/images/I/6159MPQViVL._UY606_.jpg\":[\"606\",\"442\"],\"https://images-na.ssl-images-amazon.com/images/I/6159MPQViVL._UY879_.jpg\":[\"879\",\"641\"],\"https://images-na.ssl-images-amazon.com/images/I/6159MPQViVL._UY500_.jpg\":[\"500\",\"365\"],\"https://images-na.ssl-images-amazon.com/images/I/6159MPQViVL._UY550_.jpg\":[\"550\",\"401\"],\"https://images-na.ssl-images-amazon.com/images/I/6159MPQViVL._UY445_.jpg\":[\"445\",\"324\"]}}],\"2 Maroon / 2 Yellow\":[{\"large\":\"https://images-na.ssl-images-amazon.com/images/I/41u-%2BaCwCUL.jpg\",\"variant\":\"MAIN\",\"hiRes\":\"https://images-na.ssl-images-amazon.com/images/I/61oUOUBcI8L._UL1200_.jpg\",\"thumb\":\"https://images-na.ssl-images-amazon.com/images/I/41u-%2BaCwCUL._SR38,50_.jpg\",\"main\":{\"https://images-na.ssl-images-amazon.com/images/I/61oUOUBcI8L._UY741_.jpg\":[\"741\",\"540\"],\"https://images-na.ssl-images-amazon.com/images/I/61oUOUBcI8L._UY679_.jpg\":[\"679\",\"495\"],\"https://images-na.ssl-images-amazon.com/images/I/61oUOUBcI8L._UY500_.jpg\":[\"500\",\"364\"],\"https://images-na.ssl-images-amazon.com/images/I/61oUOUBcI8L._UY879_.jpg\":[\"879\",\"640\"],\"https://images-na.ssl-images-amazon.com/images/I/61oUOUBcI8L._UY606_.jpg\":[\"606\",\"441\"],\"https://images-na.ssl-images-amazon.com/images/I/61oUOUBcI8L._UY445_.jpg\":[\"445\",\"324\"],\"https://images-na.ssl-images-amazon.com/images/I/61oUOUBcI8L._UY550_.jpg\":[\"550\",\"401\"]}}],\"2 Navy / 2 Smoke Grey\":[{\"large\":\"https://images-na.ssl-images-amazon.com/images/I/41QUpTQapmL.jpg\",\"variant\":\"MAIN\",\"hiRes\":\"https://images-na.ssl-images-amazon.com/images/I/61r1ZyG5skL._UL1200_.jpg\",\"thumb\":\"https://images-na.ssl-images-amazon.com/images/I/41QUpTQapmL._SR38,50_.jpg\",\"main\":{\"https://images-na.ssl-images-amazon.com/images/I/61r1ZyG5skL._UX425_.jpg\":[\"549\",\"425\"],\"https://images-na.ssl-images-amazon.com/images/I/61r1ZyG5skL._UX385_.jpg\":[\"497\",\"385\"],\"https://images-na.ssl-images-amazon.com/images/I/61r1ZyG5skL._UX569_.jpg\":[\"735\",\"569\"],\"https://images-na.ssl-images-amazon.com/images/I/61r1ZyG5skL._UX679_.jpg\":[\"877\",\"679\"],\"https://images-na.ssl-images-amazon.com/images/I/61r1ZyG5skL._UX522_.jpg\":[\"674\",\"522\"],\"https://images-na.ssl-images-amazon.com/images/I/61r1ZyG5skL._UX466_.jpg\":[\"602\",\"466\"],\"https://images-na.ssl-images-amazon.com/images/I/61r1ZyG5skL._UX342_.jpg\":[\"442\",\"342\"]}}],\"2 Pale Pink / 2 Smoke Grey\":[{\"large\":\"https://images-na.ssl-images-amazon.com/images/I/417yTvpgkFL.jpg\",\"variant\":\"MAIN\",\"hiRes\":\"https://images-na.ssl-images-amazon.com/images/I/61bV1pTCZWL._UL1200_.jpg\",\"thumb\":\"https://images-na.ssl-images-amazon.com/images/I/417yTvpgkFL._SR38,50_.jpg\",\"main\":{\"https://images-na.ssl-images-amazon.com/images/I/61bV1pTCZWL._UX385_.jpg\":[\"425\",\"385\"],\"https://images-na.ssl-images-amazon.com/images/I/61bV1pTCZWL._UX342_.jpg\":[\"378\",\"342\"],\"https://images-na.ssl-images-amazon.com/images/I/61bV1pTCZWL._UX522_.jpg\":[\"576\",\"522\"],\"https://images-na.ssl-images-amazon.com/images/I/61bV1pTCZWL._UX466_.jpg\":[\"514\",\"466\"],\"https://images-na.ssl-images-amazon.com/images/I/61bV1pTCZWL._UX679_.jpg\":[\"750\",\"679\"],\"https://images-na.ssl-images-amazon.com/images/I/61bV1pTCZWL._UX569_.jpg\":[\"628\",\"569\"],\"https://images-na.ssl-images-amazon.com/images/I/61bV1pTCZWL._UX425_.jpg\":[\"469\",\"425\"]}}],\"2 Black / 2 Purple\":[{\"large\":\"https://images-na.ssl-images-amazon.com/images/I/41mu3AIyTEL.jpg\",\"variant\":\"MAIN\",\"hiRes\":\"https://images-na.ssl-images-amazon.com/images/I/61z7-xGr9fL._UL1200_.jpg\",\"thumb\":\"https://images-na.ssl-images-amazon.com/images/I/41mu3AIyTEL._SR38,50_.jpg\",\"main\":{\"https://images-na.ssl-images-amazon.com/images/I/61z7-xGr9fL._UX569_.jpg\":[\"740\",\"569\"],\"https://images-na.ssl-images-amazon.com/images/I/61z7-xGr9fL._UY500_.jpg\":[\"500\",\"385\"],\"https://images-na.ssl-images-amazon.com/images/I/61z7-xGr9fL._UY879_.jpg\":[\"879\",\"676\"],\"https://images-na.ssl-images-amazon.com/images/I/61z7-xGr9fL._UX466_.jpg\":[\"606\",\"466\"],\"https://images-na.ssl-images-amazon.com/images/I/61z7-xGr9fL._UY550_.jpg\":[\"550\",\"423\"],\"https://images-na.ssl-images-amazon.com/images/I/61z7-xGr9fL._UX342_.jpg\":[\"445\",\"342\"],\"https://images-na.ssl-images-amazon.com/images/I/61z7-xGr9fL._UX522_.jpg\":[\"679\",\"522\"]}}],\"2 Pale Pink / 2 Sand\":[{\"large\":\"https://images-na.ssl-images-amazon.com/images/I/31vvoPSWCdL.jpg\",\"variant\":\"MAIN\",\"hiRes\":\"https://images-na.ssl-images-amazon.com/images/I/61p93wdjCBL._UL1200_.jpg\",\"thumb\":\"https://images-na.ssl-images-amazon.com/images/I/31vvoPSWCdL._SR38,50_.jpg\",\"main\":{\"https://images-na.ssl-images-amazon.com/images/I/61p93wdjCBL._UY879_.jpg\":[\"879\",\"644\"],\"https://images-na.ssl-images-amazon.com/images/I/61p93wdjCBL._UY606_.jpg\":[\"606\",\"444\"],\"https://images-na.ssl-images-amazon.com/images/I/61p93wdjCBL._UY550_.jpg\":[\"550\",\"403\"],\"https://images-na.ssl-images-amazon.com/images/I/61p93wdjCBL._UY445_.jpg\":[\"445\",\"326\"],\"https://images-na.ssl-images-amazon.com/images/I/61p93wdjCBL._UY741_.jpg\":[\"741\",\"543\"],\"https://images-na.ssl-images-amazon.com/images/I/61p93wdjCBL._UY679_.jpg\":[\"679\",\"497\"],\"https://images-na.ssl-images-amazon.com/images/I/61p93wdjCBL._UY500_.jpg\":[\"500\",\"366\"]}}],\"2 Ash / 2 Purple\":[{\"large\":\"https://images-na.ssl-images-amazon.com/images/I/41H1c2-giZL.jpg\",\"variant\":\"MAIN\",\"hiRes\":\"https://images-na.ssl-images-amazon.com/images/I/71GZKYhKlwL._UL1200_.jpg\",\"thumb\":\"https://images-na.ssl-images-amazon.com/images/I/41H1c2-giZL._SR38,50_.jpg\",\"main\":{\"https://images-na.ssl-images-amazon.com/images/I/71GZKYhKlwL._UX466_.jpg\":[\"603\",\"466\"],\"https://images-na.ssl-images-amazon.com/images/I/71GZKYhKlwL._UX522_.jpg\":[\"676\",\"522\"],\"https://images-na.ssl-images-amazon.com/images/I/71GZKYhKlwL._UX385_.jpg\":[\"498\",\"385\"],\"https://images-na.ssl-images-amazon.com/images/I/71GZKYhKlwL._UX569_.jpg\":[\"737\",\"569\"],\"https://images-na.ssl-images-amazon.com/images/I/71GZKYhKlwL._UX679_.jpg\":[\"879\",\"679\"],\"https://images-na.ssl-images-amazon.com/images/I/71GZKYhKlwL._UY550_.jpg\":[\"550\",\"425\"],\"https://images-na.ssl-images-amazon.com/images/I/71GZKYhKlwL._UX342_.jpg\":[\"443\",\"342\"]}}],\"2 Black / 2 Deep Forest\":[{\"large\":\"https://images-na.ssl-images-amazon.com/images/I/411exHES2jL.jpg\",\"variant\":\"MAIN\",\"hiRes\":\"https://images-na.ssl-images-amazon.com/images/I/61USIPiK7iL._UL1200_.jpg\",\"thumb\":\"https://images-na.ssl-images-amazon.com/images/I/411exHES2jL._SR38,50_.jpg\",\"main\":{\"https://images-na.ssl-images-amazon.com/images/I/61USIPiK7iL._UX569_.jpg\":[\"738\",\"569\"],\"https://images-na.ssl-images-amazon.com/images/I/61USIPiK7iL._UX466_.jpg\":[\"605\",\"466\"],\"https://images-na.ssl-images-amazon.com/images/I/61USIPiK7iL._UY879_.jpg\":[\"879\",\"678\"],\"https://images-na.ssl-images-amazon.com/images/I/61USIPiK7iL._UX385_.jpg\":[\"499\",\"385\"],\"https://images-na.ssl-images-amazon.com/images/I/61USIPiK7iL._UX522_.jpg\":[\"677\",\"522\"],\"https://images-na.ssl-images-amazon.com/images/I/61USIPiK7iL._UY550_.jpg\":[\"550\",\"424\"],\"https://images-na.ssl-images-amazon.com/images/I/61USIPiK7iL._UX342_.jpg\":[\"444\",\"342\"]}}],\"2 Navy / 2 Purple\":[{\"large\":\"https://images-na.ssl-images-amazon.com/images/I/41EzndltKbL.jpg\",\"variant\":\"MAIN\",\"hiRes\":\"https://images-na.ssl-images-amazon.com/images/I/61Vy04-6NHL._UL1200_.jpg\",\"thumb\":\"https://images-na.ssl-images-amazon.com/images/I/41EzndltKbL._SR38,50_.jpg\",\"main\":{\"https://images-na.ssl-images-amazon.com/images/I/61Vy04-6NHL._UX522_.jpg\":[\"674\",\"522\"],\"https://images-na.ssl-images-amazon.com/images/I/61Vy04-6NHL._UX385_.jpg\":[\"497\",\"385\"],\"https://images-na.ssl-images-amazon.com/images/I/61Vy04-6NHL._UX466_.jpg\":[\"602\",\"466\"],\"https://images-na.ssl-images-amazon.com/images/I/61Vy04-6NHL._UX425_.jpg\":[\"549\",\"425\"],\"https://images-na.ssl-images-amazon.com/images/I/61Vy04-6NHL._UX679_.jpg\":[\"877\",\"679\"],\"https://images-na.ssl-images-amazon.com/images/I/61Vy04-6NHL._UX569_.jpg\":[\"735\",\"569\"],\"https://images-na.ssl-images-amazon.com/images/I/61Vy04-6NHL._UX342_.jpg\":[\"442\",\"342\"]}}],\"2 Black / 2 Smoke Grey\":[{\"large\":\"https://images-na.ssl-images-amazon.com/images/I/41hqFCyX5uL.jpg\",\"variant\":\"MAIN\",\"hiRes\":\"https://images-na.ssl-images-amazon.com/images/I/61PwgCm0d8L._UL1200_.jpg\",\"thumb\":\"https://images-na.ssl-images-amazon.com/images/I/41hqFCyX5uL._SR38,50_.jpg\",\"main\":{\"https://images-na.ssl-images-amazon.com/images/I/61PwgCm0d8L._UX522_.jpg\":[\"679\",\"522\"],\"https://images-na.ssl-images-amazon.com/images/I/61PwgCm0d8L._UX342_.jpg\":[\"445\",\"342\"],\"https://images-na.ssl-images-amazon.com/images/I/61PwgCm0d8L._UX569_.jpg\":[\"740\",\"569\"],\"https://images-na.ssl-images-amazon.com/images/I/61PwgCm0d8L._UY500_.jpg\":[\"500\",\"385\"],\"https://images-na.ssl-images-amazon.com/images/I/61PwgCm0d8L._UY879_.jpg\":[\"879\",\"676\"],\"https://images-na.ssl-images-amazon.com/images/I/61PwgCm0d8L._UX466_.jpg\":[\"606\",\"466\"],\"https://images-na.ssl-images-amazon.com/images/I/61PwgCm0d8L._UY550_.jpg\":[\"550\",\"423\"]}}],\"Orange\":[{\"large\":\"https://images-na.ssl-images-amazon.com/images/I/41BFCnqG65L.jpg\",\"variant\":\"MAIN\",\"hiRes\":\"https://images-na.ssl-images-amazon.com/images/I/81YtibQxFIL._UL1500_.jpg\",\"thumb\":\"https://images-na.ssl-images-amazon.com/images/I/41BFCnqG65L._SR38,50_.jpg\",\"main\":{\"https://images-na.ssl-images-amazon.com/images/I/81YtibQxFIL._UX466_.jpg\":[\"574\",\"466\"],\"https://images-na.ssl-images-amazon.com/images/I/81YtibQxFIL._UX425_.jpg\":[\"523\",\"425\"],\"https://images-na.ssl-images-amazon.com/images/I/81YtibQxFIL._UX342_.jpg\":[\"421\",\"342\"],\"https://images-na.ssl-images-amazon.com/images/I/81YtibQxFIL._UX569_.jpg\":[\"700\",\"569\"],\"https://images-na.ssl-images-amazon.com/images/I/81YtibQxFIL._UX522_.jpg\":[\"642\",\"522\"],\"https://images-na.ssl-images-amazon.com/images/I/81YtibQxFIL._UX679_.jpg\":[\"836\",\"679\"],\"https://images-na.ssl-images-amazon.com/images/I/81YtibQxFIL._UX385_.jpg\":[\"474\",\"385\"]}}],\"2 Deep Royal / 2 Sand\":[{\"large\":\"https://images-na.ssl-images-amazon.com/images/I/318DQglZ0FL.jpg\",\"variant\":\"MAIN\",\"hiRes\":\"https://images-na.ssl-images-amazon.com/images/I/61jcrs8PjNL._UL1200_.jpg\",\"thumb\":\"https://images-na.ssl-images-amazon.com/images/I/318DQglZ0FL._SR38,50_.jpg\",\"main\":{\"https://images-na.ssl-images-amazon.com/images/I/61jcrs8PjNL._UY606_.jpg\":[\"606\",\"444\"],\"https://images-na.ssl-images-amazon.com/images/I/61jcrs8PjNL._UY879_.jpg\":[\"879\",\"644\"],\"https://images-na.ssl-images-amazon.com/images/I/61jcrs8PjNL._UY445_.jpg\":[\"445\",\"326\"],\"https://images-na.ssl-images-amazon.com/images/I/61jcrs8PjNL._UY550_.jpg\":[\"550\",\"403\"],\"https://images-na.ssl-images-amazon.com/images/I/61jcrs8PjNL._UY500_.jpg\":[\"500\",\"366\"],\"https://images-na.ssl-images-amazon.com/images/I/61jcrs8PjNL._UY679_.jpg\":[\"679\",\"497\"],\"https://images-na.ssl-images-amazon.com/images/I/61jcrs8PjNL._UY741_.jpg\":[\"741\",\"543\"]}}],\"2 Gold / 2 Pale Pink\":[{\"large\":\"https://images-na.ssl-images-amazon.com/images/I/41b9G6VNHLL.jpg\",\"variant\":\"MAIN\",\"hiRes\":\"https://images-na.ssl-images-amazon.com/images/I/61zCrBFtCML._UL1200_.jpg\",\"thumb\":\"https://images-na.ssl-images-amazon.com/images/I/41b9G6VNHLL._SR38,50_.jpg\",\"main\":{\"https://images-na.ssl-images-amazon.com/images/I/61zCrBFtCML._UX385_.jpg\":[\"496\",\"385\"],\"https://images-na.ssl-images-amazon.com/images/I/61zCrBFtCML._UX679_.jpg\":[\"875\",\"679\"],\"https://images-na.ssl-images-amazon.com/images/I/61zCrBFtCML._UX522_.jpg\":[\"673\",\"522\"],\"https://images-na.ssl-images-amazon.com/images/I/61zCrBFtCML._UX466_.jpg\":[\"601\",\"466\"],\"https://images-na.ssl-images-amazon.com/images/I/61zCrBFtCML._UX425_.jpg\":[\"548\",\"425\"],\"https://images-na.ssl-images-amazon.com/images/I/61zCrBFtCML._UX342_.jpg\":[\"441\",\"342\"],\"https://images-na.ssl-images-amazon.com/images/I/61zCrBFtCML._UX569_.jpg\":[\"733\",\"569\"]}}],\"2 Light Blue / 2 Sand\":[{\"large\":\"https://images-na.ssl-images-amazon.com/images/I/31uyp5nOn5L.jpg\",\"variant\":\"MAIN\",\"hiRes\":\"https://images-na.ssl-images-amazon.com/images/I/61Y6UM9UHNL._UL1200_.jpg\",\"thumb\":\"https://images-na.ssl-images-amazon.com/images/I/31uyp5nOn5L._SR38,50_.jpg\",\"main\":{\"https://images-na.ssl-images-amazon.com/images/I/61Y6UM9UHNL._UY445_.jpg\":[\"445\",\"326\"],\"https://images-na.ssl-images-amazon.com/images/I/61Y6UM9UHNL._UY500_.jpg\":[\"500\",\"366\"],\"https://images-na.ssl-images-amazon.com/images/I/61Y6UM9UHNL._UY679_.jpg\":[\"679\",\"497\"],\"https://images-na.ssl-images-amazon.com/images/I/61Y6UM9UHNL._UY879_.jpg\":[\"879\",\"644\"],\"https://images-na.ssl-images-amazon.com/images/I/61Y6UM9UHNL._UY741_.jpg\":[\"741\",\"543\"],\"https://images-na.ssl-images-amazon.com/images/I/61Y6UM9UHNL._UY606_.jpg\":[\"606\",\"444\"],\"https://images-na.ssl-images-amazon.com/images/I/61Y6UM9UHNL._UY550_.jpg\":[\"550\",\"403\"]}}],\"2 Deep Forest / 2 Lime\":[{\"large\":\"https://images-na.ssl-images-amazon.com/images/I/41eJ4tKcvJL.jpg\",\"variant\":\"MAIN\",\"hiRes\":\"https://images-na.ssl-images-amazon.com/images/I/61StHyafmJL._UL1200_.jpg\",\"thumb\":\"https://images-na.ssl-images-amazon.com/images/I/41eJ4tKcvJL._SR38,50_.jpg\",\"main\":{\"https://images-na.ssl-images-amazon.com/images/I/61StHyafmJL._UY879_.jpg\":[\"879\",\"646\"],\"https://images-na.ssl-images-amazon.com/images/I/61StHyafmJL._UY550_.jpg\":[\"550\",\"404\"],\"https://images-na.ssl-images-amazon.com/images/I/61StHyafmJL._UY679_.jpg\":[\"679\",\"499\"],\"https://images-na.ssl-images-amazon.com/images/I/61StHyafmJL._UY741_.jpg\":[\"741\",\"545\"],\"https://images-na.ssl-images-amazon.com/images/I/61StHyafmJL._UY606_.jpg\":[\"606\",\"445\"],\"https://images-na.ssl-images-amazon.com/images/I/61StHyafmJL._UY500_.jpg\":[\"500\",\"368\"],\"https://images-na.ssl-images-amazon.com/images/I/61StHyafmJL._UY445_.jpg\":[\"445\",\"327\"]}}],\"Black/Heather Ash\":[{\"large\":\"https://images-na.ssl-images-amazon.com/images/I/41pqYQdliML.jpg\",\"variant\":\"MAIN\",\"hiRes\":\"https://images-na.ssl-images-amazon.com/images/I/71HyZAvUTKL._UL1500_.jpg\",\"thumb\":\"https://images-na.ssl-images-amazon.com/images/I/41pqYQdliML._SR38,50_.jpg\",\"main\":{\"https://images-na.ssl-images-amazon.com/images/I/71HyZAvUTKL._UX466_.jpg\":[\"582\",\"466\"],\"https://images-na.ssl-images-amazon.com/images/I/71HyZAvUTKL._UX569_.jpg\":[\"711\",\"569\"],\"https://images-na.ssl-images-amazon.com/images/I/71HyZAvUTKL._UX679_.jpg\":[\"849\",\"679\"],\"https://images-na.ssl-images-amazon.com/images/I/71HyZAvUTKL._UX425_.jpg\":[\"531\",\"425\"],\"https://images-na.ssl-images-amazon.com/images/I/71HyZAvUTKL._UX342_.jpg\":[\"427\",\"342\"],\"https://images-na.ssl-images-amazon.com/images/I/71HyZAvUTKL._UX522_.jpg\":[\"652\",\"522\"],\"https://images-na.ssl-images-amazon.com/images/I/71HyZAvUTKL._UX385_.jpg\":[\"481\",\"385\"]}}],\"2 Pale Pink / 2 Purple\":[{\"large\":\"https://images-na.ssl-images-amazon.com/images/I/41wjyWDptIL.jpg\",\"variant\":\"MAIN\",\"hiRes\":\"https://images-na.ssl-images-amazon.com/images/I/613WWJD9eFL._UL1200_.jpg\",\"thumb\":\"https://images-na.ssl-images-amazon.com/images/I/41wjyWDptIL._SR38,50_.jpg\",\"main\":{\"https://images-na.ssl-images-amazon.com/images/I/613WWJD9eFL._UX522_.jpg\":[\"575\",\"522\"],\"https://images-na.ssl-images-amazon.com/images/I/613WWJD9eFL._UX569_.jpg\":[\"627\",\"569\"],\"https://images-na.ssl-images-amazon.com/images/I/613WWJD9eFL._UX425_.jpg\":[\"468\",\"425\"],\"https://images-na.ssl-images-amazon.com/images/I/613WWJD9eFL._UX385_.jpg\":[\"424\",\"385\"],\"https://images-na.ssl-images-amazon.com/images/I/613WWJD9eFL._UX342_.jpg\":[\"377\",\"342\"],\"https://images-na.ssl-images-amazon.com/images/I/613WWJD9eFL._UX679_.jpg\":[\"748\",\"679\"],\"https://images-na.ssl-images-amazon.com/images/I/613WWJD9eFL._UX466_.jpg\":[\"513\",\"466\"]}}],\"Ash\":[{\"large\":\"https://images-na.ssl-images-amazon.com/images/I/41ynwdOlpmL.jpg\",\"variant\":\"MAIN\",\"hiRes\":\"https://images-na.ssl-images-amazon.com/images/I/913-1ZxQgOL._UL1500_.jpg\",\"thumb\":\"https://images-na.ssl-images-amazon.com/images/I/41ynwdOlpmL._SR38,50_.jpg\",\"main\":{\"https://images-na.ssl-images-amazon.com/images/I/913-1ZxQgOL._UX385_.jpg\":[\"474\",\"385\"],\"https://images-na.ssl-images-amazon.com/images/I/913-1ZxQgOL._UX569_.jpg\":[\"700\",\"569\"],\"https://images-na.ssl-images-amazon.com/images/I/913-1ZxQgOL._UX342_.jpg\":[\"421\",\"342\"],\"https://images-na.ssl-images-amazon.com/images/I/913-1ZxQgOL._UX522_.jpg\":[\"642\",\"522\"],\"https://images-na.ssl-images-amazon.com/images/I/913-1ZxQgOL._UX425_.jpg\":[\"523\",\"425\"],\"https://images-na.ssl-images-amazon.com/images/I/913-1ZxQgOL._UX679_.jpg\":[\"836\",\"679\"],\"https://images-na.ssl-images-amazon.com/images/I/913-1ZxQgOL._UX466_.jpg\":[\"574\",\"466\"]}}],\"2 Orange / 2 Deep Red\":[{\"large\":\"https://images-na.ssl-images-amazon.com/images/I/41QoeTuyqxL.jpg\",\"variant\":\"MAIN\",\"hiRes\":\"https://images-na.ssl-images-amazon.com/images/I/61LC9DyVdGL._UL1200_.jpg\",\"thumb\":\"https://images-na.ssl-images-amazon.com/images/I/41QoeTuyqxL._SR38,50_.jpg\",\"main\":{\"https://images-na.ssl-images-amazon.com/images/I/61LC9DyVdGL._UX679_.jpg\":[\"879\",\"679\"],\"https://images-na.ssl-images-amazon.com/images/I/61LC9DyVdGL._UX522_.jpg\":[\"676\",\"522\"],\"https://images-na.ssl-images-amazon.com/images/I/61LC9DyVdGL._UY550_.jpg\":[\"550\",\"425\"],\"https://images-na.ssl-images-amazon.com/images/I/61LC9DyVdGL._UX569_.jpg\":[\"737\",\"569\"],\"https://images-na.ssl-images-amazon.com/images/I/61LC9DyVdGL._UX385_.jpg\":[\"498\",\"385\"],\"https://images-na.ssl-images-amazon.com/images/I/61LC9DyVdGL._UX466_.jpg\":[\"603\",\"466\"],\"https://images-na.ssl-images-amazon.com/images/I/61LC9DyVdGL._UX342_.jpg\":[\"443\",\"342\"]}}],\"2 Deep Forest / 2 Deep Royal\":[{\"large\":\"https://images-na.ssl-images-amazon.com/images/I/41-GEXTS%2BVL.jpg\",\"variant\":\"MAIN\",\"hiRes\":\"https://images-na.ssl-images-amazon.com/images/I/61DSZAsLIHL._UL1200_.jpg\",\"thumb\":\"https://images-na.ssl-images-amazon.com/images/I/41-GEXTS%2BVL._SR38,50_.jpg\",\"main\":{\"https://images-na.ssl-images-amazon.com/images/I/61DSZAsLIHL._UX466_.jpg\":[\"605\",\"466\"],\"https://images-na.ssl-images-amazon.com/images/I/61DSZAsLIHL._UX522_.jpg\":[\"678\",\"522\"],\"https://images-na.ssl-images-amazon.com/images/I/61DSZAsLIHL._UY500_.jpg\":[\"500\",\"385\"],\"https://images-na.ssl-images-amazon.com/images/I/61DSZAsLIHL._UX342_.jpg\":[\"444\",\"342\"],\"https://images-na.ssl-images-amazon.com/images/I/61DSZAsLIHL._UX569_.jpg\":[\"739\",\"569\"],\"https://images-na.ssl-images-amazon.com/images/I/61DSZAsLIHL._UY550_.jpg\":[\"550\",\"424\"],\"https://images-na.ssl-images-amazon.com/images/I/61DSZAsLIHL._UY879_.jpg\":[\"879\",\"677\"]}}],\"2 Black / 2 Light Blue\":[{\"large\":\"https://images-na.ssl-images-amazon.com/images/I/41S6AyrYrNL.jpg\",\"variant\":\"MAIN\",\"hiRes\":\"https://images-na.ssl-images-amazon.com/images/I/61d8MraOibL._UL1200_.jpg\",\"thumb\":\"https://images-na.ssl-images-amazon.com/images/I/41S6AyrYrNL._SR38,50_.jpg\",\"main\":{\"https://images-na.ssl-images-amazon.com/images/I/61d8MraOibL._UY445_.jpg\":[\"445\",\"342\"],\"https://images-na.ssl-images-amazon.com/images/I/61d8MraOibL._UX569_.jpg\":[\"741\",\"569\"],\"https://images-na.ssl-images-amazon.com/images/I/61d8MraOibL._UY606_.jpg\":[\"606\",\"466\"],\"https://images-na.ssl-images-amazon.com/images/I/61d8MraOibL._UY500_.jpg\":[\"500\",\"384\"],\"https://images-na.ssl-images-amazon.com/images/I/61d8MraOibL._UY879_.jpg\":[\"879\",\"675\"],\"https://images-na.ssl-images-amazon.com/images/I/61d8MraOibL._UY679_.jpg\":[\"679\",\"522\"],\"https://images-na.ssl-images-amazon.com/images/I/61d8MraOibL._UY550_.jpg\":[\"550\",\"423\"]}}],\"2 Sand / 2 Smoke Grey\":[{\"large\":\"https://images-na.ssl-images-amazon.com/images/I/31xmxAL%2BQrL.jpg\",\"variant\":\"MAIN\",\"hiRes\":\"https://images-na.ssl-images-amazon.com/images/I/615Kt%2BTQStL._UL1200_.jpg\",\"thumb\":\"https://images-na.ssl-images-amazon.com/images/I/31xmxAL%2BQrL._SR38,50_.jpg\",\"main\":{\"https://images-na.ssl-images-amazon.com/images/I/615Kt%2BTQStL._UY879_.jpg\":[\"879\",\"642\"],\"https://images-na.ssl-images-amazon.com/images/I/615Kt%2BTQStL._UY550_.jpg\":[\"550\",\"402\"],\"https://images-na.ssl-images-amazon.com/images/I/615Kt%2BTQStL._UY445_.jpg\":[\"445\",\"325\"],\"https://images-na.ssl-images-amazon.com/images/I/615Kt%2BTQStL._UY606_.jpg\":[\"606\",\"442\"],\"https://images-na.ssl-images-amazon.com/images/I/615Kt%2BTQStL._UY679_.jpg\":[\"679\",\"496\"],\"https://images-na.ssl-images-amazon.com/images/I/615Kt%2BTQStL._UY741_.jpg\":[\"741\",\"541\"],\"https://images-na.ssl-images-amazon.com/images/I/615Kt%2BTQStL._UY500_.jpg\":[\"500\",\"365\"]}}],\"2 Deep Red / 2 Pale Pink\":[{\"large\":\"https://images-na.ssl-images-amazon.com/images/I/41Fsuh4mljL.jpg\",\"variant\":\"MAIN\",\"hiRes\":\"https://images-na.ssl-images-amazon.com/images/I/61JKHyAxOuL._UL1200_.jpg\",\"thumb\":\"https://images-na.ssl-images-amazon.com/images/I/41Fsuh4mljL._SR38,50_.jpg\",\"main\":{\"https://images-na.ssl-images-amazon.com/images/I/61JKHyAxOuL._UX342_.jpg\":[\"435\",\"342\"],\"https://images-na.ssl-images-amazon.com/images/I/61JKHyAxOuL._UX679_.jpg\":[\"864\",\"679\"],\"https://images-na.ssl-images-amazon.com/images/I/61JKHyAxOuL._UX569_.jpg\":[\"724\",\"569\"],\"https://images-na.ssl-images-amazon.com/images/I/61JKHyAxOuL._UX425_.jpg\":[\"541\",\"425\"],\"https://images-na.ssl-images-amazon.com/images/I/61JKHyAxOuL._UX466_.jpg\":[\"593\",\"466\"],\"https://images-na.ssl-images-amazon.com/images/I/61JKHyAxOuL._UX522_.jpg\":[\"664\",\"522\"],\"https://images-na.ssl-images-amazon.com/images/I/61JKHyAxOuL._UX385_.jpg\":[\"490\",\"385\"]}}],\"2 Ash / 2 Sand\":[{\"large\":\"https://images-na.ssl-images-amazon.com/images/I/31StyTy6cxL.jpg\",\"variant\":\"MAIN\",\"hiRes\":\"https://images-na.ssl-images-amazon.com/images/I/61IJMgXpfFL._UL1200_.jpg\",\"thumb\":\"https://images-na.ssl-images-amazon.com/images/I/31StyTy6cxL._SR38,50_.jpg\",\"main\":{\"https://images-na.ssl-images-amazon.com/images/I/61IJMgXpfFL._UY606_.jpg\":[\"606\",\"443\"],\"https://images-na.ssl-images-amazon.com/images/I/61IJMgXpfFL._UY500_.jpg\":[\"500\",\"366\"],\"https://images-na.ssl-images-amazon.com/images/I/61IJMgXpfFL._UY550_.jpg\":[\"550\",\"402\"],\"https://images-na.ssl-images-amazon.com/images/I/61IJMgXpfFL._UY741_.jpg\":[\"741\",\"542\"],\"https://images-na.ssl-images-amazon.com/images/I/61IJMgXpfFL._UY879_.jpg\":[\"879\",\"643\"],\"https://images-na.ssl-images-amazon.com/images/I/61IJMgXpfFL._UY679_.jpg\":[\"679\",\"497\"],\"https://images-na.ssl-images-amazon.com/images/I/61IJMgXpfFL._UY445_.jpg\":[\"445\",\"326\"]}}],\"-White\":[{\"large\":\"https://images-na.ssl-images-amazon.com/images/I/310WqZDmlnL.jpg\",\"variant\":\"MAIN\",\"hiRes\":\"https://images-na.ssl-images-amazon.com/images/I/61Uu90UipcL._UL1500_.jpg\",\"thumb\":\"https://images-na.ssl-images-amazon.com/images/I/310WqZDmlnL._SR38,50_.jpg\",\"main\":{\"https://images-na.ssl-images-amazon.com/images/I/61Uu90UipcL._UX522_.jpg\":[\"652\",\"522\"],\"https://images-na.ssl-images-amazon.com/images/I/61Uu90UipcL._UX342_.jpg\":[\"427\",\"342\"],\"https://images-na.ssl-images-amazon.com/images/I/61Uu90UipcL._UX569_.jpg\":[\"711\",\"569\"],\"https://images-na.ssl-images-amazon.com/images/I/61Uu90UipcL._UX466_.jpg\":[\"582\",\"466\"],\"https://images-na.ssl-images-amazon.com/images/I/61Uu90UipcL._UX385_.jpg\":[\"481\",\"385\"],\"https://images-na.ssl-images-amazon.com/images/I/61Uu90UipcL._UX679_.jpg\":[\"849\",\"679\"],\"https://images-na.ssl-images-amazon.com/images/I/61Uu90UipcL._UX425_.jpg\":[\"531\",\"425\"]}},{\"large\":\"https://images-na.ssl-images-amazon.com/images/I/310WqZDmlnL.jpg\",\"variant\":\"PT01\",\"hiRes\":\"https://images-na.ssl-images-amazon.com/images/I/61Uu90UipcL._UL1500_.jpg\",\"thumb\":\"https://images-na.ssl-images-amazon.com/images/I/310WqZDmlnL._SR38,50_.jpg\",\"main\":{\"https://images-na.ssl-images-amazon.com/images/I/61Uu90UipcL._UX522_.jpg\":[\"652\",\"522\"],\"https://images-na.ssl-images-amazon.com/images/I/61Uu90UipcL._UX342_.jpg\":[\"427\",\"342\"],\"https://images-na.ssl-images-amazon.com/images/I/61Uu90UipcL._UX569_.jpg\":[\"711\",\"569\"],\"https://images-na.ssl-images-amazon.com/images/I/61Uu90UipcL._UX466_.jpg\":[\"582\",\"466\"],\"https://images-na.ssl-images-amazon.com/images/I/61Uu90UipcL._UX385_.jpg\":[\"481\",\"385\"],\"https://images-na.ssl-images-amazon.com/images/I/61Uu90UipcL._UX679_.jpg\":[\"849\",\"679\"],\"https://images-na.ssl-images-amazon.com/images/I/61Uu90UipcL._UX425_.jpg\":[\"531\",\"425\"]}},{\"large\":\"https://images-na.ssl-images-amazon.com/images/I/31ZztBCg6FL.jpg\",\"variant\":\"PT02\",\"hiRes\":\"https://images-na.ssl-images-amazon.com/images/I/51iRT3QLoBL._UL1500_.jpg\",\"thumb\":\"https://images-na.ssl-images-amazon.com/images/I/31ZztBCg6FL._SR38,50_.jpg\",\"main\":{\"https://images-na.ssl-images-amazon.com/images/I/51iRT3QLoBL._UX679_.jpg\":[\"849\",\"679\"],\"https://images-na.ssl-images-amazon.com/images/I/51iRT3QLoBL._UX466_.jpg\":[\"582\",\"466\"],\"https://images-na.ssl-images-amazon.com/images/I/51iRT3QLoBL._UX522_.jpg\":[\"652\",\"522\"],\"https://images-na.ssl-images-amazon.com/images/I/51iRT3QLoBL._UX569_.jpg\":[\"711\",\"569\"],\"https://images-na.ssl-images-amazon.com/images/I/51iRT3QLoBL._UX425_.jpg\":[\"531\",\"425\"],\"https://images-na.ssl-images-amazon.com/images/I/51iRT3QLoBL._UX385_.jpg\":[\"481\",\"385\"],\"https://images-na.ssl-images-amazon.com/images/I/51iRT3QLoBL._UX342_.jpg\":[\"427\",\"342\"]}}],\"2 Ash / 2 Smoke Grey\":[{\"large\":\"https://images-na.ssl-images-amazon.com/images/I/41sUoO9OFZL.jpg\",\"variant\":\"MAIN\",\"hiRes\":\"https://images-na.ssl-images-amazon.com/images/I/716ghCqGboL._UL1200_.jpg\",\"thumb\":\"https://images-na.ssl-images-amazon.com/images/I/41sUoO9OFZL._SR38,50_.jpg\",\"main\":{\"https://images-na.ssl-images-amazon.com/images/I/716ghCqGboL._UX466_.jpg\":[\"603\",\"466\"],\"https://images-na.ssl-images-amazon.com/images/I/716ghCqGboL._UX385_.jpg\":[\"498\",\"385\"],\"https://images-na.ssl-images-amazon.com/images/I/716ghCqGboL._UX679_.jpg\":[\"879\",\"679\"],\"https://images-na.ssl-images-amazon.com/images/I/716ghCqGboL._UX569_.jpg\":[\"737\",\"569\"],\"https://images-na.ssl-images-amazon.com/images/I/716ghCqGboL._UX342_.jpg\":[\"443\",\"342\"],\"https://images-na.ssl-images-amazon.com/images/I/716ghCqGboL._UX522_.jpg\":[\"676\",\"522\"],\"https://images-na.ssl-images-amazon.com/images/I/716ghCqGboL._UY550_.jpg\":[\"550\",\"425\"]}}],\"2 Maroon / 2 Smoke Grey\":[{\"large\":\"https://images-na.ssl-images-amazon.com/images/I/318OjOigxvL.jpg\",\"variant\":\"MAIN\",\"hiRes\":\"https://images-na.ssl-images-amazon.com/images/I/61v5etWtMiL._UL1200_.jpg\",\"thumb\":\"https://images-na.ssl-images-amazon.com/images/I/318OjOigxvL._SR38,50_.jpg\",\"main\":{\"https://images-na.ssl-images-amazon.com/images/I/61v5etWtMiL._UY445_.jpg\":[\"445\",\"323\"],\"https://images-na.ssl-images-amazon.com/images/I/61v5etWtMiL._UY550_.jpg\":[\"550\",\"399\"],\"https://images-na.ssl-images-amazon.com/images/I/61v5etWtMiL._UY741_.jpg\":[\"741\",\"538\"],\"https://images-na.ssl-images-amazon.com/images/I/61v5etWtMiL._UY500_.jpg\":[\"500\",\"363\"],\"https://images-na.ssl-images-amazon.com/images/I/61v5etWtMiL._UY679_.jpg\":[\"679\",\"493\"],\"https://images-na.ssl-images-amazon.com/images/I/61v5etWtMiL._UY879_.jpg\":[\"879\",\"638\"],\"https://images-na.ssl-images-amazon.com/images/I/61v5etWtMiL._UY606_.jpg\":[\"606\",\"440\"]}}],\"2 Light Blue / 2 Smoke Grey\":[{\"large\":\"https://images-na.ssl-images-amazon.com/images/I/41fv-F41U1L.jpg\",\"variant\":\"MAIN\",\"hiRes\":\"https://images-na.ssl-images-amazon.com/images/I/61oS2nOf2IL._UL1200_.jpg\",\"thumb\":\"https://images-na.ssl-images-amazon.com/images/I/41fv-F41U1L._SR38,50_.jpg\",\"main\":{\"https://images-na.ssl-images-amazon.com/images/I/61oS2nOf2IL._UX385_.jpg\":[\"497\",\"385\"],\"https://images-na.ssl-images-amazon.com/images/I/61oS2nOf2IL._UX522_.jpg\":[\"674\",\"522\"],\"https://images-na.ssl-images-amazon.com/images/I/61oS2nOf2IL._UX679_.jpg\":[\"876\",\"679\"],\"https://images-na.ssl-images-amazon.com/images/I/61oS2nOf2IL._UX425_.jpg\":[\"548\",\"425\"],\"https://images-na.ssl-images-amazon.com/images/I/61oS2nOf2IL._UX342_.jpg\":[\"441\",\"342\"],\"https://images-na.ssl-images-amazon.com/images/I/61oS2nOf2IL._UX569_.jpg\":[\"734\",\"569\"],\"https://images-na.ssl-images-amazon.com/images/I/61oS2nOf2IL._UX466_.jpg\":[\"601\",\"466\"]}}],\"Gold\":[{\"large\":\"https://images-na.ssl-images-amazon.com/images/I/41W%2BPlvGoEL.jpg\",\"variant\":\"MAIN\",\"hiRes\":\"https://images-na.ssl-images-amazon.com/images/I/61HdSxBkMcL._UL1200_.jpg\",\"thumb\":\"https://images-na.ssl-images-amazon.com/images/I/41W%2BPlvGoEL._SR38,50_.jpg\",\"main\":{\"https://images-na.ssl-images-amazon.com/images/I/61HdSxBkMcL._UX385_.jpg\":[\"484\",\"385\"],\"https://images-na.ssl-images-amazon.com/images/I/61HdSxBkMcL._UX679_.jpg\":[\"853\",\"679\"],\"https://images-na.ssl-images-amazon.com/images/I/61HdSxBkMcL._UX342_.jpg\":[\"430\",\"342\"],\"https://images-na.ssl-images-amazon.com/images/I/61HdSxBkMcL._UX425_.jpg\":[\"534\",\"425\"],\"https://images-na.ssl-images-amazon.com/images/I/61HdSxBkMcL._UX522_.jpg\":[\"656\",\"522\"],\"https://images-na.ssl-images-amazon.com/images/I/61HdSxBkMcL._UX569_.jpg\":[\"715\",\"569\"],\"https://images-na.ssl-images-amazon.com/images/I/61HdSxBkMcL._UX466_.jpg\":[\"586\",\"466\"]}}],\"2 Deep Forest / 2 Navy\":[{\"large\":\"https://images-na.ssl-images-amazon.com/images/I/41XYhAlnifL.jpg\",\"variant\":\"MAIN\",\"hiRes\":\"https://images-na.ssl-images-amazon.com/images/I/61kSVKL0n5L._UL1200_.jpg\",\"thumb\":\"https://images-na.ssl-images-amazon.com/images/I/41XYhAlnifL._SR38,50_.jpg\",\"main\":{\"https://images-na.ssl-images-amazon.com/images/I/61kSVKL0n5L._UX569_.jpg\":[\"737\",\"569\"],\"https://images-na.ssl-images-amazon.com/images/I/61kSVKL0n5L._UY550_.jpg\":[\"550\",\"424\"],\"https://images-na.ssl-images-amazon.com/images/I/61kSVKL0n5L._UX522_.jpg\":[\"676\",\"522\"],\"https://images-na.ssl-images-amazon.com/images/I/61kSVKL0n5L._UX466_.jpg\":[\"604\",\"466\"],\"https://images-na.ssl-images-amazon.com/images/I/61kSVKL0n5L._UY879_.jpg\":[\"879\",\"678\"],\"https://images-na.ssl-images-amazon.com/images/I/61kSVKL0n5L._UX385_.jpg\":[\"499\",\"385\"],\"https://images-na.ssl-images-amazon.com/images/I/61kSVKL0n5L._UX342_.jpg\":[\"443\",\"342\"]}}],\"2 Light Steel / 2 White\":[{\"large\":\"https://images-na.ssl-images-amazon.com/images/I/41mTkh2pwTL.jpg\",\"variant\":\"MAIN\",\"hiRes\":\"https://images-na.ssl-images-amazon.com/images/I/61Dpt0LSGnL._UL1200_.jpg\",\"thumb\":\"https://images-na.ssl-images-amazon.com/images/I/41mTkh2pwTL._SR38,50_.jpg\",\"main\":{\"https://images-na.ssl-images-amazon.com/images/I/61Dpt0LSGnL._UX385_.jpg\":[\"494\",\"385\"],\"https://images-na.ssl-images-amazon.com/images/I/61Dpt0LSGnL._UX342_.jpg\":[\"439\",\"342\"],\"https://images-na.ssl-images-amazon.com/images/I/61Dpt0LSGnL._UX425_.jpg\":[\"545\",\"425\"],\"https://images-na.ssl-images-amazon.com/images/I/61Dpt0LSGnL._UX679_.jpg\":[\"871\",\"679\"],\"https://images-na.ssl-images-amazon.com/images/I/61Dpt0LSGnL._UX569_.jpg\":[\"730\",\"569\"],\"https://images-na.ssl-images-amazon.com/images/I/61Dpt0LSGnL._UX522_.jpg\":[\"670\",\"522\"],\"https://images-na.ssl-images-amazon.com/images/I/61Dpt0LSGnL._UX466_.jpg\":[\"598\",\"466\"]}}],\"Juniper\":[{\"large\":\"https://images-na.ssl-images-amazon.com/images/I/41u-BFrN%2BVL.jpg\",\"variant\":\"MAIN\",\"hiRes\":\"https://images-na.ssl-images-amazon.com/images/I/91M70MnL78L._UL1500_.jpg\",\"thumb\":\"https://images-na.ssl-images-amazon.com/images/I/41u-BFrN%2BVL._SR38,50_.jpg\",\"main\":{\"https://images-na.ssl-images-amazon.com/images/I/91M70MnL78L._UX569_.jpg\":[\"700\",\"569\"],\"https://images-na.ssl-images-amazon.com/images/I/91M70MnL78L._UX522_.jpg\":[\"642\",\"522\"],\"https://images-na.ssl-images-amazon.com/images/I/91M70MnL78L._UX466_.jpg\":[\"574\",\"466\"],\"https://images-na.ssl-images-amazon.com/images/I/91M70MnL78L._UX385_.jpg\":[\"474\",\"385\"],\"https://images-na.ssl-images-amazon.com/images/I/91M70MnL78L._UX679_.jpg\":[\"836\",\"679\"],\"https://images-na.ssl-images-amazon.com/images/I/91M70MnL78L._UX425_.jpg\":[\"523\",\"425\"],\"https://images-na.ssl-images-amazon.com/images/I/91M70MnL78L._UX342_.jpg\":[\"421\",\"342\"]}}],\"Deep Royal\":[{\"large\":\"https://images-na.ssl-images-amazon.com/images/I/41%2BR-6Nh9EL.jpg\",\"variant\":\"MAIN\",\"hiRes\":\"https://images-na.ssl-images-amazon.com/images/I/913RZ%2B1jKmL._UL1500_.jpg\",\"thumb\":\"https://images-na.ssl-images-amazon.com/images/I/41%2BR-6Nh9EL._SR38,50_.jpg\",\"main\":{\"https://images-na.ssl-images-amazon.com/images/I/913RZ%2B1jKmL._UX466_.jpg\":[\"574\",\"466\"],\"https://images-na.ssl-images-amazon.com/images/I/913RZ%2B1jKmL._UX425_.jpg\":[\"523\",\"425\"],\"https://images-na.ssl-images-amazon.com/images/I/913RZ%2B1jKmL._UX385_.jpg\":[\"474\",\"385\"],\"https://images-na.ssl-images-amazon.com/images/I/913RZ%2B1jKmL._UX679_.jpg\":[\"836\",\"679\"],\"https://images-na.ssl-images-amazon.com/images/I/913RZ%2B1jKmL._UX569_.jpg\":[\"700\",\"569\"],\"https://images-na.ssl-images-amazon.com/images/I/913RZ%2B1jKmL._UX522_.jpg\":[\"642\",\"522\"],\"https://images-na.ssl-images-amazon.com/images/I/913RZ%2B1jKmL._UX342_.jpg\":[\"421\",\"342\"]}}],\"2 Maroon / 2 Gold\":[{\"large\":\"https://images-na.ssl-images-amazon.com/images/I/41tohhT4DaL.jpg\",\"variant\":\"MAIN\",\"hiRes\":\"https://images-na.ssl-images-amazon.com/images/I/61I6rwzA15L._UL1200_.jpg\",\"thumb\":\"https://images-na.ssl-images-amazon.com/images/I/41tohhT4DaL._SR38,50_.jpg\",\"main\":{\"https://images-na.ssl-images-amazon.com/images/I/61I6rwzA15L._UY741_.jpg\":[\"741\",\"540\"],\"https://images-na.ssl-images-amazon.com/images/I/61I6rwzA15L._UY550_.jpg\":[\"550\",\"401\"],\"https://images-na.ssl-images-amazon.com/images/I/61I6rwzA15L._UY500_.jpg\":[\"500\",\"364\"],\"https://images-na.ssl-images-amazon.com/images/I/61I6rwzA15L._UY445_.jpg\":[\"445\",\"324\"],\"https://images-na.ssl-images-amazon.com/images/I/61I6rwzA15L._UY879_.jpg\":[\"879\",\"640\"],\"https://images-na.ssl-images-amazon.com/images/I/61I6rwzA15L._UY679_.jpg\":[\"679\",\"495\"],\"https://images-na.ssl-images-amazon.com/images/I/61I6rwzA15L._UY606_.jpg\":[\"606\",\"441\"]}}],\"White\":[{\"large\":\"https://images-na.ssl-images-amazon.com/images/I/41pH2UfiEZL.jpg\",\"variant\":\"MAIN\",\"hiRes\":\"https://images-na.ssl-images-amazon.com/images/I/814-cvNfrML._UL1500_.jpg\",\"thumb\":\"https://images-na.ssl-images-amazon.com/images/I/41pH2UfiEZL._SR38,50_.jpg\",\"main\":{\"https://images-na.ssl-images-amazon.com/images/I/814-cvNfrML._UX385_.jpg\":[\"474\",\"385\"],\"https://images-na.ssl-images-amazon.com/images/I/814-cvNfrML._UX342_.jpg\":[\"421\",\"342\"],\"https://images-na.ssl-images-amazon.com/images/I/814-cvNfrML._UX679_.jpg\":[\"836\",\"679\"],\"https://images-na.ssl-images-amazon.com/images/I/814-cvNfrML._UX522_.jpg\":[\"642\",\"522\"],\"https://images-na.ssl-images-amazon.com/images/I/814-cvNfrML._UX466_.jpg\":[\"574\",\"466\"],\"https://images-na.ssl-images-amazon.com/images/I/814-cvNfrML._UX425_.jpg\":[\"523\",\"425\"],\"https://images-na.ssl-images-amazon.com/images/I/814-cvNfrML._UX569_.jpg\":[\"700\",\"569\"]}}],\"Light Steel\":[{\"large\":\"https://images-na.ssl-images-amazon.com/images/I/41T-xOjFlFL.jpg\",\"variant\":\"MAIN\",\"hiRes\":\"https://images-na.ssl-images-amazon.com/images/I/91pETNI4XDL._UL1500_.jpg\",\"thumb\":\"https://images-na.ssl-images-amazon.com/images/I/41T-xOjFlFL._SR38,50_.jpg\",\"main\":{\"https://images-na.ssl-images-amazon.com/images/I/91pETNI4XDL._UX522_.jpg\":[\"642\",\"522\"],\"https://images-na.ssl-images-amazon.com/images/I/91pETNI4XDL._UX679_.jpg\":[\"836\",\"679\"],\"https://images-na.ssl-images-amazon.com/images/I/91pETNI4XDL._UX425_.jpg\":[\"523\",\"425\"],\"https://images-na.ssl-images-amazon.com/images/I/91pETNI4XDL._UX385_.jpg\":[\"474\",\"385\"],\"https://images-na.ssl-images-amazon.com/images/I/91pETNI4XDL._UX466_.jpg\":[\"574\",\"466\"],\"https://images-na.ssl-images-amazon.com/images/I/91pETNI4XDL._UX342_.jpg\":[\"421\",\"342\"],\"https://images-na.ssl-images-amazon.com/images/I/91pETNI4XDL._UX569_.jpg\":[\"700\",\"569\"]}}],\"2 Light Blue / 2 Lime\":[{\"large\":\"https://images-na.ssl-images-amazon.com/images/I/41SVuu68yaL.jpg\",\"variant\":\"MAIN\",\"hiRes\":\"https://images-na.ssl-images-amazon.com/images/I/61i-JIzy1SL._UL1200_.jpg\",\"thumb\":\"https://images-na.ssl-images-amazon.com/images/I/41SVuu68yaL._SR38,50_.jpg\",\"main\":{\"https://images-na.ssl-images-amazon.com/images/I/61i-JIzy1SL._UY741_.jpg\":[\"741\",\"545\"],\"https://images-na.ssl-images-amazon.com/images/I/61i-JIzy1SL._UY679_.jpg\":[\"679\",\"500\"],\"https://images-na.ssl-images-amazon.com/images/I/61i-JIzy1SL._UY606_.jpg\":[\"606\",\"446\"],\"https://images-na.ssl-images-amazon.com/images/I/61i-JIzy1SL._UY500_.jpg\":[\"500\",\"368\"],\"https://images-na.ssl-images-amazon.com/images/I/61i-JIzy1SL._UY445_.jpg\":[\"445\",\"327\"],\"https://images-na.ssl-images-amazon.com/images/I/61i-JIzy1SL._UY879_.jpg\":[\"879\",\"647\"],\"https://images-na.ssl-images-amazon.com/images/I/61i-JIzy1SL._UY550_.jpg\":[\"550\",\"405\"]}}],\"2 Denim Blue / 2 Orange\":[{\"large\":\"https://images-na.ssl-images-amazon.com/images/I/41B9newOo5L.jpg\",\"variant\":\"MAIN\",\"hiRes\":\"https://images-na.ssl-images-amazon.com/images/I/617x0BLDtdL._UL1200_.jpg\",\"thumb\":\"https://images-na.ssl-images-amazon.com/images/I/41B9newOo5L._SR38,50_.jpg\",\"main\":{\"https://images-na.ssl-images-amazon.com/images/I/617x0BLDtdL._UX569_.jpg\":[\"738\",\"569\"],\"https://images-na.ssl-images-amazon.com/images/I/617x0BLDtdL._UY879_.jpg\":[\"879\",\"678\"],\"https://images-na.ssl-images-amazon.com/images/I/617x0BLDtdL._UX385_.jpg\":[\"499\",\"385\"],\"https://images-na.ssl-images-amazon.com/images/I/617x0BLDtdL._UX522_.jpg\":[\"677\",\"522\"],\"https://images-na.ssl-images-amazon.com/images/I/617x0BLDtdL._UX466_.jpg\":[\"605\",\"466\"],\"https://images-na.ssl-images-amazon.com/images/I/617x0BLDtdL._UY550_.jpg\":[\"550\",\"424\"],\"https://images-na.ssl-images-amazon.com/images/I/617x0BLDtdL._UX342_.jpg\":[\"444\",\"342\"]}}],\"2 Denim Blue / 2 Light Blue\":[{\"large\":\"https://images-na.ssl-images-amazon.com/images/I/41eoIMadmDL.jpg\",\"variant\":\"MAIN\",\"hiRes\":\"https://images-na.ssl-images-amazon.com/images/I/61xHg52M1PL._UL1200_.jpg\",\"thumb\":\"https://images-na.ssl-images-amazon.com/images/I/41eoIMadmDL._SR38,50_.jpg\",\"main\":{\"https://images-na.ssl-images-amazon.com/images/I/61xHg52M1PL._UX679_.jpg\":[\"876\",\"679\"],\"https://images-na.ssl-images-amazon.com/images/I/61xHg52M1PL._UX569_.jpg\":[\"734\",\"569\"],\"https://images-na.ssl-images-amazon.com/images/I/61xHg52M1PL._UX522_.jpg\":[\"674\",\"522\"],\"https://images-na.ssl-images-amazon.com/images/I/61xHg52M1PL._UX425_.jpg\":[\"548\",\"425\"],\"https://images-na.ssl-images-amazon.com/images/I/61xHg52M1PL._UX466_.jpg\":[\"601\",\"466\"],\"https://images-na.ssl-images-amazon.com/images/I/61xHg52M1PL._UX385_.jpg\":[\"497\",\"385\"],\"https://images-na.ssl-images-amazon.com/images/I/61xHg52M1PL._UX342_.jpg\":[\"441\",\"342\"]}}],\"2 Orange / 2 Light Steel\":[{\"large\":\"https://images-na.ssl-images-amazon.com/images/I/41bZyBqZEdL.jpg\",\"variant\":\"MAIN\",\"hiRes\":\"https://images-na.ssl-images-amazon.com/images/I/61fl6uEXHZL._UL1200_.jpg\",\"thumb\":\"https://images-na.ssl-images-amazon.com/images/I/41bZyBqZEdL._SR38,50_.jpg\",\"main\":{\"https://images-na.ssl-images-amazon.com/images/I/61fl6uEXHZL._UX466_.jpg\":[\"603\",\"466\"],\"https://images-na.ssl-images-amazon.com/images/I/61fl6uEXHZL._UY550_.jpg\":[\"550\",\"425\"],\"https://images-na.ssl-images-amazon.com/images/I/61fl6uEXHZL._UX569_.jpg\":[\"737\",\"569\"],\"https://images-na.ssl-images-amazon.com/images/I/61fl6uEXHZL._UX522_.jpg\":[\"676\",\"522\"],\"https://images-na.ssl-images-amazon.com/images/I/61fl6uEXHZL._UX342_.jpg\":[\"443\",\"342\"],\"https://images-na.ssl-images-amazon.com/images/I/61fl6uEXHZL._UX385_.jpg\":[\"498\",\"385\"],\"https://images-na.ssl-images-amazon.com/images/I/61fl6uEXHZL._UX679_.jpg\":[\"879\",\"679\"]}}],\"2 Ash / 2 Lime\":[{\"large\":\"https://images-na.ssl-images-amazon.com/images/I/41p6DBulqbL.jpg\",\"variant\":\"MAIN\",\"hiRes\":\"https://images-na.ssl-images-amazon.com/images/I/61sLDBCTT2L._UL1200_.jpg\",\"thumb\":\"https://images-na.ssl-images-amazon.com/images/I/41p6DBulqbL._SR38,50_.jpg\",\"main\":{\"https://images-na.ssl-images-amazon.com/images/I/61sLDBCTT2L._UY606_.jpg\":[\"606\",\"445\"],\"https://images-na.ssl-images-amazon.com/images/I/61sLDBCTT2L._UY741_.jpg\":[\"741\",\"544\"],\"https://images-na.ssl-images-amazon.com/images/I/61sLDBCTT2L._UY550_.jpg\":[\"550\",\"404\"],\"https://images-na.ssl-images-amazon.com/images/I/61sLDBCTT2L._UY445_.jpg\":[\"445\",\"327\"],\"https://images-na.ssl-images-amazon.com/images/I/61sLDBCTT2L._UY500_.jpg\":[\"500\",\"367\"],\"https://images-na.ssl-images-amazon.com/images/I/61sLDBCTT2L._UY879_.jpg\":[\"879\",\"645\"],\"https://images-na.ssl-images-amazon.com/images/I/61sLDBCTT2L._UY679_.jpg\":[\"679\",\"498\"]}}],\"2 Orange / 2 White\":[{\"large\":\"https://images-na.ssl-images-amazon.com/images/I/41LLw9Q0KGL.jpg\",\"variant\":\"MAIN\",\"hiRes\":\"https://images-na.ssl-images-amazon.com/images/I/61aSAsIi1uL._UL1200_.jpg\",\"thumb\":\"https://images-na.ssl-images-amazon.com/images/I/41LLw9Q0KGL._SR38,50_.jpg\",\"main\":{\"https://images-na.ssl-images-amazon.com/images/I/61aSAsIi1uL._UX342_.jpg\":[\"443\",\"342\"],\"https://images-na.ssl-images-amazon.com/images/I/61aSAsIi1uL._UX569_.jpg\":[\"737\",\"569\"],\"https://images-na.ssl-images-amazon.com/images/I/61aSAsIi1uL._UX679_.jpg\":[\"879\",\"679\"],\"https://images-na.ssl-images-amazon.com/images/I/61aSAsIi1uL._UY550_.jpg\":[\"550\",\"425\"],\"https://images-na.ssl-images-amazon.com/images/I/61aSAsIi1uL._UX466_.jpg\":[\"603\",\"466\"],\"https://images-na.ssl-images-amazon.com/images/I/61aSAsIi1uL._UX385_.jpg\":[\"498\",\"385\"],\"https://images-na.ssl-images-amazon.com/images/I/61aSAsIi1uL._UX522_.jpg\":[\"676\",\"522\"]}}],\"2 Deep Red / 2 Light Steel\":[{\"large\":\"https://images-na.ssl-images-amazon.com/images/I/41HmR1V7I0L.jpg\",\"variant\":\"MAIN\",\"hiRes\":\"https://images-na.ssl-images-amazon.com/images/I/61zLm-FJAbL._UL1200_.jpg\",\"thumb\":\"https://images-na.ssl-images-amazon.com/images/I/41HmR1V7I0L._SR38,50_.jpg\",\"main\":{\"https://images-na.ssl-images-amazon.com/images/I/61zLm-FJAbL._UX569_.jpg\":[\"723\",\"569\"],\"https://images-na.ssl-images-amazon.com/images/I/61zLm-FJAbL._UX679_.jpg\":[\"862\",\"679\"],\"https://images-na.ssl-images-amazon.com/images/I/61zLm-FJAbL._UX425_.jpg\":[\"540\",\"425\"],\"https://images-na.ssl-images-amazon.com/images/I/61zLm-FJAbL._UX522_.jpg\":[\"663\",\"522\"],\"https://images-na.ssl-images-amazon.com/images/I/61zLm-FJAbL._UX385_.jpg\":[\"489\",\"385\"],\"https://images-na.ssl-images-amazon.com/images/I/61zLm-FJAbL._UX342_.jpg\":[\"434\",\"342\"],\"https://images-na.ssl-images-amazon.com/images/I/61zLm-FJAbL._UX466_.jpg\":[\"592\",\"466\"]}}],\"2 Lime / 2 Sand\":[{\"large\":\"https://images-na.ssl-images-amazon.com/images/I/41xm1LM4zPL.jpg\",\"variant\":\"MAIN\",\"hiRes\":\"https://images-na.ssl-images-amazon.com/images/I/613RUBVXGML._UL1200_.jpg\",\"thumb\":\"https://images-na.ssl-images-amazon.com/images/I/41xm1LM4zPL._SR38,50_.jpg\",\"main\":{\"https://images-na.ssl-images-amazon.com/images/I/613RUBVXGML._UY879_.jpg\":[\"879\",\"637\"],\"https://images-na.ssl-images-amazon.com/images/I/613RUBVXGML._UY500_.jpg\":[\"500\",\"362\"],\"https://images-na.ssl-images-amazon.com/images/I/613RUBVXGML._UY741_.jpg\":[\"741\",\"537\"],\"https://images-na.ssl-images-amazon.com/images/I/613RUBVXGML._UY445_.jpg\":[\"445\",\"323\"],\"https://images-na.ssl-images-amazon.com/images/I/613RUBVXGML._UY679_.jpg\":[\"679\",\"492\"],\"https://images-na.ssl-images-amazon.com/images/I/613RUBVXGML._UY550_.jpg\":[\"550\",\"399\"],\"https://images-na.ssl-images-amazon.com/images/I/613RUBVXGML._UY606_.jpg\":[\"606\",\"439\"]}}]}']"
      ]
     },
     "execution_count": 68,
     "metadata": {},
     "output_type": "execute_result"
    }
   ],
   "source": [
    "pat.findall(tag.text)"
   ]
  },
  {
   "cell_type": "code",
   "execution_count": 49,
   "metadata": {
    "collapsed": true
   },
   "outputs": [],
   "source": [
    "import json"
   ]
  },
  {
   "cell_type": "code",
   "execution_count": 51,
   "metadata": {
    "collapsed": false,
    "scrolled": true
   },
   "outputs": [],
   "source": [
    "sku_rst = json.loads(sku_img[0])"
   ]
  },
  {
   "cell_type": "code",
   "execution_count": 59,
   "metadata": {
    "collapsed": false
   },
   "outputs": [
    {
     "data": {
      "text/plain": [
       "{'hiRes': 'https://images-na.ssl-images-amazon.com/images/I/814-cvNfrML._UL1500_.jpg',\n",
       " 'large': 'https://images-na.ssl-images-amazon.com/images/I/41pH2UfiEZL.jpg',\n",
       " 'main': {'https://images-na.ssl-images-amazon.com/images/I/814-cvNfrML._UX342_.jpg': ['421',\n",
       "   '342'],\n",
       "  'https://images-na.ssl-images-amazon.com/images/I/814-cvNfrML._UX385_.jpg': ['474',\n",
       "   '385'],\n",
       "  'https://images-na.ssl-images-amazon.com/images/I/814-cvNfrML._UX425_.jpg': ['523',\n",
       "   '425'],\n",
       "  'https://images-na.ssl-images-amazon.com/images/I/814-cvNfrML._UX466_.jpg': ['574',\n",
       "   '466'],\n",
       "  'https://images-na.ssl-images-amazon.com/images/I/814-cvNfrML._UX522_.jpg': ['642',\n",
       "   '522'],\n",
       "  'https://images-na.ssl-images-amazon.com/images/I/814-cvNfrML._UX569_.jpg': ['700',\n",
       "   '569'],\n",
       "  'https://images-na.ssl-images-amazon.com/images/I/814-cvNfrML._UX679_.jpg': ['836',\n",
       "   '679']},\n",
       " 'thumb': 'https://images-na.ssl-images-amazon.com/images/I/41pH2UfiEZL._SR38,50_.jpg',\n",
       " 'variant': 'MAIN'}"
      ]
     },
     "execution_count": 59,
     "metadata": {},
     "output_type": "execute_result"
    }
   ],
   "source": [
    "sku_rst[\"White\"][0]"
   ]
  },
  {
   "cell_type": "code",
   "execution_count": 60,
   "metadata": {
    "collapsed": false,
    "scrolled": true
   },
   "outputs": [
    {
     "data": {
      "text/plain": [
       "{'asin': 'B018MS6848',\n",
       " 'color': 'White',\n",
       " 'index': '0',\n",
       " 'v_url': 'https://www.amazon.com/dp/B018MS6848'}"
      ]
     },
     "execution_count": 60,
     "metadata": {},
     "output_type": "execute_result"
    }
   ],
   "source": [
    "info[0]"
   ]
  },
  {
   "cell_type": "code",
   "execution_count": 69,
   "metadata": {
    "collapsed": true
   },
   "outputs": [],
   "source": [
    "tag = sku_soup.find(\"span\", class_=\"a-color-price\")"
   ]
  },
  {
   "cell_type": "code",
   "execution_count": 71,
   "metadata": {
    "collapsed": false
   },
   "outputs": [
    {
     "data": {
      "text/plain": [
       "'$9.42 - $229.99'"
      ]
     },
     "execution_count": 71,
     "metadata": {},
     "output_type": "execute_result"
    }
   ],
   "source": [
    "tag.text"
   ]
  },
  {
   "cell_type": "code",
   "execution_count": 79,
   "metadata": {
    "collapsed": true
   },
   "outputs": [],
   "source": [
    "pat2 = re.compile(\"$(\\d+\\.\\d+?)\")"
   ]
  },
  {
   "cell_type": "code",
   "execution_count": 167,
   "metadata": {
    "collapsed": true
   },
   "outputs": [],
   "source": [
    "pat2 = re.compile(\"\\d+\\.\\d+\")"
   ]
  },
  {
   "cell_type": "code",
   "execution_count": 168,
   "metadata": {
    "collapsed": false
   },
   "outputs": [
    {
     "data": {
      "text/plain": [
       "['9.42', '229.99']"
      ]
     },
     "execution_count": 168,
     "metadata": {},
     "output_type": "execute_result"
    }
   ],
   "source": [
    "pat2.findall(tag.text)"
   ]
  },
  {
   "cell_type": "code",
   "execution_count": 208,
   "metadata": {
    "collapsed": true
   },
   "outputs": [],
   "source": [
    "pat2 = re.compile(\"\\d+[\\.\\d+]*\")"
   ]
  },
  {
   "cell_type": "code",
   "execution_count": 214,
   "metadata": {
    "collapsed": false
   },
   "outputs": [
    {
     "data": {
      "text/plain": [
       "['9.42', '229', '9', '33.78']"
      ]
     },
     "execution_count": 214,
     "metadata": {},
     "output_type": "execute_result"
    }
   ],
   "source": [
    "pat2.findall(\"$9.42 - $229, $9 - $33.78\")"
   ]
  },
  {
   "cell_type": "code",
   "execution_count": 216,
   "metadata": {
    "collapsed": false
   },
   "outputs": [],
   "source": [
    "d = info[0]"
   ]
  },
  {
   "cell_type": "code",
   "execution_count": 227,
   "metadata": {
    "collapsed": false
   },
   "outputs": [],
   "source": [
    "k = [key[j] for j in range(len(d))]"
   ]
  },
  {
   "cell_type": "code",
   "execution_count": 228,
   "metadata": {
    "collapsed": false
   },
   "outputs": [
    {
     "data": {
      "text/plain": [
       "['index', 'asin', 'color', 'v_url']"
      ]
     },
     "execution_count": 228,
     "metadata": {},
     "output_type": "execute_result"
    }
   ],
   "source": [
    "k"
   ]
  },
  {
   "cell_type": "code",
   "execution_count": 218,
   "metadata": {
    "collapsed": true
   },
   "outputs": [],
   "source": [
    "key = [\"index\", \"asin\", \"color\", \"v_url\"]"
   ]
  },
  {
   "cell_type": "code",
   "execution_count": 244,
   "metadata": {
    "collapsed": false
   },
   "outputs": [
    {
     "name": "stdout",
     "output_type": "stream",
     "text": [
      "d[\"index\"] = 0\n",
      "d[\"asin\"] = B018MS6848\n",
      "d[\"color\"] = White\n",
      "d[\"v_url\"] = https://www.amazon.com/dp/B018MS6848\n"
     ]
    }
   ],
   "source": [
    "for i in range(len(d)):\n",
    "    print(\"d[\\\"{k}\\\"] = {v}\".format(k= key[i], v=d[key[i]]))"
   ]
  },
  {
   "cell_type": "code",
   "execution_count": 243,
   "metadata": {
    "collapsed": false
   },
   "outputs": [
    {
     "name": "stdout",
     "output_type": "stream",
     "text": [
      "index 0\n",
      "asin B018MS6848\n",
      "v_url https://www.amazon.com/dp/B018MS6848\n",
      "color White\n"
     ]
    }
   ],
   "source": [
    "for k,v in d.items():\n",
    "    print(k, v)"
   ]
  },
  {
   "cell_type": "code",
   "execution_count": 245,
   "metadata": {
    "collapsed": false
   },
   "outputs": [
    {
     "name": "stdout",
     "output_type": "stream",
     "text": [
      "0\n",
      "B018MS6848\n",
      "White\n",
      "https://www.amazon.com/dp/B018MS6848\n",
      "1\n",
      "B06W588HD6\n",
      "Black\n",
      "https://www.amazon.com/dp/B06W588HD6\n",
      "2\n",
      "B018MS61DG\n",
      "Black/Heather Ash\n",
      "https://www.amazon.com/dp/B018MS61DG\n",
      "3\n",
      "B00JJ6WYDM\n",
      "-White\n",
      "https://www.amazon.com/dp/B00JJ6WYDM\n",
      "4\n",
      "B013X53DQG\n",
      "2 Deep Royal / 2 Light Blue\n",
      "https://www.amazon.com/dp/B013X53DQG\n",
      "5\n",
      "B018MS6ADM\n",
      "2 Heather Grey / 2 Black\n",
      "https://www.amazon.com/dp/B018MS6ADM\n",
      "6\n",
      "B013XJLSG4\n",
      "2 Light Blue / 2 Lime\n",
      "https://www.amazon.com/dp/B013XJLSG4\n",
      "7\n",
      "B013XJO190\n",
      "2 Light Steel / 2 White\n",
      "https://www.amazon.com/dp/B013XJO190\n",
      "8\n",
      "B013XJPNJC\n",
      "2 Lime / 2 Smoke Grey\n",
      "https://www.amazon.com/dp/B013XJPNJC\n",
      "9\n",
      "B00W9MUDW2\n",
      "Ash\n",
      "https://www.amazon.com/dp/B00W9MUDW2\n",
      "10\n",
      "B00KBZP7NY\n",
      "Deep Forest\n",
      "https://www.amazon.com/dp/B00KBZP7NY\n",
      "11\n",
      "B00KBZP1ZS\n",
      "Deep Red\n",
      "https://www.amazon.com/dp/B00KBZP1ZS\n",
      "12\n",
      "B00KBZP3WE\n",
      "Deep Royal\n",
      "https://www.amazon.com/dp/B00KBZP3WE\n",
      "13\n",
      "B00W9MUPTS\n",
      "Denim Blue\n",
      "https://www.amazon.com/dp/B00W9MUPTS\n",
      "14\n",
      "B011A1Q5NI\n",
      "Gold\n",
      "https://www.amazon.com/dp/B011A1Q5NI\n",
      "15\n",
      "B00KBZPDFG\n",
      "Light Blue\n",
      "https://www.amazon.com/dp/B00KBZPDFG\n",
      "16\n",
      "B00KBZP09A\n",
      "Light Steel\n",
      "https://www.amazon.com/dp/B00KBZP09A\n",
      "17\n",
      "B00KBZPFCW\n",
      "Lime\n",
      "https://www.amazon.com/dp/B00KBZPFCW\n",
      "18\n",
      "B00W9MUUQ6\n",
      "Maroon\n",
      "https://www.amazon.com/dp/B00W9MUUQ6\n",
      "19\n",
      "B00KBZOXNY\n",
      "Navy\n",
      "https://www.amazon.com/dp/B00KBZOXNY\n",
      "20\n",
      "B00W9MUDXQ\n",
      "Orange\n",
      "https://www.amazon.com/dp/B00W9MUDXQ\n",
      "21\n",
      "B011A1QSMQ\n",
      "Pale Pink\n",
      "https://www.amazon.com/dp/B011A1QSMQ\n",
      "22\n",
      "B011A1S7BG\n",
      "Sand\n",
      "https://www.amazon.com/dp/B011A1S7BG\n",
      "23\n",
      "B00KBZPBPS\n",
      "Smoke Grey\n",
      "https://www.amazon.com/dp/B00KBZPBPS\n",
      "24\n",
      "B013X4QTYU\n",
      "2 Ash / 2 Lime\n",
      "https://www.amazon.com/dp/B013X4QTYU\n",
      "25\n",
      "B013X4VT04\n",
      "2 Deep Red / 2 Pale Pink\n",
      "https://www.amazon.com/dp/B013X4VT04\n",
      "26\n",
      "B013X4YNG6\n",
      "2 Deep Red / 2 Smoke Grey\n",
      "https://www.amazon.com/dp/B013X4YNG6\n",
      "27\n",
      "B013X4ZKOU\n",
      "2 Deep Red / 2 White\n",
      "https://www.amazon.com/dp/B013X4ZKOU\n",
      "28\n",
      "B013X5CDEO\n",
      "2 Gold / 2 Light Blue\n",
      "https://www.amazon.com/dp/B013X5CDEO\n",
      "29\n",
      "B013XJMTIA\n",
      "2 Light Steel / 2 Lime\n",
      "https://www.amazon.com/dp/B013XJMTIA\n",
      "30\n",
      "B013XJLHF6\n",
      "2 Maroon / 2 Lime\n",
      "https://www.amazon.com/dp/B013XJLHF6\n",
      "31\n",
      "B013X5FAK8\n",
      "2 Maroon / 2 Orange\n",
      "https://www.amazon.com/dp/B013X5FAK8\n",
      "32\n",
      "B013XJLYX6\n",
      "2 Maroon / 2 Sand\n",
      "https://www.amazon.com/dp/B013XJLYX6\n",
      "33\n",
      "B013XJMO62\n",
      "2 Orange / 2 Deep Forest\n",
      "https://www.amazon.com/dp/B013XJMO62\n",
      "34\n",
      "B013XJN4AM\n",
      "2 Orange / 2 Gold\n",
      "https://www.amazon.com/dp/B013XJN4AM\n",
      "35\n",
      "B013XJS70Y\n",
      "2 Pale Pink / 2 Sand\n",
      "https://www.amazon.com/dp/B013XJS70Y\n",
      "36\n",
      "B013XJH3ZE\n",
      "2 Smoke Grey / 2 White\n",
      "https://www.amazon.com/dp/B013XJH3ZE\n",
      "37\n",
      "B011A1SW5C\n",
      "Yellow\n",
      "https://www.amazon.com/dp/B011A1SW5C\n",
      "38\n",
      "B013XJHLXS\n",
      "2 Deep Forest / 2 Sand\n",
      "https://www.amazon.com/dp/B013XJHLXS\n",
      "39\n",
      "B013X4OHYY\n",
      "2 Deep Forest / 2 White\n",
      "https://www.amazon.com/dp/B013X4OHYY\n",
      "40\n",
      "B013X4R7L4\n",
      "2 Deep Red / 2 Gold\n",
      "https://www.amazon.com/dp/B013X4R7L4\n",
      "41\n",
      "B013X4S2IQ\n",
      "2 Deep Red / 2 Light Blue\n",
      "https://www.amazon.com/dp/B013X4S2IQ\n",
      "42\n",
      "B013X4XYZM\n",
      "2 Deep Red / 2 Sand\n",
      "https://www.amazon.com/dp/B013X4XYZM\n",
      "43\n",
      "B013X4NAO2\n",
      "2 Ash / 2 Deep Royal\n",
      "https://www.amazon.com/dp/B013X4NAO2\n",
      "44\n",
      "B013X4P2CA\n",
      "2 Ash / 2 Light Blue\n",
      "https://www.amazon.com/dp/B013X4P2CA\n",
      "45\n",
      "B013X4X9IE\n",
      "2 Ash / 2 White\n",
      "https://www.amazon.com/dp/B013X4X9IE\n",
      "46\n",
      "B013XJGGDO\n",
      "2 Deep Forest / 2 Deep Red\n",
      "https://www.amazon.com/dp/B013XJGGDO\n",
      "47\n",
      "B013XJGMH4\n",
      "2 Deep Forest / 2 Deep Royal\n",
      "https://www.amazon.com/dp/B013XJGMH4\n",
      "48\n",
      "B013XJGR7O\n",
      "2 Deep Forest / 2 Gold\n",
      "https://www.amazon.com/dp/B013XJGR7O\n",
      "49\n",
      "B013XJGW4C\n",
      "2 Deep Forest / 2 Light Blue\n",
      "https://www.amazon.com/dp/B013XJGW4C\n",
      "50\n",
      "B013XJH444\n",
      "2 Deep Forest / 2 Lime\n",
      "https://www.amazon.com/dp/B013XJH444\n",
      "51\n",
      "B013XJHH14\n",
      "2 Deep Forest / 2 Purple\n",
      "https://www.amazon.com/dp/B013XJHH14\n",
      "52\n",
      "B013X4PXSI\n",
      "2 Deep Red / 2 Deep Royal\n",
      "https://www.amazon.com/dp/B013X4PXSI\n",
      "53\n",
      "B013X53J60\n",
      "2 Deep Royal / 2 Light Steel\n",
      "https://www.amazon.com/dp/B013X53J60\n",
      "54\n",
      "B013X54JDM\n",
      "2 Deep Royal / 2 Lime\n",
      "https://www.amazon.com/dp/B013X54JDM\n",
      "55\n",
      "B013X57DM6\n",
      "2 Deep Royal / 2 Purple\n",
      "https://www.amazon.com/dp/B013X57DM6\n",
      "56\n",
      "B013X58BVS\n",
      "2 Deep Royal / 2 Sand\n",
      "https://www.amazon.com/dp/B013X58BVS\n",
      "57\n",
      "B013X59DBK\n",
      "2 Deep Royal / 2 Smoke Grey\n",
      "https://www.amazon.com/dp/B013X59DBK\n",
      "58\n",
      "B013X5DE9C\n",
      "2 Gold / 2 Light Steel\n",
      "https://www.amazon.com/dp/B013X5DE9C\n",
      "59\n",
      "B013XJKMX4\n",
      "2 Gold / 2 Lime\n",
      "https://www.amazon.com/dp/B013XJKMX4\n",
      "60\n",
      "B013XJL4JA\n",
      "2 Gold / 2 Sand\n",
      "https://www.amazon.com/dp/B013XJL4JA\n",
      "61\n",
      "B013XJM9M6\n",
      "2 Light Blue / 2 Sand\n",
      "https://www.amazon.com/dp/B013XJM9M6\n",
      "62\n",
      "B013XJOOYW\n",
      "2 Lime / 2 Pale Pink\n",
      "https://www.amazon.com/dp/B013XJOOYW\n",
      "63\n",
      "B013XJP6YY\n",
      "2 Lime / 2 Sand\n",
      "https://www.amazon.com/dp/B013XJP6YY\n",
      "64\n",
      "B013XJPP0E\n",
      "2 Lime / 2 White\n",
      "https://www.amazon.com/dp/B013XJPP0E\n",
      "65\n",
      "B013XJKSBU\n",
      "2 Maroon / 2 Deep Forest\n",
      "https://www.amazon.com/dp/B013XJKSBU\n",
      "66\n",
      "B013XJLAZI\n",
      "2 Maroon / 2 Light Steel\n",
      "https://www.amazon.com/dp/B013XJLAZI\n",
      "67\n",
      "B013XJMTZ8\n",
      "2 Orange / 2 Deep Red\n",
      "https://www.amazon.com/dp/B013XJMTZ8\n",
      "68\n",
      "B013XJNBVE\n",
      "2 Orange / 2 Light Blue\n",
      "https://www.amazon.com/dp/B013XJNBVE\n",
      "69\n",
      "B013XJP8BK\n",
      "2 Orange / 2 Yellow\n",
      "https://www.amazon.com/dp/B013XJP8BK\n",
      "70\n",
      "B013XJRXCC\n",
      "2 Pale Pink / 2 Purple\n",
      "https://www.amazon.com/dp/B013XJRXCC\n",
      "71\n",
      "B013XJGHW4\n",
      "2 Purple / 2 Yellow\n",
      "https://www.amazon.com/dp/B013XJGHW4\n",
      "72\n",
      "B013XJGRI8\n",
      "2 Sand / 2 White\n",
      "https://www.amazon.com/dp/B013XJGRI8\n",
      "73\n",
      "B011A1RI6G\n",
      "Purple\n",
      "https://www.amazon.com/dp/B011A1RI6G\n",
      "74\n",
      "B013X4TYLK\n",
      "2 Deep Red / 2 Lime\n",
      "https://www.amazon.com/dp/B013X4TYLK\n",
      "75\n",
      "B013X56I6S\n",
      "2 Deep Royal / 2 Pale Pink\n",
      "https://www.amazon.com/dp/B013X56I6S\n",
      "76\n",
      "B013XJOM26\n",
      "2 Orange / 2 Sand\n",
      "https://www.amazon.com/dp/B013XJOM26\n",
      "77\n",
      "B013XJHLSS\n",
      "2 Ash / 2 Deep Red\n",
      "https://www.amazon.com/dp/B013XJHLSS\n",
      "78\n",
      "B013X4PX6K\n",
      "2 Ash / 2 Light Steel\n",
      "https://www.amazon.com/dp/B013X4PX6K\n",
      "79\n",
      "B013XJH2K0\n",
      "2 Ash / 2 Maroon\n",
      "https://www.amazon.com/dp/B013XJH2K0\n",
      "80\n",
      "B013X4WD90\n",
      "2 Ash / 2 Smoke Grey\n",
      "https://www.amazon.com/dp/B013X4WD90\n",
      "81\n",
      "B013X55KAS\n",
      "2 Denim Blue / 2 Light Blue\n",
      "https://www.amazon.com/dp/B013X55KAS\n",
      "82\n",
      "B013X4Z4HS\n",
      "2 Denim Blue / 2 Maroon\n",
      "https://www.amazon.com/dp/B013X4Z4HS\n",
      "83\n",
      "B013XJKWZC\n",
      "2 Gold / 2 Pale Pink\n",
      "https://www.amazon.com/dp/B013XJKWZC\n",
      "84\n",
      "B013XJLB6G\n",
      "2 Gold / 2 White\n",
      "https://www.amazon.com/dp/B013XJLB6G\n",
      "85\n",
      "B013XJM1PQ\n",
      "2 Light Blue / 2 Purple\n",
      "https://www.amazon.com/dp/B013XJM1PQ\n",
      "86\n",
      "B013XJMEGC\n",
      "2 Light Blue / 2 Smoke Grey\n",
      "https://www.amazon.com/dp/B013XJMEGC\n",
      "87\n",
      "B013XJKWD4\n",
      "2 Maroon / 2 Deep Red\n",
      "https://www.amazon.com/dp/B013XJKWD4\n",
      "88\n",
      "B013XJKZYK\n",
      "2 Maroon / 2 Deep Royal\n",
      "https://www.amazon.com/dp/B013XJKZYK\n",
      "89\n",
      "B013XJL3Q4\n",
      "2 Maroon / 2 Gold\n",
      "https://www.amazon.com/dp/B013XJL3Q4\n",
      "90\n",
      "B013XJLUDU\n",
      "2 Maroon / 2 Purple\n",
      "https://www.amazon.com/dp/B013XJLUDU\n",
      "91\n",
      "B013XJNQSC\n",
      "2 Orange / 2 Lime\n",
      "https://www.amazon.com/dp/B013XJNQSC\n",
      "92\n",
      "B013XJO5PK\n",
      "2 Orange / 2 Pale Pink\n",
      "https://www.amazon.com/dp/B013XJO5PK\n",
      "93\n",
      "B013XJODF2\n",
      "2 Orange / 2 Purple\n",
      "https://www.amazon.com/dp/B013XJODF2\n",
      "94\n",
      "B013XJTELK\n",
      "2 Purple / 2 Sand\n",
      "https://www.amazon.com/dp/B013XJTELK\n",
      "95\n",
      "B013XJGN0U\n",
      "2 Sand / 2 Smoke Grey\n",
      "https://www.amazon.com/dp/B013XJGN0U\n",
      "96\n",
      "B013XJH7H8\n",
      "2 Ash / 2 Orange\n",
      "https://www.amazon.com/dp/B013XJH7H8\n",
      "97\n",
      "B013X4V18Y\n",
      "2 Deep Red / 2 Navy\n",
      "https://www.amazon.com/dp/B013X4V18Y\n",
      "98\n",
      "B013X55MFQ\n",
      "2 Deep Royal / 2 Navy\n",
      "https://www.amazon.com/dp/B013X55MFQ\n",
      "99\n",
      "B013X5BNWC\n",
      "2 Deep Royal / 2 Yellow\n",
      "https://www.amazon.com/dp/B013X5BNWC\n",
      "100\n",
      "B013XJKVW6\n",
      "2 Gold / 2 Navy\n",
      "https://www.amazon.com/dp/B013XJKVW6\n",
      "101\n",
      "B013XJL382\n",
      "2 Gold / 2 Purple\n",
      "https://www.amazon.com/dp/B013XJL382\n",
      "102\n",
      "B013XJLA62\n",
      "2 Gold / 2 Smoke Grey\n",
      "https://www.amazon.com/dp/B013XJLA62\n",
      "103\n",
      "B013XJLIVO\n",
      "2 Gold / 2 Yellow\n",
      "https://www.amazon.com/dp/B013XJLIVO\n",
      "104\n",
      "B013XJLVR0\n",
      "2 Light Blue / 2 Navy\n",
      "https://www.amazon.com/dp/B013XJLVR0\n",
      "105\n",
      "B013XJNM40\n",
      "2 Light Steel / 2 Sand\n",
      "https://www.amazon.com/dp/B013XJNM40\n",
      "106\n",
      "B013XJNT48\n",
      "2 Light Steel / 2 Smoke Grey\n",
      "https://www.amazon.com/dp/B013XJNT48\n",
      "107\n",
      "B013XJLS4Q\n",
      "2 Maroon / 2 Pale Pink\n",
      "https://www.amazon.com/dp/B013XJLS4Q\n",
      "108\n",
      "B013XJRAOI\n",
      "2 Navy / 2 Smoke Grey\n",
      "https://www.amazon.com/dp/B013XJRAOI\n",
      "109\n",
      "B013XJNON4\n",
      "2 Orange / 2 Light Steel\n",
      "https://www.amazon.com/dp/B013XJNON4\n",
      "110\n",
      "B013XJP79S\n",
      "2 Orange / 2 White\n",
      "https://www.amazon.com/dp/B013XJP79S\n",
      "111\n",
      "B013X4O1MW\n",
      "2 Deep Forest / 2 Smoke Grey\n",
      "https://www.amazon.com/dp/B013X4O1MW\n",
      "112\n",
      "B013X4THM6\n",
      "2 Deep Red / 2 Light Steel\n",
      "https://www.amazon.com/dp/B013X4THM6\n",
      "113\n",
      "B013XJLNAK\n",
      "2 Light Blue / 2 Light Steel\n",
      "https://www.amazon.com/dp/B013XJLNAK\n",
      "114\n",
      "B013XJM79Q\n",
      "2 Maroon / 2 Smoke Grey\n",
      "https://www.amazon.com/dp/B013XJM79Q\n",
      "115\n",
      "B013XJHAWU\n",
      "2 Smoke Grey / 2 Yellow\n",
      "https://www.amazon.com/dp/B013XJHAWU\n",
      "116\n",
      "B013XJSQ46\n",
      "2 Pale Pink / 2 Smoke Grey\n",
      "https://www.amazon.com/dp/B013XJSQ46\n",
      "117\n",
      "B013XJT0R8\n",
      "2 Pale Pink / 2 White\n",
      "https://www.amazon.com/dp/B013XJT0R8\n",
      "118\n",
      "B013XJHIWC\n",
      "2 Ash / 2 Deep Forest\n",
      "https://www.amazon.com/dp/B013XJHIWC\n",
      "119\n",
      "B013XJH1Y2\n",
      "2 Ash / 2 Denim Blue\n",
      "https://www.amazon.com/dp/B013XJH1Y2\n",
      "120\n",
      "B013X4P4GO\n",
      "2 Deep Forest / 2 Yellow\n",
      "https://www.amazon.com/dp/B013X4P4GO\n",
      "121\n",
      "B013X4WQ10\n",
      "2 Deep Red / 2 Purple\n",
      "https://www.amazon.com/dp/B013X4WQ10\n",
      "122\n",
      "B013X51QL0\n",
      "2 Deep Royal / 2 Gold\n",
      "https://www.amazon.com/dp/B013X51QL0\n",
      "123\n",
      "B013X52PH4\n",
      "2 Denim Blue / 2 Deep Forest\n",
      "https://www.amazon.com/dp/B013X52PH4\n",
      "124\n",
      "B013X55EY0\n",
      "2 Denim Blue / 2 Gold\n",
      "https://www.amazon.com/dp/B013X55EY0\n",
      "125\n",
      "B013X50WQU\n",
      "2 Denim Blue / 2 Orange\n",
      "https://www.amazon.com/dp/B013X50WQU\n",
      "126\n",
      "B013X5B1GA\n",
      "2 Denim Blue / 2 Sand\n",
      "https://www.amazon.com/dp/B013X5B1GA\n",
      "127\n",
      "B013X5DERY\n",
      "2 Denim Blue / 2 White\n",
      "https://www.amazon.com/dp/B013X5DERY\n",
      "128\n",
      "B013X5ECIO\n",
      "2 Denim Blue / 2 Yellow\n",
      "https://www.amazon.com/dp/B013X5ECIO\n",
      "129\n",
      "B013XJLXC8\n",
      "2 Light Blue / 2 Pale Pink\n",
      "https://www.amazon.com/dp/B013XJLXC8\n",
      "130\n",
      "B013XJMRPK\n",
      "2 Light Blue / 2 Yellow\n",
      "https://www.amazon.com/dp/B013XJMRPK\n",
      "131\n",
      "B013XJO5FA\n",
      "2 Light Steel / 2 Yellow\n",
      "https://www.amazon.com/dp/B013XJO5FA\n",
      "132\n",
      "B013XJG9QI\n",
      "2 Purple / 2 Smoke Grey\n",
      "https://www.amazon.com/dp/B013XJG9QI\n",
      "133\n",
      "B013XJGEPY\n",
      "2 Purple / 2 White\n",
      "https://www.amazon.com/dp/B013XJGEPY\n",
      "134\n",
      "B013XJGXRS\n",
      "2 Sand / 2 Yellow\n",
      "https://www.amazon.com/dp/B013XJGXRS\n",
      "135\n",
      "B013X4OOWY\n",
      "2 Ash / 2 Gold\n",
      "https://www.amazon.com/dp/B013X4OOWY\n",
      "136\n",
      "B013X4TAF0\n",
      "2 Ash / 2 Navy\n",
      "https://www.amazon.com/dp/B013X4TAF0\n",
      "137\n",
      "B013XJHBT2\n",
      "2 Deep Forest / 2 Navy\n",
      "https://www.amazon.com/dp/B013XJHBT2\n",
      "138\n",
      "B013X50ZV2\n",
      "2 Deep Red / 2 Yellow\n",
      "https://www.amazon.com/dp/B013X50ZV2\n",
      "139\n",
      "B013X53NKC\n",
      "2 Denim Blue / 2 Deep Red\n",
      "https://www.amazon.com/dp/B013X53NKC\n",
      "140\n",
      "B013XJMMGY\n",
      "2 Light Blue / 2 White\n",
      "https://www.amazon.com/dp/B013XJMMGY\n",
      "141\n",
      "B013XJN6X2\n",
      "2 Light Steel / 2 Pale Pink\n",
      "https://www.amazon.com/dp/B013XJN6X2\n",
      "142\n",
      "B013XJOGPE\n",
      "2 Lime / 2 Navy\n",
      "https://www.amazon.com/dp/B013XJOGPE\n",
      "143\n",
      "B013XJLOHC\n",
      "2 Maroon / 2 Navy\n",
      "https://www.amazon.com/dp/B013XJLOHC\n",
      "144\n",
      "B013XJQI7S\n",
      "2 Navy / 2 Pale Pink\n",
      "https://www.amazon.com/dp/B013XJQI7S\n",
      "145\n",
      "B013XJN2Q8\n",
      "2 Orange / 2 Deep Royal\n",
      "https://www.amazon.com/dp/B013XJN2Q8\n",
      "146\n",
      "B013XJIHL8\n",
      "2 Ash / 2 Pale Pink\n",
      "https://www.amazon.com/dp/B013XJIHL8\n",
      "147\n",
      "B013X4W2NW\n",
      "2 Ash / 2 Sand\n",
      "https://www.amazon.com/dp/B013X4W2NW\n",
      "148\n",
      "B013XJQ9N6\n",
      "2 Lime / 2 Yellow\n",
      "https://www.amazon.com/dp/B013XJQ9N6\n",
      "149\n",
      "B013XJMG8I\n",
      "2 Maroon / 2 Yellow\n",
      "https://www.amazon.com/dp/B013XJMG8I\n",
      "150\n",
      "B013X4IT0C\n",
      "2 White / 2 Yellow\n",
      "https://www.amazon.com/dp/B013X4IT0C\n",
      "151\n",
      "B013XJHGGA\n",
      "2 Deep Forest / 2 Pale Pink\n",
      "https://www.amazon.com/dp/B013XJHGGA\n",
      "152\n",
      "B013XJN3K8\n",
      "2 Light Steel / 2 Navy\n",
      "https://www.amazon.com/dp/B013XJN3K8\n",
      "153\n",
      "B013XJOYYC\n",
      "2 Orange / 2 Smoke Grey\n",
      "https://www.amazon.com/dp/B013XJOYYC\n",
      "154\n",
      "B013X4UJGO\n",
      "2 Ash / 2 Purple\n",
      "https://www.amazon.com/dp/B013X4UJGO\n",
      "155\n",
      "B013X56EMG\n",
      "2 Denim Blue / 2 Light Steel\n",
      "https://www.amazon.com/dp/B013X56EMG\n",
      "156\n",
      "B013X5CIFI\n",
      "2 Denim Blue / 2 Smoke Grey\n",
      "https://www.amazon.com/dp/B013X5CIFI\n",
      "157\n",
      "B013XJM818\n",
      "2 Maroon / 2 White\n",
      "https://www.amazon.com/dp/B013XJM818\n",
      "158\n",
      "B013X57LY6\n",
      "2 Denim Blue / 2 Lime\n",
      "https://www.amazon.com/dp/B013X57LY6\n",
      "159\n",
      "B013X58KIW\n",
      "2 Denim Blue / 2 Navy\n",
      "https://www.amazon.com/dp/B013X58KIW\n",
      "160\n",
      "B013XJQMKQ\n",
      "2 Navy / 2 Purple\n",
      "https://www.amazon.com/dp/B013XJQMKQ\n",
      "161\n",
      "B013XJREZ8\n",
      "2 Navy / 2 White\n",
      "https://www.amazon.com/dp/B013XJREZ8\n",
      "162\n",
      "B071VM1VX2\n",
      "Camouflage\n",
      "https://www.amazon.com/dp/B071VM1VX2\n",
      "163\n",
      "B013XJPKZO\n",
      "2 Black / 2 Deep Forest\n",
      "https://www.amazon.com/dp/B013XJPKZO\n",
      "164\n",
      "B013XJQ1CK\n",
      "2 Black / 2 Deep Royal\n",
      "https://www.amazon.com/dp/B013XJQ1CK\n",
      "165\n",
      "B013XJQCXS\n",
      "2 Black / 2 Gold\n",
      "https://www.amazon.com/dp/B013XJQCXS\n",
      "166\n",
      "B013XJQMWE\n",
      "2 Black / 2 Light Blue\n",
      "https://www.amazon.com/dp/B013XJQMWE\n",
      "167\n",
      "B013XJQW3I\n",
      "2 Black / 2 Light Steel\n",
      "https://www.amazon.com/dp/B013XJQW3I\n",
      "168\n",
      "B013XJR8KE\n",
      "2 Black / 2 Lime\n",
      "https://www.amazon.com/dp/B013XJR8KE\n",
      "169\n",
      "B013XJS3BM\n",
      "2 Black / 2 Purple\n",
      "https://www.amazon.com/dp/B013XJS3BM\n",
      "170\n",
      "B013XJSCT0\n",
      "2 Black / 2 Sand\n",
      "https://www.amazon.com/dp/B013XJSCT0\n",
      "171\n",
      "B013XJSMSQ\n",
      "2 Black / 2 Smoke Grey\n",
      "https://www.amazon.com/dp/B013XJSMSQ\n",
      "172\n",
      "B013XJP126\n",
      "2 Lime / 2 Purple\n",
      "https://www.amazon.com/dp/B013XJP126\n",
      "173\n",
      "B013XJMKJI\n",
      "2 Orange / 2 Black\n",
      "https://www.amazon.com/dp/B013XJMKJI\n",
      "174\n",
      "B013X5B7SC\n",
      "2 Deep Royal / 2 White\n",
      "https://www.amazon.com/dp/B013X5B7SC\n",
      "175\n",
      "B013XJRTWQ\n",
      "2 Navy / 2 Yellow\n",
      "https://www.amazon.com/dp/B013XJRTWQ\n",
      "176\n",
      "B013X54ITC\n",
      "2 Denim Blue / 2 Deep Royal\n",
      "https://www.amazon.com/dp/B013X54ITC\n",
      "177\n",
      "B01ND1LJ9D\n",
      "Juniper\n",
      "https://www.amazon.com/dp/B01ND1LJ9D\n",
      "178\n",
      "B013XJR2SW\n",
      "2 Navy / 2 Sand\n",
      "https://www.amazon.com/dp/B013XJR2SW\n",
      "179\n",
      "B018MS6ERO\n",
      "White Crewneck\n",
      "https://www.amazon.com/dp/B018MS6ERO\n"
     ]
    }
   ],
   "source": [
    "for i,item in enumerate(info, 1):\n",
    "    for j in range(len(item)):\n",
    "        k = key[j]\n",
    "        print(item[k])"
   ]
  },
  {
   "cell_type": "markdown",
   "metadata": {},
   "source": [
    "# 从`<script type=\"text/javascript\">`中抓取数据"
   ]
  },
  {
   "cell_type": "code",
   "execution_count": 1,
   "metadata": {
    "collapsed": true
   },
   "outputs": [],
   "source": [
    "html = \"\"\"\n",
    "<script type=\"text/javascript\" src=\"http://s1.kbb.com/combine/IncentivesPilotJs/949332058\"></script>\n",
    "        <input type=\"hidden\" id=\"ResaleValueUrl\" value=\"/ymmt/resalevalue/?vehicleid=392396\" />\n",
    "        <input type=\"hidden\" id=\"Intent\" value=\"buy-used\" />\n",
    "        <!--[if lt IE 9]>\n",
    "            <script>\n",
    "            window.FlashCanvasOptions = {\n",
    "               swfPath: \"/js/canvas/FlashCanvas/UCMarketMeter/\"\n",
    "            };\n",
    "            </script>\n",
    "            <script type=\"text/javascript\" src=\"http://s1.kbb.com/combine/YmmtMarketMeterFlashCanvasJs/795892638\"></script>\n",
    "        <![endif]-->\n",
    "        <script type=\"text/javascript\" src=\"http://s1.kbb.com/combine/YMMTOverview/1527402533\"></script>\n",
    "        <script type=\"text/javascript\" src=\"http://s1.kbb.com/combine/YmmtPricingOverviewBuyUsedJs/-1416499456\"></script>\n",
    "\n",
    "        <script language=\"javascript\" type=\"text/javascript\">\n",
    "            $(document).ready(function() {\n",
    "                KBB.Vehicle.Pages.PricingOverview.Buyers.setup({\n",
    "                    //Workaround until we get cross domain working for Flash\n",
    "                    imageDir: window.FlashCanvasOptions ? \"/Content/images\" : \"http://file.kelleybluebookimages.com/kbb/images/marketmeter\",\n",
    "                    vehicleId: \"392396\",\n",
    "                    zipCode: \"78701\",\n",
    "                    mileage: \"10000\",\n",
    "                    intent: \"buy-used\",\n",
    "                    priceType: \"retail\",\n",
    "                    condition: \"good\",\n",
    "                    options: \"392396|53635|78701|100|10|\",\n",
    "                    price: \"17074\",\n",
    "                    manufacturer: \"Nissan\",\n",
    "                    model: \"Altima\",\n",
    "                    year: \"2014\",\n",
    "                    style: \"2.5 S Sedan 4D\",\n",
    "                    category: \"\",\n",
    "                    hasCpo: true,\n",
    "                    meetsCpoReq: true,\n",
    "                    showOthersPaid: false,\n",
    "                    data: {\n",
    "    \"values\": {\n",
    "     \"cpo\": {\n",
    "       \"priceMin\": 17335.0,\n",
    "        \"price\": 18275.0,\n",
    "        \"priceMax\": 19214.0\n",
    "    },\n",
    "    \"fpp\": {\n",
    "      \"priceMin\": 15286.0,\n",
    "      \"price\": 17074.0,\n",
    "      \"priceMax\": 18861.0\n",
    "    },\n",
    "    \"privatepartyexcellent\": {\n",
    "      \"priceMin\": 0.0,\n",
    "      \"price\": 16064.0,\n",
    "      \"priceMax\": 0.0\n",
    "    },\n",
    "    \"privatepartyfair\": {\n",
    "      \"priceMin\": 0.0,\n",
    "      \"price\": 14081.0,\n",
    "      \"priceMax\": 0.0\n",
    "    },\n",
    "    \"privatepartygood\": {\n",
    "      \"priceMin\": 0.0,\n",
    "      \"price\": 15454.0,\n",
    "      \"priceMax\": 0.0\n",
    "    },\n",
    "    \"privatepartyverygood\": {\n",
    "      \"priceMin\": 0.0,\n",
    "      \"price\": 15715.0,\n",
    "      \"priceMax\": 0.0\n",
    "    },\n",
    "    \"retail\": {\n",
    "      \"priceMin\": 0.0,\n",
    "      \"price\": 17875.0,\n",
    "      \"priceMax\": 0.0\n",
    "    }\n",
    "  },\n",
    "     \"timAmount\": 0.0,\n",
    "    \"monthlyPayments\": {\n",
    "    \"cpo\": {\n",
    "      \"vehiclePrice\": 18275.0,\n",
    "      \"rate\": 2.9,\n",
    "      \"terms\": 60.0,\n",
    "      \"taxAndTitle\": 6.5,\n",
    "      \"downPay\": 0.0,\n",
    "      \"amount\": 348.0\n",
    "    },\n",
    "    \"fpp\": {\n",
    "      \"vehiclePrice\": 17074.0,\n",
    "      \"rate\": 4.9,\n",
    "      \"terms\": 60.0,\n",
    "      \"taxAndTitle\": 6.5,\n",
    "      \"downPay\": 0.0,\n",
    "      \"amount\": 342.0\n",
    "    },\n",
    "    \"privatepartyexcellent\": {\n",
    "      \"vehiclePrice\": 16064.0,\n",
    "      \"rate\": 4.9,\n",
    "      \"terms\": 60.0,\n",
    "      \"taxAndTitle\": 6.5,\n",
    "      \"downPay\": 0.0,\n",
    "      \"amount\": 322.0\n",
    "    },\n",
    "    \"privatepartyfair\": {\n",
    "      \"vehiclePrice\": 14081.0,\n",
    "      \"rate\": 4.9,\n",
    "      \"terms\": 60.0,\n",
    "      \"taxAndTitle\": 6.5,\n",
    "      \"downPay\": 0.0,\n",
    "      \"amount\": 282.0\n",
    "    },\n",
    "    \"privatepartygood\": {\n",
    "      \"vehiclePrice\": 15454.0,\n",
    "      \"rate\": 4.9,\n",
    "      \"terms\": 60.0,\n",
    "      \"taxAndTitle\": 6.5,\n",
    "      \"downPay\": 0.0,\n",
    "      \"amount\": 309.0\n",
    "    },\n",
    "    \"privatepartyverygood\": {\n",
    "      \"vehiclePrice\": 15715.0,\n",
    "      \"rate\": 4.9,\n",
    "      \"terms\": 60.0,\n",
    "      \"taxAndTitle\": 6.5,\n",
    "      \"downPay\": 0.0,\n",
    "      \"amount\": 315.0\n",
    "    },\n",
    "    \"retail\": {\n",
    "      \"vehiclePrice\": 17875.0,\n",
    "      \"rate\": 4.9,\n",
    "      \"terms\": 60.0,\n",
    "      \"taxAndTitle\": 6.5,\n",
    "      \"downPay\": 0.0,\n",
    "      \"amount\": 358.0\n",
    "    }\n",
    "  },\n",
    "  \"scale\": {\n",
    "    \"scaleLow\": 14081.0,\n",
    "    \"scaleHigh\": 19214.0\n",
    "  },\n",
    "  \"transactions\": {\n",
    "    \"below\": 7,\n",
    "    \"between\": 17,\n",
    "    \"above\": 3\n",
    "  }\n",
    "},\n",
    "                    adPriceRanges: {\"AdPriceRange\":[{\"PriceMin\":0,\"PriceMax\":8499,\"AdPRValue\":1},{\"PriceMin\":8500,\"PriceMax\":18499,\"AdPRValue\":2},{\"PriceMin\":18500,\"PriceMax\":23499,\"AdPRValue\":3},{\"PriceMin\":23500,\"PriceMax\":28499,\"AdPRValue\":4},{\"PriceMin\":28500,\"PriceMax\":33499,\"AdPRValue\":5},{\"PriceMin\":33500,\"PriceMax\":38499,\"AdPRValue\":6},{\"PriceMin\":38500,\"PriceMax\":43499,\"AdPRValue\":7},{\"PriceMin\":43500,\"PriceMax\":48499,\"AdPRValue\":8},{\"PriceMin\":48500,\"PriceMax\":53499,\"AdPRValue\":9},{\"PriceMin\":53500,\"PriceMax\":63499,\"AdPRValue\":10},{\"PriceMin\":63500,\"PriceMax\":73499,\"AdPRValue\":11},{\"PriceMin\":73500,\"PriceMax\":1000000,\"AdPRValue\":12}]}});\n",
    "            });\n",
    "            $('.foot-note').hide();\n",
    "            $(window).on('popstate', function() {\n",
    "                KBB.Vehicle.Pages.PricingOverview.Buyers.stateChangeHandler();\n",
    "            });\n",
    "        </script>\n",
    "\"\"\""
   ]
  },
  {
   "cell_type": "code",
   "execution_count": 3,
   "metadata": {
    "collapsed": true
   },
   "outputs": [],
   "source": [
    "from bs4 import BeautifulSoup"
   ]
  },
  {
   "cell_type": "code",
   "execution_count": 6,
   "metadata": {
    "collapsed": true
   },
   "outputs": [],
   "source": [
    "import re"
   ]
  },
  {
   "cell_type": "code",
   "execution_count": 14,
   "metadata": {
    "collapsed": true
   },
   "outputs": [],
   "source": [
    "import json"
   ]
  },
  {
   "cell_type": "code",
   "execution_count": 71,
   "metadata": {
    "collapsed": true
   },
   "outputs": [],
   "source": [
    "p = re.compile(\"data: {.*},\\W+adPriceRanges\")"
   ]
  },
  {
   "cell_type": "code",
   "execution_count": 76,
   "metadata": {
    "collapsed": false
   },
   "outputs": [],
   "source": [
    "for tag in test_soup.find_all(\"script\"):\n",
    "    rst = pattern.findall(tag.text)\n",
    "    #print(rst)"
   ]
  },
  {
   "cell_type": "code",
   "execution_count": 81,
   "metadata": {
    "collapsed": false
   },
   "outputs": [],
   "source": [
    "rst_obj = json.loads(rst[0])"
   ]
  },
  {
   "cell_type": "code",
   "execution_count": 89,
   "metadata": {
    "collapsed": false
   },
   "outputs": [
    {
     "data": {
      "text/plain": [
       "{'price': 17074.0, 'priceMax': 18861.0, 'priceMin': 15286.0}"
      ]
     },
     "execution_count": 89,
     "metadata": {},
     "output_type": "execute_result"
    }
   ],
   "source": [
    "rst_obj[\"values\"][\"fpp\"]"
   ]
  },
  {
   "cell_type": "code",
   "execution_count": 7,
   "metadata": {
    "collapsed": false
   },
   "outputs": [],
   "source": [
    "test_soup = BeautifulSoup(html, \"html5lib\")"
   ]
  },
  {
   "cell_type": "code",
   "execution_count": 8,
   "metadata": {
    "collapsed": false
   },
   "outputs": [],
   "source": [
    "pattern = re.compile(r\"KBB\\.Vehicle\\.Pages\\.PricingOverview\\.Buyers\\.setup\\(.*?data: ({.*?}),\\W+adPriceRanges\", re.MULTILINE | re.DOTALL)"
   ]
  },
  {
   "cell_type": "code",
   "execution_count": 19,
   "metadata": {
    "collapsed": true
   },
   "outputs": [],
   "source": [
    "pat = re.compile(\"{\\\"AdPriceRange\\\".*}]}\")"
   ]
  },
  {
   "cell_type": "code",
   "execution_count": 51,
   "metadata": {
    "collapsed": false
   },
   "outputs": [],
   "source": [
    "for tag in test_soup.find_all(\"script\"):\n",
    "    #data_obj = json.loads(data)\n",
    "    data = re.sub(pattern, \"\", tag.text)"
   ]
  },
  {
   "cell_type": "code",
   "execution_count": 52,
   "metadata": {
    "collapsed": false
   },
   "outputs": [],
   "source": [
    "data = pat.search(data)"
   ]
  },
  {
   "cell_type": "code",
   "execution_count": 53,
   "metadata": {
    "collapsed": false
   },
   "outputs": [
    {
     "data": {
      "text/plain": [
       "<_sre.SRE_Match object; span=(62, 679), match='{\"AdPriceRange\":[{\"PriceMin\":0,\"PriceMax\":8499,\"A>"
      ]
     },
     "execution_count": 53,
     "metadata": {},
     "output_type": "execute_result"
    }
   ],
   "source": [
    "data"
   ]
  },
  {
   "cell_type": "code",
   "execution_count": 57,
   "metadata": {
    "collapsed": false
   },
   "outputs": [
    {
     "data": {
      "text/plain": [
       "'{\"AdPriceRange\":[{\"PriceMin\":0,\"PriceMax\":8499,\"AdPRValue\":1},{\"PriceMin\":8500,\"PriceMax\":18499,\"AdPRValue\":2},{\"PriceMin\":18500,\"PriceMax\":23499,\"AdPRValue\":3},{\"PriceMin\":23500,\"PriceMax\":28499,\"AdPRValue\":4},{\"PriceMin\":28500,\"PriceMax\":33499,\"AdPRValue\":5},{\"PriceMin\":33500,\"PriceMax\":38499,\"AdPRValue\":6},{\"PriceMin\":38500,\"PriceMax\":43499,\"AdPRValue\":7},{\"PriceMin\":43500,\"PriceMax\":48499,\"AdPRValue\":8},{\"PriceMin\":48500,\"PriceMax\":53499,\"AdPRValue\":9},{\"PriceMin\":53500,\"PriceMax\":63499,\"AdPRValue\":10},{\"PriceMin\":63500,\"PriceMax\":73499,\"AdPRValue\":11},{\"PriceMin\":73500,\"PriceMax\":1000000,\"AdPRValue\":12}]}'"
      ]
     },
     "execution_count": 57,
     "metadata": {},
     "output_type": "execute_result"
    }
   ],
   "source": [
    "data[0]"
   ]
  },
  {
   "cell_type": "code",
   "execution_count": 54,
   "metadata": {
    "collapsed": true
   },
   "outputs": [],
   "source": [
    "data_obj = json.loads(data[0])"
   ]
  },
  {
   "cell_type": "code",
   "execution_count": 55,
   "metadata": {
    "collapsed": false
   },
   "outputs": [
    {
     "data": {
      "text/plain": [
       "{'AdPriceRange': [{'AdPRValue': 1, 'PriceMax': 8499, 'PriceMin': 0},\n",
       "  {'AdPRValue': 2, 'PriceMax': 18499, 'PriceMin': 8500},\n",
       "  {'AdPRValue': 3, 'PriceMax': 23499, 'PriceMin': 18500},\n",
       "  {'AdPRValue': 4, 'PriceMax': 28499, 'PriceMin': 23500},\n",
       "  {'AdPRValue': 5, 'PriceMax': 33499, 'PriceMin': 28500},\n",
       "  {'AdPRValue': 6, 'PriceMax': 38499, 'PriceMin': 33500},\n",
       "  {'AdPRValue': 7, 'PriceMax': 43499, 'PriceMin': 38500},\n",
       "  {'AdPRValue': 8, 'PriceMax': 48499, 'PriceMin': 43500},\n",
       "  {'AdPRValue': 9, 'PriceMax': 53499, 'PriceMin': 48500},\n",
       "  {'AdPRValue': 10, 'PriceMax': 63499, 'PriceMin': 53500},\n",
       "  {'AdPRValue': 11, 'PriceMax': 73499, 'PriceMin': 63500},\n",
       "  {'AdPRValue': 12, 'PriceMax': 1000000, 'PriceMin': 73500}]}"
      ]
     },
     "execution_count": 55,
     "metadata": {},
     "output_type": "execute_result"
    }
   ],
   "source": [
    "data_obj"
   ]
  },
  {
   "cell_type": "code",
   "execution_count": 56,
   "metadata": {
    "collapsed": false
   },
   "outputs": [
    {
     "data": {
      "text/plain": [
       "23500"
      ]
     },
     "execution_count": 56,
     "metadata": {},
     "output_type": "execute_result"
    }
   ],
   "source": [
    "data_obj[\"AdPriceRange\"][3]['PriceMin']"
   ]
  },
  {
   "cell_type": "markdown",
   "metadata": {},
   "source": [
    "# extract的使用"
   ]
  },
  {
   "cell_type": "code",
   "execution_count": 59,
   "metadata": {
    "collapsed": true
   },
   "outputs": [],
   "source": [
    "markup = '<a href=\"http://example.com/\">I linked to <i>example.com</i></a>'"
   ]
  },
  {
   "cell_type": "code",
   "execution_count": 73,
   "metadata": {
    "collapsed": false
   },
   "outputs": [],
   "source": [
    "test_soup = BeautifulSoup(markup, \"html5lib\")"
   ]
  },
  {
   "cell_type": "code",
   "execution_count": 63,
   "metadata": {
    "collapsed": false
   },
   "outputs": [],
   "source": [
    "a_extract = test_soup.a"
   ]
  },
  {
   "cell_type": "code",
   "execution_count": 65,
   "metadata": {
    "collapsed": false
   },
   "outputs": [
    {
     "data": {
      "text/plain": [
       "<a href=\"http://example.com/\">I linked to </a>"
      ]
     },
     "execution_count": 65,
     "metadata": {},
     "output_type": "execute_result"
    }
   ],
   "source": [
    "a_extract"
   ]
  },
  {
   "cell_type": "code",
   "execution_count": 74,
   "metadata": {
    "collapsed": false
   },
   "outputs": [],
   "source": [
    "i_extract = test_soup.i.extract()"
   ]
  },
  {
   "cell_type": "code",
   "execution_count": 91,
   "metadata": {
    "collapsed": false
   },
   "outputs": [
    {
     "data": {
      "text/plain": [
       "<i>example.com</i>"
      ]
     },
     "execution_count": 91,
     "metadata": {},
     "output_type": "execute_result"
    }
   ],
   "source": [
    "i_extract"
   ]
  },
  {
   "cell_type": "markdown",
   "metadata": {},
   "source": [
    "# 2017-05-20"
   ]
  },
  {
   "cell_type": "code",
   "execution_count": 5,
   "metadata": {
    "collapsed": true
   },
   "outputs": [],
   "source": [
    "import xlwt"
   ]
  },
  {
   "cell_type": "code",
   "execution_count": 4,
   "metadata": {
    "collapsed": true
   },
   "outputs": [],
   "source": [
    "import xlrd"
   ]
  },
  {
   "cell_type": "code",
   "execution_count": 250,
   "metadata": {
    "collapsed": false,
    "scrolled": true
   },
   "outputs": [
    {
     "name": "stdout",
     "output_type": "stream",
     "text": [
      "Help on function open_workbook in module xlrd:\n",
      "\n",
      "open_workbook(filename=None, logfile=<ipykernel.iostream.OutStream object at 0x000001BB0C37BC50>, verbosity=0, use_mmap=1, file_contents=None, encoding_override=None, formatting_info=False, on_demand=False, ragged_rows=False)\n",
      "\n"
     ]
    }
   ],
   "source": [
    "help(xlrd.open_workbook)"
   ]
  },
  {
   "cell_type": "code",
   "execution_count": 2,
   "metadata": {
    "collapsed": true
   },
   "outputs": [],
   "source": [
    "import os"
   ]
  },
  {
   "cell_type": "code",
   "execution_count": 3,
   "metadata": {
    "collapsed": true
   },
   "outputs": [],
   "source": [
    "import time"
   ]
  },
  {
   "cell_type": "code",
   "execution_count": 6,
   "metadata": {
    "collapsed": false
   },
   "outputs": [],
   "source": [
    "sheet_name = \"{name}\".format(name = time.strftime(\"%Y%m%d\"))"
   ]
  },
  {
   "cell_type": "code",
   "execution_count": 7,
   "metadata": {
    "collapsed": true
   },
   "outputs": [],
   "source": [
    "file_path = \"./data/{name}.xls\".format(name = sheet_name)"
   ]
  },
  {
   "cell_type": "code",
   "execution_count": 8,
   "metadata": {
    "collapsed": false
   },
   "outputs": [
    {
     "data": {
      "text/plain": [
       "'./data/20170520.xls'"
      ]
     },
     "execution_count": 8,
     "metadata": {},
     "output_type": "execute_result"
    }
   ],
   "source": [
    "file_path"
   ]
  },
  {
   "cell_type": "code",
   "execution_count": 16,
   "metadata": {
    "collapsed": false
   },
   "outputs": [
    {
     "name": "stdout",
     "output_type": "stream",
     "text": [
      "workbook existed !!!\n"
     ]
    }
   ],
   "source": [
    "if os.path.exists(file_path):\n",
    "    # 打开已存在的档案\n",
    "    print(\"workbook existed !!!\")\n",
    "    book = xlrd.open_workbook(file_path, formatting_info=True)\n",
    "    \n",
    "    sheet = book.sheet_by_name(sheet_name)\n",
    "    \n",
    "else:\n",
    "    # 创建新的workbook\n",
    "    print(\"create new workbook !!!\")\n",
    "    book = xlwt.Workbook(encoding=\"utf-8\", style_compression=0)\n",
    "    \n",
    "    sheet=book.add_sheet(sheet_name, cell_overwrite_ok=True)"
   ]
  },
  {
   "cell_type": "code",
   "execution_count": 10,
   "metadata": {
    "collapsed": false
   },
   "outputs": [],
   "source": [
    "start_pos = sheet.nrows"
   ]
  },
  {
   "cell_type": "code",
   "execution_count": 11,
   "metadata": {
    "collapsed": false
   },
   "outputs": [
    {
     "data": {
      "text/plain": [
       "181"
      ]
     },
     "execution_count": 11,
     "metadata": {},
     "output_type": "execute_result"
    }
   ],
   "source": [
    "start_pos"
   ]
  },
  {
   "cell_type": "code",
   "execution_count": 14,
   "metadata": {
    "collapsed": false
   },
   "outputs": [],
   "source": [
    "from xlutils.copy import copy"
   ]
  },
  {
   "cell_type": "code",
   "execution_count": 18,
   "metadata": {
    "collapsed": false
   },
   "outputs": [
    {
     "name": "stdout",
     "output_type": "stream",
     "text": [
      "Help on function copy in module xlutils.copy:\n",
      "\n",
      "copy(wb)\n",
      "    Copy an :class:`xlrd.Book` into an :class:`xlwt.Workbook` preserving as much\n",
      "    information from the source object as possible.\n",
      "    \n",
      "    See the :doc:`copy` documentation for an example.\n",
      "\n"
     ]
    }
   ],
   "source": [
    "help(copy)"
   ]
  },
  {
   "cell_type": "code",
   "execution_count": 23,
   "metadata": {
    "collapsed": true
   },
   "outputs": [],
   "source": [
    "rb = xlrd.open_workbook(file_path, formatting_info=True)"
   ]
  },
  {
   "cell_type": "code",
   "execution_count": 24,
   "metadata": {
    "collapsed": false
   },
   "outputs": [],
   "source": [
    "sheet = rb.sheet_by_index(0)"
   ]
  },
  {
   "cell_type": "code",
   "execution_count": 26,
   "metadata": {
    "collapsed": false
   },
   "outputs": [],
   "source": [
    "wb = copy(rb)"
   ]
  },
  {
   "cell_type": "code",
   "execution_count": 27,
   "metadata": {
    "collapsed": true
   },
   "outputs": [],
   "source": [
    "sheet = wb.get_sheet(0)"
   ]
  },
  {
   "cell_type": "code",
   "execution_count": null,
   "metadata": {
    "collapsed": true
   },
   "outputs": [],
   "source": [
    "sheet.write"
   ]
  },
  {
   "cell_type": "code",
   "execution_count": 30,
   "metadata": {
    "collapsed": false
   },
   "outputs": [
    {
     "name": "stdout",
     "output_type": "stream",
     "text": [
      "181 0\n",
      "182 1\n",
      "183 2\n",
      "184 3\n",
      "185 4\n"
     ]
    }
   ],
   "source": [
    "for index,item in enumerate(range(5),181):\n",
    "    print(index, item)"
   ]
  },
  {
   "cell_type": "markdown",
   "metadata": {},
   "source": [
    "# 完整代码"
   ]
  },
  {
   "cell_type": "code",
   "execution_count": 1,
   "metadata": {
    "collapsed": false
   },
   "outputs": [
    {
     "name": "stdout",
     "output_type": "stream",
     "text": [
      "Import Save Module !!!\n"
     ]
    }
   ],
   "source": [
    "import re\n",
    "import json\n",
    "import requests\n",
    "import asyncio\n",
    "import datetime\n",
    "\n",
    "from bs4 import BeautifulSoup\n",
    "from save import save_to_excel\n",
    "\n",
    "CRAWL_URL = \"https://www.amazon.com/s/ref=nb_sb_noss_2?url=search-alias%3Daps&field-keywords=T+shirt\"\n",
    "\n",
    "headers = {\n",
    "    \"User-Agent\": \"Mozilla/5.0 (Windows NT 10.0; Win64; x64) AppleWebKit/537.36 (KHTML, like Gecko) Chrome/56.0.2924.87 Safari/537.36\"\n",
    "}\n",
    "\n",
    "#s = requests.session()\n",
    "\n",
    "#r = s.get(CRAWL_URL, headers=headers)\n",
    "\n",
    "with open(\"./20170518_soup.txt\", \"r\", encoding=\"utf-8\") as fp:\n",
    "    #print(soup, file=fp)\n",
    "    rst = fp.read()\n",
    "    \n",
    "soup = BeautifulSoup(rst, \"html5lib\")\n",
    "    \n",
    "sku_url = list()\n",
    "for tag in soup.find_all(\"li\", class_=\"s-result-item\"):\n",
    "    sku_url.append(\"https://www.amazon.com/dp/{asin}\".format(asin=tag[\"data-asin\"]))"
   ]
  },
  {
   "cell_type": "code",
   "execution_count": 38,
   "metadata": {
    "collapsed": true
   },
   "outputs": [],
   "source": [
    "info = list()\n",
    "\n",
    "async def parse_url(index,url):\n",
    "    \n",
    "    print(\"current url =\", url)\n",
    "    \n",
    "    sku_rst = requests.get(url, headers=headers)\n",
    "\n",
    "    if sku_rst.status_code == 200:\n",
    "        print(\"request successful !!!\")\n",
    "\n",
    "    #with open(\"./20170518_sku_soup.txt\", \"r\", encoding=\"utf-8\") as fp:\n",
    "    #    sku_rst = fp.read()\n",
    "\n",
    "    sku_soup = BeautifulSoup(sku_rst.text, \"html5lib\")\n",
    "\n",
    "    pat1 = re.compile(\"data\\[\\\"colorImages\\\"\\] = ({.*});\")\n",
    "\n",
    "    for tag in sku_soup.find_all(\"script\", text=re.compile(\"P.when\\('A', 'jQuery', 'ImageBlockATF', 'cf'\\)\")):\n",
    "        #sku_tmp = pat.findall(tag.text)\n",
    "        sku_img = json.loads(pat1.findall(tag.text)[0])\n",
    "\n",
    "    tag = sku_soup.find(\"span\", class_=\"a-color-price\")\n",
    "    pat2 = re.compile(\"\\d+[\\.\\d+]*\")\n",
    "    price= pat2.findall(tag.text)\n",
    "\n",
    "    for tag in sku_soup.find_all(\"select\", id=\"native_dropdown_selected_color_name\"):\n",
    "        for p in tag.find_all(\"option\"):\n",
    "            sku = dict()\n",
    "            sku[\"index\"] = p[\"value\"].split(\",\")[0]\n",
    "            sku[\"asin\"]  = p[\"value\"].split(\",\")[1]\n",
    "            sku[\"color\"] = p.text.strip()\n",
    "            sku[\"link\"] = \"https://www.amazon.com/dp/{asin}\".format(asin=sku[\"asin\"])\n",
    "            \n",
    "            if p.text.strip() in test_img.keys():\n",
    "                if \"hiRes\" in test_img[p.text.strip()][0].keys():\n",
    "                    sku[\"pics\"]  = test_img[p.text.strip()][0][\"hiRes\"]\n",
    "                else:\n",
    "                    sku[\"pics\"]  = None\n",
    "            else:\n",
    "                sku[\"pics\"]  = None\n",
    "                \n",
    "            if p.text.strip() in test_img.keys():\n",
    "                if \"thumb\" in test_img[p.text.strip()][0].keys():\n",
    "                    sku[\"thumb\"]  = test_img[p.text.strip()][0][\"large\"]\n",
    "                else:\n",
    "                    sku[\"pics\"]  = None\n",
    "            else:\n",
    "                sku[\"pics\"]  = None   \n",
    "            \n",
    "            sku[\"min_price\"]= price[0]\n",
    "            sku[\"max_price\"]= price[1]\n",
    "            info.append(sku)"
   ]
  },
  {
   "cell_type": "code",
   "execution_count": 40,
   "metadata": {
    "collapsed": false
   },
   "outputs": [
    {
     "data": {
      "text/plain": [
       "51"
      ]
     },
     "execution_count": 40,
     "metadata": {},
     "output_type": "execute_result"
    }
   ],
   "source": [
    "len(sku_url)"
   ]
  },
  {
   "cell_type": "code",
   "execution_count": 39,
   "metadata": {
    "collapsed": false
   },
   "outputs": [
    {
     "name": "stdout",
     "output_type": "stream",
     "text": [
      "[!]Start request time:  2017-05-20 16:13:32.980208\n",
      "current url = https://www.amazon.com/dp/B01EKB6ES6\n",
      "request successful !!!\n",
      "current url = https://www.amazon.com/dp/B00817DZ0G\n",
      "request successful !!!\n",
      "current url = https://www.amazon.com/dp/B00KRYLK8K\n",
      "request successful !!!\n",
      "current url = https://www.amazon.com/dp/B00C7BEZRE\n",
      "request successful !!!\n",
      "current url = https://www.amazon.com/dp/B0724YWQJN\n",
      "request successful !!!\n",
      "current url = https://www.amazon.com/dp/B01HCXMAS2\n",
      "request successful !!!\n",
      "current url = https://www.amazon.com/dp/B00OI0EWVQ\n",
      "request successful !!!\n",
      "current url = https://www.amazon.com/dp/B00719ZZWQ\n",
      "request successful !!!\n",
      "current url = https://www.amazon.com/dp/B06XSN2SJS\n",
      "request successful !!!\n",
      "current url = https://www.amazon.com/dp/B01EKB5Z72\n",
      "request successful !!!\n",
      "current url = https://www.amazon.com/dp/B06XKV7XZZ\n",
      "request successful !!!\n",
      "current url = https://www.amazon.com/dp/B017STTRC2\n",
      "request successful !!!\n",
      "current url = https://www.amazon.com/dp/B06XGP8J9K\n",
      "request successful !!!\n",
      "current url = https://www.amazon.com/dp/B008KZX2LG\n",
      "request successful !!!\n",
      "current url = https://www.amazon.com/dp/B01HEPE0TK\n",
      "request successful !!!\n",
      "current url = https://www.amazon.com/dp/B01EMOVL9I\n",
      "request successful !!!\n",
      "current url = https://www.amazon.com/dp/B00NOY3JPC\n",
      "request successful !!!\n",
      "current url = https://www.amazon.com/dp/B0718XMXZR\n",
      "request successful !!!\n",
      "current url = https://www.amazon.com/dp/B06XGRZ9S9\n",
      "request successful !!!\n",
      "current url = https://www.amazon.com/dp/B00G2DUNMY\n",
      "request successful !!!\n",
      "current url = https://www.amazon.com/dp/B01HI3A736\n",
      "request successful !!!\n",
      "current url = https://www.amazon.com/dp/B018PWD95W\n",
      "request successful !!!\n",
      "current url = https://www.amazon.com/dp/B071RV4KDL\n",
      "request successful !!!\n",
      "current url = https://www.amazon.com/dp/B006TCKB6Q\n",
      "request successful !!!\n",
      "current url = https://www.amazon.com/dp/B00VTV5W5C\n",
      "request successful !!!\n",
      "current url = https://www.amazon.com/dp/B00LSRTZPU\n",
      "request successful !!!\n",
      "current url = https://www.amazon.com/dp/B00VTV95AK\n",
      "request successful !!!\n",
      "current url = https://www.amazon.com/dp/B00VTV8ISK\n",
      "request successful !!!\n",
      "current url = https://www.amazon.com/dp/B00NQ3YZV8\n",
      "request successful !!!\n",
      "current url = https://www.amazon.com/dp/B00KBZTK3M\n",
      "request successful !!!\n",
      "current url = https://www.amazon.com/dp/B00GOZPM44\n",
      "request successful !!!\n",
      "current url = https://www.amazon.com/dp/B06XTFV2LX\n",
      "request successful !!!\n",
      "current url = https://www.amazon.com/dp/B01NAQ6SHR\n",
      "request successful !!!\n",
      "current url = https://www.amazon.com/dp/B00ACIFQGS\n",
      "request successful !!!\n",
      "current url = https://www.amazon.com/dp/B00KUKYJF2\n",
      "request successful !!!\n",
      "current url = https://www.amazon.com/dp/B01NCS3JBD\n",
      "request successful !!!\n",
      "current url = https://www.amazon.com/dp/B004OWML5C\n",
      "request successful !!!\n",
      "current url = https://www.amazon.com/dp/B00KBZOTI8\n",
      "request successful !!!\n",
      "current url = https://www.amazon.com/dp/B01EKB52RK\n",
      "request successful !!!\n",
      "current url = https://www.amazon.com/dp/B01NBP93BU\n",
      "request successful !!!\n",
      "current url = https://www.amazon.com/dp/B017USJZZU\n",
      "request successful !!!\n",
      "current url = https://www.amazon.com/dp/B00KBZSUYC\n",
      "request successful !!!\n",
      "current url = https://www.amazon.com/dp/B01BE1LC6E\n",
      "request successful !!!\n",
      "current url = https://www.amazon.com/dp/B01N0XX2KB\n",
      "request successful !!!\n",
      "current url = https://www.amazon.com/dp/B00KBZQK9O\n",
      "request successful !!!\n",
      "current url = https://www.amazon.com/dp/B012GZLMEE\n",
      "request successful !!!\n",
      "current url = https://www.amazon.com/dp/B01M1K4ABG\n",
      "request successful !!!\n",
      "current url = https://www.amazon.com/dp/B00NMFDCOG\n",
      "request successful !!!\n",
      "current url = https://www.amazon.com/dp/B00W6EQ1AQ\n",
      "request successful !!!\n",
      "current url = https://www.amazon.com/dp/B06XDP723L\n",
      "request successful !!!\n",
      "current url = https://www.amazon.com/dp/B014FO6XES\n",
      "request successful !!!\n",
      "[!]End request time:  2017-05-20 16:17:37.962330\n",
      "create new workbook !!!\n",
      "append position:  1\n",
      "[!]save done time:  2017-05-20 16:17:38.132723\n"
     ]
    }
   ],
   "source": [
    "print(\"[!]Start request time: \",datetime.datetime.now())\n",
    "\n",
    "loop = asyncio.get_event_loop()\n",
    "\n",
    "f = loop.run_until_complete(asyncio.gather(\n",
    "        *[parse_url(index,url) for index,url in enumerate(sku_url)]\n",
    "    ))\n",
    "\n",
    "# tasks = [asyncio.ensure_future(parse_url(index,url)) for index,url in enumerate(urls)]\n",
    "# \n",
    "# f = loop.run_until_complete(asyncio.gather(*tasks))\n",
    "\n",
    "loop.close()\n",
    "\n",
    "print(\"[!]End request time: \",datetime.datetime.now())\n",
    "\n",
    "save_to_excel(info)\n",
    "\n",
    "print(\"[!]save done time: \",datetime.datetime.now())"
   ]
  },
  {
   "cell_type": "code",
   "execution_count": 6,
   "metadata": {
    "collapsed": true
   },
   "outputs": [],
   "source": [
    "test_rst = requests.get(\"https://www.amazon.com/dp/B00OI0EWVQ\", headers=headers)"
   ]
  },
  {
   "cell_type": "code",
   "execution_count": 7,
   "metadata": {
    "collapsed": false
   },
   "outputs": [
    {
     "data": {
      "text/plain": [
       "<Response [200]>"
      ]
     },
     "execution_count": 7,
     "metadata": {},
     "output_type": "execute_result"
    }
   ],
   "source": [
    "test_rst"
   ]
  },
  {
   "cell_type": "code",
   "execution_count": 10,
   "metadata": {
    "collapsed": false
   },
   "outputs": [],
   "source": [
    "test_soup = BeautifulSoup(test_rst.text, \"html5lib\")\n",
    "\n",
    "pat1 = re.compile(\"data\\[\\\"colorImages\\\"\\] = ({.*});\")\n",
    "\n",
    "for tag in test_soup.find_all(\"script\", text=re.compile(\"P.when\\('A', 'jQuery', 'ImageBlockATF', 'cf'\\)\")):\n",
    "    #sku_tmp = pat.findall(tag.text)\n",
    "    test_img = json.loads(pat1.findall(tag.text)[0])"
   ]
  },
  {
   "cell_type": "code",
   "execution_count": 20,
   "metadata": {
    "collapsed": false
   },
   "outputs": [],
   "source": [
    "with open(\"./test_img.txt\", \"w\", encoding=\"utf-8\") as fp:\n",
    "    print(test_img, file=fp)\n",
    "#test_img[\"Mediterranean/Academy\"]"
   ]
  },
  {
   "cell_type": "code",
   "execution_count": 28,
   "metadata": {
    "collapsed": false
   },
   "outputs": [
    {
     "name": "stdout",
     "output_type": "stream",
     "text": [
      "no match !!!\n"
     ]
    }
   ],
   "source": [
    "if \"Mediterranean/Academy\" in test_img.keys():\n",
    "    print(test_img[\"Mediterranean/Academy\"])\n",
    "else:\n",
    "    print(\"no match !!!\")"
   ]
  },
  {
   "cell_type": "code",
   "execution_count": 13,
   "metadata": {
    "collapsed": false
   },
   "outputs": [
    {
     "name": "stdout",
     "output_type": "stream",
     "text": [
      "['15.53', '75.00']\n"
     ]
    }
   ],
   "source": [
    "tag = test_soup.find(\"span\", class_=\"a-color-price\")\n",
    "pat2 = re.compile(\"\\d+[\\.\\d+]*\")\n",
    "price= pat2.findall(tag.text)\n",
    "print(price)"
   ]
  },
  {
   "cell_type": "code",
   "execution_count": 36,
   "metadata": {
    "collapsed": false
   },
   "outputs": [],
   "source": [
    "info = list()\n",
    "for tag in test_soup.find_all(\"select\", id=\"native_dropdown_selected_color_name\"):\n",
    "    for p in tag.find_all(\"option\"):\n",
    "        sku = dict()\n",
    "        sku[\"index\"] = p[\"value\"].split(\",\")[0]\n",
    "        sku[\"asin\"]  = p[\"value\"].split(\",\")[1]\n",
    "        sku[\"color\"] = p.text.strip()\n",
    "        sku[\"link\"] = \"https://www.amazon.com/dp/{asin}\".format(asin=sku[\"asin\"])\n",
    "        if p.text.strip() in test_img.keys():\n",
    "            if \"hiRes\" in test_img[p.text.strip()][0].keys():\n",
    "                sku[\"pics\"]  = test_img[p.text.strip()][0][\"hiRes\"]\n",
    "            else:\n",
    "                sku[\"pics\"]  = None\n",
    "        else:\n",
    "            sku[\"pics\"]  = None\n",
    "            \n",
    "        if p.text.strip() in test_img.keys():\n",
    "            if \"thumb\" in test_img[p.text.strip()][0].keys():\n",
    "                sku[\"thumb\"]  = test_img[p.text.strip()][0][\"large\"]\n",
    "            else:\n",
    "                sku[\"pics\"]  = None\n",
    "        else:\n",
    "            sku[\"pics\"]  = None                \n",
    "                \n",
    "        sku[\"min_price\"]= price[0]\n",
    "        sku[\"max_price\"]= price[1]\n",
    "        info.append(sku)"
   ]
  },
  {
   "cell_type": "code",
   "execution_count": 24,
   "metadata": {
    "collapsed": false
   },
   "outputs": [],
   "source": [
    "with open(\"./test_info.txt\", \"w\", encoding=\"utf-8\") as fp:\n",
    "    print(info, file=fp)"
   ]
  },
  {
   "cell_type": "markdown",
   "metadata": {},
   "source": [
    "# 多进程 & 多线程"
   ]
  },
  {
   "cell_type": "code",
   "execution_count": 1,
   "metadata": {
    "collapsed": true
   },
   "outputs": [],
   "source": [
    "import time\n",
    "import requests\n",
    "import datetime\n",
    "from multiprocessing.dummy import Pool as ThreadPool \n",
    "\n",
    "from bs4 import BeautifulSoup\n",
    "\n",
    "URL = \"https://www.amazon.com/s/ref=sr_pg_{index}?fst=p90x%3A1&rh=i%3Aaps%2Ck%3AT+shirt&page={page}&keywords=T+shirt\"\n",
    "\n",
    "URLs = list()\n",
    "\n",
    "for i in range(1, 8):\n",
    "    URLs.append(URL.format(index=i, page=i))\n",
    "\n",
    "headers = {\n",
    "    \"User-Agent\": \"Mozilla/5.0 (Windows NT 10.0; Win64; x64) AppleWebKit/537.36 (KHTML, like Gecko) Chrome/56.0.2924.87 Safari/537.36\"\n",
    "}"
   ]
  },
  {
   "cell_type": "code",
   "execution_count": 21,
   "metadata": {
    "collapsed": true
   },
   "outputs": [],
   "source": [
    "def GetSubURL(url):\n",
    "    \n",
    "    r = requests.get(url, headers=headers)\n",
    "    \n",
    "    soup = BeautifulSoup(r.text, \"html5lib\")\n",
    "\n",
    "    sku_url = list()\n",
    "    for tag in soup.find_all(\"li\", class_=\"s-result-item\"):\n",
    "        sku_url.append(\"https://www.amazon.com/dp/{asin}\".format(asin=tag[\"data-asin\"]))\n",
    "\n",
    "    print(\"\\n\")\n",
    "    print(len(sku_url),url)\n",
    "    return sku_url"
   ]
  },
  {
   "cell_type": "code",
   "execution_count": 22,
   "metadata": {
    "collapsed": false,
    "scrolled": true
   },
   "outputs": [
    {
     "name": "stdout",
     "output_type": "stream",
     "text": [
      "[!]Start time:  2017-05-21 16:10:08.806214\n",
      "\n",
      "\n",
      "39 https://www.amazon.com/s/ref=sr_pg_5?fst=p90x%3A1&rh=i%3Aaps%2Ck%3AT+shirt&page=5&keywords=T+shirt\n",
      "\n",
      "\n",
      "39 https://www.amazon.com/s/ref=sr_pg_6?fst=p90x%3A1&rh=i%3Aaps%2Ck%3AT+shirt&page=6&keywords=T+shirt\n",
      "\n",
      "\n",
      "51 \n",
      "\n",
      "https://www.amazon.com/s/ref=sr_pg_3?fst=p90x%3A1&rh=i%3Aaps%2Ck%3AT+shirt&page=3&keywords=T+shirt\n",
      "\n",
      "\n",
      "5139  https://www.amazon.com/s/ref=sr_pg_2?fst=p90x%3A1&rh=i%3Aaps%2Ck%3AT+shirt&page=2&keywords=T+shirt\n",
      "https://www.amazon.com/s/ref=sr_pg_7?fst=p90x%3A1&rh=i%3Aaps%2Ck%3AT+shirt&page=7&keywords=T+shirt\n",
      "\n",
      "\n",
      "\n",
      "51 https://www.amazon.com/s/ref=sr_pg_4?fst=p90x%3A1&rh=i%3Aaps%2Ck%3AT+shirt&page=4&keywords=T+shirt\n",
      "\n",
      "51 https://www.amazon.com/s/ref=sr_pg_1?fst=p90x%3A1&rh=i%3Aaps%2Ck%3AT+shirt&page=1&keywords=T+shirt\n",
      "[!]End time:  2017-05-21 16:10:20.092835\n"
     ]
    }
   ],
   "source": [
    "print(\"[!]Start time: \",datetime.datetime.now())\n",
    "# Make the Pool of workers\n",
    "pool = ThreadPool(8) \n",
    "# Open the urls in their own threads\n",
    "# and return the results\n",
    "results = pool.map(GetSubURL, URLs)\n",
    "#close the pool and wait for the work to finish \n",
    "pool.close() \n",
    "pool.join()\n",
    "print(\"[!]End time: \",datetime.datetime.now())"
   ]
  },
  {
   "cell_type": "code",
   "execution_count": 23,
   "metadata": {
    "collapsed": false
   },
   "outputs": [
    {
     "name": "stdout",
     "output_type": "stream",
     "text": [
      "51\n",
      "51\n",
      "51\n",
      "51\n",
      "39\n",
      "39\n",
      "39\n"
     ]
    }
   ],
   "source": [
    "for index,item in enumerate(results):\n",
    "    print(len(item))"
   ]
  },
  {
   "cell_type": "code",
   "execution_count": 48,
   "metadata": {
    "collapsed": true
   },
   "outputs": [],
   "source": [
    "with open(\"./20170521_total_url.txt\",\"w\",encoding=\"utf-8\") as fp:\n",
    "    print(results, file=fp)"
   ]
  },
  {
   "cell_type": "code",
   "execution_count": 9,
   "metadata": {
    "collapsed": false
   },
   "outputs": [],
   "source": [
    "soups = list()\n",
    "sku_url = list()\n",
    "\n",
    "for index,item in enumerate(results):\n",
    "    \n",
    "    soups.append(BeautifulSoup(item.text, \"html5lib\"))\n",
    "    #\n",
    "    #for tag in soup.find_all(\"li\", class_=\"s-result-item\"):\n",
    "    #    sku_url.append(\"https://www.amazon.com/dp/{asin}\".format(asin=tag[\"data-asin\"]))"
   ]
  },
  {
   "cell_type": "code",
   "execution_count": 10,
   "metadata": {
    "collapsed": false
   },
   "outputs": [],
   "source": [
    "with open(\"./20170521_soups.txt\",\"w\",encoding=\"utf-8\") as fp:\n",
    "    print(soups, file=fp)"
   ]
  },
  {
   "cell_type": "code",
   "execution_count": 11,
   "metadata": {
    "collapsed": true
   },
   "outputs": [],
   "source": [
    "soup = BeautifulSoup(results[0].text, \"html5lib\")\n",
    "    \n",
    "sku_url = list()\n",
    "for tag in soup.find_all(\"li\", class_=\"s-result-item\"):\n",
    "    sku_url.append(\"https://www.amazon.com/dp/{asin}\".format(asin=tag[\"data-asin\"]))"
   ]
  },
  {
   "cell_type": "code",
   "execution_count": 12,
   "metadata": {
    "collapsed": true
   },
   "outputs": [],
   "source": [
    "with open(\"./20170521_soup_0.txt\",\"w\",encoding=\"utf-8\") as fp:\n",
    "    print(soup, file=fp)"
   ]
  },
  {
   "cell_type": "code",
   "execution_count": 13,
   "metadata": {
    "collapsed": false,
    "scrolled": true
   },
   "outputs": [
    {
     "data": {
      "text/plain": [
       "['https://www.amazon.com/dp/B004OWML5C',\n",
       " 'https://www.amazon.com/dp/B00KBZOTI8',\n",
       " 'https://www.amazon.com/dp/B00817DZ0G',\n",
       " 'https://www.amazon.com/dp/B01N0X9XSF',\n",
       " 'https://www.amazon.com/dp/B00W66LQFO',\n",
       " 'https://www.amazon.com/dp/B00719ZZWQ',\n",
       " 'https://www.amazon.com/dp/B01EKB6ES6',\n",
       " 'https://www.amazon.com/dp/B017STTRC2',\n",
       " 'https://www.amazon.com/dp/B00KRYLK12',\n",
       " 'https://www.amazon.com/dp/B00NQ3YZV8',\n",
       " 'https://www.amazon.com/dp/B00KBZQK9O',\n",
       " 'https://www.amazon.com/dp/B00F0P407Y',\n",
       " 'https://www.amazon.com/dp/B016OTCDWS',\n",
       " 'https://www.amazon.com/dp/B01BE1LC6E',\n",
       " 'https://www.amazon.com/dp/B01HI3A736',\n",
       " 'https://www.amazon.com/dp/B01BXGLB84']"
      ]
     },
     "execution_count": 13,
     "metadata": {},
     "output_type": "execute_result"
    }
   ],
   "source": [
    "sku_url"
   ]
  },
  {
   "cell_type": "code",
   "execution_count": 14,
   "metadata": {
    "collapsed": true
   },
   "outputs": [],
   "source": [
    "url = \"https://www.amazon.com/s/ref=sr_pg_1?fst=p90x%3A1&rh=i%3Aaps%2Ck%3AT+shirt&page=1&keywords=T+shirt\""
   ]
  },
  {
   "cell_type": "code",
   "execution_count": 41,
   "metadata": {
    "collapsed": true
   },
   "outputs": [],
   "source": [
    "try:\n",
    "    r = requests.get(url, headers=headers, timeout=10)\n",
    "\n",
    "except (requests.ConnectionError,requests.ConnectTimeout,requests.ReadTimeout):\n",
    "    print(\"    [!]Get sub link time out!!!\")"
   ]
  },
  {
   "cell_type": "code",
   "execution_count": 42,
   "metadata": {
    "collapsed": true
   },
   "outputs": [],
   "source": [
    "soup = BeautifulSoup(r.text, \"html5lib\")\n",
    "    \n",
    "sku_url = list()\n",
    "for tag in soup.find_all(\"li\", class_=\"s-result-item\"):\n",
    "    sku_url.append(\"https://www.amazon.com/dp/{asin}\".format(asin=tag[\"data-asin\"]))"
   ]
  },
  {
   "cell_type": "code",
   "execution_count": 43,
   "metadata": {
    "collapsed": false
   },
   "outputs": [
    {
     "data": {
      "text/plain": [
       "39"
      ]
     },
     "execution_count": 43,
     "metadata": {},
     "output_type": "execute_result"
    }
   ],
   "source": [
    "len(sku_url)"
   ]
  },
  {
   "cell_type": "code",
   "execution_count": 26,
   "metadata": {
    "collapsed": true
   },
   "outputs": [],
   "source": [
    "with open(\"./20170521_page_5.txt\",\"w\",encoding=\"utf-8\") as fp:\n",
    "    print(soup, file=fp)"
   ]
  },
  {
   "cell_type": "code",
   "execution_count": 7,
   "metadata": {
    "collapsed": true
   },
   "outputs": [],
   "source": [
    "from bs4 import BeautifulSoup"
   ]
  },
  {
   "cell_type": "code",
   "execution_count": 11,
   "metadata": {
    "collapsed": true
   },
   "outputs": [],
   "source": [
    "from selenium.webdriver.common.desired_capabilities import DesiredCapabilities"
   ]
  },
  {
   "cell_type": "code",
   "execution_count": 1,
   "metadata": {
    "collapsed": false
   },
   "outputs": [],
   "source": [
    "from selenium import webdriver\n",
    "\n",
    "browser_path = \"../python-3rd-party/phantomjs-2.1.1-windows/bin/phantomjs\""
   ]
  },
  {
   "cell_type": "code",
   "execution_count": 2,
   "metadata": {
    "collapsed": true
   },
   "outputs": [],
   "source": [
    "url = \"https://www.amazon.com/s/ref=sr_pg_5?fst=p90x%3A1&rh=i%3Aaps%2Ck%3AT+shirt&page=5&keywords=T+shirt\""
   ]
  },
  {
   "cell_type": "code",
   "execution_count": 40,
   "metadata": {
    "collapsed": true
   },
   "outputs": [],
   "source": [
    "def GetSubURL2(url):\n",
    "\n",
    "    dcap = dict(DesiredCapabilities.PHANTOMJS)\n",
    "    \n",
    "    dcap[\"phantomjs.page.settings.userAgent\"] = \"Mozilla/5.0 (Windows NT 10.0; Win64; x64) AppleWebKit/537.36 (KHTML, like Gecko) Chrome/56.0.2924.87 Safari/537.36\"\n",
    "    \n",
    "    driver = webdriver.PhantomJS(executable_path=browser_path, desired_capabilities=dcap)\n",
    "    \n",
    "    driver.get(url)\n",
    "    \n",
    "    soup = BeautifulSoup(driver.page_source, \"html5lib\")\n",
    "    \n",
    "    sku_url = list()\n",
    "    \n",
    "    for tag in soup.find_all(\"li\", class_=\"s-result-item\"):\n",
    "        sku_url.append(\"https://www.amazon.com/dp/{asin}\".format(asin=tag[\"data-asin\"]))\n",
    " \n",
    "    print(len(sku_url),url)\n",
    "    \n",
    "    #driver.close()    \n",
    "        \n",
    "    return sku_url"
   ]
  },
  {
   "cell_type": "code",
   "execution_count": 19,
   "metadata": {
    "collapsed": false,
    "scrolled": true
   },
   "outputs": [
    {
     "data": {
      "text/plain": [
       "51"
      ]
     },
     "execution_count": 19,
     "metadata": {},
     "output_type": "execute_result"
    }
   ],
   "source": [
    "len(sku_url)"
   ]
  },
  {
   "cell_type": "code",
   "execution_count": 67,
   "metadata": {
    "collapsed": false,
    "scrolled": false
   },
   "outputs": [
    {
     "ename": "NameError",
     "evalue": "name 'datetime' is not defined",
     "output_type": "error",
     "traceback": [
      "\u001b[0;31m---------------------------------------------------------------------------\u001b[0m",
      "\u001b[0;31mNameError\u001b[0m                                 Traceback (most recent call last)",
      "\u001b[0;32m<ipython-input-67-25a1997d032f>\u001b[0m in \u001b[0;36m<module>\u001b[0;34m()\u001b[0m\n\u001b[0;32m----> 1\u001b[0;31m \u001b[0mprint\u001b[0m\u001b[1;33m(\u001b[0m\u001b[1;34m\"[!]Start time: \"\u001b[0m\u001b[1;33m,\u001b[0m\u001b[0mdatetime\u001b[0m\u001b[1;33m.\u001b[0m\u001b[0mdatetime\u001b[0m\u001b[1;33m.\u001b[0m\u001b[0mnow\u001b[0m\u001b[1;33m(\u001b[0m\u001b[1;33m)\u001b[0m\u001b[1;33m)\u001b[0m\u001b[1;33m\u001b[0m\u001b[0m\n\u001b[0m\u001b[1;32m      2\u001b[0m \u001b[1;31m# Make the Pool of workers\u001b[0m\u001b[1;33m\u001b[0m\u001b[1;33m\u001b[0m\u001b[0m\n\u001b[1;32m      3\u001b[0m \u001b[0mpool\u001b[0m \u001b[1;33m=\u001b[0m \u001b[0mThreadPool\u001b[0m\u001b[1;33m(\u001b[0m\u001b[1;36m8\u001b[0m\u001b[1;33m)\u001b[0m\u001b[1;33m\u001b[0m\u001b[0m\n\u001b[1;32m      4\u001b[0m \u001b[1;31m# Open the urls in their own threads\u001b[0m\u001b[1;33m\u001b[0m\u001b[1;33m\u001b[0m\u001b[0m\n\u001b[1;32m      5\u001b[0m \u001b[1;31m# and return the results\u001b[0m\u001b[1;33m\u001b[0m\u001b[1;33m\u001b[0m\u001b[0m\n",
      "\u001b[0;31mNameError\u001b[0m: name 'datetime' is not defined"
     ]
    }
   ],
   "source": [
    "print(\"[!]Start time: \",datetime.datetime.now())\n",
    "# Make the Pool of workers\n",
    "pool = ThreadPool(8) \n",
    "# Open the urls in their own threads\n",
    "# and return the results\n",
    "results = pool.map(GetSubURL2, URLs)\n",
    "#close the pool and wait for the work to finish \n",
    "pool.close() \n",
    "pool.join()\n",
    "print(\"[!]End time: \",datetime.datetime.now())"
   ]
  },
  {
   "cell_type": "code",
   "execution_count": 24,
   "metadata": {
    "collapsed": false
   },
   "outputs": [
    {
     "name": "stdout",
     "output_type": "stream",
     "text": [
      "Import Save Module !!!\n"
     ]
    }
   ],
   "source": [
    "import re\n",
    "import json\n",
    "import requests\n",
    "\n",
    "from bs4 import BeautifulSoup\n",
    "from save import save_to_excel"
   ]
  },
  {
   "cell_type": "code",
   "execution_count": 25,
   "metadata": {
    "collapsed": false
   },
   "outputs": [
    {
     "name": "stdout",
     "output_type": "stream",
     "text": [
      "51\n",
      "51\n",
      "51\n",
      "51\n",
      "39\n",
      "39\n",
      "39\n"
     ]
    }
   ],
   "source": [
    "for index,item in enumerate(results):\n",
    "    print(len(item))"
   ]
  },
  {
   "cell_type": "code",
   "execution_count": 68,
   "metadata": {
    "collapsed": false
   },
   "outputs": [
    {
     "data": {
      "text/plain": [
       "'    sku_soup = BeautifulSoup(sku_rst.text, \"html5lib\")\\n\\n    #pat1 = re.compile(\"data\\\\[\"colorImages\"\\\\] = ({.*});\")\\n\\n    #for tag in sku_soup.find_all(\"script\", text=re.compile(\"P.when\\\\(\\'A\\', \\'jQuery\\', \\'ImageBlockATF\\', \\'cf\\'\\\\)\")):\\n    #    #sku_tmp = pat.findall(tag.text)\\n    #    sku_img = json.loads(pat1.findall(tag.text)[0])\\n\\n    tag = sku_soup.find(\"span\", class_=\"a-color-price\")\\n    \\n    pat2 = re.compile(\"\\\\d+[\\\\.\\\\d+]*\")\\n    price= pat2.findall(tag.text)\\n    \\n    sku[\"min_price\"]= price[0]\\n    \\n    if len(price) == 2:\\n        sku[\"max_price\"]= price[1]\\n    else:\\n        sku[\"max_price\"]= price[0]\\n\\n    for tag in sku_soup.find_all(\"select\", id=\"native_dropdown_selected_color_name\"):\\n        for p in tag.find_all(\"option\"):\\n            \\n            #sku[\"index\"] = p[\"value\"].split(\",\")[0]\\n            sku[\"asin\"]  = p[\"value\"].split(\",\")[1]\\n            sku[\"color\"] = p.text.strip()\\n            #sku[\"link\"] = \"https://www.amazon.com/dp/{asin}\".format(asin=sku[\"asin\"])\\n            \\n            #if p.text.strip() in sku_img.keys():\\n            #    if \"hiRes\" in sku_img[p.text.strip()][0].keys():\\n            #        sku[\"pics\"]  = sku_img[p.text.strip()][0][\"hiRes\"]\\n            #    else:\\n            #        sku[\"pics\"]  = None\\n            #else:\\n            #    sku[\"pics\"]  = None\\n                \\n            #if p.text.strip() in sku_img.keys():\\n            #    if \"thumb\" in sku_img[p.text.strip()][0].keys():\\n            #        sku[\"thumb\"]  = sku_img[p.text.strip()][0][\"large\"]\\n            #    else:\\n            #        sku[\"pics\"]  = None\\n            #else:\\n            #    sku[\"pics\"]  = None   \\n        \\n    info.append(sku)'"
      ]
     },
     "execution_count": 68,
     "metadata": {},
     "output_type": "execute_result"
    }
   ],
   "source": [
    "# 格式化文件名\n",
    "txt_name = \"{name}\".format(name = time.strftime(\"%Y%m%d\"))\n",
    "\n",
    "def parse_url(url,proxies, cnt):\n",
    "    \n",
    "    print(\"current url =\", url)\n",
    "    \n",
    "    sku = dict()\n",
    "    \n",
    "    #sku_rst = requests.get(url, headers=headers)\n",
    "    \n",
    "    sku_rst = requests.get(URL, headers=headers, proxies=proxies)\n",
    "        \n",
    "\n",
    "    if sku_rst.status_code == 200:\n",
    "        \n",
    "        print(\"request successful !!!\")\n",
    "        \n",
    "        # 格式化存档路径\n",
    "        file_path = \"./data/{name}_{cnt}.txt\".format(name = txt_name, cnt=cnt)\n",
    "        \n",
    "        with open(file_path, \"w\", encoding=\"utf-8\") as fp:\n",
    "        \n",
    "            print(sku_rst.text,  file=fp)\n",
    "\n",
    "\"\"\"    sku_soup = BeautifulSoup(sku_rst.text, \"html5lib\")\n",
    "\n",
    "    #pat1 = re.compile(\"data\\[\\\"colorImages\\\"\\] = ({.*});\")\n",
    "\n",
    "    #for tag in sku_soup.find_all(\"script\", text=re.compile(\"P.when\\('A', 'jQuery', 'ImageBlockATF', 'cf'\\)\")):\n",
    "    #    #sku_tmp = pat.findall(tag.text)\n",
    "    #    sku_img = json.loads(pat1.findall(tag.text)[0])\n",
    "\n",
    "    tag = sku_soup.find(\"span\", class_=\"a-color-price\")\n",
    "    \n",
    "    pat2 = re.compile(\"\\d+[\\.\\d+]*\")\n",
    "    price= pat2.findall(tag.text)\n",
    "    \n",
    "    sku[\"min_price\"]= price[0]\n",
    "    \n",
    "    if len(price) == 2:\n",
    "        sku[\"max_price\"]= price[1]\n",
    "    else:\n",
    "        sku[\"max_price\"]= price[0]\n",
    "\n",
    "    for tag in sku_soup.find_all(\"select\", id=\"native_dropdown_selected_color_name\"):\n",
    "        for p in tag.find_all(\"option\"):\n",
    "            \n",
    "            #sku[\"index\"] = p[\"value\"].split(\",\")[0]\n",
    "            sku[\"asin\"]  = p[\"value\"].split(\",\")[1]\n",
    "            sku[\"color\"] = p.text.strip()\n",
    "            #sku[\"link\"] = \"https://www.amazon.com/dp/{asin}\".format(asin=sku[\"asin\"])\n",
    "            \n",
    "            #if p.text.strip() in sku_img.keys():\n",
    "            #    if \"hiRes\" in sku_img[p.text.strip()][0].keys():\n",
    "            #        sku[\"pics\"]  = sku_img[p.text.strip()][0][\"hiRes\"]\n",
    "            #    else:\n",
    "            #        sku[\"pics\"]  = None\n",
    "            #else:\n",
    "            #    sku[\"pics\"]  = None\n",
    "                \n",
    "            #if p.text.strip() in sku_img.keys():\n",
    "            #    if \"thumb\" in sku_img[p.text.strip()][0].keys():\n",
    "            #        sku[\"thumb\"]  = sku_img[p.text.strip()][0][\"large\"]\n",
    "            #    else:\n",
    "            #        sku[\"pics\"]  = None\n",
    "            #else:\n",
    "            #    sku[\"pics\"]  = None   \n",
    "        \n",
    "    info.append(sku)\"\"\""
   ]
  },
  {
   "cell_type": "markdown",
   "metadata": {},
   "source": [
    "# 设置代理IP"
   ]
  },
  {
   "cell_type": "code",
   "execution_count": 1,
   "metadata": {
    "collapsed": false,
    "scrolled": true
   },
   "outputs": [
    {
     "name": "stdout",
     "output_type": "stream",
     "text": [
      "ip_list = ['117.91.138.245:808', '123.169.84.95:808', '115.213.203.82:808', '222.95.20.193:808', '222.85.50.102:808', '175.155.25.53:808', '119.5.1.4:808', '58.209.151.126:808', '122.90.167.163:80', '139.224.237.33:8888', '122.91.223.52:80', '116.226.90.12:808', '119.5.0.38:808', '175.155.240.242:808', '110.244.132.223:80', '223.9.224.68:8118', '119.5.1.28:808', '111.179.12.34:808', '175.155.25.13:808', '115.215.69.224:808', '175.155.24.5:808', '183.1.86.250:8118', '183.153.28.15:808', '116.255.153.137:8082', '140.224.76.57:8888', '110.73.5.252:8123', '113.69.61.67:808', '27.19.9.129:808', '123.55.178.92:808', '219.139.190.188:808', '27.159.126.218:8118', '114.239.1.189:808', '175.155.24.54:808', '121.207.201.97:8118', '115.226.255.29:8118', '120.77.155.91:8088', '122.245.68.225:808', '27.159.126.109:8118', '223.243.172.230:8118', '115.192.237.159:808', '115.212.60.46:808', '115.192.66.180:808', '175.155.228.18:808', '115.192.64.124:808', '222.94.144.55:808', '218.4.101.130:83', '27.184.53.125:8118', '113.123.26.125:808', '115.215.70.124:808', '180.122.156.69:22259', '123.169.86.192:808', '119.5.216.226:808', '115.220.148.25:808', '122.245.68.84:808', '119.5.1.21:808', '123.55.2.138:808', '60.176.77.120:808', '175.155.25.54:808', '123.169.91.139:808', '60.176.77.18:808', '175.155.242.70:808', '122.6.109.163:808', '175.155.243.163:808', '171.37.158.178:8123', '113.69.167.205:808', '121.62.136.234:808', '60.178.84.232:808', '123.169.87.141:808', '123.169.89.250:808', '115.220.146.119:808', '114.231.159.139:808', '221.229.46.240:808', '117.91.138.248:808', '123.55.89.40:808', '220.160.10.181:808', '221.227.231.112:808', '182.90.58.219:8123', '175.155.25.55:808', '111.179.13.163:808', '222.64.209.29:8118', '122.245.69.38:808', '119.7.75.27:808', '180.76.154.5:8888', '175.169.131.123:8118', '113.69.60.147:808', '175.155.24.29:808', '119.5.1.33:808', '114.239.145.194:808', '112.82.222.27:808', '119.5.1.16:808', '175.155.24.25:808', '60.214.118.170:63000', '183.153.6.208:808', '222.76.118.39:808', '119.165.249.13:8118', '60.184.172.32:808', '175.155.25.48:808', '182.34.23.9:808', '115.213.200.72:808', '175.155.24.33:808']\n",
      "proxies = {'http': 'http://175.155.24.5:808'}\n"
     ]
    }
   ],
   "source": [
    "from proxy import get_ip_list\n",
    "from proxy import get_random_ip\n",
    "\n",
    "url = \"http://www.xicidaili.com/nn/\"\n",
    "\n",
    "headers = {\n",
    "    \"User-Agent\": \"Mozilla/5.0 (Windows NT 6.1; Win64; x64) AppleWebKit/537.36 (KHTML, like Gecko) Chrome/53.0.2785.143 Safari/537.36\"\n",
    "}\n",
    "\n",
    "ip_list = get_ip_list(url, headers=headers)\n",
    "\n",
    "print(\"ip_list =\", ip_list)\n",
    "    \n",
    "proxies = get_random_ip(ip_list)\n",
    "\n",
    "print(\"proxies =\", proxies)"
   ]
  },
  {
   "cell_type": "code",
   "execution_count": 9,
   "metadata": {
    "collapsed": true
   },
   "outputs": [],
   "source": [
    "import re\n",
    "import json\n",
    "import time\n",
    "import requests\n",
    "import datetime\n",
    "from bs4 import BeautifulSoup\n",
    "from multiprocessing.dummy import Pool as ThreadPool"
   ]
  },
  {
   "cell_type": "code",
   "execution_count": 45,
   "metadata": {
    "collapsed": true
   },
   "outputs": [],
   "source": [
    "headers = {\n",
    "    \"User-Agent\": \"Mozilla/5.0 (Windows NT 10.0; Win64; x64) AppleWebKit/537.36 (KHTML, like Gecko) Chrome/56.0.2924.87 Safari/537.36\"\n",
    "}\n",
    "\n",
    "URL = \"https://www.amazon.com/s/ref=sr_pg_{index}?fst=p90x%3A1&rh=i%3Aaps%2Ck%3AT+shirt&page={page}&keywords=T+shirt\"\n",
    "\n",
    "URLs = list()\n",
    "\n",
    "for i in range(1, 8):\n",
    "    URLs.append(URL.format(index=i, page=i))"
   ]
  },
  {
   "cell_type": "code",
   "execution_count": 4,
   "metadata": {
    "collapsed": false
   },
   "outputs": [],
   "source": [
    "# 格式化文件名\n",
    "txt_name = \"{name}\".format(name = time.strftime(\"%Y%m%d\"))\n",
    "\n",
    "def parse_url(url,proxies, cnt):\n",
    "    \n",
    "    print(\"current url =\", url)\n",
    "    \n",
    "    sku = dict()\n",
    "    \n",
    "    #sku_rst = requests.get(url, headers=headers)\n",
    "    \n",
    "    sku_rst = requests.get(URL, headers=headers, proxies=proxies)\n",
    "        \n",
    "\n",
    "    if sku_rst.status_code == 200:\n",
    "        \n",
    "        print(\"request successful !!!\")\n",
    "        \n",
    "        # 格式化存档路径\n",
    "        file_path = \"./data/{name}_{cnt}.txt\".format(name = txt_name, cnt=cnt)\n",
    "        \n",
    "        with open(file_path, \"w\", encoding=\"utf-8\") as fp:\n",
    "        \n",
    "            print(sku_rst.text,  file=fp)"
   ]
  },
  {
   "cell_type": "code",
   "execution_count": 6,
   "metadata": {
    "collapsed": true
   },
   "outputs": [],
   "source": [
    "def GetSubURL(url):\n",
    "    \n",
    "    r = requests.get(url, headers=headers)\n",
    "    \n",
    "    soup = BeautifulSoup(r.text, \"html5lib\")\n",
    "\n",
    "    sku_url = list()\n",
    "    for tag in soup.find_all(\"li\", class_=\"s-result-item\"):\n",
    "        sku_url.append(\"https://www.amazon.com/dp/{asin}\".format(asin=tag[\"data-asin\"]))\n",
    "\n",
    "    print(\"\\n\")\n",
    "    print(len(sku_url),url)\n",
    "    return sku_url"
   ]
  },
  {
   "cell_type": "code",
   "execution_count": 7,
   "metadata": {
    "collapsed": false
   },
   "outputs": [
    {
     "data": {
      "text/plain": [
       "['https://www.amazon.com/s/ref=sr_pg_1?fst=p90x%3A1&rh=i%3Aaps%2Ck%3AT+shirt&page=1&keywords=T+shirt',\n",
       " 'https://www.amazon.com/s/ref=sr_pg_2?fst=p90x%3A1&rh=i%3Aaps%2Ck%3AT+shirt&page=2&keywords=T+shirt',\n",
       " 'https://www.amazon.com/s/ref=sr_pg_3?fst=p90x%3A1&rh=i%3Aaps%2Ck%3AT+shirt&page=3&keywords=T+shirt',\n",
       " 'https://www.amazon.com/s/ref=sr_pg_4?fst=p90x%3A1&rh=i%3Aaps%2Ck%3AT+shirt&page=4&keywords=T+shirt',\n",
       " 'https://www.amazon.com/s/ref=sr_pg_5?fst=p90x%3A1&rh=i%3Aaps%2Ck%3AT+shirt&page=5&keywords=T+shirt',\n",
       " 'https://www.amazon.com/s/ref=sr_pg_6?fst=p90x%3A1&rh=i%3Aaps%2Ck%3AT+shirt&page=6&keywords=T+shirt',\n",
       " 'https://www.amazon.com/s/ref=sr_pg_7?fst=p90x%3A1&rh=i%3Aaps%2Ck%3AT+shirt&page=7&keywords=T+shirt']"
      ]
     },
     "execution_count": 7,
     "metadata": {},
     "output_type": "execute_result"
    }
   ],
   "source": [
    "URLs"
   ]
  },
  {
   "cell_type": "code",
   "execution_count": 11,
   "metadata": {
    "collapsed": false
   },
   "outputs": [
    {
     "name": "stdout",
     "output_type": "stream",
     "text": [
      "[!]Start time:  2017-05-21 19:12:05.679033\n",
      "\n",
      "\n",
      "51 https://www.amazon.com/s/ref=sr_pg_5?fst=p90x%3A1&rh=i%3Aaps%2Ck%3AT+shirt&page=5&keywords=T+shirt\n",
      "\n",
      "\n",
      "18 https://www.amazon.com/s/ref=sr_pg_7?fst=p90x%3A1&rh=i%3Aaps%2Ck%3AT+shirt&page=7&keywords=T+shirt\n",
      "\n",
      "\n",
      "51 https://www.amazon.com/s/ref=sr_pg_3?fst=p90x%3A1&rh=i%3Aaps%2Ck%3AT+shirt&page=3&keywords=T+shirt\n",
      "\n",
      "\n",
      "39\n",
      " \n",
      "https://www.amazon.com/s/ref=sr_pg_4?fst=p90x%3A1&rh=i%3Aaps%2Ck%3AT+shirt&page=4&keywords=T+shirt39\n",
      " https://www.amazon.com/s/ref=sr_pg_6?fst=p90x%3A1&rh=i%3Aaps%2Ck%3AT+shirt&page=6&keywords=T+shirt\n",
      "\n",
      "\n",
      "51 https://www.amazon.com/s/ref=sr_pg_1?fst=p90x%3A1&rh=i%3Aaps%2Ck%3AT+shirt&page=1&keywords=T+shirt\n",
      "\n",
      "\n",
      "39 https://www.amazon.com/s/ref=sr_pg_2?fst=p90x%3A1&rh=i%3Aaps%2Ck%3AT+shirt&page=2&keywords=T+shirt\n",
      "[!]End time:  2017-05-21 19:12:15.502808\n"
     ]
    }
   ],
   "source": [
    "print(\"[!]Start time: \",datetime.datetime.now())\n",
    "# Make the Pool of workers\n",
    "pool = ThreadPool(8) \n",
    "# Open the urls in their own threads\n",
    "# and return the results\n",
    "results = pool.map(GetSubURL, URLs)\n",
    "#close the pool and wait for the work to finish \n",
    "pool.close() \n",
    "pool.join()\n",
    "print(\"[!]End time: \",datetime.datetime.now())"
   ]
  },
  {
   "cell_type": "code",
   "execution_count": null,
   "metadata": {
    "collapsed": false,
    "scrolled": false
   },
   "outputs": [
    {
     "name": "stdout",
     "output_type": "stream",
     "text": [
      "current url = https://www.amazon.com/dp/B004OWML5C\n",
      "request successful !!!\n",
      "current url = https://www.amazon.com/dp/B00KBZOTI8\n",
      "request successful !!!\n",
      "current url = https://www.amazon.com/dp/B00817DZ0G\n",
      "request successful !!!\n",
      "current url = https://www.amazon.com/dp/B01N0X9XSF\n",
      "request successful !!!\n",
      "current url = https://www.amazon.com/dp/B00W66LQFO\n",
      "request successful !!!\n",
      "current url = https://www.amazon.com/dp/B00719ZZWQ\n",
      "request successful !!!\n",
      "current url = https://www.amazon.com/dp/B01EKB6ES6\n",
      "request successful !!!\n",
      "current url = https://www.amazon.com/dp/B017STTRC2\n",
      "request successful !!!\n",
      "current url = https://www.amazon.com/dp/B00KRYLK12\n",
      "request successful !!!\n",
      "current url = https://www.amazon.com/dp/B01BXGLB84\n",
      "request successful !!!\n",
      "current url = https://www.amazon.com/dp/B00NQ3YZV8\n",
      "request successful !!!\n",
      "current url = https://www.amazon.com/dp/B00F0P407Y\n",
      "request successful !!!\n",
      "current url = https://www.amazon.com/dp/B00KBZQK9O\n",
      "request successful !!!\n",
      "current url = https://www.amazon.com/dp/B014FO6XES\n",
      "request successful !!!\n",
      "current url = https://www.amazon.com/dp/B016OTCDWS\n",
      "request successful !!!\n",
      "current url = https://www.amazon.com/dp/B01BE1LC6E\n",
      "request successful !!!\n",
      "current url = https://www.amazon.com/dp/B00NOY3JPC\n",
      "request successful !!!\n",
      "current url = https://www.amazon.com/dp/B01HN74XMI\n",
      "request successful !!!\n",
      "current url = https://www.amazon.com/dp/B01HI3A736\n",
      "request successful !!!\n",
      "current url = https://www.amazon.com/dp/B06XKV7XZZ\n",
      "request successful !!!\n",
      "current url = https://www.amazon.com/dp/B012GZLMEE\n",
      "request successful !!!\n",
      "current url = https://www.amazon.com/dp/B01NAFW5O0\n",
      "request successful !!!\n",
      "current url = https://www.amazon.com/dp/B01NCS3JBD\n",
      "request successful !!!\n",
      "current url = https://www.amazon.com/dp/B01EMOVL9I\n",
      "request successful !!!\n",
      "current url = https://www.amazon.com/dp/B01EKB52RK\n",
      "request successful !!!\n",
      "current url = https://www.amazon.com/dp/B01HEPE0TK\n",
      "request successful !!!\n",
      "current url = https://www.amazon.com/dp/B008KZX2LG\n",
      "request successful !!!\n",
      "current url = https://www.amazon.com/dp/B007YXN9KE\n",
      "request successful !!!\n",
      "current url = https://www.amazon.com/dp/B01N0XX2KB\n",
      "request successful !!!\n",
      "current url = https://www.amazon.com/dp/B00ACIFP5U\n",
      "request successful !!!\n",
      "current url = https://www.amazon.com/dp/B00GOZPM44\n",
      "request successful !!!\n",
      "current url = https://www.amazon.com/dp/B00KBZSUYC\n",
      "request successful !!!\n",
      "current url = https://www.amazon.com/dp/B01N0VJGJ6\n",
      "request successful !!!\n",
      "current url = https://www.amazon.com/dp/B00VTV5W5C\n",
      "request successful !!!\n",
      "current url = https://www.amazon.com/dp/B01HCXMAS2\n",
      "request successful !!!\n",
      "current url = https://www.amazon.com/dp/B00NMFDE3K\n",
      "request successful !!!\n",
      "current url = https://www.amazon.com/dp/B00KBZTK9G\n",
      "request successful !!!\n",
      "current url = https://www.amazon.com/dp/B00KUKYJF2\n",
      "request successful !!!\n",
      "current url = https://www.amazon.com/dp/B01NAQ6SHR\n",
      "request successful !!!\n",
      "current url = https://www.amazon.com/dp/B01N7MVVWX\n",
      "request successful !!!\n",
      "current url = https://www.amazon.com/dp/B00KWK1NHC\n",
      "request successful !!!\n",
      "current url = https://www.amazon.com/dp/B01MS1ZKTI\n",
      "request successful !!!\n",
      "current url = https://www.amazon.com/dp/B00W6EQ1AQ\n",
      "request successful !!!\n",
      "current url = https://www.amazon.com/dp/B071RR768L\n",
      "request successful !!!\n",
      "current url = https://www.amazon.com/dp/B00VTV95AK\n",
      "request successful !!!\n",
      "current url = https://www.amazon.com/dp/B016YRY08K\n",
      "request successful !!!\n",
      "current url = https://www.amazon.com/dp/B00SNCKUFM\n",
      "request successful !!!\n",
      "current url = https://www.amazon.com/dp/B00F9LLVHQ\n",
      "request successful !!!\n",
      "current url = https://www.amazon.com/dp/B06WWM5MS1\n",
      "request successful !!!\n",
      "current url = https://www.amazon.com/dp/B01IEAGVGO\n",
      "request successful !!!\n",
      "current url = https://www.amazon.com/dp/B06XP4KRMP\n",
      "request successful !!!\n",
      "current url = https://www.amazon.com/dp/B00KBZTK9G\n",
      "request successful !!!\n",
      "current url = https://www.amazon.com/dp/B00KUKYJF2\n",
      "request successful !!!\n",
      "current url = https://www.amazon.com/dp/B01NAQ6SHR\n",
      "request successful !!!\n",
      "current url = https://www.amazon.com/dp/B01N7MVVWX\n",
      "request successful !!!\n",
      "current url = https://www.amazon.com/dp/B00KWK1NHC\n",
      "request successful !!!\n",
      "current url = https://www.amazon.com/dp/B01MS1ZKTI\n",
      "request successful !!!\n",
      "current url = https://www.amazon.com/dp/B00W6EQ1AQ\n",
      "request successful !!!\n",
      "current url = https://www.amazon.com/dp/B071RR768L\n",
      "request successful !!!\n",
      "current url = https://www.amazon.com/dp/B00VTV95AK\n",
      "request successful !!!\n",
      "current url = https://www.amazon.com/dp/B016YRY08K\n",
      "request successful !!!\n",
      "current url = https://www.amazon.com/dp/B00SNCKUFM\n",
      "request successful !!!\n",
      "current url = https://www.amazon.com/dp/B00F9LLVHQ\n",
      "request successful !!!\n",
      "current url = https://www.amazon.com/dp/1604600144\n",
      "request successful !!!\n",
      "current url = https://www.amazon.com/dp/B01KQ97DHW\n",
      "request successful !!!\n",
      "current url = https://www.amazon.com/dp/B00G2DUNMY\n",
      "request successful !!!\n",
      "current url = https://www.amazon.com/dp/B00CV5R460\n",
      "request successful !!!\n",
      "current url = https://www.amazon.com/dp/B06XK9C4LS\n",
      "request successful !!!\n",
      "current url = https://www.amazon.com/dp/B019KGCT9E\n",
      "request successful !!!\n",
      "current url = https://www.amazon.com/dp/B01M6AZ61W\n",
      "request successful !!!\n",
      "current url = https://www.amazon.com/dp/B00WQMWXBY\n",
      "request successful !!!\n",
      "current url = https://www.amazon.com/dp/B01N7TDTVJ\n",
      "request successful !!!\n",
      "current url = https://www.amazon.com/dp/B0006HV2ZE\n",
      "request successful !!!\n",
      "current url = https://www.amazon.com/dp/B01MDT430W\n",
      "request successful !!!\n",
      "current url = https://www.amazon.com/dp/B00O91VD84\n",
      "request successful !!!\n",
      "current url = https://www.amazon.com/dp/B06WD1CRGT\n",
      "request successful !!!\n",
      "current url = https://www.amazon.com/dp/B00KRYOT7E\n",
      "request successful !!!\n",
      "current url = https://www.amazon.com/dp/B06XWN8XFV\n",
      "request successful !!!\n",
      "current url = https://www.amazon.com/dp/B00470OSPW\n",
      "request successful !!!\n",
      "current url = https://www.amazon.com/dp/B00KXDMX54\n",
      "request successful !!!\n",
      "current url = https://www.amazon.com/dp/B06XCMJPRG\n",
      "request successful !!!\n",
      "current url = https://www.amazon.com/dp/B009CCVS4E\n",
      "request successful !!!\n",
      "current url = https://www.amazon.com/dp/B01MD0G1WH\n",
      "request successful !!!\n",
      "current url = https://www.amazon.com/dp/B001O0FG36\n",
      "request successful !!!\n",
      "current url = https://www.amazon.com/dp/B00W4HUPJ8\n",
      "request successful !!!\n",
      "current url = https://www.amazon.com/dp/B06WD3Q94Q\n",
      "request successful !!!\n",
      "current url = https://www.amazon.com/dp/B00JP5PJ2U\n",
      "request successful !!!\n",
      "current url = https://www.amazon.com/dp/B06WWM5MS1\n",
      "request successful !!!\n",
      "current url = https://www.amazon.com/dp/B01IEAGVGO\n",
      "request successful !!!\n",
      "current url = https://www.amazon.com/dp/B06XP4KRMP\n",
      "request successful !!!\n",
      "current url = https://www.amazon.com/dp/B0009G66JE\n",
      "request successful !!!\n",
      "current url = https://www.amazon.com/dp/B06XCHMGJ1\n",
      "request successful !!!\n",
      "current url = https://www.amazon.com/dp/B016OTB0EU\n",
      "request successful !!!\n",
      "current url = https://www.amazon.com/dp/B00HYDYQ24\n",
      "request successful !!!\n",
      "current url = https://www.amazon.com/dp/B07254VCJL\n",
      "request successful !!!\n",
      "current url = https://www.amazon.com/dp/B00JQRQ48K\n",
      "request successful !!!\n",
      "current url = https://www.amazon.com/dp/B00RKE2TJE\n",
      "request successful !!!\n",
      "current url = https://www.amazon.com/dp/B06ZY72R5R\n",
      "request successful !!!\n",
      "current url = https://www.amazon.com/dp/B071QYC6V2\n",
      "request successful !!!\n",
      "current url = https://www.amazon.com/dp/B0057ISGCO\n",
      "request successful !!!\n",
      "current url = https://www.amazon.com/dp/B007C2PZQ8\n",
      "request successful !!!\n",
      "current url = https://www.amazon.com/dp/B01MUUEYCG\n",
      "request successful !!!\n",
      "current url = https://www.amazon.com/dp/B06XGRZ9S9\n",
      "request successful !!!\n",
      "current url = https://www.amazon.com/dp/B0000C0CIR\n",
      "request successful !!!\n",
      "current url = https://www.amazon.com/dp/B01M0K84A3\n",
      "request successful !!!\n",
      "current url = https://www.amazon.com/dp/B01M2BHHCS\n",
      "request successful !!!\n",
      "current url = https://www.amazon.com/dp/B00ZEM5MT8\n",
      "request successful !!!\n",
      "current url = https://www.amazon.com/dp/B06XCHN88W\n",
      "request successful !!!\n",
      "current url = https://www.amazon.com/dp/B01M3WVDLK\n",
      "request successful !!!\n",
      "current url = https://www.amazon.com/dp/B017CXA6X8\n",
      "request successful !!!\n",
      "current url = https://www.amazon.com/dp/B00LSRU1QW\n",
      "request successful !!!\n",
      "current url = https://www.amazon.com/dp/B00E9TM9HU\n",
      "request successful !!!\n",
      "current url = https://www.amazon.com/dp/B071XX9MYP\n",
      "request successful !!!\n",
      "current url = https://www.amazon.com/dp/B019962FLW\n",
      "request successful !!!\n",
      "current url = https://www.amazon.com/dp/B00MWQF6YA\n",
      "request successful !!!\n",
      "current url = https://www.amazon.com/dp/B06XZGHPNJ\n",
      "request successful !!!\n",
      "current url = https://www.amazon.com/dp/B01MTNHB2H\n",
      "request successful !!!\n",
      "current url = https://www.amazon.com/dp/B06XCQH8BP\n",
      "request successful !!!\n",
      "current url = https://www.amazon.com/dp/B01N9O4I34\n",
      "request successful !!!\n",
      "current url = https://www.amazon.com/dp/B003AU5WC8\n",
      "request successful !!!\n",
      "current url = https://www.amazon.com/dp/B01NC372KK\n",
      "request successful !!!\n",
      "current url = https://www.amazon.com/dp/B00W4HUPJ8\n",
      "request successful !!!\n",
      "current url = https://www.amazon.com/dp/B01D9P6A8I\n",
      "request successful !!!\n",
      "current url = https://www.amazon.com/dp/B00VTVBHQK\n",
      "request successful !!!\n",
      "current url = https://www.amazon.com/dp/B001MYGCDC\n",
      "request successful !!!\n",
      "current url = https://www.amazon.com/dp/B01MU9DP5I\n",
      "request successful !!!\n",
      "current url = https://www.amazon.com/dp/B01IT193VI\n",
      "request successful !!!\n",
      "current url = https://www.amazon.com/dp/B0002EJPV4\n",
      "request successful !!!\n",
      "current url = https://www.amazon.com/dp/B001NRS5YW\n",
      "request successful !!!\n",
      "current url = https://www.amazon.com/dp/B01M1NTATM\n",
      "request successful !!!\n",
      "current url = https://www.amazon.com/dp/B01LZAY57O\n",
      "request successful !!!\n",
      "current url = https://www.amazon.com/dp/B01FWPLIU8\n",
      "request successful !!!\n",
      "current url = https://www.amazon.com/dp/B06XDP723L\n"
     ]
    }
   ],
   "source": [
    "info = list()\n",
    "\n",
    "cnt = 0\n",
    "\n",
    "for index,item in enumerate(results):\n",
    "    \n",
    "    for url in item:\n",
    "        \n",
    "        parse_url(url, get_random_ip(ip_list), cnt)\n",
    "        \n",
    "        cnt += 1"
   ]
  },
  {
   "cell_type": "code",
   "execution_count": 1,
   "metadata": {
    "collapsed": true
   },
   "outputs": [],
   "source": [
    "import time"
   ]
  },
  {
   "cell_type": "code",
   "execution_count": 41,
   "metadata": {
    "collapsed": false
   },
   "outputs": [
    {
     "data": {
      "text/plain": [
       "'20170522_235931'"
      ]
     },
     "execution_count": 41,
     "metadata": {},
     "output_type": "execute_result"
    }
   ],
   "source": [
    "time.strftime(\"%Y%m%d_%H%M%S\")"
   ]
  },
  {
   "cell_type": "code",
   "execution_count": 9,
   "metadata": {
    "collapsed": false,
    "scrolled": true
   },
   "outputs": [
    {
     "name": "stdout",
     "output_type": "stream",
     "text": [
      "Help on built-in function strftime in module time:\n",
      "\n",
      "strftime(...)\n",
      "    strftime(format[, tuple]) -> string\n",
      "    \n",
      "    Convert a time tuple to a string according to a format specification.\n",
      "    See the library reference manual for formatting codes. When the time tuple\n",
      "    is not present, current time as returned by localtime() is used.\n",
      "    \n",
      "    Commonly used format codes:\n",
      "    \n",
      "    %Y  Year with century as a decimal number.\n",
      "    %m  Month as a decimal number [01,12].\n",
      "    %d  Day of the month as a decimal number [01,31].\n",
      "    %H  Hour (24-hour clock) as a decimal number [00,23].\n",
      "    %M  Minute as a decimal number [00,59].\n",
      "    %S  Second as a decimal number [00,61].\n",
      "    %z  Time zone offset from UTC.\n",
      "    %a  Locale's abbreviated weekday name.\n",
      "    %A  Locale's full weekday name.\n",
      "    %b  Locale's abbreviated month name.\n",
      "    %B  Locale's full month name.\n",
      "    %c  Locale's appropriate date and time representation.\n",
      "    %I  Hour (12-hour clock) as a decimal number [01,12].\n",
      "    %p  Locale's equivalent of either AM or PM.\n",
      "    \n",
      "    Other codes may be available on your platform.  See documentation for\n",
      "    the C library strftime function.\n",
      "\n"
     ]
    }
   ],
   "source": [
    "help(time.strftime)"
   ]
  },
  {
   "cell_type": "code",
   "execution_count": 42,
   "metadata": {
    "collapsed": true
   },
   "outputs": [],
   "source": [
    "filename = time.strftime(\"%Y%m%d_%H%M%S\")\n",
    "filepath = \"./data/{name}.html\".format(name=filename)"
   ]
  },
  {
   "cell_type": "code",
   "execution_count": 43,
   "metadata": {
    "collapsed": false
   },
   "outputs": [
    {
     "data": {
      "text/plain": [
       "'./data/20170523_001809.html'"
      ]
     },
     "execution_count": 43,
     "metadata": {},
     "output_type": "execute_result"
    }
   ],
   "source": [
    "filepath"
   ]
  },
  {
   "cell_type": "code",
   "execution_count": 44,
   "metadata": {
    "collapsed": true
   },
   "outputs": [],
   "source": [
    "import requests"
   ]
  },
  {
   "cell_type": "code",
   "execution_count": 46,
   "metadata": {
    "collapsed": true
   },
   "outputs": [],
   "source": [
    "r = requests.get(\"https://www.amazon.com/dp/B06WD3Q94Q\", headers=headers)"
   ]
  },
  {
   "cell_type": "code",
   "execution_count": 47,
   "metadata": {
    "collapsed": true
   },
   "outputs": [],
   "source": [
    "with open(filepath, \"w\", encoding=\"utf-8\") as fp:\n",
    "    fp.write(r.text)"
   ]
  }
 ],
 "metadata": {
  "kernelspec": {
   "display_name": "Python 3",
   "language": "python",
   "name": "python3"
  },
  "language_info": {
   "codemirror_mode": {
    "name": "ipython",
    "version": 3
   },
   "file_extension": ".py",
   "mimetype": "text/x-python",
   "name": "python",
   "nbconvert_exporter": "python",
   "pygments_lexer": "ipython3",
   "version": "3.6.0"
  }
 },
 "nbformat": 4,
 "nbformat_minor": 2
}
